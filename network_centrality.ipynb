{
 "cells": [
  {
   "cell_type": "markdown",
   "id": "df3883c5-2745-4809-ac8b-49c9b6c43302",
   "metadata": {},
   "source": [
    "# Network Centrality Calculation Script"
   ]
  },
  {
   "cell_type": "code",
   "execution_count": null,
   "id": "f14f15fb-1d08-42c2-8b20-2bf08ac342f5",
   "metadata": {},
   "outputs": [],
   "source": [
    "# Author : Saksham Arora"
   ]
  },
  {
   "cell_type": "code",
   "execution_count": 1,
   "id": "e8bea22e-2bcb-4fb0-8b12-6a877c2f50ae",
   "metadata": {},
   "outputs": [],
   "source": [
    "import numpy as np \n",
    "import pandas as pd\n",
    "import matplotlib.pyplot as plt \n",
    "import networkx as nx \n",
    "import time\n",
    "from collections import defaultdict\n",
    "from itertools import combinations"
   ]
  },
  {
   "cell_type": "markdown",
   "id": "dfc56a5b-98d3-463b-a9fd-d74d1472f4f7",
   "metadata": {},
   "source": [
    "### Network Creation "
   ]
  },
  {
   "cell_type": "code",
   "execution_count": 2,
   "id": "8d27aa04-919b-41b8-9004-20c94736c7f4",
   "metadata": {},
   "outputs": [],
   "source": [
    "# read in df\n",
    "cornell_dtype = {'id':'str', 'author':'str', 'score':'float', 'upvote_ratio':'float', 'num_comments':'int', 'subreddit':'str', 'selftext':'str', 'comments':'object'}\n",
    "berkeley_df = pd.read_csv('berkeley_top_337_new.csv', dtype=cornell_dtype, usecols=cornell_dtype.keys())"
   ]
  },
  {
   "cell_type": "code",
   "execution_count": 82,
   "id": "2bd30e6c-b523-4b7e-a28a-61c9f61f61f3",
   "metadata": {},
   "outputs": [],
   "source": [
    "cornell_df = pd.read_csv('cornell_top_307.csv', dtype=cornell_dtype, usecols=cornell_dtype.keys())\n",
    "harvard_df = pd.read_csv('harvard_top_494.csv', dtype=cornell_dtype, usecols=cornell_dtype.keys())\n",
    "uiuc_df = pd.read_csv('uiuc_top_215.csv', dtype=cornell_dtype, usecols=cornell_dtype.keys())"
   ]
  },
  {
   "cell_type": "code",
   "execution_count": 4,
   "id": "c6ae579a-d62b-4a6b-a4e8-845b053bcbb5",
   "metadata": {},
   "outputs": [],
   "source": [
    "berkeley_df['comments'] = berkeley_df['comments'].apply(lambda x: eval(x))"
   ]
  },
  {
   "cell_type": "code",
   "execution_count": 89,
   "id": "ab0f9379-7804-46da-938b-77fe487cacd6",
   "metadata": {},
   "outputs": [
    {
     "data": {
      "text/plain": [
       "0      [{'author': 'buckyspunisher', 'body': 'Haha ye...\n",
       "1      [{'author': 'compstomper1', 'body': 'or flying...\n",
       "2      [{'author': 'BrainyCardinal45', 'body': '@Deba...\n",
       "3      [{'author': 'Money_Equivalent6439', 'body': 'A...\n",
       "4      [{'author': 'Important_Ad_3688', 'body': 'This...\n",
       "                             ...                        \n",
       "333    [{'author': 'sunoosupremacy', 'body': 'that is...\n",
       "334    [{'author': 'PotentiallyExplosive', 'body': \"i...\n",
       "335    [{'author': 'LugnutsK', 'body': 'B for Berkele...\n",
       "336    [{'author': 'gotransfersgobears', 'body': \"The...\n",
       "337    [{'author': 'None', 'body': 'Number 1 in the w...\n",
       "Name: comments, Length: 338, dtype: object"
      ]
     },
     "execution_count": 89,
     "metadata": {},
     "output_type": "execute_result"
    }
   ],
   "source": [
    "berkeley_df['comments']"
   ]
  },
  {
   "cell_type": "code",
   "execution_count": 5,
   "id": "612d3674-2298-4bc8-b09b-357385c38cb1",
   "metadata": {},
   "outputs": [],
   "source": [
    "cornell_df['comments'] = cornell_df['comments'].apply(lambda x: eval(x))\n",
    "harvard_df['comments'] = harvard_df['comments'].apply(lambda x: eval(x))\n",
    "uiuc_df['comments'] = uiuc_df['comments'].apply(lambda x: eval(x))"
   ]
  },
  {
   "cell_type": "code",
   "execution_count": 96,
   "id": "0d24a254-c064-49ad-adc0-b6d8b319d183",
   "metadata": {},
   "outputs": [],
   "source": [
    "def process_comments(row):\n",
    "    comments_list = eval(row['comments'])\n",
    "    interactions = []\n",
    "    # authors = [comment['author'] for comment in comments_list if comment['author'] != '[deleted]']\n",
    "    # # Create a list of all pairs of authors that have commented on the same post\n",
    "    # interactions = list(combinations(authors, 2))\n",
    "    for comment in comments_list:\n",
    "        if comment['author'] != '[deleted]':\n",
    "            interactions.append((row['author'], comment['author']))\n",
    "    return interactions"
   ]
  },
  {
   "cell_type": "code",
   "execution_count": 97,
   "id": "e0d98559-d814-4ec7-b485-e750d937f0bf",
   "metadata": {},
   "outputs": [],
   "source": [
    "def create_interactions(df):\n",
    "    all_interactions = []\n",
    "    for index, row in df.iterrows():\n",
    "        all_interactions.extend(row['interactions'])\n",
    "        \n",
    "    return all_interactions"
   ]
  },
  {
   "cell_type": "code",
   "execution_count": 98,
   "id": "d1881ab0-df28-40cc-9ca2-1432739be82d",
   "metadata": {},
   "outputs": [],
   "source": [
    "def initialize_populate_network(all_interactions):\n",
    "    graph = nx.Graph()\n",
    "    for interaction in all_interactions:\n",
    "        parent, child = interaction\n",
    "        if parent == child:\n",
    "            continue\n",
    "        if graph.has_edge(parent, child):\n",
    "            continue\n",
    "        elif graph.has_edge(child, parent):\n",
    "            continue\n",
    "        else:\n",
    "            graph.add_edge(parent, child)\n",
    "            \n",
    "    return graph "
   ]
  },
  {
   "cell_type": "markdown",
   "id": "7824f290-dd77-4138-a921-ebc76bee63e7",
   "metadata": {},
   "source": [
    "### Write created network as edgelists"
   ]
  },
  {
   "cell_type": "code",
   "execution_count": 99,
   "id": "bc2e8e73-9ac2-4649-b9ee-5465342f176b",
   "metadata": {},
   "outputs": [],
   "source": [
    "berkeley_df['interactions'] = berkeley_df.apply(lambda x: process_comments(x), axis = 1)\n",
    "all_interactions_berkeley = create_interactions(berkeley_df)\n",
    "berkeley_graph = initialize_populate_network(all_interactions_berkeley)"
   ]
  },
  {
   "cell_type": "code",
   "execution_count": 100,
   "id": "c5cfdc38-adb2-4905-b4b3-ac3aac3718fb",
   "metadata": {},
   "outputs": [],
   "source": [
    "nx.write_edgelist(berkeley_graph, \"berkeley_graph_sentiment.edgelist\")"
   ]
  },
  {
   "cell_type": "code",
   "execution_count": 101,
   "id": "477175d3-1801-4404-8581-c72151b9bede",
   "metadata": {},
   "outputs": [],
   "source": [
    "cornell_df['interactions'] = cornell_df.apply(lambda x: process_comments(x), axis = 1)\n",
    "all_interactions_cornell = create_interactions(cornell_df)\n",
    "cornell_graph = initialize_populate_network(all_interactions_cornell)"
   ]
  },
  {
   "cell_type": "code",
   "execution_count": 102,
   "id": "a7455122-11ee-4800-9c15-3bb158cea93e",
   "metadata": {},
   "outputs": [],
   "source": [
    "nx.write_edgelist(cornell_graph, \"cornell_graph_sentiment.edgelist\")"
   ]
  },
  {
   "cell_type": "code",
   "execution_count": 103,
   "id": "e8505de9-4f65-43d4-b54d-527fcaf05c53",
   "metadata": {},
   "outputs": [],
   "source": [
    "harvard_df['interactions'] = harvard_df.apply(lambda x: process_comments(x), axis = 1)\n",
    "all_interactions_harvard = create_interactions(harvard_df)\n",
    "harvard_graph = initialize_populate_network(all_interactions_harvard)"
   ]
  },
  {
   "cell_type": "code",
   "execution_count": 104,
   "id": "7e0669e4-d150-4870-a550-db80be3ec7b0",
   "metadata": {},
   "outputs": [],
   "source": [
    "nx.write_edgelist(harvard_graph, \"harvard_graph_sentiment.edgelist\")"
   ]
  },
  {
   "cell_type": "code",
   "execution_count": 105,
   "id": "85c307ff-a73f-40bd-93d2-1b49b1590827",
   "metadata": {},
   "outputs": [],
   "source": [
    "uiuc_df['interactions'] = uiuc_df.apply(lambda x: process_comments(x), axis = 1)\n",
    "all_interactions_uiuc = create_interactions(uiuc_df)\n",
    "uiuc_graph = initialize_populate_network(all_interactions_uiuc)"
   ]
  },
  {
   "cell_type": "code",
   "execution_count": 106,
   "id": "60a5a1d7-9651-46ef-8e2e-3938e2e300b9",
   "metadata": {},
   "outputs": [],
   "source": [
    "nx.write_edgelist(uiuc_graph, \"uiuc_graph_sentiment.edgelist\")"
   ]
  },
  {
   "cell_type": "code",
   "execution_count": 107,
   "id": "5e26c54b-2ea6-4e4e-9928-0736d89e8e9a",
   "metadata": {},
   "outputs": [
    {
     "data": {
      "text/plain": [
       "1507"
      ]
     },
     "execution_count": 107,
     "metadata": {},
     "output_type": "execute_result"
    }
   ],
   "source": [
    "len(uiuc_graph.nodes)"
   ]
  },
  {
   "cell_type": "markdown",
   "id": "a8333f3a-b379-40c9-b316-7d0e539fd0c4",
   "metadata": {},
   "source": [
    "### Compute Centrality Measures"
   ]
  },
  {
   "cell_type": "code",
   "execution_count": 108,
   "id": "406255c4-a2f2-46eb-9d73-b446e5f91a14",
   "metadata": {},
   "outputs": [],
   "source": [
    "# compute centrality measures\n",
    "deg_centrality = nx.degree_centrality(berkeley_graph)\n",
    "btw_centrality = nx.betweenness_centrality(berkeley_graph, normalized = True, \n",
    "                                              endpoints = False)\n",
    "eig_centrality = nx.eigenvector_centrality(berkeley_graph)\n",
    "clustering_coefficients = nx.clustering(berkeley_graph)\n",
    "pagerank = nx.pagerank(berkeley_graph, 0)"
   ]
  },
  {
   "cell_type": "code",
   "execution_count": 111,
   "id": "7e217dea-09cf-4ccc-8278-a02935d99540",
   "metadata": {},
   "outputs": [],
   "source": [
    "# compute centrality measures\n",
    "deg_centrality = nx.degree_centrality(cornell_graph)\n",
    "btw_centrality = nx.betweenness_centrality(cornell_graph, normalized = True, \n",
    "                                              endpoints = False)\n",
    "eig_centrality = nx.eigenvector_centrality(cornell_graph)\n",
    "clustering_coefficients = nx.clustering(cornell_graph)\n",
    "pagerank = nx.pagerank(cornell_graph, 0)"
   ]
  },
  {
   "cell_type": "code",
   "execution_count": 114,
   "id": "f56593a4-faf1-42ec-b448-2b273ccfca41",
   "metadata": {},
   "outputs": [],
   "source": [
    "# compute centrality measures\n",
    "deg_centrality = nx.degree_centrality(harvard_graph)\n",
    "btw_centrality = nx.betweenness_centrality(harvard_graph, normalized = True, \n",
    "                                              endpoints = False)\n",
    "eig_centrality = nx.eigenvector_centrality(harvard_graph)\n",
    "clustering_coefficients = nx.clustering(harvard_graph)\n",
    "pagerank = nx.pagerank(harvard_graph, 0)"
   ]
  },
  {
   "cell_type": "code",
   "execution_count": 117,
   "id": "6fc255b0-b8f3-4162-b55e-31decbe7c1d0",
   "metadata": {},
   "outputs": [],
   "source": [
    "# compute centrality measures\n",
    "deg_centrality = nx.degree_centrality(uiuc_graph)\n",
    "btw_centrality = nx.betweenness_centrality(uiuc_graph, normalized = True, \n",
    "                                              endpoints = False)\n",
    "eig_centrality = nx.eigenvector_centrality(uiuc_graph)\n",
    "clustering_coefficients = nx.clustering(uiuc_graph)\n",
    "pagerank = nx.pagerank(uiuc_graph, 0)"
   ]
  },
  {
   "cell_type": "markdown",
   "id": "51f437e1-22d7-4026-9cc0-41939e19216c",
   "metadata": {},
   "source": [
    "### Save Centrality Data into DataFrame"
   ]
  },
  {
   "cell_type": "code",
   "execution_count": 118,
   "id": "8d3fc94d-d383-4c82-a930-af146ae3d4f3",
   "metadata": {},
   "outputs": [],
   "source": [
    "row = defaultdict(list)\n",
    "for entry in deg_centrality:\n",
    "    row['author'].append(entry) \n",
    "    row['btw_centrality'].append(btw_centrality[entry])\n",
    "    row['deg_centrality'].append(deg_centrality[entry])\n",
    "    row['eig_centrality'].append(eig_centrality[entry])\n",
    "    row['pagerank'].append(pagerank[entry])\n",
    "    row['clustering_coeff'].append(clustering_coefficients[entry])\n",
    "# berkeley_centrality_df = pd.DataFrame(row)\n",
    "# cornell_centrality_df = pd.DataFrame(row)\n",
    "# harvard_centrality_df = pd.DataFrame(row)\n",
    "uiuc_centrality_df = pd.DataFrame(row)"
   ]
  },
  {
   "cell_type": "code",
   "execution_count": 110,
   "id": "c6e92b71-774b-47ac-8abb-1701d87ccd54",
   "metadata": {},
   "outputs": [],
   "source": [
    "berkeley_centrality_df.to_csv('data/berkeley_centrality_poster.csv')"
   ]
  },
  {
   "cell_type": "code",
   "execution_count": 119,
   "id": "4b8c5bf5-67c9-4df7-8c67-de23857537e4",
   "metadata": {},
   "outputs": [],
   "source": [
    "uiuc_centrality_df.to_csv('data/uiuc_centrality_sentiment.csv')"
   ]
  },
  {
   "cell_type": "code",
   "execution_count": 113,
   "id": "f61d6a76-b18e-44d7-8d59-a32a7d1f876f",
   "metadata": {},
   "outputs": [],
   "source": [
    "cornell_centrality_df.to_csv('data/cornell_centrality_poster.csv')"
   ]
  },
  {
   "cell_type": "code",
   "execution_count": 116,
   "id": "81d68fe3-0488-47a7-bea0-cceb72922696",
   "metadata": {},
   "outputs": [],
   "source": [
    "harvard_centrality_df.to_csv('data/harvard_centrality_poster.csv')"
   ]
  },
  {
   "cell_type": "code",
   "execution_count": 12,
   "id": "22fd2192-d9f2-47ad-ad75-6e4907ded4c1",
   "metadata": {},
   "outputs": [
    {
     "data": {
      "text/html": [
       "<div>\n",
       "<style scoped>\n",
       "    .dataframe tbody tr th:only-of-type {\n",
       "        vertical-align: middle;\n",
       "    }\n",
       "\n",
       "    .dataframe tbody tr th {\n",
       "        vertical-align: top;\n",
       "    }\n",
       "\n",
       "    .dataframe thead th {\n",
       "        text-align: right;\n",
       "    }\n",
       "</style>\n",
       "<table border=\"1\" class=\"dataframe\">\n",
       "  <thead>\n",
       "    <tr style=\"text-align: right;\">\n",
       "      <th></th>\n",
       "      <th>author</th>\n",
       "      <th>btw_centrality</th>\n",
       "      <th>deg_centrality</th>\n",
       "      <th>eig_centrality</th>\n",
       "      <th>pagerank</th>\n",
       "      <th>clustering_coeff</th>\n",
       "    </tr>\n",
       "  </thead>\n",
       "  <tbody>\n",
       "    <tr>\n",
       "      <th>0</th>\n",
       "      <td>yoyoyaass</td>\n",
       "      <td>0.004013</td>\n",
       "      <td>0.005352</td>\n",
       "      <td>0.034852</td>\n",
       "      <td>0.000167</td>\n",
       "      <td>0.038306</td>\n",
       "    </tr>\n",
       "    <tr>\n",
       "      <th>1</th>\n",
       "      <td>buckyspunisher</td>\n",
       "      <td>0.007701</td>\n",
       "      <td>0.008028</td>\n",
       "      <td>0.058060</td>\n",
       "      <td>0.000167</td>\n",
       "      <td>0.039894</td>\n",
       "    </tr>\n",
       "    <tr>\n",
       "      <th>2</th>\n",
       "      <td>funkyfaithy</td>\n",
       "      <td>0.000008</td>\n",
       "      <td>0.000502</td>\n",
       "      <td>0.002205</td>\n",
       "      <td>0.000167</td>\n",
       "      <td>0.000000</td>\n",
       "    </tr>\n",
       "    <tr>\n",
       "      <th>3</th>\n",
       "      <td>novared19</td>\n",
       "      <td>0.004117</td>\n",
       "      <td>0.005519</td>\n",
       "      <td>0.034038</td>\n",
       "      <td>0.000167</td>\n",
       "      <td>0.026515</td>\n",
       "    </tr>\n",
       "    <tr>\n",
       "      <th>4</th>\n",
       "      <td>DragoSphere</td>\n",
       "      <td>0.000456</td>\n",
       "      <td>0.002007</td>\n",
       "      <td>0.031810</td>\n",
       "      <td>0.000167</td>\n",
       "      <td>0.181818</td>\n",
       "    </tr>\n",
       "    <tr>\n",
       "      <th>...</th>\n",
       "      <td>...</td>\n",
       "      <td>...</td>\n",
       "      <td>...</td>\n",
       "      <td>...</td>\n",
       "      <td>...</td>\n",
       "      <td>...</td>\n",
       "    </tr>\n",
       "    <tr>\n",
       "      <th>5975</th>\n",
       "      <td>Bruinburner_1919</td>\n",
       "      <td>0.000000</td>\n",
       "      <td>0.000167</td>\n",
       "      <td>0.001251</td>\n",
       "      <td>0.000167</td>\n",
       "      <td>0.000000</td>\n",
       "    </tr>\n",
       "    <tr>\n",
       "      <th>5976</th>\n",
       "      <td>octobersotherveryown</td>\n",
       "      <td>0.000000</td>\n",
       "      <td>0.000167</td>\n",
       "      <td>0.001251</td>\n",
       "      <td>0.000167</td>\n",
       "      <td>0.000000</td>\n",
       "    </tr>\n",
       "    <tr>\n",
       "      <th>5977</th>\n",
       "      <td>withluna</td>\n",
       "      <td>0.000000</td>\n",
       "      <td>0.000167</td>\n",
       "      <td>0.001251</td>\n",
       "      <td>0.000167</td>\n",
       "      <td>0.000000</td>\n",
       "    </tr>\n",
       "    <tr>\n",
       "      <th>5978</th>\n",
       "      <td>SchwartzBwifU</td>\n",
       "      <td>0.000000</td>\n",
       "      <td>0.000167</td>\n",
       "      <td>0.001251</td>\n",
       "      <td>0.000167</td>\n",
       "      <td>0.000000</td>\n",
       "    </tr>\n",
       "    <tr>\n",
       "      <th>5979</th>\n",
       "      <td>KNJI03</td>\n",
       "      <td>0.000000</td>\n",
       "      <td>0.000167</td>\n",
       "      <td>0.001251</td>\n",
       "      <td>0.000167</td>\n",
       "      <td>0.000000</td>\n",
       "    </tr>\n",
       "  </tbody>\n",
       "</table>\n",
       "<p>5980 rows × 6 columns</p>\n",
       "</div>"
      ],
      "text/plain": [
       "                    author  btw_centrality  deg_centrality  eig_centrality  \\\n",
       "0                yoyoyaass        0.004013        0.005352        0.034852   \n",
       "1           buckyspunisher        0.007701        0.008028        0.058060   \n",
       "2              funkyfaithy        0.000008        0.000502        0.002205   \n",
       "3                novared19        0.004117        0.005519        0.034038   \n",
       "4              DragoSphere        0.000456        0.002007        0.031810   \n",
       "...                    ...             ...             ...             ...   \n",
       "5975      Bruinburner_1919        0.000000        0.000167        0.001251   \n",
       "5976  octobersotherveryown        0.000000        0.000167        0.001251   \n",
       "5977              withluna        0.000000        0.000167        0.001251   \n",
       "5978         SchwartzBwifU        0.000000        0.000167        0.001251   \n",
       "5979                KNJI03        0.000000        0.000167        0.001251   \n",
       "\n",
       "      pagerank  clustering_coeff  \n",
       "0     0.000167          0.038306  \n",
       "1     0.000167          0.039894  \n",
       "2     0.000167          0.000000  \n",
       "3     0.000167          0.026515  \n",
       "4     0.000167          0.181818  \n",
       "...        ...               ...  \n",
       "5975  0.000167          0.000000  \n",
       "5976  0.000167          0.000000  \n",
       "5977  0.000167          0.000000  \n",
       "5978  0.000167          0.000000  \n",
       "5979  0.000167          0.000000  \n",
       "\n",
       "[5980 rows x 6 columns]"
      ]
     },
     "execution_count": 12,
     "metadata": {},
     "output_type": "execute_result"
    }
   ],
   "source": [
    "berkeley_centrality_df"
   ]
  }
 ],
 "metadata": {
  "kernelspec": {
   "display_name": "Python [conda env:emr_project] *",
   "language": "python",
   "name": "conda-env-emr_project-py"
  },
  "language_info": {
   "codemirror_mode": {
    "name": "ipython",
    "version": 3
   },
   "file_extension": ".py",
   "mimetype": "text/x-python",
   "name": "python",
   "nbconvert_exporter": "python",
   "pygments_lexer": "ipython3",
   "version": "3.7.7"
  }
 },
 "nbformat": 4,
 "nbformat_minor": 5
}
