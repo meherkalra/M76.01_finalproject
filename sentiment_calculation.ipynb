{
 "cells": [
  {
   "cell_type": "markdown",
   "id": "7b530a61-81bb-4992-bcf2-296b3d18f6a0",
   "metadata": {},
   "source": [
    "# Sentiment Analysis Script "
   ]
  },
  {
   "cell_type": "code",
   "execution_count": 21,
   "id": "013dde18-2444-431f-ae82-609922f3736f",
   "metadata": {},
   "outputs": [],
   "source": [
    "# Author : Saksham Arora"
   ]
  },
  {
   "cell_type": "code",
   "execution_count": 16,
   "id": "ec87ee1b-b1ba-4dd3-b8d4-e07473e57c6d",
   "metadata": {},
   "outputs": [],
   "source": [
    "import numpy as np \n",
    "import pandas as pd\n",
    "# import praw \n",
    "import matplotlib.pyplot as plt \n",
    "import networkx as nx \n",
    "import time\n",
    "import warnings"
   ]
  },
  {
   "cell_type": "code",
   "execution_count": 17,
   "id": "a3e51e6d-1eed-4c4d-a441-5d046f98bbbf",
   "metadata": {},
   "outputs": [],
   "source": [
    "warnings.simplefilter(action='ignore', category=FutureWarning)\n",
    "pd.set_option('display.max_colwidth', None)\n",
    "pd.set_option('display.max_rows', 5)\n",
    "warnings.filterwarnings('ignore')"
   ]
  },
  {
   "cell_type": "markdown",
   "id": "0a2a0ea7-ac43-478c-9852-be66d5e0bf0f",
   "metadata": {},
   "source": [
    "### Install vaderSentiment package "
   ]
  },
  {
   "cell_type": "code",
   "execution_count": 3,
   "id": "8de07bd8-1c7d-4fdb-9324-fce5a91e9a85",
   "metadata": {},
   "outputs": [
    {
     "name": "stdout",
     "output_type": "stream",
     "text": [
      "Requirement already satisfied: vaderSentiment in /Users/sakshamarora/opt/anaconda3/envs/emr_project/lib/python3.7/site-packages (3.3.2)\n",
      "Requirement already satisfied: requests in /Users/sakshamarora/opt/anaconda3/envs/emr_project/lib/python3.7/site-packages (from vaderSentiment) (2.28.1)\n",
      "Requirement already satisfied: charset-normalizer<3,>=2 in /Users/sakshamarora/opt/anaconda3/envs/emr_project/lib/python3.7/site-packages (from requests->vaderSentiment) (2.0.4)\n",
      "Requirement already satisfied: idna<4,>=2.5 in /Users/sakshamarora/opt/anaconda3/envs/emr_project/lib/python3.7/site-packages (from requests->vaderSentiment) (3.4)\n",
      "Requirement already satisfied: urllib3<1.27,>=1.21.1 in /Users/sakshamarora/opt/anaconda3/envs/emr_project/lib/python3.7/site-packages (from requests->vaderSentiment) (1.26.14)\n",
      "Requirement already satisfied: certifi>=2017.4.17 in /Users/sakshamarora/opt/anaconda3/envs/emr_project/lib/python3.7/site-packages (from requests->vaderSentiment) (2022.12.7)\n"
     ]
    }
   ],
   "source": [
    "# install vaderSenttiment \n",
    "!pip install vaderSentiment"
   ]
  },
  {
   "cell_type": "code",
   "execution_count": 4,
   "id": "de83ba68-8470-4efc-a82c-0eae33675972",
   "metadata": {},
   "outputs": [],
   "source": [
    "# import vaderSentiment library\n",
    "from vaderSentiment.vaderSentiment import SentimentIntensityAnalyzer\n",
    "analyzer = SentimentIntensityAnalyzer()"
   ]
  },
  {
   "cell_type": "markdown",
   "id": "748bcae5-2d27-4b91-a9a5-01c1d3aab1c0",
   "metadata": {},
   "source": [
    "### Read in Data"
   ]
  },
  {
   "cell_type": "code",
   "execution_count": 5,
   "id": "c3803793-0825-4cc7-af27-bbfc140a1e73",
   "metadata": {},
   "outputs": [],
   "source": [
    "# read in data file \n",
    "berkeley_dtypes = {'id':'str', 'author':'str', 'score':'float', 'upvote_ratio':'float', 'num_comments':'int',\n",
    "       'subreddit':'str', 'selftext':'str', 'comments':'object'}\n",
    "berkeley_df = pd.read_csv('berkeley_top_337_new.csv', dtype=berkeley_dtypes, usecols=berkeley_dtypes.keys())"
   ]
  },
  {
   "cell_type": "code",
   "execution_count": 6,
   "id": "e2e16315-4776-4e73-afcd-b73622ecd39c",
   "metadata": {},
   "outputs": [],
   "source": [
    "# read in data file \n",
    "berkeley_dtypes = {'id':'str', 'author':'str', 'score':'float', 'upvote_ratio':'float', 'num_comments':'int',\n",
    "       'subreddit':'str', 'selftext':'str', 'comments':'object'}\n",
    "cornell_df = pd.read_csv('cornell_top_307.csv', dtype=berkeley_dtypes, usecols=berkeley_dtypes.keys())\n",
    "harvard_df = pd.read_csv('harvard_top_494.csv', dtype=berkeley_dtypes, usecols=berkeley_dtypes.keys())\n",
    "cornell_df = pd.read_csv('cornell_top_307.csv', dtype=berkeley_dtypes, usecols=berkeley_dtypes.keys())\n",
    "uiuc_df = pd.read_csv('uiuc_top_215.csv', dtype=berkeley_dtypes, usecols=berkeley_dtypes.keys())"
   ]
  },
  {
   "cell_type": "code",
   "execution_count": 7,
   "id": "4dfc40b4-4337-42e2-8cc7-6ba52fbf2e69",
   "metadata": {},
   "outputs": [],
   "source": [
    "berkeley_df['comments'] = berkeley_df['comments'].apply(lambda x: eval(x))\n",
    "cornell_df['comments'] = cornell_df['comments'].apply(lambda x: eval(x))\n",
    "harvard_df['comments'] = harvard_df['comments'].apply(lambda x: eval(x))\n",
    "uiuc_df['comments'] = uiuc_df['comments'].apply(lambda x: eval(x))"
   ]
  },
  {
   "cell_type": "markdown",
   "id": "b7c55b14-46c2-46d4-b504-963f6a15f3c4",
   "metadata": {},
   "source": [
    "### Compute post sentiment scores for all four subreddits"
   ]
  },
  {
   "cell_type": "code",
   "execution_count": 8,
   "id": "917c7d97-9d3d-44b5-980f-9875029e9b6d",
   "metadata": {},
   "outputs": [],
   "source": [
    "berkeley_df['post_sentiment_dict'] = berkeley_df['selftext'].apply(lambda sentence: analyzer.polarity_scores(sentence))"
   ]
  },
  {
   "cell_type": "code",
   "execution_count": 10,
   "id": "5767c9ae-4153-4582-b536-25b674493604",
   "metadata": {},
   "outputs": [],
   "source": [
    "cornell_df['post_sentiment_dict'] = cornell_df['selftext'].apply(lambda sentence: analyzer.polarity_scores(sentence))"
   ]
  },
  {
   "cell_type": "code",
   "execution_count": 20,
   "id": "cb81bc82-cff8-4c7e-b542-25d6678cb5e9",
   "metadata": {},
   "outputs": [
    {
     "data": {
      "text/html": [
       "<div>\n",
       "<style scoped>\n",
       "    .dataframe tbody tr th:only-of-type {\n",
       "        vertical-align: middle;\n",
       "    }\n",
       "\n",
       "    .dataframe tbody tr th {\n",
       "        vertical-align: top;\n",
       "    }\n",
       "\n",
       "    .dataframe thead th {\n",
       "        text-align: right;\n",
       "    }\n",
       "</style>\n",
       "<table border=\"1\" class=\"dataframe\">\n",
       "  <thead>\n",
       "    <tr style=\"text-align: right;\">\n",
       "      <th></th>\n",
       "      <th>selftext</th>\n",
       "      <th>post_sentiment_dict</th>\n",
       "    </tr>\n",
       "  </thead>\n",
       "  <tbody>\n",
       "    <tr>\n",
       "      <th>302</th>\n",
       "      <td>[The Greenest Pilgrim U'Know 🦃🥧🙏🏻 on Twitter: \"Ok, so apparently @jiadagod is a camgirl who's being targeted by some stalker, and doesn't have anything to do with the actual bomb threats. #wediditreddit #missionaccomplished\" / Twitter](https://twitter.com/GregoriRomanova/status/1457502696697745409)\\n\\n[\\\\\"Carter Morgan\\\\\", most likely the fake \\\\\"Jia Nakamura\\\\\"](https://preview.redd.it/rvo9g26mu9y71.png?width=754&amp;format=png&amp;auto=webp&amp;v=enabled&amp;s=dc1e4feba5569b5b21f8bcece17e54837f3f6131)\\n\\nIn essence, some guy got mad that some e-girl didn't DM them, and instead of simply swatting them like how most of these stories end, they went a level up and called in bomb threats to numerous universities attaching their name to the threats, in an attempt to frame her?\\n\\n&amp;#x200B;\\n\\n&amp;#x200B;\\n\\nhttps://preview.redd.it/8z34pcbqu9y71.png?width=741&amp;format=png&amp;auto=webp&amp;v=enabled&amp;s=1cd7522031bcd2b1c1ed6a0e15e7b13255edee14\\n\\n&amp;#x200B;\\n\\nhttps://preview.redd.it/jmt9qxfsu9y71.png?width=693&amp;format=png&amp;auto=webp&amp;v=enabled&amp;s=aef4ff36c290670a133d6d1a55ad00ac23c69786\\n\\n&amp;#x200B;\\n\\nhttps://preview.redd.it/l9yosbmru9y71.png?width=678&amp;format=png&amp;auto=webp&amp;v=enabled&amp;s=087eb71cedb2e6b9ecddbd1ba223d6432602127d</td>\n",
       "      <td>{'neg': 0.182, 'neu': 0.798, 'pos': 0.02, 'compound': -0.9629}</td>\n",
       "    </tr>\n",
       "    <tr>\n",
       "      <th>303</th>\n",
       "      <td>Is it really stealing if he was on the Unlimited meal plan??? /s\\n\\nWhat is up with this freshman class tho</td>\n",
       "      <td>{'neg': 0.185, 'neu': 0.815, 'pos': 0.0, 'compound': -0.6739}</td>\n",
       "    </tr>\n",
       "    <tr>\n",
       "      <th>304</th>\n",
       "      <td>I was coming out of teagle and I spotted this bright yellow, almost blinding, object in the sky. It was spotted at approximately 1:34 PM Sunday December 2nd 2018. It made me feel warm (something I haven't felt in years) and made the environment around me brighter. Someone called it his \"son,\" but idk how a child can get up in the sky. Also it seems to be moving from east to west. Anyone know what it is?\\n\\nEDIT: MY FIRST GOLD. It's almost as bright as whatever was in the sky</td>\n",
       "      <td>{'neg': 0.016, 'neu': 0.893, 'pos': 0.091, 'compound': 0.7407}</td>\n",
       "    </tr>\n",
       "    <tr>\n",
       "      <th>305</th>\n",
       "      <td>fuck</td>\n",
       "      <td>{'neg': 1.0, 'neu': 0.0, 'pos': 0.0, 'compound': -0.5423}</td>\n",
       "    </tr>\n",
       "    <tr>\n",
       "      <th>306</th>\n",
       "      <td>COVID. He was in the ICU for two weeks. He said he was proud of me for achieving my dreams (of getting into school) and as soon as he got out, he was going to come and visit me. My other uncle (on my mom's side) died in December, two days before I was accepted - also of COVID. I don't know what to do now. Should I go home and go to his funeral? Should I stay here and not make my family worry about having to pay to fly me back home and back to Ithaca? Should I tell my friends that I've only known for two weeks? I don't know. \\n\\nJust wear your mask. No matter how annoying you might think it is.</td>\n",
       "      <td>{'neg': 0.104, 'neu': 0.819, 'pos': 0.078, 'compound': -0.4047}</td>\n",
       "    </tr>\n",
       "  </tbody>\n",
       "</table>\n",
       "</div>"
      ],
      "text/plain": [
       "                                                                                                                                                                                                                                                                                                                                                                                                                                                                                                                                                                                                                                                                                                                                                                                                                                                                                                                                                                                                                                                                                                                                                                                                                                               selftext  \\\n",
       "302  [The Greenest Pilgrim U'Know 🦃🥧🙏🏻 on Twitter: \"Ok, so apparently @jiadagod is a camgirl who's being targeted by some stalker, and doesn't have anything to do with the actual bomb threats. #wediditreddit #missionaccomplished\" / Twitter](https://twitter.com/GregoriRomanova/status/1457502696697745409)\\n\\n[\\\\\"Carter Morgan\\\\\", most likely the fake \\\\\"Jia Nakamura\\\\\"](https://preview.redd.it/rvo9g26mu9y71.png?width=754&format=png&auto=webp&v=enabled&s=dc1e4feba5569b5b21f8bcece17e54837f3f6131)\\n\\nIn essence, some guy got mad that some e-girl didn't DM them, and instead of simply swatting them like how most of these stories end, they went a level up and called in bomb threats to numerous universities attaching their name to the threats, in an attempt to frame her?\\n\\n&#x200B;\\n\\n&#x200B;\\n\\nhttps://preview.redd.it/8z34pcbqu9y71.png?width=741&format=png&auto=webp&v=enabled&s=1cd7522031bcd2b1c1ed6a0e15e7b13255edee14\\n\\n&#x200B;\\n\\nhttps://preview.redd.it/jmt9qxfsu9y71.png?width=693&format=png&auto=webp&v=enabled&s=aef4ff36c290670a133d6d1a55ad00ac23c69786\\n\\n&#x200B;\\n\\nhttps://preview.redd.it/l9yosbmru9y71.png?width=678&format=png&auto=webp&v=enabled&s=087eb71cedb2e6b9ecddbd1ba223d6432602127d   \n",
       "303                                                                                                                                                                                                                                                                                                                                                                                                                                                                                                                                                                                                                                                                                                                                                                                                                                                                                                                                                                                                                                                                                                                                         Is it really stealing if he was on the Unlimited meal plan??? /s\\n\\nWhat is up with this freshman class tho   \n",
       "304                                                                                                                                                                                                                                                                                                                                                                                                                                                                                                                                                                                                                                                                                                                                                     I was coming out of teagle and I spotted this bright yellow, almost blinding, object in the sky. It was spotted at approximately 1:34 PM Sunday December 2nd 2018. It made me feel warm (something I haven't felt in years) and made the environment around me brighter. Someone called it his \"son,\" but idk how a child can get up in the sky. Also it seems to be moving from east to west. Anyone know what it is?\\n\\nEDIT: MY FIRST GOLD. It's almost as bright as whatever was in the sky   \n",
       "305                                                                                                                                                                                                                                                                                                                                                                                                                                                                                                                                                                                                                                                                                                                                                                                                                                                                                                                                                                                                                                                                                                                                                                                                                                                fuck   \n",
       "306                                                                                                                                                                                                                                                                                                                                                                                                                                                                                                                                                                                                                            COVID. He was in the ICU for two weeks. He said he was proud of me for achieving my dreams (of getting into school) and as soon as he got out, he was going to come and visit me. My other uncle (on my mom's side) died in December, two days before I was accepted - also of COVID. I don't know what to do now. Should I go home and go to his funeral? Should I stay here and not make my family worry about having to pay to fly me back home and back to Ithaca? Should I tell my friends that I've only known for two weeks? I don't know. \\n\\nJust wear your mask. No matter how annoying you might think it is.   \n",
       "\n",
       "                                                 post_sentiment_dict  \n",
       "302   {'neg': 0.182, 'neu': 0.798, 'pos': 0.02, 'compound': -0.9629}  \n",
       "303    {'neg': 0.185, 'neu': 0.815, 'pos': 0.0, 'compound': -0.6739}  \n",
       "304   {'neg': 0.016, 'neu': 0.893, 'pos': 0.091, 'compound': 0.7407}  \n",
       "305        {'neg': 1.0, 'neu': 0.0, 'pos': 0.0, 'compound': -0.5423}  \n",
       "306  {'neg': 0.104, 'neu': 0.819, 'pos': 0.078, 'compound': -0.4047}  "
      ]
     },
     "execution_count": 20,
     "metadata": {},
     "output_type": "execute_result"
    }
   ],
   "source": [
    "cornell_df[['selftext', 'post_sentiment_dict']].tail(5)"
   ]
  },
  {
   "cell_type": "code",
   "execution_count": 9,
   "id": "2765b112-9bc4-4d94-a3c4-a9f4285a6078",
   "metadata": {},
   "outputs": [],
   "source": [
    "harvard_df['post_sentiment_dict'] = harvard_df['selftext'].apply(lambda sentence: analyzer.polarity_scores(sentence))"
   ]
  },
  {
   "cell_type": "code",
   "execution_count": 10,
   "id": "b8901c8b-9e6d-4775-b96c-c3672a59d577",
   "metadata": {},
   "outputs": [],
   "source": [
    "uiuc_df['post_sentiment_dict'] = uiuc_df['selftext'].apply(lambda sentence: analyzer.polarity_scores(sentence))"
   ]
  },
  {
   "cell_type": "markdown",
   "id": "d9d4426d-b370-4a9b-b6c6-2ac509f7b4d7",
   "metadata": {},
   "source": [
    "### Compute comment sentiment for all four subreddits"
   ]
  },
  {
   "cell_type": "code",
   "execution_count": 10,
   "id": "d27cae89-bdb9-4b74-8a4b-2dbb73c58191",
   "metadata": {},
   "outputs": [],
   "source": [
    "# helper function to compute comment sentiment\n",
    "def compute_comment_sentiment(comment_list):\n",
    "    res_list = []\n",
    "    for comment_dict in comment_list:\n",
    "        res_list.append(analyzer.polarity_scores(comment_dict['body']))\n",
    "        \n",
    "    return res_list"
   ]
  },
  {
   "cell_type": "code",
   "execution_count": 11,
   "id": "91e8be56-061f-4b2f-821f-95c61ddd00b2",
   "metadata": {},
   "outputs": [
    {
     "name": "stdout",
     "output_type": "stream",
     "text": [
      "CPU times: user 8.2 s, sys: 33.3 ms, total: 8.23 s\n",
      "Wall time: 8.28 s\n"
     ]
    }
   ],
   "source": [
    "%%time \n",
    "berkeley_df['comment_sentiment_list'] = berkeley_df['comments'].apply(lambda comment_list: compute_comment_sentiment(comment_list))\n",
    "cornell_df['comment_sentiment_list'] = cornell_df['comments'].apply(lambda comment_list: compute_comment_sentiment(comment_list))\n",
    "harvard_df['comment_sentiment_list'] = harvard_df['comments'].apply(lambda comment_list: compute_comment_sentiment(comment_list))\n",
    "uiuc_df['comment_sentiment_list'] = uiuc_df['comments'].apply(lambda comment_list: compute_comment_sentiment(comment_list))"
   ]
  },
  {
   "cell_type": "markdown",
   "id": "8c76905e-fb35-4bc7-9746-05c34bdfa2f8",
   "metadata": {},
   "source": [
    "### Aggregate comment sentiment for each poster "
   ]
  },
  {
   "cell_type": "code",
   "execution_count": 12,
   "id": "2dae935e-282a-4cb3-821f-acfdca0216bf",
   "metadata": {},
   "outputs": [],
   "source": [
    "def compute_aggregate_comment_sentiment(comment_sentiment_list, type_flag):\n",
    "    res = 0 \n",
    "    for item in comment_sentiment_list:\n",
    "        res += item[type_flag] \n",
    "\n",
    "    return res\n",
    "        "
   ]
  },
  {
   "cell_type": "code",
   "execution_count": 13,
   "id": "daad092e-a737-4d63-82bb-c5cb204a06b0",
   "metadata": {},
   "outputs": [],
   "source": [
    "berkeley_df['agg_pos_comment_sentiment'] = berkeley_df['comment_sentiment_list'].apply(lambda x: compute_aggregate_comment_sentiment(x, 'pos'))\n",
    "berkeley_df['agg_compound_comment_sentiment'] = berkeley_df['comment_sentiment_list'].apply(lambda x: compute_aggregate_comment_sentiment(x, 'compound'))\n",
    "berkeley_df['agg_neg_comment_sentiment'] = berkeley_df['comment_sentiment_list'].apply(lambda x: compute_aggregate_comment_sentiment(x, 'neg'))"
   ]
  },
  {
   "cell_type": "code",
   "execution_count": 14,
   "id": "b2a3ec60-695f-4c23-8319-8761392ac7cf",
   "metadata": {},
   "outputs": [],
   "source": [
    "cornell_df['agg_pos_comment_sentiment'] = cornell_df['comment_sentiment_list'].apply(lambda x: compute_aggregate_comment_sentiment(x, 'pos'))\n",
    "cornell_df['agg_compound_comment_sentiment'] = cornell_df['comment_sentiment_list'].apply(lambda x: compute_aggregate_comment_sentiment(x, 'compound'))\n",
    "cornell_df['agg_neg_comment_sentiment'] = cornell_df['comment_sentiment_list'].apply(lambda x: compute_aggregate_comment_sentiment(x, 'neg'))"
   ]
  },
  {
   "cell_type": "code",
   "execution_count": 15,
   "id": "3339696c-0364-4061-be01-989f92759a1a",
   "metadata": {},
   "outputs": [],
   "source": [
    "harvard_df['agg_pos_comment_sentiment'] = harvard_df['comment_sentiment_list'].apply(lambda x: compute_aggregate_comment_sentiment(x, 'pos'))\n",
    "harvard_df['agg_compound_comment_sentiment'] = harvard_df['comment_sentiment_list'].apply(lambda x: compute_aggregate_comment_sentiment(x, 'compound'))\n",
    "harvard_df['agg_neg_comment_sentiment'] = harvard_df['comment_sentiment_list'].apply(lambda x: compute_aggregate_comment_sentiment(x, 'neg'))"
   ]
  },
  {
   "cell_type": "code",
   "execution_count": 16,
   "id": "c2ef38a4-c634-4d27-ab65-ba8bb55d2560",
   "metadata": {},
   "outputs": [],
   "source": [
    "uiuc_df['agg_pos_comment_sentiment'] = uiuc_df['comment_sentiment_list'].apply(lambda x: compute_aggregate_comment_sentiment(x, 'pos'))\n",
    "uiuc_df['agg_compound_comment_sentiment'] = uiuc_df['comment_sentiment_list'].apply(lambda x: compute_aggregate_comment_sentiment(x, 'compound'))\n",
    "uiuc_df['agg_neg_comment_sentiment'] = uiuc_df['comment_sentiment_list'].apply(lambda x: compute_aggregate_comment_sentiment(x, 'neg'))"
   ]
  },
  {
   "cell_type": "code",
   "execution_count": 17,
   "id": "19de0013-6ac1-409b-a087-332fd081a472",
   "metadata": {},
   "outputs": [],
   "source": [
    "def compute_aggregate_comment_sentiment_average(comment_sentiment_list, type_flag):\n",
    "    res = 0 \n",
    "    for item in comment_sentiment_list:\n",
    "        res += item[type_flag] \n",
    "\n",
    "    return res/len(comment_sentiment_list)"
   ]
  },
  {
   "cell_type": "code",
   "execution_count": 11,
   "id": "a308dabb-ba0b-4239-8493-dc561eacbd92",
   "metadata": {},
   "outputs": [],
   "source": [
    "berkeley_df['agg_pos_comment_sentiment_avg'] = berkeley_df['comment_sentiment_list'].apply(lambda x: compute_aggregate_comment_sentiment_average(x, 'pos'))\n",
    "berkeley_df['agg_compound_comment_sentiment_avg'] = berkeley_df['comment_sentiment_list'].apply(lambda x: compute_aggregate_comment_sentiment_average(x, 'compound'))\n",
    "berkeley_df['agg_neg_comment_sentiment_avg'] = berkeley_df['comment_sentiment_list'].apply(lambda x: compute_aggregate_comment_sentiment_average(x, 'neg'))"
   ]
  },
  {
   "cell_type": "code",
   "execution_count": 55,
   "id": "6a74ca31-54ab-4e36-b8bc-a6ad5ddb12ad",
   "metadata": {},
   "outputs": [],
   "source": [
    "# berkeley_df = berkeley_df.drop(['aggregated_negative_comment'], axis = 1)"
   ]
  },
  {
   "cell_type": "code",
   "execution_count": 11,
   "id": "2765772f-8e6a-40fc-9f6c-78bc62fa53fb",
   "metadata": {},
   "outputs": [],
   "source": [
    "berkeley_df['post_pos_sentiment'] = berkeley_df['post_sentiment_dict'].apply(lambda x: x['pos'])\n",
    "berkeley_df['post_neg_sentiment'] = berkeley_df['post_sentiment_dict'].apply(lambda x: x['neg'])\n",
    "berkeley_df['post_compound_sentiment'] = berkeley_df['post_sentiment_dict'].apply(lambda x: x['compound'])"
   ]
  },
  {
   "cell_type": "code",
   "execution_count": 12,
   "id": "fcc1c554-97ff-41f4-a472-24c982c0660e",
   "metadata": {},
   "outputs": [],
   "source": [
    "cornell_df['post_pos_sentiment'] = cornell_df['post_sentiment_dict'].apply(lambda x: x['pos'])\n",
    "cornell_df['post_neg_sentiment'] = cornell_df['post_sentiment_dict'].apply(lambda x: x['neg'])\n",
    "cornell_df['post_compound_sentiment'] = cornell_df['post_sentiment_dict'].apply(lambda x: x['compound'])"
   ]
  },
  {
   "cell_type": "code",
   "execution_count": 13,
   "id": "ab81a4bd-d457-44c5-93db-d24fe06774b4",
   "metadata": {},
   "outputs": [],
   "source": [
    "harvard_df['post_pos_sentiment'] = harvard_df['post_sentiment_dict'].apply(lambda x: x['pos'])\n",
    "harvard_df['post_neg_sentiment'] = harvard_df['post_sentiment_dict'].apply(lambda x: x['neg'])\n",
    "harvard_df['post_compound_sentiment'] = harvard_df['post_sentiment_dict'].apply(lambda x: x['compound'])"
   ]
  },
  {
   "cell_type": "code",
   "execution_count": 14,
   "id": "e164ca89-ce85-4c94-990e-6766dd7ca770",
   "metadata": {},
   "outputs": [],
   "source": [
    "uiuc_df['post_pos_sentiment'] = uiuc_df['post_sentiment_dict'].apply(lambda x: x['pos'])\n",
    "uiuc_df['post_neg_sentiment'] = uiuc_df['post_sentiment_dict'].apply(lambda x: x['neg'])\n",
    "uiuc_df['post_compound_sentiment'] = uiuc_df['post_sentiment_dict'].apply(lambda x: x['compound'])"
   ]
  },
  {
   "cell_type": "code",
   "execution_count": 14,
   "id": "de1a6e95-d9fe-4186-87ec-995e7cf08e5a",
   "metadata": {},
   "outputs": [
    {
     "data": {
      "text/html": [
       "<div>\n",
       "<style scoped>\n",
       "    .dataframe tbody tr th:only-of-type {\n",
       "        vertical-align: middle;\n",
       "    }\n",
       "\n",
       "    .dataframe tbody tr th {\n",
       "        vertical-align: top;\n",
       "    }\n",
       "\n",
       "    .dataframe thead th {\n",
       "        text-align: right;\n",
       "    }\n",
       "</style>\n",
       "<table border=\"1\" class=\"dataframe\">\n",
       "  <thead>\n",
       "    <tr style=\"text-align: right;\">\n",
       "      <th></th>\n",
       "      <th>id</th>\n",
       "      <th>author</th>\n",
       "      <th>score</th>\n",
       "      <th>upvote_ratio</th>\n",
       "      <th>num_comments</th>\n",
       "      <th>subreddit</th>\n",
       "      <th>selftext</th>\n",
       "      <th>comments</th>\n",
       "      <th>post_sentiment_dict</th>\n",
       "      <th>comment_sentiment_list</th>\n",
       "      <th>agg_pos_comment_sentiment</th>\n",
       "      <th>agg_compound_comment_sentiment</th>\n",
       "      <th>agg_neg_comment_sentiment</th>\n",
       "      <th>agg_pos_comment_sentiment_avg</th>\n",
       "      <th>agg_compound_comment_sentiment_avg</th>\n",
       "      <th>agg_neg_comment_sentiment_avg</th>\n",
       "      <th>post_pos_sentiment</th>\n",
       "      <th>post_neg_sentiment</th>\n",
       "      <th>post_compound_sentiment</th>\n",
       "    </tr>\n",
       "  </thead>\n",
       "  <tbody>\n",
       "    <tr>\n",
       "      <th>0</th>\n",
       "      <td>jryusf</td>\n",
       "      <td>yoyoyaass</td>\n",
       "      <td>374.0</td>\n",
       "      <td>0.97</td>\n",
       "      <td>43</td>\n",
       "      <td>berkeley</td>\n",
       "      <td>😙✌️ who else feels?</td>\n",
       "      <td>[{'author': 'buckyspunisher', 'body': 'Haha ye...</td>\n",
       "      <td>{'neg': 0.0, 'neu': 0.544, 'pos': 0.456, 'comp...</td>\n",
       "      <td>[{'neg': 0.282, 'neu': 0.483, 'pos': 0.235, 'c...</td>\n",
       "      <td>10.292</td>\n",
       "      <td>11.8611</td>\n",
       "      <td>4.127</td>\n",
       "      <td>0.223739</td>\n",
       "      <td>0.257850</td>\n",
       "      <td>0.089717</td>\n",
       "      <td>0.456</td>\n",
       "      <td>0.000</td>\n",
       "      <td>0.7717</td>\n",
       "    </tr>\n",
       "    <tr>\n",
       "      <th>1</th>\n",
       "      <td>12825pi</td>\n",
       "      <td>yogurtchicken21</td>\n",
       "      <td>434.0</td>\n",
       "      <td>0.99</td>\n",
       "      <td>29</td>\n",
       "      <td>berkeley</td>\n",
       "      <td>Not my picture</td>\n",
       "      <td>[{'author': 'compstomper1', 'body': 'or flying...</td>\n",
       "      <td>{'neg': 0.0, 'neu': 1.0, 'pos': 0.0, 'compound...</td>\n",
       "      <td>[{'neg': 0.0, 'neu': 1.0, 'pos': 0.0, 'compoun...</td>\n",
       "      <td>3.175</td>\n",
       "      <td>5.0289</td>\n",
       "      <td>1.179</td>\n",
       "      <td>0.113393</td>\n",
       "      <td>0.179604</td>\n",
       "      <td>0.042107</td>\n",
       "      <td>0.000</td>\n",
       "      <td>0.000</td>\n",
       "      <td>0.0000</td>\n",
       "    </tr>\n",
       "    <tr>\n",
       "      <th>2</th>\n",
       "      <td>p88cbe</td>\n",
       "      <td>ylc217</td>\n",
       "      <td>417.0</td>\n",
       "      <td>0.82</td>\n",
       "      <td>137</td>\n",
       "      <td>berkeley</td>\n",
       "      <td>I’m probably going to get downvoted for this b...</td>\n",
       "      <td>[{'author': 'BrainyCardinal45', 'body': '@Deba...</td>\n",
       "      <td>{'neg': 0.041, 'neu': 0.705, 'pos': 0.254, 'co...</td>\n",
       "      <td>[{'neg': 0.121, 'neu': 0.879, 'pos': 0.0, 'com...</td>\n",
       "      <td>14.053</td>\n",
       "      <td>3.0333</td>\n",
       "      <td>10.777</td>\n",
       "      <td>0.097590</td>\n",
       "      <td>0.021065</td>\n",
       "      <td>0.074840</td>\n",
       "      <td>0.254</td>\n",
       "      <td>0.041</td>\n",
       "      <td>0.9933</td>\n",
       "    </tr>\n",
       "    <tr>\n",
       "      <th>3</th>\n",
       "      <td>10ygfry</td>\n",
       "      <td>yapoyt</td>\n",
       "      <td>411.0</td>\n",
       "      <td>0.95</td>\n",
       "      <td>74</td>\n",
       "      <td>berkeley</td>\n",
       "      <td>I just got into Cal early with a regents and c...</td>\n",
       "      <td>[{'author': 'Money_Equivalent6439', 'body': 'A...</td>\n",
       "      <td>{'neg': 0.0, 'neu': 0.787, 'pos': 0.213, 'comp...</td>\n",
       "      <td>[{'neg': 0.186, 'neu': 0.571, 'pos': 0.243, 'c...</td>\n",
       "      <td>22.455</td>\n",
       "      <td>26.9142</td>\n",
       "      <td>3.480</td>\n",
       "      <td>0.311875</td>\n",
       "      <td>0.373808</td>\n",
       "      <td>0.048333</td>\n",
       "      <td>0.213</td>\n",
       "      <td>0.000</td>\n",
       "      <td>0.9500</td>\n",
       "    </tr>\n",
       "    <tr>\n",
       "      <th>4</th>\n",
       "      <td>wgjc64</td>\n",
       "      <td>xosarasparklesxo</td>\n",
       "      <td>371.0</td>\n",
       "      <td>0.99</td>\n",
       "      <td>41</td>\n",
       "      <td>berkeley</td>\n",
       "      <td>I hopped on AC 52 on Bancroft, headed away fro...</td>\n",
       "      <td>[{'author': 'Important_Ad_3688', 'body': 'This...</td>\n",
       "      <td>{'neg': 0.074, 'neu': 0.91, 'pos': 0.016, 'com...</td>\n",
       "      <td>[{'neg': 0.0, 'neu': 0.844, 'pos': 0.156, 'com...</td>\n",
       "      <td>5.516</td>\n",
       "      <td>2.1721</td>\n",
       "      <td>4.100</td>\n",
       "      <td>0.134537</td>\n",
       "      <td>0.052978</td>\n",
       "      <td>0.100000</td>\n",
       "      <td>0.016</td>\n",
       "      <td>0.074</td>\n",
       "      <td>-0.8477</td>\n",
       "    </tr>\n",
       "    <tr>\n",
       "      <th>...</th>\n",
       "      <td>...</td>\n",
       "      <td>...</td>\n",
       "      <td>...</td>\n",
       "      <td>...</td>\n",
       "      <td>...</td>\n",
       "      <td>...</td>\n",
       "      <td>...</td>\n",
       "      <td>...</td>\n",
       "      <td>...</td>\n",
       "      <td>...</td>\n",
       "      <td>...</td>\n",
       "      <td>...</td>\n",
       "      <td>...</td>\n",
       "      <td>...</td>\n",
       "      <td>...</td>\n",
       "      <td>...</td>\n",
       "      <td>...</td>\n",
       "      <td>...</td>\n",
       "      <td>...</td>\n",
       "    </tr>\n",
       "    <tr>\n",
       "      <th>333</th>\n",
       "      <td>pbqj3b</td>\n",
       "      <td>712588Kf</td>\n",
       "      <td>342.0</td>\n",
       "      <td>0.99</td>\n",
       "      <td>24</td>\n",
       "      <td>berkeley</td>\n",
       "      <td>I couldn’t afford to pay the $130 for my Chem ...</td>\n",
       "      <td>[{'author': 'sunoosupremacy', 'body': 'that is...</td>\n",
       "      <td>{'neg': 0.067, 'neu': 0.834, 'pos': 0.099, 'co...</td>\n",
       "      <td>[{'neg': 0.0, 'neu': 0.721, 'pos': 0.279, 'com...</td>\n",
       "      <td>9.061</td>\n",
       "      <td>13.8448</td>\n",
       "      <td>0.655</td>\n",
       "      <td>0.393957</td>\n",
       "      <td>0.601948</td>\n",
       "      <td>0.028478</td>\n",
       "      <td>0.099</td>\n",
       "      <td>0.067</td>\n",
       "      <td>0.4795</td>\n",
       "    </tr>\n",
       "    <tr>\n",
       "      <th>334</th>\n",
       "      <td>p0tx3l</td>\n",
       "      <td>712588Kf</td>\n",
       "      <td>341.0</td>\n",
       "      <td>0.97</td>\n",
       "      <td>21</td>\n",
       "      <td>berkeley</td>\n",
       "      <td>I can’t wait for me to be living in my apartme...</td>\n",
       "      <td>[{'author': 'PotentiallyExplosive', 'body': 'i...</td>\n",
       "      <td>{'neg': 0.0, 'neu': 0.927, 'pos': 0.073, 'comp...</td>\n",
       "      <td>[{'neg': 0.312, 'neu': 0.688, 'pos': 0.0, 'com...</td>\n",
       "      <td>4.023</td>\n",
       "      <td>5.9056</td>\n",
       "      <td>1.281</td>\n",
       "      <td>0.201150</td>\n",
       "      <td>0.295280</td>\n",
       "      <td>0.064050</td>\n",
       "      <td>0.073</td>\n",
       "      <td>0.000</td>\n",
       "      <td>0.6956</td>\n",
       "    </tr>\n",
       "    <tr>\n",
       "      <th>335</th>\n",
       "      <td>prcxvy</td>\n",
       "      <td>712588Kf</td>\n",
       "      <td>333.0</td>\n",
       "      <td>0.98</td>\n",
       "      <td>20</td>\n",
       "      <td>berkeley</td>\n",
       "      <td>This means a lot to me considering I was a rea...</td>\n",
       "      <td>[{'author': 'LugnutsK', 'body': 'B for Berkele...</td>\n",
       "      <td>{'neg': 0.071, 'neu': 0.929, 'pos': 0.0, 'comp...</td>\n",
       "      <td>[{'neg': 0.0, 'neu': 1.0, 'pos': 0.0, 'compoun...</td>\n",
       "      <td>7.309</td>\n",
       "      <td>9.0280</td>\n",
       "      <td>0.618</td>\n",
       "      <td>0.348048</td>\n",
       "      <td>0.429905</td>\n",
       "      <td>0.029429</td>\n",
       "      <td>0.000</td>\n",
       "      <td>0.071</td>\n",
       "      <td>-0.2831</td>\n",
       "    </tr>\n",
       "    <tr>\n",
       "      <th>336</th>\n",
       "      <td>gi3j9s</td>\n",
       "      <td>31makeitmakesense</td>\n",
       "      <td>639.0</td>\n",
       "      <td>0.93</td>\n",
       "      <td>185</td>\n",
       "      <td>berkeley</td>\n",
       "      <td>This year, Berkeley's [top graduate](https://n...</td>\n",
       "      <td>[{'author': 'gotransfersgobears', 'body': 'The...</td>\n",
       "      <td>{'neg': 0.048, 'neu': 0.861, 'pos': 0.091, 'co...</td>\n",
       "      <td>[{'neg': 0.082, 'neu': 0.791, 'pos': 0.126, 'c...</td>\n",
       "      <td>30.264</td>\n",
       "      <td>52.3311</td>\n",
       "      <td>15.007</td>\n",
       "      <td>0.157625</td>\n",
       "      <td>0.272558</td>\n",
       "      <td>0.078161</td>\n",
       "      <td>0.091</td>\n",
       "      <td>0.048</td>\n",
       "      <td>0.8948</td>\n",
       "    </tr>\n",
       "    <tr>\n",
       "      <th>337</th>\n",
       "      <td>n5wa1v</td>\n",
       "      <td>-feelalive-</td>\n",
       "      <td>514.0</td>\n",
       "      <td>0.98</td>\n",
       "      <td>77</td>\n",
       "      <td>berkeley</td>\n",
       "      <td>makes me feel so much better bout my ucla reje...</td>\n",
       "      <td>[{'author': 'None', 'body': 'Number 1 in the w...</td>\n",
       "      <td>{'neg': 0.103, 'neu': 0.472, 'pos': 0.424, 'co...</td>\n",
       "      <td>[{'neg': 0.0, 'neu': 0.843, 'pos': 0.157, 'com...</td>\n",
       "      <td>12.995</td>\n",
       "      <td>18.1257</td>\n",
       "      <td>4.058</td>\n",
       "      <td>0.168766</td>\n",
       "      <td>0.235399</td>\n",
       "      <td>0.052701</td>\n",
       "      <td>0.424</td>\n",
       "      <td>0.103</td>\n",
       "      <td>0.8974</td>\n",
       "    </tr>\n",
       "  </tbody>\n",
       "</table>\n",
       "<p>338 rows × 19 columns</p>\n",
       "</div>"
      ],
      "text/plain": [
       "          id             author  score  upvote_ratio  num_comments subreddit  \\\n",
       "0     jryusf          yoyoyaass  374.0          0.97            43  berkeley   \n",
       "1    12825pi    yogurtchicken21  434.0          0.99            29  berkeley   \n",
       "2     p88cbe             ylc217  417.0          0.82           137  berkeley   \n",
       "3    10ygfry             yapoyt  411.0          0.95            74  berkeley   \n",
       "4     wgjc64   xosarasparklesxo  371.0          0.99            41  berkeley   \n",
       "..       ...                ...    ...           ...           ...       ...   \n",
       "333   pbqj3b           712588Kf  342.0          0.99            24  berkeley   \n",
       "334   p0tx3l           712588Kf  341.0          0.97            21  berkeley   \n",
       "335   prcxvy           712588Kf  333.0          0.98            20  berkeley   \n",
       "336   gi3j9s  31makeitmakesense  639.0          0.93           185  berkeley   \n",
       "337   n5wa1v        -feelalive-  514.0          0.98            77  berkeley   \n",
       "\n",
       "                                              selftext  \\\n",
       "0                                  😙✌️ who else feels?   \n",
       "1                                       Not my picture   \n",
       "2    I’m probably going to get downvoted for this b...   \n",
       "3    I just got into Cal early with a regents and c...   \n",
       "4    I hopped on AC 52 on Bancroft, headed away fro...   \n",
       "..                                                 ...   \n",
       "333  I couldn’t afford to pay the $130 for my Chem ...   \n",
       "334  I can’t wait for me to be living in my apartme...   \n",
       "335  This means a lot to me considering I was a rea...   \n",
       "336  This year, Berkeley's [top graduate](https://n...   \n",
       "337  makes me feel so much better bout my ucla reje...   \n",
       "\n",
       "                                              comments  \\\n",
       "0    [{'author': 'buckyspunisher', 'body': 'Haha ye...   \n",
       "1    [{'author': 'compstomper1', 'body': 'or flying...   \n",
       "2    [{'author': 'BrainyCardinal45', 'body': '@Deba...   \n",
       "3    [{'author': 'Money_Equivalent6439', 'body': 'A...   \n",
       "4    [{'author': 'Important_Ad_3688', 'body': 'This...   \n",
       "..                                                 ...   \n",
       "333  [{'author': 'sunoosupremacy', 'body': 'that is...   \n",
       "334  [{'author': 'PotentiallyExplosive', 'body': 'i...   \n",
       "335  [{'author': 'LugnutsK', 'body': 'B for Berkele...   \n",
       "336  [{'author': 'gotransfersgobears', 'body': 'The...   \n",
       "337  [{'author': 'None', 'body': 'Number 1 in the w...   \n",
       "\n",
       "                                   post_sentiment_dict  \\\n",
       "0    {'neg': 0.0, 'neu': 0.544, 'pos': 0.456, 'comp...   \n",
       "1    {'neg': 0.0, 'neu': 1.0, 'pos': 0.0, 'compound...   \n",
       "2    {'neg': 0.041, 'neu': 0.705, 'pos': 0.254, 'co...   \n",
       "3    {'neg': 0.0, 'neu': 0.787, 'pos': 0.213, 'comp...   \n",
       "4    {'neg': 0.074, 'neu': 0.91, 'pos': 0.016, 'com...   \n",
       "..                                                 ...   \n",
       "333  {'neg': 0.067, 'neu': 0.834, 'pos': 0.099, 'co...   \n",
       "334  {'neg': 0.0, 'neu': 0.927, 'pos': 0.073, 'comp...   \n",
       "335  {'neg': 0.071, 'neu': 0.929, 'pos': 0.0, 'comp...   \n",
       "336  {'neg': 0.048, 'neu': 0.861, 'pos': 0.091, 'co...   \n",
       "337  {'neg': 0.103, 'neu': 0.472, 'pos': 0.424, 'co...   \n",
       "\n",
       "                                comment_sentiment_list  \\\n",
       "0    [{'neg': 0.282, 'neu': 0.483, 'pos': 0.235, 'c...   \n",
       "1    [{'neg': 0.0, 'neu': 1.0, 'pos': 0.0, 'compoun...   \n",
       "2    [{'neg': 0.121, 'neu': 0.879, 'pos': 0.0, 'com...   \n",
       "3    [{'neg': 0.186, 'neu': 0.571, 'pos': 0.243, 'c...   \n",
       "4    [{'neg': 0.0, 'neu': 0.844, 'pos': 0.156, 'com...   \n",
       "..                                                 ...   \n",
       "333  [{'neg': 0.0, 'neu': 0.721, 'pos': 0.279, 'com...   \n",
       "334  [{'neg': 0.312, 'neu': 0.688, 'pos': 0.0, 'com...   \n",
       "335  [{'neg': 0.0, 'neu': 1.0, 'pos': 0.0, 'compoun...   \n",
       "336  [{'neg': 0.082, 'neu': 0.791, 'pos': 0.126, 'c...   \n",
       "337  [{'neg': 0.0, 'neu': 0.843, 'pos': 0.157, 'com...   \n",
       "\n",
       "     agg_pos_comment_sentiment  agg_compound_comment_sentiment  \\\n",
       "0                       10.292                         11.8611   \n",
       "1                        3.175                          5.0289   \n",
       "2                       14.053                          3.0333   \n",
       "3                       22.455                         26.9142   \n",
       "4                        5.516                          2.1721   \n",
       "..                         ...                             ...   \n",
       "333                      9.061                         13.8448   \n",
       "334                      4.023                          5.9056   \n",
       "335                      7.309                          9.0280   \n",
       "336                     30.264                         52.3311   \n",
       "337                     12.995                         18.1257   \n",
       "\n",
       "     agg_neg_comment_sentiment  agg_pos_comment_sentiment_avg  \\\n",
       "0                        4.127                       0.223739   \n",
       "1                        1.179                       0.113393   \n",
       "2                       10.777                       0.097590   \n",
       "3                        3.480                       0.311875   \n",
       "4                        4.100                       0.134537   \n",
       "..                         ...                            ...   \n",
       "333                      0.655                       0.393957   \n",
       "334                      1.281                       0.201150   \n",
       "335                      0.618                       0.348048   \n",
       "336                     15.007                       0.157625   \n",
       "337                      4.058                       0.168766   \n",
       "\n",
       "     agg_compound_comment_sentiment_avg  agg_neg_comment_sentiment_avg  \\\n",
       "0                              0.257850                       0.089717   \n",
       "1                              0.179604                       0.042107   \n",
       "2                              0.021065                       0.074840   \n",
       "3                              0.373808                       0.048333   \n",
       "4                              0.052978                       0.100000   \n",
       "..                                  ...                            ...   \n",
       "333                            0.601948                       0.028478   \n",
       "334                            0.295280                       0.064050   \n",
       "335                            0.429905                       0.029429   \n",
       "336                            0.272558                       0.078161   \n",
       "337                            0.235399                       0.052701   \n",
       "\n",
       "     post_pos_sentiment  post_neg_sentiment  post_compound_sentiment  \n",
       "0                 0.456               0.000                   0.7717  \n",
       "1                 0.000               0.000                   0.0000  \n",
       "2                 0.254               0.041                   0.9933  \n",
       "3                 0.213               0.000                   0.9500  \n",
       "4                 0.016               0.074                  -0.8477  \n",
       "..                  ...                 ...                      ...  \n",
       "333               0.099               0.067                   0.4795  \n",
       "334               0.073               0.000                   0.6956  \n",
       "335               0.000               0.071                  -0.2831  \n",
       "336               0.091               0.048                   0.8948  \n",
       "337               0.424               0.103                   0.8974  \n",
       "\n",
       "[338 rows x 19 columns]"
      ]
     },
     "execution_count": 14,
     "metadata": {},
     "output_type": "execute_result"
    }
   ],
   "source": [
    "berkeley_df"
   ]
  },
  {
   "cell_type": "markdown",
   "id": "0de64971-e262-4462-808e-8c2094157d8d",
   "metadata": {},
   "source": [
    "### Save data "
   ]
  },
  {
   "cell_type": "code",
   "execution_count": 15,
   "id": "d836342d-7c16-4fdf-973d-367714352714",
   "metadata": {},
   "outputs": [],
   "source": [
    "berkeley_df.to_csv('data/berkeley_sentiment_new.csv')"
   ]
  },
  {
   "cell_type": "code",
   "execution_count": 16,
   "id": "50ad38c5-d3db-4d27-acdc-a52a2f4743bd",
   "metadata": {},
   "outputs": [],
   "source": [
    "cornell_df.to_csv('data/cornell_sentiment_new.csv')"
   ]
  },
  {
   "cell_type": "code",
   "execution_count": 17,
   "id": "dfcd942e-de72-46ce-beb1-5c2fe39069bc",
   "metadata": {},
   "outputs": [],
   "source": [
    "harvard_df.to_csv('data/harvard_sentiment_new.csv')"
   ]
  },
  {
   "cell_type": "code",
   "execution_count": 18,
   "id": "0f2a7b28-eba1-4ec6-a609-6dfe084fc2e8",
   "metadata": {},
   "outputs": [],
   "source": [
    "uiuc_df.to_csv('data/uiuc_sentiment_new.csv')"
   ]
  },
  {
   "cell_type": "markdown",
   "id": "30186ea8-00dc-4dbc-9198-efaf60342f32",
   "metadata": {},
   "source": [
    "### Compute Sentiment Class "
   ]
  },
  {
   "cell_type": "code",
   "execution_count": 18,
   "id": "d6e81df0-7a7e-4733-b17a-7b08f628e7cf",
   "metadata": {},
   "outputs": [],
   "source": [
    "berkeley_exploded_df = berkeley_df.explode(['comment_sentiment_list', 'comments'])\n",
    "cornell_exploded_df = cornell_df.explode(['comment_sentiment_list', 'comments'])\n",
    "harvard_exploded_df = harvard_df.explode(['comment_sentiment_list', 'comments'])\n",
    "uiuc_exploded_df = uiuc_df.explode(['comment_sentiment_list', 'comments'])"
   ]
  },
  {
   "cell_type": "code",
   "execution_count": 19,
   "id": "96a74ec0-5e36-4eae-b7f4-eeb89dc36555",
   "metadata": {},
   "outputs": [],
   "source": [
    "berkeley_exploded_df = berkeley_exploded_df.rename(columns={'comment_sentiment_list':'comment_sentiment_dict', 'comments':'comment'})\n",
    "cornell_exploded_df = cornell_exploded_df.rename(columns={'comment_sentiment_list':'comment_sentiment_dict', 'comments':'comment'})\n",
    "harvard_exploded_df = harvard_exploded_df.rename(columns={'comment_sentiment_list':'comment_sentiment_dict', 'comments':'comment'})\n",
    "uiuc_exploded_df = uiuc_exploded_df.rename(columns={'comment_sentiment_list':'comment_sentiment_dict', 'comments':'comment'})"
   ]
  },
  {
   "cell_type": "code",
   "execution_count": 20,
   "id": "d66edfca-07a2-4e78-8378-712ac4dae439",
   "metadata": {},
   "outputs": [],
   "source": [
    "def compute_comment_sentiment_class(comment_sentiment):\n",
    "    if -1 <= comment_sentiment['compound'] < -0.65:\n",
    "        return 'VN'\n",
    "    elif -0.65 <= comment_sentiment['compound'] < -0.35:\n",
    "        return 'N'\n",
    "    elif -0.35 <= comment_sentiment['compound'] < 0.35:\n",
    "        return 'NEU'\n",
    "    elif 0.35 <= comment_sentiment['compound'] < 0.65:\n",
    "        return 'P'\n",
    "    elif 0.65 <= comment_sentiment['compound'] <= 1:\n",
    "        return 'VP'"
   ]
  },
  {
   "cell_type": "code",
   "execution_count": 21,
   "id": "5b014ca2-8c69-45cb-9b19-362077d545ee",
   "metadata": {},
   "outputs": [],
   "source": [
    "berkeley_exploded_df['comment_sentiment_class'] = berkeley_exploded_df['comment_sentiment_dict'].apply(lambda x: compute_comment_sentiment_class(x))\n",
    "cornell_exploded_df['comment_sentiment_class'] = cornell_exploded_df['comment_sentiment_dict'].apply(lambda x: compute_comment_sentiment_class(x))\n",
    "harvard_exploded_df['comment_sentiment_class'] = harvard_exploded_df['comment_sentiment_dict'].apply(lambda x: compute_comment_sentiment_class(x))\n",
    "uiuc_exploded_df['comment_sentiment_class'] = uiuc_exploded_df['comment_sentiment_dict'].apply(lambda x: compute_comment_sentiment_class(x))"
   ]
  },
  {
   "cell_type": "code",
   "execution_count": 35,
   "id": "5a9b5115-c2de-44ff-8f3f-01f7ea77bc79",
   "metadata": {},
   "outputs": [],
   "source": [
    "berkeley_exploded_df.to_csv('data/berkeley_comment_sentiment_class.csv')"
   ]
  },
  {
   "cell_type": "code",
   "execution_count": 22,
   "id": "66a2afb2-59b3-4483-9fb7-3f5d12bd3dee",
   "metadata": {},
   "outputs": [],
   "source": [
    "cornell_exploded_df.to_csv('data/cornell_comment_sentiment_class.csv')\n",
    "harvard_exploded_df.to_csv('data/harvard_comment_sentiment_class.csv')\n",
    "uiuc_exploded_df.to_csv('data/uiuc_comment_sentiment_class.csv')"
   ]
  },
  {
   "cell_type": "code",
   "execution_count": 50,
   "id": "c3ad019f-e653-4d7e-b6e8-96b695cd56b4",
   "metadata": {},
   "outputs": [
    {
     "data": {
      "text/plain": [
       "Index(['id', 'author', 'score', 'upvote_ratio', 'num_comments', 'subreddit',\n",
       "       'selftext', 'comment', 'post_sentiment_dict', 'comment_sentiment_dict',\n",
       "       'comment_sentiment_class'],\n",
       "      dtype='object')"
      ]
     },
     "execution_count": 50,
     "metadata": {},
     "output_type": "execute_result"
    }
   ],
   "source": [
    "berkeley_exploded_df.columns"
   ]
  },
  {
   "cell_type": "code",
   "execution_count": 33,
   "id": "238c430a-1fc4-40f3-937f-11321a5b71be",
   "metadata": {},
   "outputs": [],
   "source": [
    "# compute weighted comment score for each post by aggregating comment classes \n",
    "berkeley_grouped_df = berkeley_exploded_df.groupby(['id', 'author', 'score', 'upvote_ratio', 'num_comments', 'subreddit',\n",
    "       'selftext']).agg(list).reset_index()"
   ]
  },
  {
   "cell_type": "code",
   "execution_count": 23,
   "id": "0924b5b1-1213-451a-be90-c6cebe6d7f06",
   "metadata": {},
   "outputs": [],
   "source": [
    "# compute weighted comment score for each post by aggregating comment classes \n",
    "cornell_grouped_df = cornell_exploded_df.groupby(['id', 'author', 'score', 'upvote_ratio', 'num_comments', 'subreddit',\n",
    "       'selftext']).agg(list).reset_index()"
   ]
  },
  {
   "cell_type": "code",
   "execution_count": 24,
   "id": "46f31439-c328-4b9d-86ab-1d6fce695443",
   "metadata": {},
   "outputs": [],
   "source": [
    "# compute weighted comment score for each post by aggregating comment classes \n",
    "harvard_grouped_df = harvard_exploded_df.groupby(['id', 'author', 'score', 'upvote_ratio', 'num_comments', 'subreddit',\n",
    "       'selftext']).agg(list).reset_index()"
   ]
  },
  {
   "cell_type": "code",
   "execution_count": 25,
   "id": "a7ae889d-c0fe-4fa3-985e-1a86cbae61a2",
   "metadata": {},
   "outputs": [],
   "source": [
    "# compute weighted comment score for each post by aggregating comment classes \n",
    "uiuc_grouped_df = uiuc_exploded_df.groupby(['id', 'author', 'score', 'upvote_ratio', 'num_comments', 'subreddit',\n",
    "       'selftext']).agg(list).reset_index()"
   ]
  },
  {
   "cell_type": "code",
   "execution_count": 41,
   "id": "10eff325-f885-4658-b4aa-6ec643738b20",
   "metadata": {},
   "outputs": [
    {
     "data": {
      "text/plain": [
       "Index(['id', 'author', 'score', 'upvote_ratio', 'num_comments', 'subreddit',\n",
       "       'selftext', 'comment', 'post_sentiment_dict', 'comment_sentiment_dict',\n",
       "       'comment_sentiment_class'],\n",
       "      dtype='object')"
      ]
     },
     "execution_count": 41,
     "metadata": {},
     "output_type": "execute_result"
    }
   ],
   "source": [
    "berkeley_grouped_df.columns"
   ]
  },
  {
   "cell_type": "code",
   "execution_count": 27,
   "id": "4513b65c-9acf-4bde-8ffd-4097e20ea091",
   "metadata": {},
   "outputs": [],
   "source": [
    "def compute_weighted_comment_class_sentiment(comment_class_list):\n",
    "    score = 0\n",
    "    for com_class in comment_class_list:\n",
    "        if com_class == 'VN':\n",
    "            score -= 1\n",
    "        elif com_class == 'N':\n",
    "            score -= 0.5 \n",
    "        elif com_class == 'P':\n",
    "            score += 0.25 \n",
    "        elif com_class == 'VP':\n",
    "            score += 0.5 \n",
    "            \n",
    "    return score "
   ]
  },
  {
   "cell_type": "code",
   "execution_count": 34,
   "id": "d3aedd24-97a5-4a93-8b22-57e8b651f29a",
   "metadata": {},
   "outputs": [],
   "source": [
    "berkeley_grouped_df['aggregated_comment_class_sentiment'] = berkeley_grouped_df['comment_sentiment_class'].apply(lambda x : compute_weighted_comment_class_sentiment(x))"
   ]
  },
  {
   "cell_type": "code",
   "execution_count": 28,
   "id": "a7cac60c-df3f-45ea-afa7-2001d345198e",
   "metadata": {},
   "outputs": [],
   "source": [
    "cornell_grouped_df['aggregated_comment_class_sentiment'] = cornell_grouped_df['comment_sentiment_class'].apply(lambda x : compute_weighted_comment_class_sentiment(x))"
   ]
  },
  {
   "cell_type": "code",
   "execution_count": 29,
   "id": "e03951b3-d81d-4e77-ab38-61775e1f4450",
   "metadata": {},
   "outputs": [],
   "source": [
    "harvard_grouped_df['aggregated_comment_class_sentiment'] = harvard_grouped_df['comment_sentiment_class'].apply(lambda x : compute_weighted_comment_class_sentiment(x))"
   ]
  },
  {
   "cell_type": "code",
   "execution_count": 30,
   "id": "95e692da-1c2c-4359-a052-38064d342c93",
   "metadata": {},
   "outputs": [],
   "source": [
    "uiuc_grouped_df['aggregated_comment_class_sentiment'] = uiuc_grouped_df['comment_sentiment_class'].apply(lambda x : compute_weighted_comment_class_sentiment(x))"
   ]
  },
  {
   "cell_type": "code",
   "execution_count": 35,
   "id": "8bda5b4f-0e57-40f4-9780-a2a9391158c1",
   "metadata": {},
   "outputs": [],
   "source": [
    "berkeley_grouped_df.to_csv('data/berkeley_aggregated_comment_class_sentiment.csv')"
   ]
  },
  {
   "cell_type": "code",
   "execution_count": 31,
   "id": "8033c0bf-804f-41aa-b7ef-6e84b219ac5d",
   "metadata": {},
   "outputs": [],
   "source": [
    "cornell_grouped_df.to_csv('data/cornell_aggregated_comment_class_sentiment.csv')\n",
    "harvard_grouped_df.to_csv('data/harvard_aggregated_comment_class_sentiment.csv')\n",
    "uiuc_grouped_df.to_csv('data/uiuc_aggregated_comment_class_sentiment.csv')"
   ]
  },
  {
   "cell_type": "code",
   "execution_count": 40,
   "id": "a6e9a458-1f82-42cd-b767-9088435045b7",
   "metadata": {},
   "outputs": [
    {
     "data": {
      "text/plain": [
       "<Axes: ylabel='Density'>"
      ]
     },
     "execution_count": 40,
     "metadata": {},
     "output_type": "execute_result"
    },
    {
     "data": {
      "image/png": "[encoded data removed]",
      "text/plain": [
       "<Figure size 640x480 with 1 Axes>"
      ]
     },
     "metadata": {},
     "output_type": "display_data"
    }
   ],
   "source": [
    "uiuc_grouped_df['aggregated_comment_class_sentiment'].plot(kind='kde')"
   ]
  },
  {
   "cell_type": "code",
   "execution_count": 39,
   "id": "a42da182-20bb-4087-a4f6-41bcf8807b19",
   "metadata": {},
   "outputs": [
    {
     "data": {
      "text/plain": [
       "<Axes: ylabel='Density'>"
      ]
     },
     "execution_count": 39,
     "metadata": {},
     "output_type": "execute_result"
    },
    {
     "data": {
      "image/png": "[encoded data removed]",
      "text/plain": [
       "<Figure size 640x480 with 1 Axes>"
      ]
     },
     "metadata": {},
     "output_type": "display_data"
    }
   ],
   "source": [
    "cornell_grouped_df['aggregated_comment_class_sentiment'].plot(kind='kde')"
   ]
  },
  {
   "cell_type": "code",
   "execution_count": 38,
   "id": "fe0dae0d-2b36-4eeb-b6ca-cac7a0fc55b1",
   "metadata": {},
   "outputs": [
    {
     "data": {
      "text/plain": [
       "<Axes: ylabel='Density'>"
      ]
     },
     "execution_count": 38,
     "metadata": {},
     "output_type": "execute_result"
    },
    {
     "data": {
      "image/png": "[encoded data removed]",
      "text/plain": [
       "<Figure size 640x480 with 1 Axes>"
      ]
     },
     "metadata": {},
     "output_type": "display_data"
    }
   ],
   "source": [
    "harvard_grouped_df['aggregated_comment_class_sentiment'].plot(kind='kde')"
   ]
  },
  {
   "cell_type": "code",
   "execution_count": 51,
   "id": "990e3872-11ce-4ce5-800c-2e68f65fe083",
   "metadata": {},
   "outputs": [
    {
     "data": {
      "text/plain": [
       "Index(['id', 'author', 'score', 'upvote_ratio', 'num_comments', 'subreddit',\n",
       "       'selftext', 'comment', 'post_sentiment_dict', 'comment_sentiment_dict',\n",
       "       'comment_sentiment_class', 'aggregated_comment_class_sentiment'],\n",
       "      dtype='object')"
      ]
     },
     "execution_count": 51,
     "metadata": {},
     "output_type": "execute_result"
    }
   ],
   "source": [
    "berkeley_grouped_df.columns"
   ]
  }
 ],
 "metadata": {
  "kernelspec": {
   "display_name": "Python [conda env:emr_project] *",
   "language": "python",
   "name": "conda-env-emr_project-py"
  },
  "language_info": {
   "codemirror_mode": {
    "name": "ipython",
    "version": 3
   },
   "file_extension": ".py",
   "mimetype": "text/x-python",
   "name": "python",
   "nbconvert_exporter": "python",
   "pygments_lexer": "ipython3",
   "version": "3.7.7"
  }
 },
 "nbformat": 4,
 "nbformat_minor": 5
}
