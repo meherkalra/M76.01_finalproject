{
 "cells": [
  {
   "cell_type": "markdown",
   "id": "1e163b11-7835-4101-b3d9-7b1fb1e4ccd7",
   "metadata": {},
   "source": [
    "# Graph Creation Script"
   ]
  },
  {
   "cell_type": "code",
   "execution_count": null,
   "id": "4d18dfc3-2527-4a66-aa2c-52e0db9299d5",
   "metadata": {},
   "outputs": [],
   "source": [
    "# Author : Saksham Arora"
   ]
  },
  {
   "cell_type": "code",
   "execution_count": 33,
   "id": "ee7291aa-c673-40aa-88dd-ea1259777693",
   "metadata": {},
   "outputs": [],
   "source": [
    "import numpy as np \n",
    "import pandas as pd\n",
    "# import praw \n",
    "import matplotlib.pyplot as plt \n",
    "import networkx as nx \n",
    "import time\n",
    "from itertools import combinations\n",
    "import collections"
   ]
  },
  {
   "cell_type": "code",
   "execution_count": 34,
   "id": "2e3440de-306c-41de-8317-5786df25195e",
   "metadata": {},
   "outputs": [],
   "source": [
    "import warnings \n",
    "warnings.simplefilter(action='ignore', category=FutureWarning)\n",
    "pd.set_option('display.max_colwidth', 100)\n",
    "pd.set_option('display.max_rows', 10)"
   ]
  },
  {
   "cell_type": "markdown",
   "id": "0c2b229a-275c-4abc-8cfc-fbc228939538",
   "metadata": {},
   "source": [
    "### read in the scraped data as csv files (change file paths accordingly from data folder)\n"
   ]
  },
  {
   "cell_type": "code",
   "execution_count": 125,
   "id": "8ab6de59-6161-42d7-88e3-7b1b9c01d415",
   "metadata": {},
   "outputs": [],
   "source": [
    "# read in the scraped data as csv files (change file paths accordingly from data folder)\n",
    "cornell_dtype = {'id':'str', 'author':'str', 'score':'float', 'upvote_ratio':'float', 'num_comments':'int', 'subreddit':'str', 'selftext':'str', 'comments':'object'}\n",
    "cornell_df = pd.read_csv('cornell_top_307.csv', dtype=cornell_dtype, usecols=cornell_dtype.keys())\n",
    "harvard_df = pd.read_csv('harvard_top_494.csv', dtype=cornell_dtype, usecols=cornell_dtype.keys())\n",
    "berkeley_df = pd.read_csv('berkeley_top_337.csv', dtype=cornell_dtype, usecols=cornell_dtype.keys())\n",
    "uiuc_df = pd.read_csv('uiuc_top_215.csv', dtype=cornell_dtype, usecols=cornell_dtype.keys())"
   ]
  },
  {
   "cell_type": "code",
   "execution_count": 126,
   "id": "8f9835bf-4ed5-443f-a0fb-8b32673d792d",
   "metadata": {},
   "outputs": [],
   "source": [
    "cornell_df['comments'] = cornell_df['comments'].apply(lambda x: eval(x))\n",
    "harvard_df['comments'] = harvard_df['comments'].apply(lambda x: eval(x))\n",
    "berkeley_df['comments'] = berkeley_df['comments'].apply(lambda x: eval(x))\n",
    "uiuc_df['comments'] = uiuc_df['comments'].apply(lambda x: eval(x))\n"
   ]
  },
  {
   "cell_type": "code",
   "execution_count": 127,
   "id": "30689c69-1cee-455d-b015-c67a44e1e89c",
   "metadata": {},
   "outputs": [
    {
     "data": {
      "text/plain": [
       "Index(['id', 'author', 'score', 'upvote_ratio', 'num_comments', 'subreddit',\n",
       "       'selftext', 'comments'],\n",
       "      dtype='object')"
      ]
     },
     "execution_count": 127,
     "metadata": {},
     "output_type": "execute_result"
    }
   ],
   "source": [
    "cornell_df.columns"
   ]
  },
  {
   "cell_type": "markdown",
   "id": "b1db4f18-cbcf-40c0-a3f4-f5e8f702598f",
   "metadata": {},
   "source": [
    "### process comments for commenter-commenter network creation"
   ]
  },
  {
   "cell_type": "code",
   "execution_count": 84,
   "id": "02909766-ef92-457d-aa53-15696e2e4f93",
   "metadata": {},
   "outputs": [],
   "source": [
    "# process posts and comments for commenter-commenter network creation\n",
    "def process_comments_commenter(row):\n",
    "    comments_list = row['comments']\n",
    "    interactions = []\n",
    "    authors = [comment['author'] for comment in comments_list if comment['author'] != '[deleted]']\n",
    "    # Create a list of all pairs of authors that have commented on the same post\n",
    "    interactions = list(combinations(authors, 2))\n",
    "    for comment in comments_list:\n",
    "        if comment['author'] != '[deleted]':\n",
    "            interactions.append((row['author'], comment['author']))\n",
    "    return interactions"
   ]
  },
  {
   "cell_type": "markdown",
   "id": "1147b3d7-74c4-42dd-980d-98278c6f40b3",
   "metadata": {},
   "source": [
    "### process comments for poster-commenter network creation\n"
   ]
  },
  {
   "cell_type": "code",
   "execution_count": 133,
   "id": "90719f4c-94b0-441f-a379-d17f508343b1",
   "metadata": {},
   "outputs": [],
   "source": [
    "# process comments for poster-commenter network creation\n",
    "def process_comments_poster(row):\n",
    "    comments_list = row['comments']\n",
    "    interactions = []\n",
    "    # authors = [comment['author'] for comment in comments_list if comment['author'] != '[deleted]']\n",
    "    # Create a list of all pairs of authors that have commented on the same post\n",
    "    # interactions = list(combinations(authors, 2))\n",
    "    for comment in comments_list:\n",
    "        if comment['author'] != '[deleted]':\n",
    "            interactions.append((row['author'], comment['author']))\n",
    "    return interactions"
   ]
  },
  {
   "cell_type": "markdown",
   "id": "9f84aa0f-1589-4006-b4f5-0cb24c606af9",
   "metadata": {},
   "source": [
    "### helper method to create interactions \n"
   ]
  },
  {
   "cell_type": "code",
   "execution_count": 52,
   "id": "e4463111-8e84-45d9-b1c0-c96966296214",
   "metadata": {},
   "outputs": [],
   "source": [
    "# helper method to create interactions \n",
    "def create_interactions(df):\n",
    "    all_interactions = []\n",
    "    for index, row in df.iterrows():\n",
    "        all_interactions.extend(row['interactions'])\n",
    "        \n",
    "    return all_interactions"
   ]
  },
  {
   "cell_type": "markdown",
   "id": "c51bd1ca-0ba0-4caf-852a-99a044cdddc8",
   "metadata": {},
   "source": [
    "### initialize and populate networkx graph "
   ]
  },
  {
   "cell_type": "code",
   "execution_count": 134,
   "id": "2af84620-748b-4305-9382-ceb9e99cc0bb",
   "metadata": {},
   "outputs": [],
   "source": [
    "# initialize and populate networkx graph using interactions list as input\n",
    "def initialize_populate_network(all_interactions):\n",
    "    graph = nx.Graph()\n",
    "    for interaction in all_interactions:\n",
    "        parent, child = interaction\n",
    "        if parent == child:\n",
    "            continue\n",
    "        if graph.has_edge(parent, child):\n",
    "            continue\n",
    "        elif graph.has_edge(child, parent):\n",
    "            continue\n",
    "        else:\n",
    "            graph.add_edge(parent, child)\n",
    "            \n",
    "    return graph "
   ]
  },
  {
   "cell_type": "markdown",
   "id": "71aba80d-4e92-4fd6-a15f-0cb5cc4028c4",
   "metadata": {},
   "source": [
    "### visualize graph "
   ]
  },
  {
   "cell_type": "code",
   "execution_count": 11,
   "id": "3dfd268d-09ac-43d7-8a8e-f696e24d75ae",
   "metadata": {},
   "outputs": [],
   "source": [
    "# visualize graph \n",
    "def save_graph(graph, name):\n",
    "    fig = plt.figure(figsize=(40, 40)) \n",
    "    nx.draw(graph, node_size=40) \n",
    "    plt.axis('equal') \n",
    "    plt.show() \n",
    "    fig.savefig(name + '_graph.png') "
   ]
  },
  {
   "cell_type": "markdown",
   "id": "385c40eb-194a-4a2f-9dde-df1e3977e296",
   "metadata": {},
   "source": [
    "### Network Creation"
   ]
  },
  {
   "cell_type": "code",
   "execution_count": 129,
   "id": "4598ed01-2cb3-4a81-b0a3-15d13d3ab8a4",
   "metadata": {},
   "outputs": [],
   "source": [
    "# use relevant helper method (process_comments_commenter or process_comments_poster) for whichever network you need to create\n",
    "\n",
    "# cornell_df['interactions'] = cornell_df.apply(lambda x: process_comments_poster(x), axis = 1)\n",
    "# harvard_df['interactions'] = harvard_df.apply(lambda x: process_comments_poster(x), axis = 1)\n",
    "# berkeley_df['interactions'] = berkeley_df.apply(lambda x: process_comments_poster(x), axis = 1)\n",
    "# uiuc_df['interactions'] = uiuc_df.apply(lambda x: process_comments_poster(x), axis = 1)\n",
    "\n",
    "cornell_df['interactions'] = cornell_df.apply(lambda x: process_comments_commenter(x), axis = 1)\n",
    "harvard_df['interactions'] = harvard_df.apply(lambda x: process_comments_commenter(x), axis = 1)\n",
    "berkeley_df['interactions'] = berkeley_df.apply(lambda x: process_comments_commenter(x), axis = 1)\n",
    "uiuc_df['interactions'] = uiuc_df.apply(lambda x: process_comments_commenter(x), axis = 1)\n",
    "\n",
    "all_interactions_cornell = create_interactions(cornell_df)\n",
    "all_interactions_harvard = create_interactions(harvard_df)\n",
    "all_interactions_berkeley = create_interactions(berkeley_df)\n",
    "all_interactions_uiuc = create_interactions(uiuc_df)\n",
    "\n",
    "cornell_graph = initialize_populate_network(all_interactions_cornell)\n",
    "harvard_graph = initialize_populate_network(all_interactions_harvard)\n",
    "berkeley_graph = initialize_populate_network(all_interactions_berkeley)\n",
    "uiuc_graph = initialize_populate_network(all_interactions_uiuc)\n",
    "\n",
    "# save_graph(cornell_graph, 'cornell')\n",
    "# save_graph(harvard_graph, 'harvard')\n",
    "# save_graph(berkeley_graph, 'berkeley')\n",
    "# save_graph(uiuc_graph, 'uiuc')"
   ]
  },
  {
   "cell_type": "code",
   "execution_count": 131,
   "id": "98e71f53-f5a0-4ba1-8ca9-2ac0b4863bc7",
   "metadata": {},
   "outputs": [
    {
     "data": {
      "text/html": [
       "<div>\n",
       "<style scoped>\n",
       "    .dataframe tbody tr th:only-of-type {\n",
       "        vertical-align: middle;\n",
       "    }\n",
       "\n",
       "    .dataframe tbody tr th {\n",
       "        vertical-align: top;\n",
       "    }\n",
       "\n",
       "    .dataframe thead th {\n",
       "        text-align: right;\n",
       "    }\n",
       "</style>\n",
       "<table border=\"1\" class=\"dataframe\">\n",
       "  <thead>\n",
       "    <tr style=\"text-align: right;\">\n",
       "      <th></th>\n",
       "      <th>id</th>\n",
       "      <th>author</th>\n",
       "      <th>score</th>\n",
       "      <th>upvote_ratio</th>\n",
       "      <th>num_comments</th>\n",
       "      <th>subreddit</th>\n",
       "      <th>selftext</th>\n",
       "      <th>comments</th>\n",
       "      <th>interactions</th>\n",
       "    </tr>\n",
       "  </thead>\n",
       "  <tbody>\n",
       "    <tr>\n",
       "      <th>0</th>\n",
       "      <td>udjiue</td>\n",
       "      <td>zo_wee_mama</td>\n",
       "      <td>290.0</td>\n",
       "      <td>0.95</td>\n",
       "      <td>51</td>\n",
       "      <td>Cornell</td>\n",
       "      <td>I don’t go to Cornell, I got to NYU but I somehow accidentally joined this group and I’ve been s...</td>\n",
       "      <td>[{'author': 'ConsistentScar9841', 'body': 'absolutely not. thanksksks.', 'score': 213, 'created_...</td>\n",
       "      <td>[(ConsistentScar9841, codyfernfan), (ConsistentScar9841, AnonymousUser1937382), (ConsistentScar9...</td>\n",
       "    </tr>\n",
       "    <tr>\n",
       "      <th>1</th>\n",
       "      <td>lrg3fl</td>\n",
       "      <td>zikachu11</td>\n",
       "      <td>340.0</td>\n",
       "      <td>0.99</td>\n",
       "      <td>35</td>\n",
       "      <td>Cornell</td>\n",
       "      <td>In my FWS I was trying to be friendly, I remember asking this girl what her major was and she sa...</td>\n",
       "      <td>[{'author': 'BRF-or-bust', 'body': 'COE checks out', 'score': 183, 'created_utc': 1614182795.0},...</td>\n",
       "      <td>[(BRF-or-bust, EaglesAndJJWATT), (BRF-or-bust, Nickyjha), (BRF-or-bust, long_six_months), (BRF-o...</td>\n",
       "    </tr>\n",
       "    <tr>\n",
       "      <th>2</th>\n",
       "      <td>nf2k9z</td>\n",
       "      <td>zikachu11</td>\n",
       "      <td>263.0</td>\n",
       "      <td>0.90</td>\n",
       "      <td>12</td>\n",
       "      <td>Cornell</td>\n",
       "      <td>If you’re interested in girls, there’s really no more group of intelligent, ambitious, and compa...</td>\n",
       "      <td>[{'author': 'Itchy_Fudge_2134', 'body': 'Funny post. Totally upvoted my dude. Radtastic AND epic...</td>\n",
       "      <td>[(Itchy_Fudge_2134, Adysen2121), (Itchy_Fudge_2134, Nickyjha), (Itchy_Fudge_2134, None), (Itchy_...</td>\n",
       "    </tr>\n",
       "    <tr>\n",
       "      <th>3</th>\n",
       "      <td>hdvn9a</td>\n",
       "      <td>you112233</td>\n",
       "      <td>918.0</td>\n",
       "      <td>0.99</td>\n",
       "      <td>68</td>\n",
       "      <td>Cornell</td>\n",
       "      <td>I summarized their summary with most of the bits that affect students but I would still encourag...</td>\n",
       "      <td>[{'author': 'pcsm12', 'body': 'Someone give this man mod status', 'score': 260, 'created_utc': 1...</td>\n",
       "      <td>[(pcsm12, dr_hippie), (pcsm12, Cabruh), (pcsm12, antipigeons), (pcsm12, Lolli323232), (pcsm12, P...</td>\n",
       "    </tr>\n",
       "    <tr>\n",
       "      <th>4</th>\n",
       "      <td>kr3old</td>\n",
       "      <td>yikayika</td>\n",
       "      <td>288.0</td>\n",
       "      <td>0.97</td>\n",
       "      <td>61</td>\n",
       "      <td>Cornell</td>\n",
       "      <td>I'm super successful in the eyes of a lot of people. I go to an ivy, i'm studying a \"valuable ma...</td>\n",
       "      <td>[{'author': 'cornellmanletboy', 'body': 'I certainly see where you're coming from. But personall...</td>\n",
       "      <td>[(cornellmanletboy, BEN_FINIO), (cornellmanletboy, quibbo141), (cornellmanletboy, The-CAPtainn),...</td>\n",
       "    </tr>\n",
       "    <tr>\n",
       "      <th>...</th>\n",
       "      <td>...</td>\n",
       "      <td>...</td>\n",
       "      <td>...</td>\n",
       "      <td>...</td>\n",
       "      <td>...</td>\n",
       "      <td>...</td>\n",
       "      <td>...</td>\n",
       "      <td>...</td>\n",
       "      <td>...</td>\n",
       "    </tr>\n",
       "    <tr>\n",
       "      <th>302</th>\n",
       "      <td>qp29en</td>\n",
       "      <td>AgreeableAstronomer</td>\n",
       "      <td>254.0</td>\n",
       "      <td>0.97</td>\n",
       "      <td>43</td>\n",
       "      <td>Cornell</td>\n",
       "      <td>[The Greenest Pilgrim U'Know 🦃🥧🙏🏻 on Twitter: \"Ok, so apparently @jiadagod is a camgirl who's be...</td>\n",
       "      <td>[{'author': 'None', 'body': '[deleted]', 'score': 211, 'created_utc': 1636333039.0}, {'author': ...</td>\n",
       "      <td>[(None, Livid_Essay_615), (None, Material-Tomorrow610), (None, FaramitaSC), (None, rtels2023), (...</td>\n",
       "    </tr>\n",
       "    <tr>\n",
       "      <th>303</th>\n",
       "      <td>q0p56z</td>\n",
       "      <td>AGuineaHen</td>\n",
       "      <td>255.0</td>\n",
       "      <td>0.99</td>\n",
       "      <td>31</td>\n",
       "      <td>Cornell</td>\n",
       "      <td>Is it really stealing if he was on the Unlimited meal plan??? /s\\n\\nWhat is up with this freshma...</td>\n",
       "      <td>[{'author': 'AGuineaHen', 'body': 'UPDATE: Asked the front desk employee about it. She said it “...</td>\n",
       "      <td>[(AGuineaHen, AnteaterSafe9388), (AGuineaHen, None), (AGuineaHen, czm2), (AGuineaHen, ellaviolet...</td>\n",
       "    </tr>\n",
       "    <tr>\n",
       "      <th>304</th>\n",
       "      <td>a2ftbu</td>\n",
       "      <td>9986000min</td>\n",
       "      <td>358.0</td>\n",
       "      <td>0.99</td>\n",
       "      <td>18</td>\n",
       "      <td>Cornell</td>\n",
       "      <td>I was coming out of teagle and I spotted this bright yellow, almost blinding, object in the sky....</td>\n",
       "      <td>[{'author': 'cornellanon1998', 'body': 'This made me chuckle, may I offer you an egg in these tr...</td>\n",
       "      <td>[(cornellanon1998, None), (cornellanon1998, TaedW), (cornellanon1998, theboolking), (cornellanon...</td>\n",
       "    </tr>\n",
       "    <tr>\n",
       "      <th>305</th>\n",
       "      <td>k8ocrl</td>\n",
       "      <td>9986000min</td>\n",
       "      <td>268.0</td>\n",
       "      <td>0.98</td>\n",
       "      <td>18</td>\n",
       "      <td>Cornell</td>\n",
       "      <td>fuck</td>\n",
       "      <td>[{'author': 'a123bcer', 'body': 'SHIT', 'score': 83, 'created_utc': 1607375080.0}, {'author': 'S...</td>\n",
       "      <td>[(a123bcer, SaltfuricAcid), (a123bcer, LouderThanATiger), (a123bcer, pw11111), (a123bcer, Monim5...</td>\n",
       "    </tr>\n",
       "    <tr>\n",
       "      <th>306</th>\n",
       "      <td>pg7tqv</td>\n",
       "      <td>4lokoluvr</td>\n",
       "      <td>273.0</td>\n",
       "      <td>0.93</td>\n",
       "      <td>18</td>\n",
       "      <td>Cornell</td>\n",
       "      <td>COVID. He was in the ICU for two weeks. He said he was proud of me for achieving my dreams (of g...</td>\n",
       "      <td>[{'author': 'FreeThinkingAmerican', 'body': 'Family comes first 100% of the time. Talk it over w...</td>\n",
       "      <td>[(FreeThinkingAmerican, Really-White-Gandalf), (FreeThinkingAmerican, bluejjayk), (FreeThinkingA...</td>\n",
       "    </tr>\n",
       "  </tbody>\n",
       "</table>\n",
       "<p>307 rows × 9 columns</p>\n",
       "</div>"
      ],
      "text/plain": [
       "         id               author  score  upvote_ratio  num_comments subreddit  \\\n",
       "0    udjiue          zo_wee_mama  290.0          0.95            51   Cornell   \n",
       "1    lrg3fl            zikachu11  340.0          0.99            35   Cornell   \n",
       "2    nf2k9z            zikachu11  263.0          0.90            12   Cornell   \n",
       "3    hdvn9a            you112233  918.0          0.99            68   Cornell   \n",
       "4    kr3old             yikayika  288.0          0.97            61   Cornell   \n",
       "..      ...                  ...    ...           ...           ...       ...   \n",
       "302  qp29en  AgreeableAstronomer  254.0          0.97            43   Cornell   \n",
       "303  q0p56z           AGuineaHen  255.0          0.99            31   Cornell   \n",
       "304  a2ftbu           9986000min  358.0          0.99            18   Cornell   \n",
       "305  k8ocrl           9986000min  268.0          0.98            18   Cornell   \n",
       "306  pg7tqv            4lokoluvr  273.0          0.93            18   Cornell   \n",
       "\n",
       "                                                                                                selftext  \\\n",
       "0    I don’t go to Cornell, I got to NYU but I somehow accidentally joined this group and I’ve been s...   \n",
       "1    In my FWS I was trying to be friendly, I remember asking this girl what her major was and she sa...   \n",
       "2    If you’re interested in girls, there’s really no more group of intelligent, ambitious, and compa...   \n",
       "3    I summarized their summary with most of the bits that affect students but I would still encourag...   \n",
       "4    I'm super successful in the eyes of a lot of people. I go to an ivy, i'm studying a \"valuable ma...   \n",
       "..                                                                                                   ...   \n",
       "302  [The Greenest Pilgrim U'Know 🦃🥧🙏🏻 on Twitter: \"Ok, so apparently @jiadagod is a camgirl who's be...   \n",
       "303  Is it really stealing if he was on the Unlimited meal plan??? /s\\n\\nWhat is up with this freshma...   \n",
       "304  I was coming out of teagle and I spotted this bright yellow, almost blinding, object in the sky....   \n",
       "305                                                                                                 fuck   \n",
       "306  COVID. He was in the ICU for two weeks. He said he was proud of me for achieving my dreams (of g...   \n",
       "\n",
       "                                                                                                comments  \\\n",
       "0    [{'author': 'ConsistentScar9841', 'body': 'absolutely not. thanksksks.', 'score': 213, 'created_...   \n",
       "1    [{'author': 'BRF-or-bust', 'body': 'COE checks out', 'score': 183, 'created_utc': 1614182795.0},...   \n",
       "2    [{'author': 'Itchy_Fudge_2134', 'body': 'Funny post. Totally upvoted my dude. Radtastic AND epic...   \n",
       "3    [{'author': 'pcsm12', 'body': 'Someone give this man mod status', 'score': 260, 'created_utc': 1...   \n",
       "4    [{'author': 'cornellmanletboy', 'body': 'I certainly see where you're coming from. But personall...   \n",
       "..                                                                                                   ...   \n",
       "302  [{'author': 'None', 'body': '[deleted]', 'score': 211, 'created_utc': 1636333039.0}, {'author': ...   \n",
       "303  [{'author': 'AGuineaHen', 'body': 'UPDATE: Asked the front desk employee about it. She said it “...   \n",
       "304  [{'author': 'cornellanon1998', 'body': 'This made me chuckle, may I offer you an egg in these tr...   \n",
       "305  [{'author': 'a123bcer', 'body': 'SHIT', 'score': 83, 'created_utc': 1607375080.0}, {'author': 'S...   \n",
       "306  [{'author': 'FreeThinkingAmerican', 'body': 'Family comes first 100% of the time. Talk it over w...   \n",
       "\n",
       "                                                                                            interactions  \n",
       "0    [(ConsistentScar9841, codyfernfan), (ConsistentScar9841, AnonymousUser1937382), (ConsistentScar9...  \n",
       "1    [(BRF-or-bust, EaglesAndJJWATT), (BRF-or-bust, Nickyjha), (BRF-or-bust, long_six_months), (BRF-o...  \n",
       "2    [(Itchy_Fudge_2134, Adysen2121), (Itchy_Fudge_2134, Nickyjha), (Itchy_Fudge_2134, None), (Itchy_...  \n",
       "3    [(pcsm12, dr_hippie), (pcsm12, Cabruh), (pcsm12, antipigeons), (pcsm12, Lolli323232), (pcsm12, P...  \n",
       "4    [(cornellmanletboy, BEN_FINIO), (cornellmanletboy, quibbo141), (cornellmanletboy, The-CAPtainn),...  \n",
       "..                                                                                                   ...  \n",
       "302  [(None, Livid_Essay_615), (None, Material-Tomorrow610), (None, FaramitaSC), (None, rtels2023), (...  \n",
       "303  [(AGuineaHen, AnteaterSafe9388), (AGuineaHen, None), (AGuineaHen, czm2), (AGuineaHen, ellaviolet...  \n",
       "304  [(cornellanon1998, None), (cornellanon1998, TaedW), (cornellanon1998, theboolking), (cornellanon...  \n",
       "305  [(a123bcer, SaltfuricAcid), (a123bcer, LouderThanATiger), (a123bcer, pw11111), (a123bcer, Monim5...  \n",
       "306  [(FreeThinkingAmerican, Really-White-Gandalf), (FreeThinkingAmerican, bluejjayk), (FreeThinkingA...  \n",
       "\n",
       "[307 rows x 9 columns]"
      ]
     },
     "execution_count": 131,
     "metadata": {},
     "output_type": "execute_result"
    }
   ],
   "source": [
    "cornell_df"
   ]
  },
  {
   "cell_type": "code",
   "execution_count": 132,
   "id": "dc8d3d9c-f88c-48a9-9207-642f25e49b32",
   "metadata": {},
   "outputs": [],
   "source": [
    "# explode df on comment list \n",
    "cornell_exploded_df = cornell_df.explode('comments')\n",
    "harvard_exploded_df = harvard_df.explode('comments')\n",
    "uiuc_exploded_df = uiuc_df.explode('comments')\n",
    "berkeley_exploded_df = berkeley_df.explode('comments')"
   ]
  },
  {
   "cell_type": "code",
   "execution_count": 112,
   "id": "266e5e9e-01ce-4411-b71c-a919bd211c92",
   "metadata": {},
   "outputs": [],
   "source": [
    "# create new column for comment author\n",
    "cornell_exploded_df['comment_author'] = cornell_exploded_df['comments'].apply(lambda x: x['author'])\n",
    "harvard_exploded_df['comment_author'] = harvard_exploded_df['comments'].apply(lambda x: x['author'])\n",
    "uiuc_exploded_df['comment_author'] = uiuc_exploded_df['comments'].apply(lambda x: x['author'])\n",
    "berkeley_exploded_df['comment_author'] = berkeley_exploded_df['comments'].apply(lambda x: x['author'])"
   ]
  },
  {
   "cell_type": "markdown",
   "id": "358f7711-0b45-485e-b0ea-efe8919d1008",
   "metadata": {},
   "source": [
    "### compute network statistics function "
   ]
  },
  {
   "cell_type": "code",
   "execution_count": 89,
   "id": "c0059bb7-1a9d-46c5-af00-dd954de37ccf",
   "metadata": {},
   "outputs": [],
   "source": [
    "# compute network statistics function \n",
    "def compute_network_statistics(g, name):\n",
    "    data_dict = {} \n",
    "    data_dict['Name'] = name\n",
    "    data_dict['Nodes'] = nx.number_of_nodes(g) \n",
    "    data_dict['Edges'] = nx.number_of_edges(g) \n",
    "    data_dict['Connected Components'] = len(list(nx.connected_components(g)))\n",
    "    \n",
    "    largest_component =  max(nx.connected_components(g), key=len)\n",
    "    data_dict['Percentage nodes in largest component'] = len(largest_component) / len(g) * 100\n",
    "    data_dict['Average degree'] = sum(dict(g.degree()).values()) / float(len(g))\n",
    "    Gcc = sorted(nx.connected_components(g), key=len, reverse=True)\n",
    "    G0 = g.subgraph(Gcc[0])\n",
    "    \n",
    "    data_dict['Diameter'] = nx.diameter(G0) \n",
    "    data_dict['Average clustering coefficient'] = nx.average_clustering(g)\n",
    "    data_dict['Transitivity'] = nx.transitivity(g)\n",
    "                                                             \n",
    "    return data_dict\n",
    "                                                             \n",
    "                                                             "
   ]
  },
  {
   "cell_type": "code",
   "execution_count": 90,
   "id": "ba22bc87-3f18-488d-b4d4-52ab281d594d",
   "metadata": {},
   "outputs": [],
   "source": [
    "df = pd.DataFrame(columns=['Name', 'Nodes', 'Edges', 'Connected Components', 'Percentage nodes in largest component', 'Average degree', 'Diameter', 'Average clustering coefficient'])"
   ]
  },
  {
   "cell_type": "code",
   "execution_count": 91,
   "id": "5212cdd6-995f-4e2c-856c-22875b536d03",
   "metadata": {},
   "outputs": [],
   "source": [
    "df = df.append(compute_network_statistics(cornell_graph, 'cornell'), ignore_index=True)\n",
    "df = df.append(compute_network_statistics(harvard_graph, 'harvard'), ignore_index=True)\n",
    "df = df.append(compute_network_statistics(berkeley_graph, 'berkeley'), ignore_index=True)\n",
    "df = df.append(compute_network_statistics(uiuc_graph, 'uiuc'), ignore_index=True)"
   ]
  },
  {
   "cell_type": "code",
   "execution_count": 92,
   "id": "9d67a64d-bbc7-4be7-8e15-5a5f7e331cbe",
   "metadata": {},
   "outputs": [],
   "source": [
    "df_latex = df.T"
   ]
  },
  {
   "cell_type": "code",
   "execution_count": 93,
   "id": "6412c757-7a78-45d7-8e75-4b3691dafbe7",
   "metadata": {},
   "outputs": [
    {
     "data": {
      "text/html": [
       "<div>\n",
       "<style scoped>\n",
       "    .dataframe tbody tr th:only-of-type {\n",
       "        vertical-align: middle;\n",
       "    }\n",
       "\n",
       "    .dataframe tbody tr th {\n",
       "        vertical-align: top;\n",
       "    }\n",
       "\n",
       "    .dataframe thead th {\n",
       "        text-align: right;\n",
       "    }\n",
       "</style>\n",
       "<table border=\"1\" class=\"dataframe\">\n",
       "  <thead>\n",
       "    <tr style=\"text-align: right;\">\n",
       "      <th></th>\n",
       "      <th>0</th>\n",
       "      <th>1</th>\n",
       "      <th>2</th>\n",
       "      <th>3</th>\n",
       "    </tr>\n",
       "  </thead>\n",
       "  <tbody>\n",
       "    <tr>\n",
       "      <th>Name</th>\n",
       "      <td>cornell</td>\n",
       "      <td>harvard</td>\n",
       "      <td>berkeley</td>\n",
       "      <td>uiuc</td>\n",
       "    </tr>\n",
       "    <tr>\n",
       "      <th>Nodes</th>\n",
       "      <td>1572</td>\n",
       "      <td>1648</td>\n",
       "      <td>2015</td>\n",
       "      <td>1507</td>\n",
       "    </tr>\n",
       "    <tr>\n",
       "      <th>Edges</th>\n",
       "      <td>2585</td>\n",
       "      <td>3289</td>\n",
       "      <td>3050</td>\n",
       "      <td>1974</td>\n",
       "    </tr>\n",
       "    <tr>\n",
       "      <th>Connected Components</th>\n",
       "      <td>1</td>\n",
       "      <td>1</td>\n",
       "      <td>1</td>\n",
       "      <td>2</td>\n",
       "    </tr>\n",
       "    <tr>\n",
       "      <th>Percentage nodes in largest component</th>\n",
       "      <td>100.0</td>\n",
       "      <td>100.0</td>\n",
       "      <td>100.0</td>\n",
       "      <td>99.270073</td>\n",
       "    </tr>\n",
       "    <tr>\n",
       "      <th>Average degree</th>\n",
       "      <td>3.288804</td>\n",
       "      <td>3.991505</td>\n",
       "      <td>3.027295</td>\n",
       "      <td>2.619774</td>\n",
       "    </tr>\n",
       "    <tr>\n",
       "      <th>Diameter</th>\n",
       "      <td>9</td>\n",
       "      <td>8</td>\n",
       "      <td>8</td>\n",
       "      <td>10</td>\n",
       "    </tr>\n",
       "    <tr>\n",
       "      <th>Average clustering coefficient</th>\n",
       "      <td>0.039095</td>\n",
       "      <td>0.059843</td>\n",
       "      <td>0.023234</td>\n",
       "      <td>0.011028</td>\n",
       "    </tr>\n",
       "    <tr>\n",
       "      <th>Transitivity</th>\n",
       "      <td>0.020407</td>\n",
       "      <td>0.024147</td>\n",
       "      <td>0.011214</td>\n",
       "      <td>0.011085</td>\n",
       "    </tr>\n",
       "  </tbody>\n",
       "</table>\n",
       "</div>"
      ],
      "text/plain": [
       "                                              0         1         2          3\n",
       "Name                                    cornell   harvard  berkeley       uiuc\n",
       "Nodes                                      1572      1648      2015       1507\n",
       "Edges                                      2585      3289      3050       1974\n",
       "Connected Components                          1         1         1          2\n",
       "Percentage nodes in largest component     100.0     100.0     100.0  99.270073\n",
       "Average degree                         3.288804  3.991505  3.027295   2.619774\n",
       "Diameter                                      9         8         8         10\n",
       "Average clustering coefficient         0.039095  0.059843  0.023234   0.011028\n",
       "Transitivity                           0.020407  0.024147  0.011214   0.011085"
      ]
     },
     "execution_count": 93,
     "metadata": {},
     "output_type": "execute_result"
    }
   ],
   "source": [
    "df_latex"
   ]
  },
  {
   "cell_type": "code",
   "execution_count": 76,
   "id": "efc5f1c4-e8a8-4be4-bc0f-bc2e9e54e4dc",
   "metadata": {},
   "outputs": [],
   "source": [
    "df_latex.to_csv('data/commenter_commenter_network_attributes.csv')"
   ]
  },
  {
   "cell_type": "markdown",
   "id": "92d732e0-e553-40f4-9622-8c0c04667cbb",
   "metadata": {},
   "source": [
    "### Generate Degree Histogram"
   ]
  },
  {
   "cell_type": "code",
   "execution_count": 120,
   "id": "ef7cb7e7-3fd2-40b2-959e-72fde6a64405",
   "metadata": {},
   "outputs": [],
   "source": [
    "def generate_degree_hist(g, name):\n",
    "    degree_sequence = sorted([d for n, d in g.degree()], reverse=True)  # degree sequence\n",
    "    # print \"Degree sequence\", degree_sequence\n",
    "    degreeCount = collections.Counter(degree_sequence)\n",
    "    deg, cnt = zip(*degreeCount.items())\n",
    "\n",
    "    plt.bar(deg, cnt, width=5.00, color='b')\n",
    "\n",
    "    plt.title(\"Degree Histogram for Commenter-Commenter Network (%s)\" % (name))\n",
    "    plt.ylabel(\"Count\")\n",
    "    plt.xlabel(\"Degree\")\n",
    "    # ax.set_xticks([d + 0.4 for d in deg])\n",
    "    # ax.set_xticklabels(deg)\n",
    "\n",
    "    # draw graph in inset\n",
    "    # plt.axes([0.4, 0.4, 0.5, 0.5])\n",
    "    # Gcc = sorted(nx.connected_component_subgraphs(cornell_graph), key=len, reverse=True)[0]\n",
    "    # pos = nx.spring_layout(cornell_graph)\n",
    "    # plt.axis('off')\n",
    "    # nx.draw_networkx_nodes(cornell_graph, pos, node_size=20)\n",
    "    # nx.draw_networkx_edges(cornell_graph, pos, alpha=0.4)\n",
    "    plt.xlim([0, 100])\n",
    "    plt.show()\n",
    "\n",
    "    # save the figure as a PNG file\n",
    "    plt.savefig(name + '_deg_hist.png')"
   ]
  },
  {
   "cell_type": "code",
   "execution_count": 124,
   "id": "ab50493d-86ff-452b-b2f8-e0f38e32b988",
   "metadata": {},
   "outputs": [
    {
     "data": {
      "image/png": "[encoded data removed]",
      "text/plain": [
       "<Figure size 640x480 with 1 Axes>"
      ]
     },
     "metadata": {},
     "output_type": "display_data"
    },
    {
     "data": {
      "text/plain": [
       "<Figure size 640x480 with 0 Axes>"
      ]
     },
     "metadata": {},
     "output_type": "display_data"
    }
   ],
   "source": [
    "# generate_degree_hist(cornell_graph, 'Cornell')\n",
    "# generate_degree_hist(harvard_graph, 'Harvard')\n",
    "# generate_degree_hist(berkeley_graph, 'Berkeley')\n",
    "generate_degree_hist(uiuc_graph, 'UIUC')"
   ]
  }
 ],
 "metadata": {
  "kernelspec": {
   "display_name": "Python [conda env:emr_project] *",
   "language": "python",
   "name": "conda-env-emr_project-py"
  },
  "language_info": {
   "codemirror_mode": {
    "name": "ipython",
    "version": 3
   },
   "file_extension": ".py",
   "mimetype": "text/x-python",
   "name": "python",
   "nbconvert_exporter": "python",
   "pygments_lexer": "ipython3",
   "version": "3.7.7"
  }
 },
 "nbformat": 4,
 "nbformat_minor": 5
}
