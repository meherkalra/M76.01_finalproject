{
  "nbformat": 4,
  "nbformat_minor": 0,
  "metadata": {
    "colab": {
      "provenance": []
    },
    "kernelspec": {
      "name": "python3",
      "display_name": "Python 3"
    },
    "language_info": {
      "name": "python"
    },
    "widgets": {
      "application/vnd.jupyter.widget-state+json": {
        "985846cba0f24ffea451b21e0f1d7e44": {
          "model_module": "@jupyter-widgets/controls",
          "model_name": "HBoxModel",
          "model_module_version": "1.5.0",
          "state": {
            "_dom_classes": [],
            "_model_module": "@jupyter-widgets/controls",
            "_model_module_version": "1.5.0",
            "_model_name": "HBoxModel",
            "_view_count": null,
            "_view_module": "@jupyter-widgets/controls",
            "_view_module_version": "1.5.0",
            "_view_name": "HBoxView",
            "box_style": "",
            "children": [
              "IPY_MODEL_8c7200b82edc4ecaaa6b239c7d50d3de",
              "IPY_MODEL_11d13367067a47a483edc3b3cf8d1de2",
              "IPY_MODEL_bd2bc219d59844c99d976516cfd7d0f7"
            ],
            "layout": "IPY_MODEL_6cdcf3955db9497fb3e333bbb2aa1057"
          }
        },
        "8c7200b82edc4ecaaa6b239c7d50d3de": {
          "model_module": "@jupyter-widgets/controls",
          "model_name": "HTMLModel",
          "model_module_version": "1.5.0",
          "state": {
            "_dom_classes": [],
            "_model_module": "@jupyter-widgets/controls",
            "_model_module_version": "1.5.0",
            "_model_name": "HTMLModel",
            "_view_count": null,
            "_view_module": "@jupyter-widgets/controls",
            "_view_module_version": "1.5.0",
            "_view_name": "HTMLView",
            "description": "",
            "description_tooltip": null,
            "layout": "IPY_MODEL_d82bd3d654094b67aa785d0116a775d4",
            "placeholder": "​",
            "style": "IPY_MODEL_ad5aca8876274e798066c0f7ac8d8579",
            "value": "Computing transition probabilities:   1%"
          }
        },
        "11d13367067a47a483edc3b3cf8d1de2": {
          "model_module": "@jupyter-widgets/controls",
          "model_name": "FloatProgressModel",
          "model_module_version": "1.5.0",
          "state": {
            "_dom_classes": [],
            "_model_module": "@jupyter-widgets/controls",
            "_model_module_version": "1.5.0",
            "_model_name": "FloatProgressModel",
            "_view_count": null,
            "_view_module": "@jupyter-widgets/controls",
            "_view_module_version": "1.5.0",
            "_view_name": "ProgressView",
            "bar_style": "",
            "description": "",
            "description_tooltip": null,
            "layout": "IPY_MODEL_2fb7910b6bb34110a730de8476abca83",
            "max": 5980,
            "min": 0,
            "orientation": "horizontal",
            "style": "IPY_MODEL_4ddcb820fe4e4a9f92536230b2058c05",
            "value": 42
          }
        },
        "bd2bc219d59844c99d976516cfd7d0f7": {
          "model_module": "@jupyter-widgets/controls",
          "model_name": "HTMLModel",
          "model_module_version": "1.5.0",
          "state": {
            "_dom_classes": [],
            "_model_module": "@jupyter-widgets/controls",
            "_model_module_version": "1.5.0",
            "_model_name": "HTMLModel",
            "_view_count": null,
            "_view_module": "@jupyter-widgets/controls",
            "_view_module_version": "1.5.0",
            "_view_name": "HTMLView",
            "description": "",
            "description_tooltip": null,
            "layout": "IPY_MODEL_90e65191148942cab0e62889d30a8d9b",
            "placeholder": "​",
            "style": "IPY_MODEL_e3151d465ff94c7c916ae2cdae90f3d2",
            "value": " 41/5980 [00:10&lt;13:49,  7.16it/s]"
          }
        },
        "6cdcf3955db9497fb3e333bbb2aa1057": {
          "model_module": "@jupyter-widgets/base",
          "model_name": "LayoutModel",
          "model_module_version": "1.2.0",
          "state": {
            "_model_module": "@jupyter-widgets/base",
            "_model_module_version": "1.2.0",
            "_model_name": "LayoutModel",
            "_view_count": null,
            "_view_module": "@jupyter-widgets/base",
            "_view_module_version": "1.2.0",
            "_view_name": "LayoutView",
            "align_content": null,
            "align_items": null,
            "align_self": null,
            "border": null,
            "bottom": null,
            "display": null,
            "flex": null,
            "flex_flow": null,
            "grid_area": null,
            "grid_auto_columns": null,
            "grid_auto_flow": null,
            "grid_auto_rows": null,
            "grid_column": null,
            "grid_gap": null,
            "grid_row": null,
            "grid_template_areas": null,
            "grid_template_columns": null,
            "grid_template_rows": null,
            "height": null,
            "justify_content": null,
            "justify_items": null,
            "left": null,
            "margin": null,
            "max_height": null,
            "max_width": null,
            "min_height": null,
            "min_width": null,
            "object_fit": null,
            "object_position": null,
            "order": null,
            "overflow": null,
            "overflow_x": null,
            "overflow_y": null,
            "padding": null,
            "right": null,
            "top": null,
            "visibility": null,
            "width": null
          }
        },
        "d82bd3d654094b67aa785d0116a775d4": {
          "model_module": "@jupyter-widgets/base",
          "model_name": "LayoutModel",
          "model_module_version": "1.2.0",
          "state": {
            "_model_module": "@jupyter-widgets/base",
            "_model_module_version": "1.2.0",
            "_model_name": "LayoutModel",
            "_view_count": null,
            "_view_module": "@jupyter-widgets/base",
            "_view_module_version": "1.2.0",
            "_view_name": "LayoutView",
            "align_content": null,
            "align_items": null,
            "align_self": null,
            "border": null,
            "bottom": null,
            "display": null,
            "flex": null,
            "flex_flow": null,
            "grid_area": null,
            "grid_auto_columns": null,
            "grid_auto_flow": null,
            "grid_auto_rows": null,
            "grid_column": null,
            "grid_gap": null,
            "grid_row": null,
            "grid_template_areas": null,
            "grid_template_columns": null,
            "grid_template_rows": null,
            "height": null,
            "justify_content": null,
            "justify_items": null,
            "left": null,
            "margin": null,
            "max_height": null,
            "max_width": null,
            "min_height": null,
            "min_width": null,
            "object_fit": null,
            "object_position": null,
            "order": null,
            "overflow": null,
            "overflow_x": null,
            "overflow_y": null,
            "padding": null,
            "right": null,
            "top": null,
            "visibility": null,
            "width": null
          }
        },
        "ad5aca8876274e798066c0f7ac8d8579": {
          "model_module": "@jupyter-widgets/controls",
          "model_name": "DescriptionStyleModel",
          "model_module_version": "1.5.0",
          "state": {
            "_model_module": "@jupyter-widgets/controls",
            "_model_module_version": "1.5.0",
            "_model_name": "DescriptionStyleModel",
            "_view_count": null,
            "_view_module": "@jupyter-widgets/base",
            "_view_module_version": "1.2.0",
            "_view_name": "StyleView",
            "description_width": ""
          }
        },
        "2fb7910b6bb34110a730de8476abca83": {
          "model_module": "@jupyter-widgets/base",
          "model_name": "LayoutModel",
          "model_module_version": "1.2.0",
          "state": {
            "_model_module": "@jupyter-widgets/base",
            "_model_module_version": "1.2.0",
            "_model_name": "LayoutModel",
            "_view_count": null,
            "_view_module": "@jupyter-widgets/base",
            "_view_module_version": "1.2.0",
            "_view_name": "LayoutView",
            "align_content": null,
            "align_items": null,
            "align_self": null,
            "border": null,
            "bottom": null,
            "display": null,
            "flex": null,
            "flex_flow": null,
            "grid_area": null,
            "grid_auto_columns": null,
            "grid_auto_flow": null,
            "grid_auto_rows": null,
            "grid_column": null,
            "grid_gap": null,
            "grid_row": null,
            "grid_template_areas": null,
            "grid_template_columns": null,
            "grid_template_rows": null,
            "height": null,
            "justify_content": null,
            "justify_items": null,
            "left": null,
            "margin": null,
            "max_height": null,
            "max_width": null,
            "min_height": null,
            "min_width": null,
            "object_fit": null,
            "object_position": null,
            "order": null,
            "overflow": null,
            "overflow_x": null,
            "overflow_y": null,
            "padding": null,
            "right": null,
            "top": null,
            "visibility": null,
            "width": null
          }
        },
        "4ddcb820fe4e4a9f92536230b2058c05": {
          "model_module": "@jupyter-widgets/controls",
          "model_name": "ProgressStyleModel",
          "model_module_version": "1.5.0",
          "state": {
            "_model_module": "@jupyter-widgets/controls",
            "_model_module_version": "1.5.0",
            "_model_name": "ProgressStyleModel",
            "_view_count": null,
            "_view_module": "@jupyter-widgets/base",
            "_view_module_version": "1.2.0",
            "_view_name": "StyleView",
            "bar_color": null,
            "description_width": ""
          }
        },
        "90e65191148942cab0e62889d30a8d9b": {
          "model_module": "@jupyter-widgets/base",
          "model_name": "LayoutModel",
          "model_module_version": "1.2.0",
          "state": {
            "_model_module": "@jupyter-widgets/base",
            "_model_module_version": "1.2.0",
            "_model_name": "LayoutModel",
            "_view_count": null,
            "_view_module": "@jupyter-widgets/base",
            "_view_module_version": "1.2.0",
            "_view_name": "LayoutView",
            "align_content": null,
            "align_items": null,
            "align_self": null,
            "border": null,
            "bottom": null,
            "display": null,
            "flex": null,
            "flex_flow": null,
            "grid_area": null,
            "grid_auto_columns": null,
            "grid_auto_flow": null,
            "grid_auto_rows": null,
            "grid_column": null,
            "grid_gap": null,
            "grid_row": null,
            "grid_template_areas": null,
            "grid_template_columns": null,
            "grid_template_rows": null,
            "height": null,
            "justify_content": null,
            "justify_items": null,
            "left": null,
            "margin": null,
            "max_height": null,
            "max_width": null,
            "min_height": null,
            "min_width": null,
            "object_fit": null,
            "object_position": null,
            "order": null,
            "overflow": null,
            "overflow_x": null,
            "overflow_y": null,
            "padding": null,
            "right": null,
            "top": null,
            "visibility": null,
            "width": null
          }
        },
        "e3151d465ff94c7c916ae2cdae90f3d2": {
          "model_module": "@jupyter-widgets/controls",
          "model_name": "DescriptionStyleModel",
          "model_module_version": "1.5.0",
          "state": {
            "_model_module": "@jupyter-widgets/controls",
            "_model_module_version": "1.5.0",
            "_model_name": "DescriptionStyleModel",
            "_view_count": null,
            "_view_module": "@jupyter-widgets/base",
            "_view_module_version": "1.2.0",
            "_view_name": "StyleView",
            "description_width": ""
          }
        }
      }
    }
  },
  "cells": [
    {
      "cell_type": "markdown",
      "source": [
        "# Sentiment Classification Code \n",
        "### Author : Saksham Arora"
      ],
      "metadata": {
        "id": "DKynrIzJblQk"
      }
    },
    {
      "cell_type": "markdown",
      "source": [
        "### Install node2vec"
      ],
      "metadata": {
        "id": "wV36nhvGboDe"
      }
    },
    {
      "cell_type": "code",
      "execution_count": null,
      "metadata": {
        "colab": {
          "base_uri": "https://localhost:8080/",
          "height": 416
        },
        "id": "FcfYedqxWwGv",
        "outputId": "7ab64845-f6e7-4548-b5a5-e4d61ce7f62a"
      },
      "outputs": [
        {
          "output_type": "stream",
          "name": "stdout",
          "text": [
            "Looking in indexes: https://pypi.org/simple, https://us-python.pkg.dev/colab-wheels/public/simple/\n",
            "Collecting node2vec\n",
            "  Downloading node2vec-0.4.6-py3-none-any.whl (7.0 kB)\n",
            "Requirement already satisfied: gensim<5.0.0,>=4.1.2 in /usr/local/lib/python3.10/dist-packages (from node2vec) (4.3.1)\n",
            "Requirement already satisfied: joblib<2.0.0,>=1.1.0 in /usr/local/lib/python3.10/dist-packages (from node2vec) (1.2.0)\n",
            "Collecting networkx<3.0,>=2.5 (from node2vec)\n",
            "  Downloading networkx-2.8.8-py3-none-any.whl (2.0 MB)\n",
            "\u001b[2K     \u001b[90m━━━━━━━━━━━━━━━━━━━━━━━━━━━━━━━━━━━━━━━━\u001b[0m \u001b[32m2.0/2.0 MB\u001b[0m \u001b[31m27.7 MB/s\u001b[0m eta \u001b[36m0:00:00\u001b[0m\n",
            "\u001b[?25hRequirement already satisfied: numpy<2.0.0,>=1.19.5 in /usr/local/lib/python3.10/dist-packages (from node2vec) (1.22.4)\n",
            "Requirement already satisfied: tqdm<5.0.0,>=4.55.1 in /usr/local/lib/python3.10/dist-packages (from node2vec) (4.65.0)\n",
            "Requirement already satisfied: scipy>=1.7.0 in /usr/local/lib/python3.10/dist-packages (from gensim<5.0.0,>=4.1.2->node2vec) (1.10.1)\n",
            "Requirement already satisfied: smart-open>=1.8.1 in /usr/local/lib/python3.10/dist-packages (from gensim<5.0.0,>=4.1.2->node2vec) (6.3.0)\n",
            "Installing collected packages: networkx, node2vec\n",
            "  Attempting uninstall: networkx\n",
            "    Found existing installation: networkx 3.1\n",
            "    Uninstalling networkx-3.1:\n",
            "      Successfully uninstalled networkx-3.1\n",
            "Successfully installed networkx-2.8.8 node2vec-0.4.6\n"
          ]
        },
        {
          "output_type": "display_data",
          "data": {
            "application/vnd.colab-display-data+json": {
              "pip_warning": {
                "packages": [
                  "networkx"
                ]
              }
            }
          },
          "metadata": {}
        }
      ],
      "source": [
        "!pip install node2vec"
      ]
    },
    {
      "cell_type": "code",
      "source": [
        "import numpy as np\n",
        "import networkx as nx\n",
        "# import community\n",
        "import pandas as pd\n",
        "import scipy\n",
        "import sklearn\n",
        "from node2vec import Node2Vec\n",
        "import warnings\n",
        "import matplotlib.pyplot as plt\n",
        "import math\n",
        "from sklearn.cluster import KMeans\n",
        "from sklearn.metrics.cluster import normalized_mutual_info_score"
      ],
      "metadata": {
        "id": "mF8To3IZX4KW"
      },
      "execution_count": null,
      "outputs": []
    },
    {
      "cell_type": "code",
      "source": [
        "dtypes = {'id':'str', 'author':'str', 'score':'int', 'upvote_ratio':'float', 'num_comments':'int',\n",
        "       'subreddit':'str', 'comment':'object', 'comment_sentiment_dict':'object', 'comment_sentiment_class':'str'}\n",
        "cornell_comment_class_df = pd.read_csv('processed_data/cornell/cornell_comment_sentiment_class.csv', dtype=dtypes, usecols=dtypes.keys())"
      ],
      "metadata": {
        "id": "SDhJI07IGmzF"
      },
      "execution_count": null,
      "outputs": []
    },
    {
      "cell_type": "code",
      "source": [
        "cornell_comment_class_df"
      ],
      "metadata": {
        "colab": {
          "base_uri": "https://localhost:8080/",
          "height": 423
        },
        "id": "7ZiD4_-gHKvM",
        "outputId": "46529753-6ed6-433f-f6b5-6f535e009f2c"
      },
      "execution_count": null,
      "outputs": [
        {
          "output_type": "execute_result",
          "data": {
            "text/plain": [
              "           id       author  score  upvote_ratio  num_comments subreddit  \\\n",
              "0      jryusf    yoyoyaass    374          0.97            43  berkeley   \n",
              "1      jryusf    yoyoyaass    374          0.97            43  berkeley   \n",
              "2      jryusf    yoyoyaass    374          0.97            43  berkeley   \n",
              "3      jryusf    yoyoyaass    374          0.97            43  berkeley   \n",
              "4      jryusf    yoyoyaass    374          0.97            43  berkeley   \n",
              "...       ...          ...    ...           ...           ...       ...   \n",
              "18945  n5wa1v  -feelalive-    514          0.98            77  berkeley   \n",
              "18946  n5wa1v  -feelalive-    514          0.98            77  berkeley   \n",
              "18947  n5wa1v  -feelalive-    514          0.98            77  berkeley   \n",
              "18948  n5wa1v  -feelalive-    514          0.98            77  berkeley   \n",
              "18949  n5wa1v  -feelalive-    514          0.98            77  berkeley   \n",
              "\n",
              "                                                 comment  \\\n",
              "0      {'author': 'buckyspunisher', 'body': 'Haha yea...   \n",
              "1      {'author': 'funkyfaithy', 'body': 'This is the...   \n",
              "2      {'author': 'novared19', 'body': 'it took me a ...   \n",
              "3      {'author': 'DragoSphere', 'body': 'Midterm in ...   \n",
              "4      {'author': 'None', 'body': '[deleted]', 'score...   \n",
              "...                                                  ...   \n",
              "18945  {'author': 'KNJI03', 'body': ':)', 'score': 6,...   \n",
              "18946  {'author': 'Xxb30wulfxX', 'body': 'I would say...   \n",
              "18947  {'author': 'Right-Advertising367', 'body': 'Id...   \n",
              "18948  {'author': 'walter_evertonshire', 'body': 'In ...   \n",
              "18949  {'author': 'Narguin2', 'body': ':(', 'score': ...   \n",
              "\n",
              "                                  comment_sentiment_dict  \\\n",
              "0      {'neg': 0.282, 'neu': 0.483, 'pos': 0.235, 'co...   \n",
              "1      {'neg': 0.164, 'neu': 0.77, 'pos': 0.066, 'com...   \n",
              "2      {'neg': 0.097, 'neu': 0.875, 'pos': 0.028, 'co...   \n",
              "3      {'neg': 0.0, 'neu': 0.571, 'pos': 0.429, 'comp...   \n",
              "4      {'neg': 0.0, 'neu': 1.0, 'pos': 0.0, 'compound...   \n",
              "...                                                  ...   \n",
              "18945  {'neg': 0.0, 'neu': 0.0, 'pos': 1.0, 'compound...   \n",
              "18946  {'neg': 0.045, 'neu': 0.803, 'pos': 0.152, 'co...   \n",
              "18947  {'neg': 0.048, 'neu': 0.787, 'pos': 0.165, 'co...   \n",
              "18948  {'neg': 0.0, 'neu': 1.0, 'pos': 0.0, 'compound...   \n",
              "18949  {'neg': 1.0, 'neu': 0.0, 'pos': 0.0, 'compound...   \n",
              "\n",
              "      comment_sentiment_class  \n",
              "0                           N  \n",
              "1                          VN  \n",
              "2                           N  \n",
              "3                           P  \n",
              "4                         NEU  \n",
              "...                       ...  \n",
              "18945                       P  \n",
              "18946                       P  \n",
              "18947                      VP  \n",
              "18948                     NEU  \n",
              "18949                       N  \n",
              "\n",
              "[18950 rows x 9 columns]"
            ],
            "text/html": [
              "\n",
              "  <div id=\"df-606f97ff-e6c3-4ced-9a1c-431b18130f25\">\n",
              "    <div class=\"colab-df-container\">\n",
              "      <div>\n",
              "<style scoped>\n",
              "    .dataframe tbody tr th:only-of-type {\n",
              "        vertical-align: middle;\n",
              "    }\n",
              "\n",
              "    .dataframe tbody tr th {\n",
              "        vertical-align: top;\n",
              "    }\n",
              "\n",
              "    .dataframe thead th {\n",
              "        text-align: right;\n",
              "    }\n",
              "</style>\n",
              "<table border=\"1\" class=\"dataframe\">\n",
              "  <thead>\n",
              "    <tr style=\"text-align: right;\">\n",
              "      <th></th>\n",
              "      <th>id</th>\n",
              "      <th>author</th>\n",
              "      <th>score</th>\n",
              "      <th>upvote_ratio</th>\n",
              "      <th>num_comments</th>\n",
              "      <th>subreddit</th>\n",
              "      <th>comment</th>\n",
              "      <th>comment_sentiment_dict</th>\n",
              "      <th>comment_sentiment_class</th>\n",
              "    </tr>\n",
              "  </thead>\n",
              "  <tbody>\n",
              "    <tr>\n",
              "      <th>0</th>\n",
              "      <td>jryusf</td>\n",
              "      <td>yoyoyaass</td>\n",
              "      <td>374</td>\n",
              "      <td>0.97</td>\n",
              "      <td>43</td>\n",
              "      <td>berkeley</td>\n",
              "      <td>{'author': 'buckyspunisher', 'body': 'Haha yea...</td>\n",
              "      <td>{'neg': 0.282, 'neu': 0.483, 'pos': 0.235, 'co...</td>\n",
              "      <td>N</td>\n",
              "    </tr>\n",
              "    <tr>\n",
              "      <th>1</th>\n",
              "      <td>jryusf</td>\n",
              "      <td>yoyoyaass</td>\n",
              "      <td>374</td>\n",
              "      <td>0.97</td>\n",
              "      <td>43</td>\n",
              "      <td>berkeley</td>\n",
              "      <td>{'author': 'funkyfaithy', 'body': 'This is the...</td>\n",
              "      <td>{'neg': 0.164, 'neu': 0.77, 'pos': 0.066, 'com...</td>\n",
              "      <td>VN</td>\n",
              "    </tr>\n",
              "    <tr>\n",
              "      <th>2</th>\n",
              "      <td>jryusf</td>\n",
              "      <td>yoyoyaass</td>\n",
              "      <td>374</td>\n",
              "      <td>0.97</td>\n",
              "      <td>43</td>\n",
              "      <td>berkeley</td>\n",
              "      <td>{'author': 'novared19', 'body': 'it took me a ...</td>\n",
              "      <td>{'neg': 0.097, 'neu': 0.875, 'pos': 0.028, 'co...</td>\n",
              "      <td>N</td>\n",
              "    </tr>\n",
              "    <tr>\n",
              "      <th>3</th>\n",
              "      <td>jryusf</td>\n",
              "      <td>yoyoyaass</td>\n",
              "      <td>374</td>\n",
              "      <td>0.97</td>\n",
              "      <td>43</td>\n",
              "      <td>berkeley</td>\n",
              "      <td>{'author': 'DragoSphere', 'body': 'Midterm in ...</td>\n",
              "      <td>{'neg': 0.0, 'neu': 0.571, 'pos': 0.429, 'comp...</td>\n",
              "      <td>P</td>\n",
              "    </tr>\n",
              "    <tr>\n",
              "      <th>4</th>\n",
              "      <td>jryusf</td>\n",
              "      <td>yoyoyaass</td>\n",
              "      <td>374</td>\n",
              "      <td>0.97</td>\n",
              "      <td>43</td>\n",
              "      <td>berkeley</td>\n",
              "      <td>{'author': 'None', 'body': '[deleted]', 'score...</td>\n",
              "      <td>{'neg': 0.0, 'neu': 1.0, 'pos': 0.0, 'compound...</td>\n",
              "      <td>NEU</td>\n",
              "    </tr>\n",
              "    <tr>\n",
              "      <th>...</th>\n",
              "      <td>...</td>\n",
              "      <td>...</td>\n",
              "      <td>...</td>\n",
              "      <td>...</td>\n",
              "      <td>...</td>\n",
              "      <td>...</td>\n",
              "      <td>...</td>\n",
              "      <td>...</td>\n",
              "      <td>...</td>\n",
              "    </tr>\n",
              "    <tr>\n",
              "      <th>18945</th>\n",
              "      <td>n5wa1v</td>\n",
              "      <td>-feelalive-</td>\n",
              "      <td>514</td>\n",
              "      <td>0.98</td>\n",
              "      <td>77</td>\n",
              "      <td>berkeley</td>\n",
              "      <td>{'author': 'KNJI03', 'body': ':)', 'score': 6,...</td>\n",
              "      <td>{'neg': 0.0, 'neu': 0.0, 'pos': 1.0, 'compound...</td>\n",
              "      <td>P</td>\n",
              "    </tr>\n",
              "    <tr>\n",
              "      <th>18946</th>\n",
              "      <td>n5wa1v</td>\n",
              "      <td>-feelalive-</td>\n",
              "      <td>514</td>\n",
              "      <td>0.98</td>\n",
              "      <td>77</td>\n",
              "      <td>berkeley</td>\n",
              "      <td>{'author': 'Xxb30wulfxX', 'body': 'I would say...</td>\n",
              "      <td>{'neg': 0.045, 'neu': 0.803, 'pos': 0.152, 'co...</td>\n",
              "      <td>P</td>\n",
              "    </tr>\n",
              "    <tr>\n",
              "      <th>18947</th>\n",
              "      <td>n5wa1v</td>\n",
              "      <td>-feelalive-</td>\n",
              "      <td>514</td>\n",
              "      <td>0.98</td>\n",
              "      <td>77</td>\n",
              "      <td>berkeley</td>\n",
              "      <td>{'author': 'Right-Advertising367', 'body': 'Id...</td>\n",
              "      <td>{'neg': 0.048, 'neu': 0.787, 'pos': 0.165, 'co...</td>\n",
              "      <td>VP</td>\n",
              "    </tr>\n",
              "    <tr>\n",
              "      <th>18948</th>\n",
              "      <td>n5wa1v</td>\n",
              "      <td>-feelalive-</td>\n",
              "      <td>514</td>\n",
              "      <td>0.98</td>\n",
              "      <td>77</td>\n",
              "      <td>berkeley</td>\n",
              "      <td>{'author': 'walter_evertonshire', 'body': 'In ...</td>\n",
              "      <td>{'neg': 0.0, 'neu': 1.0, 'pos': 0.0, 'compound...</td>\n",
              "      <td>NEU</td>\n",
              "    </tr>\n",
              "    <tr>\n",
              "      <th>18949</th>\n",
              "      <td>n5wa1v</td>\n",
              "      <td>-feelalive-</td>\n",
              "      <td>514</td>\n",
              "      <td>0.98</td>\n",
              "      <td>77</td>\n",
              "      <td>berkeley</td>\n",
              "      <td>{'author': 'Narguin2', 'body': ':(', 'score': ...</td>\n",
              "      <td>{'neg': 1.0, 'neu': 0.0, 'pos': 0.0, 'compound...</td>\n",
              "      <td>N</td>\n",
              "    </tr>\n",
              "  </tbody>\n",
              "</table>\n",
              "<p>18950 rows × 9 columns</p>\n",
              "</div>\n",
              "      <button class=\"colab-df-convert\" onclick=\"convertToInteractive('df-606f97ff-e6c3-4ced-9a1c-431b18130f25')\"\n",
              "              title=\"Convert this dataframe to an interactive table.\"\n",
              "              style=\"display:none;\">\n",
              "        \n",
              "  <svg xmlns=\"http://www.w3.org/2000/svg\" height=\"24px\"viewBox=\"0 0 24 24\"\n",
              "       width=\"24px\">\n",
              "    <path d=\"M0 0h24v24H0V0z\" fill=\"none\"/>\n",
              "    <path d=\"M18.56 5.44l.94 2.06.94-2.06 2.06-.94-2.06-.94-.94-2.06-.94 2.06-2.06.94zm-11 1L8.5 8.5l.94-2.06 2.06-.94-2.06-.94L8.5 2.5l-.94 2.06-2.06.94zm10 10l.94 2.06.94-2.06 2.06-.94-2.06-.94-.94-2.06-.94 2.06-2.06.94z\"/><path d=\"M17.41 7.96l-1.37-1.37c-.4-.4-.92-.59-1.43-.59-.52 0-1.04.2-1.43.59L10.3 9.45l-7.72 7.72c-.78.78-.78 2.05 0 2.83L4 21.41c.39.39.9.59 1.41.59.51 0 1.02-.2 1.41-.59l7.78-7.78 2.81-2.81c.8-.78.8-2.07 0-2.86zM5.41 20L4 18.59l7.72-7.72 1.47 1.35L5.41 20z\"/>\n",
              "  </svg>\n",
              "      </button>\n",
              "      \n",
              "  <style>\n",
              "    .colab-df-container {\n",
              "      display:flex;\n",
              "      flex-wrap:wrap;\n",
              "      gap: 12px;\n",
              "    }\n",
              "\n",
              "    .colab-df-convert {\n",
              "      background-color: #E8F0FE;\n",
              "      border: none;\n",
              "      border-radius: 50%;\n",
              "      cursor: pointer;\n",
              "      display: none;\n",
              "      fill: #1967D2;\n",
              "      height: 32px;\n",
              "      padding: 0 0 0 0;\n",
              "      width: 32px;\n",
              "    }\n",
              "\n",
              "    .colab-df-convert:hover {\n",
              "      background-color: #E2EBFA;\n",
              "      box-shadow: 0px 1px 2px rgba(60, 64, 67, 0.3), 0px 1px 3px 1px rgba(60, 64, 67, 0.15);\n",
              "      fill: #174EA6;\n",
              "    }\n",
              "\n",
              "    [theme=dark] .colab-df-convert {\n",
              "      background-color: #3B4455;\n",
              "      fill: #D2E3FC;\n",
              "    }\n",
              "\n",
              "    [theme=dark] .colab-df-convert:hover {\n",
              "      background-color: #434B5C;\n",
              "      box-shadow: 0px 1px 3px 1px rgba(0, 0, 0, 0.15);\n",
              "      filter: drop-shadow(0px 1px 2px rgba(0, 0, 0, 0.3));\n",
              "      fill: #FFFFFF;\n",
              "    }\n",
              "  </style>\n",
              "\n",
              "      <script>\n",
              "        const buttonEl =\n",
              "          document.querySelector('#df-606f97ff-e6c3-4ced-9a1c-431b18130f25 button.colab-df-convert');\n",
              "        buttonEl.style.display =\n",
              "          google.colab.kernel.accessAllowed ? 'block' : 'none';\n",
              "\n",
              "        async function convertToInteractive(key) {\n",
              "          const element = document.querySelector('#df-606f97ff-e6c3-4ced-9a1c-431b18130f25');\n",
              "          const dataTable =\n",
              "            await google.colab.kernel.invokeFunction('convertToInteractive',\n",
              "                                                     [key], {});\n",
              "          if (!dataTable) return;\n",
              "\n",
              "          const docLinkHtml = 'Like what you see? Visit the ' +\n",
              "            '<a target=\"_blank\" href=https://colab.research.google.com/notebooks/data_table.ipynb>data table notebook</a>'\n",
              "            + ' to learn more about interactive tables.';\n",
              "          element.innerHTML = '';\n",
              "          dataTable['output_type'] = 'display_data';\n",
              "          await google.colab.output.renderOutput(dataTable, element);\n",
              "          const docLink = document.createElement('div');\n",
              "          docLink.innerHTML = docLinkHtml;\n",
              "          element.appendChild(docLink);\n",
              "        }\n",
              "      </script>\n",
              "    </div>\n",
              "  </div>\n",
              "  "
            ]
          },
          "metadata": {},
          "execution_count": 7
        }
      ]
    },
    {
      "cell_type": "code",
      "source": [
        "cornell_comment_class_df['comment'] = cornell_comment_class_df['comment'].apply(lambda x: eval(x))"
      ],
      "metadata": {
        "id": "QF5sUKqkH50E"
      },
      "execution_count": null,
      "outputs": []
    },
    {
      "cell_type": "code",
      "source": [
        "cornell_comment_class_df['author'] = cornell_comment_class_df['comment'].apply(lambda x: x['author'])\n",
        "cornell_comment_class_df['comment_text'] = cornell_comment_class_df['comment'].apply(lambda x: x['body'])\n",
        "cornell_comment_class_df['score'] = cornell_comment_class_df['comment'].apply(lambda x: x['score'])\n",
        "cornell_comment_class_df['created_time_utc'] = cornell_comment_class_df['comment'].apply(lambda x: x['created_utc'])"
      ],
      "metadata": {
        "id": "uR4upnFaZs4J"
      },
      "execution_count": null,
      "outputs": []
    },
    {
      "cell_type": "code",
      "source": [
        "cornell_comment_class_df = cornell_comment_class_df[cornell_comment_class_df['comment_text'] != '[deleted]']"
      ],
      "metadata": {
        "id": "eHUsJ3I0aL6L"
      },
      "execution_count": null,
      "outputs": []
    },
    {
      "cell_type": "code",
      "source": [
        "!pip install vaderSentiment"
      ],
      "metadata": {
        "colab": {
          "base_uri": "https://localhost:8080/"
        },
        "id": "gdbRR0mZamSg",
        "outputId": "93384d1c-a22e-48f3-bc90-7dd47fc1c7cd"
      },
      "execution_count": null,
      "outputs": [
        {
          "output_type": "stream",
          "name": "stdout",
          "text": [
            "Looking in indexes: https://pypi.org/simple, https://us-python.pkg.dev/colab-wheels/public/simple/\n",
            "Collecting vaderSentiment\n",
            "  Downloading vaderSentiment-3.3.2-py2.py3-none-any.whl (125 kB)\n",
            "\u001b[2K     \u001b[90m━━━━━━━━━━━━━━━━━━━━━━━━━━━━━━━━━━━━━━\u001b[0m \u001b[32m126.0/126.0 kB\u001b[0m \u001b[31m10.4 MB/s\u001b[0m eta \u001b[36m0:00:00\u001b[0m\n",
            "\u001b[?25hRequirement already satisfied: requests in /usr/local/lib/python3.10/dist-packages (from vaderSentiment) (2.27.1)\n",
            "Requirement already satisfied: urllib3<1.27,>=1.21.1 in /usr/local/lib/python3.10/dist-packages (from requests->vaderSentiment) (1.26.15)\n",
            "Requirement already satisfied: certifi>=2017.4.17 in /usr/local/lib/python3.10/dist-packages (from requests->vaderSentiment) (2022.12.7)\n",
            "Requirement already satisfied: charset-normalizer~=2.0.0 in /usr/local/lib/python3.10/dist-packages (from requests->vaderSentiment) (2.0.12)\n",
            "Requirement already satisfied: idna<4,>=2.5 in /usr/local/lib/python3.10/dist-packages (from requests->vaderSentiment) (3.4)\n",
            "Installing collected packages: vaderSentiment\n",
            "Successfully installed vaderSentiment-3.3.2\n"
          ]
        }
      ]
    },
    {
      "cell_type": "code",
      "source": [
        "cornell_graph = nx.read_edgelist('processed_data/cornell/cornell_graph_comment.edgelist')"
      ],
      "metadata": {
        "id": "em8oJ0rgIFgz"
      },
      "execution_count": null,
      "outputs": []
    },
    {
      "cell_type": "code",
      "source": [
        "%%time\n",
        "node2vec = Node2Vec(cornell_graph, dimensions=128, walk_length=80, num_walks=10, workers=1)  # Use temp_folder for big graphs\n",
        "model = node2vec.fit(window=10, min_count=1, batch_words=4)  "
      ],
      "metadata": {
        "colab": {
          "base_uri": "https://localhost:8080/",
          "height": 49,
          "referenced_widgets": [
            "985846cba0f24ffea451b21e0f1d7e44",
            "8c7200b82edc4ecaaa6b239c7d50d3de",
            "11d13367067a47a483edc3b3cf8d1de2",
            "bd2bc219d59844c99d976516cfd7d0f7",
            "6cdcf3955db9497fb3e333bbb2aa1057",
            "d82bd3d654094b67aa785d0116a775d4",
            "ad5aca8876274e798066c0f7ac8d8579",
            "2fb7910b6bb34110a730de8476abca83",
            "4ddcb820fe4e4a9f92536230b2058c05",
            "90e65191148942cab0e62889d30a8d9b",
            "e3151d465ff94c7c916ae2cdae90f3d2"
          ]
        },
        "id": "-q-mqIOPZRI1",
        "outputId": "81509dc7-4407-42ba-ffce-681b87721bde"
      },
      "execution_count": null,
      "outputs": [
        {
          "output_type": "display_data",
          "data": {
            "text/plain": [
              "Computing transition probabilities:   0%|          | 0/5980 [00:00<?, ?it/s]"
            ],
            "application/vnd.jupyter.widget-view+json": {
              "version_major": 2,
              "version_minor": 0,
              "model_id": "985846cba0f24ffea451b21e0f1d7e44"
            }
          },
          "metadata": {}
        }
      ]
    },
    {
      "cell_type": "code",
      "source": [
        "node_ids = cornell_comment_class_df['author'].values.tolist()\n",
        "# embeddings = np.array([model.wv[str(node)] for node in node_ids])\n",
        "targets = cornell_comment_class_df['comment_sentiment_class'].values.tolist()"
      ],
      "metadata": {
        "id": "s8_h0X0BZXFG"
      },
      "execution_count": null,
      "outputs": []
    },
    {
      "cell_type": "code",
      "source": [
        "embeddings_df = pd.DataFrame(embeddings, columns=list(range(128)))\n",
        "targets_df = pd.DataFrame(targets)"
      ],
      "metadata": {
        "id": "QUrXiCOChVTd"
      },
      "execution_count": null,
      "outputs": []
    },
    {
      "cell_type": "code",
      "source": [
        "cornell_feature_df = embeddings_df\n",
        "cornell_feature_df['comment_sentiment_class'] = targets_df"
      ],
      "metadata": {
        "id": "5o-C_Lr4hpks"
      },
      "execution_count": null,
      "outputs": []
    },
    {
      "cell_type": "code",
      "source": [
        "cornell_feature_df"
      ],
      "metadata": {
        "colab": {
          "base_uri": "https://localhost:8080/",
          "height": 487
        },
        "id": "bOWQC2fHh9YC",
        "outputId": "d2e6addd-3247-4eb1-ae24-0cc445862579"
      },
      "execution_count": null,
      "outputs": [
        {
          "output_type": "execute_result",
          "data": {
            "text/plain": [
              "             0         1         2         3         4         5         6  \\\n",
              "0    -0.005053  0.154495  0.126255 -0.103662  0.088851 -0.293839  0.380883   \n",
              "1    -0.036723  0.172970  0.332766  0.020840 -0.071663 -0.130393  0.399502   \n",
              "2    -0.209586  0.197000  0.092381 -0.053890  0.189721 -0.256567  0.157380   \n",
              "3    -0.035096  0.144254 -0.252204 -0.031182  0.176053  0.049873  0.002641   \n",
              "4    -0.171048  0.140349  0.054417 -0.071818  0.234886 -0.154765  0.340058   \n",
              "...        ...       ...       ...       ...       ...       ...       ...   \n",
              "4117  0.081979 -0.465591  0.218207 -0.332556  0.007064 -0.121298  0.349834   \n",
              "4118 -0.066315 -0.103202  0.091733  0.116861  0.023815  0.077006  0.474686   \n",
              "4119 -0.037851 -0.677482  0.064357 -0.290314 -0.096774 -0.031396  0.311618   \n",
              "4120  0.066436 -0.023699  0.106220 -0.162501  0.227659 -0.019291  0.429362   \n",
              "4121 -0.180737 -0.492965  0.089534 -0.181218 -0.050150 -0.065398  0.371612   \n",
              "\n",
              "             7         8         9  ...       119       120       121  \\\n",
              "0     0.196578 -0.300757  0.123030  ...  0.066300  0.147360 -0.173618   \n",
              "1     0.040201  0.013044 -0.024582  ...  0.090879 -0.441134 -0.007421   \n",
              "2     0.097021  0.042921  0.007310  ...  0.069556 -0.098143 -0.159944   \n",
              "3    -0.023567  0.129240 -0.292440  ... -0.221809 -0.060979 -0.017270   \n",
              "4    -0.005405 -0.026236  0.041267  ...  0.016899  0.075523 -0.244101   \n",
              "...        ...       ...       ...  ...       ...       ...       ...   \n",
              "4117  0.144585 -0.195300  0.118537  ... -0.015438 -0.010255  0.149976   \n",
              "4118 -0.046073  0.289066 -0.062201  ... -0.241741 -0.007812  0.195650   \n",
              "4119  0.012856  0.102354 -0.047596  ...  0.193960 -0.045655 -0.071975   \n",
              "4120  0.010465 -0.030707 -0.063433  ...  0.247931 -0.018426  0.093356   \n",
              "4121 -0.102310 -0.000381  0.103770  ...  0.005566 -0.059746 -0.080235   \n",
              "\n",
              "           122       123       124       125       126       127  \\\n",
              "0    -0.114226  0.127423  0.139200 -0.115003 -0.079569 -0.074510   \n",
              "1     0.362586  0.364319 -0.161145  0.156700  0.034117  0.085246   \n",
              "2     0.115349  0.166395  0.179107 -0.045794  0.092897  0.085286   \n",
              "3    -0.069755  0.081001  0.037078 -0.083885 -0.400756 -0.021449   \n",
              "4    -0.093958  0.248183  0.096905  0.036983 -0.127759  0.411964   \n",
              "...        ...       ...       ...       ...       ...       ...   \n",
              "4117  0.346196  0.257508 -0.387366 -0.031274  0.197870  0.439841   \n",
              "4118  0.033870  0.234619 -0.097853 -0.321625  0.084369  0.269935   \n",
              "4119 -0.048440 -0.011747 -0.345474 -0.058489 -0.196581  0.081686   \n",
              "4120 -0.056099  0.093991 -0.211784 -0.095648 -0.154910  0.013870   \n",
              "4121 -0.146408  0.221051 -0.353458 -0.280038  0.047359  0.021443   \n",
              "\n",
              "      comment_sentiment_class  \n",
              "0                         NEU  \n",
              "1                           N  \n",
              "2                         NEU  \n",
              "3                          VP  \n",
              "4                           P  \n",
              "...                       ...  \n",
              "4117                        N  \n",
              "4118                      NEU  \n",
              "4119                        P  \n",
              "4120                       VN  \n",
              "4121                       VN  \n",
              "\n",
              "[4122 rows x 129 columns]"
            ],
            "text/html": [
              "\n",
              "  <div id=\"df-2f5625c9-5933-438e-9029-e4d2066e2ea5\">\n",
              "    <div class=\"colab-df-container\">\n",
              "      <div>\n",
              "<style scoped>\n",
              "    .dataframe tbody tr th:only-of-type {\n",
              "        vertical-align: middle;\n",
              "    }\n",
              "\n",
              "    .dataframe tbody tr th {\n",
              "        vertical-align: top;\n",
              "    }\n",
              "\n",
              "    .dataframe thead th {\n",
              "        text-align: right;\n",
              "    }\n",
              "</style>\n",
              "<table border=\"1\" class=\"dataframe\">\n",
              "  <thead>\n",
              "    <tr style=\"text-align: right;\">\n",
              "      <th></th>\n",
              "      <th>0</th>\n",
              "      <th>1</th>\n",
              "      <th>2</th>\n",
              "      <th>3</th>\n",
              "      <th>4</th>\n",
              "      <th>5</th>\n",
              "      <th>6</th>\n",
              "      <th>7</th>\n",
              "      <th>8</th>\n",
              "      <th>9</th>\n",
              "      <th>...</th>\n",
              "      <th>119</th>\n",
              "      <th>120</th>\n",
              "      <th>121</th>\n",
              "      <th>122</th>\n",
              "      <th>123</th>\n",
              "      <th>124</th>\n",
              "      <th>125</th>\n",
              "      <th>126</th>\n",
              "      <th>127</th>\n",
              "      <th>comment_sentiment_class</th>\n",
              "    </tr>\n",
              "  </thead>\n",
              "  <tbody>\n",
              "    <tr>\n",
              "      <th>0</th>\n",
              "      <td>-0.005053</td>\n",
              "      <td>0.154495</td>\n",
              "      <td>0.126255</td>\n",
              "      <td>-0.103662</td>\n",
              "      <td>0.088851</td>\n",
              "      <td>-0.293839</td>\n",
              "      <td>0.380883</td>\n",
              "      <td>0.196578</td>\n",
              "      <td>-0.300757</td>\n",
              "      <td>0.123030</td>\n",
              "      <td>...</td>\n",
              "      <td>0.066300</td>\n",
              "      <td>0.147360</td>\n",
              "      <td>-0.173618</td>\n",
              "      <td>-0.114226</td>\n",
              "      <td>0.127423</td>\n",
              "      <td>0.139200</td>\n",
              "      <td>-0.115003</td>\n",
              "      <td>-0.079569</td>\n",
              "      <td>-0.074510</td>\n",
              "      <td>NEU</td>\n",
              "    </tr>\n",
              "    <tr>\n",
              "      <th>1</th>\n",
              "      <td>-0.036723</td>\n",
              "      <td>0.172970</td>\n",
              "      <td>0.332766</td>\n",
              "      <td>0.020840</td>\n",
              "      <td>-0.071663</td>\n",
              "      <td>-0.130393</td>\n",
              "      <td>0.399502</td>\n",
              "      <td>0.040201</td>\n",
              "      <td>0.013044</td>\n",
              "      <td>-0.024582</td>\n",
              "      <td>...</td>\n",
              "      <td>0.090879</td>\n",
              "      <td>-0.441134</td>\n",
              "      <td>-0.007421</td>\n",
              "      <td>0.362586</td>\n",
              "      <td>0.364319</td>\n",
              "      <td>-0.161145</td>\n",
              "      <td>0.156700</td>\n",
              "      <td>0.034117</td>\n",
              "      <td>0.085246</td>\n",
              "      <td>N</td>\n",
              "    </tr>\n",
              "    <tr>\n",
              "      <th>2</th>\n",
              "      <td>-0.209586</td>\n",
              "      <td>0.197000</td>\n",
              "      <td>0.092381</td>\n",
              "      <td>-0.053890</td>\n",
              "      <td>0.189721</td>\n",
              "      <td>-0.256567</td>\n",
              "      <td>0.157380</td>\n",
              "      <td>0.097021</td>\n",
              "      <td>0.042921</td>\n",
              "      <td>0.007310</td>\n",
              "      <td>...</td>\n",
              "      <td>0.069556</td>\n",
              "      <td>-0.098143</td>\n",
              "      <td>-0.159944</td>\n",
              "      <td>0.115349</td>\n",
              "      <td>0.166395</td>\n",
              "      <td>0.179107</td>\n",
              "      <td>-0.045794</td>\n",
              "      <td>0.092897</td>\n",
              "      <td>0.085286</td>\n",
              "      <td>NEU</td>\n",
              "    </tr>\n",
              "    <tr>\n",
              "      <th>3</th>\n",
              "      <td>-0.035096</td>\n",
              "      <td>0.144254</td>\n",
              "      <td>-0.252204</td>\n",
              "      <td>-0.031182</td>\n",
              "      <td>0.176053</td>\n",
              "      <td>0.049873</td>\n",
              "      <td>0.002641</td>\n",
              "      <td>-0.023567</td>\n",
              "      <td>0.129240</td>\n",
              "      <td>-0.292440</td>\n",
              "      <td>...</td>\n",
              "      <td>-0.221809</td>\n",
              "      <td>-0.060979</td>\n",
              "      <td>-0.017270</td>\n",
              "      <td>-0.069755</td>\n",
              "      <td>0.081001</td>\n",
              "      <td>0.037078</td>\n",
              "      <td>-0.083885</td>\n",
              "      <td>-0.400756</td>\n",
              "      <td>-0.021449</td>\n",
              "      <td>VP</td>\n",
              "    </tr>\n",
              "    <tr>\n",
              "      <th>4</th>\n",
              "      <td>-0.171048</td>\n",
              "      <td>0.140349</td>\n",
              "      <td>0.054417</td>\n",
              "      <td>-0.071818</td>\n",
              "      <td>0.234886</td>\n",
              "      <td>-0.154765</td>\n",
              "      <td>0.340058</td>\n",
              "      <td>-0.005405</td>\n",
              "      <td>-0.026236</td>\n",
              "      <td>0.041267</td>\n",
              "      <td>...</td>\n",
              "      <td>0.016899</td>\n",
              "      <td>0.075523</td>\n",
              "      <td>-0.244101</td>\n",
              "      <td>-0.093958</td>\n",
              "      <td>0.248183</td>\n",
              "      <td>0.096905</td>\n",
              "      <td>0.036983</td>\n",
              "      <td>-0.127759</td>\n",
              "      <td>0.411964</td>\n",
              "      <td>P</td>\n",
              "    </tr>\n",
              "    <tr>\n",
              "      <th>...</th>\n",
              "      <td>...</td>\n",
              "      <td>...</td>\n",
              "      <td>...</td>\n",
              "      <td>...</td>\n",
              "      <td>...</td>\n",
              "      <td>...</td>\n",
              "      <td>...</td>\n",
              "      <td>...</td>\n",
              "      <td>...</td>\n",
              "      <td>...</td>\n",
              "      <td>...</td>\n",
              "      <td>...</td>\n",
              "      <td>...</td>\n",
              "      <td>...</td>\n",
              "      <td>...</td>\n",
              "      <td>...</td>\n",
              "      <td>...</td>\n",
              "      <td>...</td>\n",
              "      <td>...</td>\n",
              "      <td>...</td>\n",
              "      <td>...</td>\n",
              "    </tr>\n",
              "    <tr>\n",
              "      <th>4117</th>\n",
              "      <td>0.081979</td>\n",
              "      <td>-0.465591</td>\n",
              "      <td>0.218207</td>\n",
              "      <td>-0.332556</td>\n",
              "      <td>0.007064</td>\n",
              "      <td>-0.121298</td>\n",
              "      <td>0.349834</td>\n",
              "      <td>0.144585</td>\n",
              "      <td>-0.195300</td>\n",
              "      <td>0.118537</td>\n",
              "      <td>...</td>\n",
              "      <td>-0.015438</td>\n",
              "      <td>-0.010255</td>\n",
              "      <td>0.149976</td>\n",
              "      <td>0.346196</td>\n",
              "      <td>0.257508</td>\n",
              "      <td>-0.387366</td>\n",
              "      <td>-0.031274</td>\n",
              "      <td>0.197870</td>\n",
              "      <td>0.439841</td>\n",
              "      <td>N</td>\n",
              "    </tr>\n",
              "    <tr>\n",
              "      <th>4118</th>\n",
              "      <td>-0.066315</td>\n",
              "      <td>-0.103202</td>\n",
              "      <td>0.091733</td>\n",
              "      <td>0.116861</td>\n",
              "      <td>0.023815</td>\n",
              "      <td>0.077006</td>\n",
              "      <td>0.474686</td>\n",
              "      <td>-0.046073</td>\n",
              "      <td>0.289066</td>\n",
              "      <td>-0.062201</td>\n",
              "      <td>...</td>\n",
              "      <td>-0.241741</td>\n",
              "      <td>-0.007812</td>\n",
              "      <td>0.195650</td>\n",
              "      <td>0.033870</td>\n",
              "      <td>0.234619</td>\n",
              "      <td>-0.097853</td>\n",
              "      <td>-0.321625</td>\n",
              "      <td>0.084369</td>\n",
              "      <td>0.269935</td>\n",
              "      <td>NEU</td>\n",
              "    </tr>\n",
              "    <tr>\n",
              "      <th>4119</th>\n",
              "      <td>-0.037851</td>\n",
              "      <td>-0.677482</td>\n",
              "      <td>0.064357</td>\n",
              "      <td>-0.290314</td>\n",
              "      <td>-0.096774</td>\n",
              "      <td>-0.031396</td>\n",
              "      <td>0.311618</td>\n",
              "      <td>0.012856</td>\n",
              "      <td>0.102354</td>\n",
              "      <td>-0.047596</td>\n",
              "      <td>...</td>\n",
              "      <td>0.193960</td>\n",
              "      <td>-0.045655</td>\n",
              "      <td>-0.071975</td>\n",
              "      <td>-0.048440</td>\n",
              "      <td>-0.011747</td>\n",
              "      <td>-0.345474</td>\n",
              "      <td>-0.058489</td>\n",
              "      <td>-0.196581</td>\n",
              "      <td>0.081686</td>\n",
              "      <td>P</td>\n",
              "    </tr>\n",
              "    <tr>\n",
              "      <th>4120</th>\n",
              "      <td>0.066436</td>\n",
              "      <td>-0.023699</td>\n",
              "      <td>0.106220</td>\n",
              "      <td>-0.162501</td>\n",
              "      <td>0.227659</td>\n",
              "      <td>-0.019291</td>\n",
              "      <td>0.429362</td>\n",
              "      <td>0.010465</td>\n",
              "      <td>-0.030707</td>\n",
              "      <td>-0.063433</td>\n",
              "      <td>...</td>\n",
              "      <td>0.247931</td>\n",
              "      <td>-0.018426</td>\n",
              "      <td>0.093356</td>\n",
              "      <td>-0.056099</td>\n",
              "      <td>0.093991</td>\n",
              "      <td>-0.211784</td>\n",
              "      <td>-0.095648</td>\n",
              "      <td>-0.154910</td>\n",
              "      <td>0.013870</td>\n",
              "      <td>VN</td>\n",
              "    </tr>\n",
              "    <tr>\n",
              "      <th>4121</th>\n",
              "      <td>-0.180737</td>\n",
              "      <td>-0.492965</td>\n",
              "      <td>0.089534</td>\n",
              "      <td>-0.181218</td>\n",
              "      <td>-0.050150</td>\n",
              "      <td>-0.065398</td>\n",
              "      <td>0.371612</td>\n",
              "      <td>-0.102310</td>\n",
              "      <td>-0.000381</td>\n",
              "      <td>0.103770</td>\n",
              "      <td>...</td>\n",
              "      <td>0.005566</td>\n",
              "      <td>-0.059746</td>\n",
              "      <td>-0.080235</td>\n",
              "      <td>-0.146408</td>\n",
              "      <td>0.221051</td>\n",
              "      <td>-0.353458</td>\n",
              "      <td>-0.280038</td>\n",
              "      <td>0.047359</td>\n",
              "      <td>0.021443</td>\n",
              "      <td>VN</td>\n",
              "    </tr>\n",
              "  </tbody>\n",
              "</table>\n",
              "<p>4122 rows × 129 columns</p>\n",
              "</div>\n",
              "      <button class=\"colab-df-convert\" onclick=\"convertToInteractive('df-2f5625c9-5933-438e-9029-e4d2066e2ea5')\"\n",
              "              title=\"Convert this dataframe to an interactive table.\"\n",
              "              style=\"display:none;\">\n",
              "        \n",
              "  <svg xmlns=\"http://www.w3.org/2000/svg\" height=\"24px\"viewBox=\"0 0 24 24\"\n",
              "       width=\"24px\">\n",
              "    <path d=\"M0 0h24v24H0V0z\" fill=\"none\"/>\n",
              "    <path d=\"M18.56 5.44l.94 2.06.94-2.06 2.06-.94-2.06-.94-.94-2.06-.94 2.06-2.06.94zm-11 1L8.5 8.5l.94-2.06 2.06-.94-2.06-.94L8.5 2.5l-.94 2.06-2.06.94zm10 10l.94 2.06.94-2.06 2.06-.94-2.06-.94-.94-2.06-.94 2.06-2.06.94z\"/><path d=\"M17.41 7.96l-1.37-1.37c-.4-.4-.92-.59-1.43-.59-.52 0-1.04.2-1.43.59L10.3 9.45l-7.72 7.72c-.78.78-.78 2.05 0 2.83L4 21.41c.39.39.9.59 1.41.59.51 0 1.02-.2 1.41-.59l7.78-7.78 2.81-2.81c.8-.78.8-2.07 0-2.86zM5.41 20L4 18.59l7.72-7.72 1.47 1.35L5.41 20z\"/>\n",
              "  </svg>\n",
              "      </button>\n",
              "      \n",
              "  <style>\n",
              "    .colab-df-container {\n",
              "      display:flex;\n",
              "      flex-wrap:wrap;\n",
              "      gap: 12px;\n",
              "    }\n",
              "\n",
              "    .colab-df-convert {\n",
              "      background-color: #E8F0FE;\n",
              "      border: none;\n",
              "      border-radius: 50%;\n",
              "      cursor: pointer;\n",
              "      display: none;\n",
              "      fill: #1967D2;\n",
              "      height: 32px;\n",
              "      padding: 0 0 0 0;\n",
              "      width: 32px;\n",
              "    }\n",
              "\n",
              "    .colab-df-convert:hover {\n",
              "      background-color: #E2EBFA;\n",
              "      box-shadow: 0px 1px 2px rgba(60, 64, 67, 0.3), 0px 1px 3px 1px rgba(60, 64, 67, 0.15);\n",
              "      fill: #174EA6;\n",
              "    }\n",
              "\n",
              "    [theme=dark] .colab-df-convert {\n",
              "      background-color: #3B4455;\n",
              "      fill: #D2E3FC;\n",
              "    }\n",
              "\n",
              "    [theme=dark] .colab-df-convert:hover {\n",
              "      background-color: #434B5C;\n",
              "      box-shadow: 0px 1px 3px 1px rgba(0, 0, 0, 0.15);\n",
              "      filter: drop-shadow(0px 1px 2px rgba(0, 0, 0, 0.3));\n",
              "      fill: #FFFFFF;\n",
              "    }\n",
              "  </style>\n",
              "\n",
              "      <script>\n",
              "        const buttonEl =\n",
              "          document.querySelector('#df-2f5625c9-5933-438e-9029-e4d2066e2ea5 button.colab-df-convert');\n",
              "        buttonEl.style.display =\n",
              "          google.colab.kernel.accessAllowed ? 'block' : 'none';\n",
              "\n",
              "        async function convertToInteractive(key) {\n",
              "          const element = document.querySelector('#df-2f5625c9-5933-438e-9029-e4d2066e2ea5');\n",
              "          const dataTable =\n",
              "            await google.colab.kernel.invokeFunction('convertToInteractive',\n",
              "                                                     [key], {});\n",
              "          if (!dataTable) return;\n",
              "\n",
              "          const docLinkHtml = 'Like what you see? Visit the ' +\n",
              "            '<a target=\"_blank\" href=https://colab.research.google.com/notebooks/data_table.ipynb>data table notebook</a>'\n",
              "            + ' to learn more about interactive tables.';\n",
              "          element.innerHTML = '';\n",
              "          dataTable['output_type'] = 'display_data';\n",
              "          await google.colab.output.renderOutput(dataTable, element);\n",
              "          const docLink = document.createElement('div');\n",
              "          docLink.innerHTML = docLinkHtml;\n",
              "          element.appendChild(docLink);\n",
              "        }\n",
              "      </script>\n",
              "    </div>\n",
              "  </div>\n",
              "  "
            ]
          },
          "metadata": {},
          "execution_count": 16
        }
      ]
    },
    {
      "cell_type": "code",
      "source": [
        "numeric_var = {\"comment_sentiment_class\": {\"NEU\":0, \"P\":1, \"VP\":2, \"N\":3, \"VN\":4}}\n",
        "cornell_feature_df = cornell_feature_df.replace(numeric_var)"
      ],
      "metadata": {
        "id": "xy759Scgifiu"
      },
      "execution_count": null,
      "outputs": []
    },
    {
      "cell_type": "code",
      "source": [
        "import pandas as pd\n",
        "from sklearn.model_selection import train_test_split\n",
        "from sklearn.feature_extraction.text import CountVectorizer\n",
        "from sklearn.linear_model import LogisticRegression\n",
        "from sklearn.metrics import classification_report\n",
        "\n",
        "# Load your data\n",
        "\n",
        "# Split the data into training and testing sets\n",
        "X_train, X_test, y_train, y_test = train_test_split(embeddings, targets, test_size=0.2, random_state=42)\n",
        "\n",
        "\n",
        "# Create and fit the Logistic Regression model\n",
        "# model = LogisticRegression(multi_class='multinomial', solver='lbfgs', max_iter=1000)\n",
        "# model.fit(X_train, y_train)\n",
        "\n",
        "# Make predictions on the testing set and print out the results\n",
        "# predictions = model.predict(X_test)\n",
        "# print(classification_report(y_test, predictions))\n"
      ],
      "metadata": {
        "id": "ZfC4iTLMeGBK",
        "colab": {
          "base_uri": "https://localhost:8080/",
          "height": 235
        },
        "outputId": "e29462e6-ca3f-406e-deeb-a0d9d2a29c04"
      },
      "execution_count": null,
      "outputs": [
        {
          "output_type": "error",
          "ename": "NameError",
          "evalue": "ignored",
          "traceback": [
            "\u001b[0;31m---------------------------------------------------------------------------\u001b[0m",
            "\u001b[0;31mNameError\u001b[0m                                 Traceback (most recent call last)",
            "\u001b[0;32m<ipython-input-28-c92964d60082>\u001b[0m in \u001b[0;36m<cell line: 10>\u001b[0;34m()\u001b[0m\n\u001b[1;32m      8\u001b[0m \u001b[0;34m\u001b[0m\u001b[0m\n\u001b[1;32m      9\u001b[0m \u001b[0;31m# Split the data into training and testing sets\u001b[0m\u001b[0;34m\u001b[0m\u001b[0;34m\u001b[0m\u001b[0m\n\u001b[0;32m---> 10\u001b[0;31m \u001b[0mX_train\u001b[0m\u001b[0;34m,\u001b[0m \u001b[0mX_test\u001b[0m\u001b[0;34m,\u001b[0m \u001b[0my_train\u001b[0m\u001b[0;34m,\u001b[0m \u001b[0my_test\u001b[0m \u001b[0;34m=\u001b[0m \u001b[0mtrain_test_split\u001b[0m\u001b[0;34m(\u001b[0m\u001b[0membeddings\u001b[0m\u001b[0;34m,\u001b[0m \u001b[0mtargets\u001b[0m\u001b[0;34m,\u001b[0m \u001b[0mtest_size\u001b[0m\u001b[0;34m=\u001b[0m\u001b[0;36m0.2\u001b[0m\u001b[0;34m,\u001b[0m \u001b[0mrandom_state\u001b[0m\u001b[0;34m=\u001b[0m\u001b[0;36m42\u001b[0m\u001b[0;34m)\u001b[0m\u001b[0;34m\u001b[0m\u001b[0;34m\u001b[0m\u001b[0m\n\u001b[0m\u001b[1;32m     11\u001b[0m \u001b[0;34m\u001b[0m\u001b[0m\n\u001b[1;32m     12\u001b[0m \u001b[0;34m\u001b[0m\u001b[0m\n",
            "\u001b[0;31mNameError\u001b[0m: name 'embeddings' is not defined"
          ]
        }
      ]
    },
    {
      "cell_type": "code",
      "source": [
        "from sklearn import svm\n",
        "\n",
        "# Create and fit the SVM model\n",
        "model = svm.SVC()\n",
        "model.fit(X_train, y_train)\n",
        "predictions = model.predict(X_test)\n",
        "print(classification_report(y_test, predictions))\n"
      ],
      "metadata": {
        "id": "Zqh9bTXpr2va"
      },
      "execution_count": null,
      "outputs": []
    },
    {
      "cell_type": "code",
      "source": [
        "from sklearn.ensemble import RandomForestClassifier\n",
        "\n",
        "# Create and fit the Random Forest model\n",
        "model = RandomForestClassifier(n_estimators=100, random_state=42)\n",
        "model.fit(X_train, y_train)\n",
        "predictions = model.predict(X_test)\n",
        "print(classification_report(y_test, predictions))"
      ],
      "metadata": {
        "colab": {
          "base_uri": "https://localhost:8080/"
        },
        "id": "DMR34-YGr_V5",
        "outputId": "98cc9c99-f5ed-4b4c-f36f-fe56ad5afb53"
      },
      "execution_count": null,
      "outputs": [
        {
          "output_type": "stream",
          "name": "stdout",
          "text": [
            "              precision    recall  f1-score   support\n",
            "\n",
            "           N       0.04      0.02      0.03        43\n",
            "         NEU       0.44      0.67      0.53       300\n",
            "           P       0.20      0.09      0.13       163\n",
            "          VN       0.07      0.03      0.04        39\n",
            "          VP       0.48      0.42      0.45       280\n",
            "\n",
            "    accuracy                           0.41       825\n",
            "   macro avg       0.24      0.25      0.23       825\n",
            "weighted avg       0.37      0.41      0.37       825\n",
            "\n"
          ]
        }
      ]
    },
    {
      "cell_type": "code",
      "source": [
        "from sklearn.tree import DecisionTreeClassifier\n",
        "\n",
        "# Create and fit the Decision Tree model\n",
        "model = DecisionTreeClassifier(random_state=42)\n",
        "model.fit(X_train, y_train)\n",
        "predictions = model.predict(X_test)\n",
        "print(classification_report(y_test, predictions))"
      ],
      "metadata": {
        "colab": {
          "base_uri": "https://localhost:8080/"
        },
        "id": "r_vGiys-sGZM",
        "outputId": "a932530a-ea30-4915-9d85-c7f377232a62"
      },
      "execution_count": null,
      "outputs": [
        {
          "output_type": "stream",
          "name": "stdout",
          "text": [
            "              precision    recall  f1-score   support\n",
            "\n",
            "           N       0.04      0.05      0.04        43\n",
            "         NEU       0.43      0.63      0.52       300\n",
            "           P       0.20      0.12      0.15       163\n",
            "          VN       0.05      0.03      0.03        39\n",
            "          VP       0.47      0.36      0.41       280\n",
            "\n",
            "    accuracy                           0.38       825\n",
            "   macro avg       0.24      0.24      0.23       825\n",
            "weighted avg       0.36      0.38      0.36       825\n",
            "\n"
          ]
        }
      ]
    },
    {
      "cell_type": "code",
      "source": [
        "deg_centrality = nx.degree_centrality(cornell_graph)\n",
        "btw_centrality = nx.betweenness_centrality(cornell_graph, normalized = True, \n",
        "                                              endpoints = False)\n",
        "eig_centrality = nx.eigenvector_centrality(cornell_graph)\n",
        "clustering_coefficients = nx.clustering(cornell_graph)\n",
        "pagerank = nx.pagerank(cornell_graph, 0)"
      ],
      "metadata": {
        "id": "Sl8nHwc1g5-2"
      },
      "execution_count": null,
      "outputs": []
    },
    {
      "cell_type": "code",
      "source": [
        "eig_targets = [eig_centrality[node_id] for node_id in node_ids]\n",
        "deg_targets = [deg_centrality[node_id] for node_id in node_ids]\n",
        "cluster_targets = [clustering_coefficients[node_id] for node_id in node_ids]\n",
        "pagerank_targets = [pagerank[node_id] for node_id in node_ids]\n"
      ],
      "metadata": {
        "id": "iYVgv3X3hHMw"
      },
      "execution_count": null,
      "outputs": []
    },
    {
      "cell_type": "code",
      "source": [
        "# X = np.hstack([eig_targets, embeddings])\n",
        "eig_2d = np.reshape(eig_targets, (-1, 1))\n",
        "deg_2d = np.reshape(deg_targets, (-1, 1))\n",
        "cluster_2d = np.reshape(cluster_targets, (-1, 1))\n",
        "pagerank_2d = np.reshape(pagerank_targets, (-1, 1))\n",
        "\n",
        "X = np.concatenate((eig_2d, deg_2d, cluster_2d, pagerank_2d), 1)\n"
      ],
      "metadata": {
        "id": "2b1YqDw-ssLq"
      },
      "execution_count": null,
      "outputs": []
    },
    {
      "cell_type": "code",
      "source": [
        "X_train, X_test, y_train, y_test = train_test_split(X, targets, test_size=0.2, random_state=42)\n"
      ],
      "metadata": {
        "id": "05fbrUHYtgBD",
        "colab": {
          "base_uri": "https://localhost:8080/",
          "height": 166
        },
        "outputId": "45f822d0-5664-4881-d651-e2fa9a1980d0"
      },
      "execution_count": null,
      "outputs": [
        {
          "output_type": "error",
          "ename": "NameError",
          "evalue": "ignored",
          "traceback": [
            "\u001b[0;31m---------------------------------------------------------------------------\u001b[0m",
            "\u001b[0;31mNameError\u001b[0m                                 Traceback (most recent call last)",
            "\u001b[0;32m<ipython-input-29-b311c194d12d>\u001b[0m in \u001b[0;36m<cell line: 1>\u001b[0;34m()\u001b[0m\n\u001b[0;32m----> 1\u001b[0;31m \u001b[0mX_train\u001b[0m\u001b[0;34m,\u001b[0m \u001b[0mX_test\u001b[0m\u001b[0;34m,\u001b[0m \u001b[0my_train\u001b[0m\u001b[0;34m,\u001b[0m \u001b[0my_test\u001b[0m \u001b[0;34m=\u001b[0m \u001b[0mtrain_test_split\u001b[0m\u001b[0;34m(\u001b[0m\u001b[0mX\u001b[0m\u001b[0;34m,\u001b[0m \u001b[0mtargets\u001b[0m\u001b[0;34m,\u001b[0m \u001b[0mtest_size\u001b[0m\u001b[0;34m=\u001b[0m\u001b[0;36m0.2\u001b[0m\u001b[0;34m,\u001b[0m \u001b[0mrandom_state\u001b[0m\u001b[0;34m=\u001b[0m\u001b[0;36m42\u001b[0m\u001b[0;34m)\u001b[0m\u001b[0;34m\u001b[0m\u001b[0;34m\u001b[0m\u001b[0m\n\u001b[0m",
            "\u001b[0;31mNameError\u001b[0m: name 'targets' is not defined"
          ]
        }
      ]
    },
    {
      "cell_type": "code",
      "source": [
        "X_train.shape"
      ],
      "metadata": {
        "colab": {
          "base_uri": "https://localhost:8080/"
        },
        "id": "cYf9MfSluCAl",
        "outputId": "28954ca9-0ebe-4986-ee1f-ae53cade0003"
      },
      "execution_count": null,
      "outputs": [
        {
          "output_type": "execute_result",
          "data": {
            "text/plain": [
              "(14584, 132)"
            ]
          },
          "metadata": {},
          "execution_count": 71
        }
      ]
    },
    {
      "cell_type": "code",
      "source": [
        "from sklearn.ensemble import RandomForestClassifier\n",
        "\n",
        "# Create and fit the Random Forest model\n",
        "model = RandomForestClassifier(n_estimators=100, random_state=42)\n",
        "model.fit(X_train, y_train)\n",
        "predictions = model.predict(X_test)\n",
        "print(classification_report(y_test, predictions))"
      ],
      "metadata": {
        "colab": {
          "base_uri": "https://localhost:8080/"
        },
        "id": "3QftNyYKsjMc",
        "outputId": "ff70e612-2dd5-497c-dc0e-9e63788e570b"
      },
      "execution_count": null,
      "outputs": [
        {
          "output_type": "stream",
          "name": "stdout",
          "text": [
            "              precision    recall  f1-score   support\n",
            "\n",
            "           N       0.04      0.02      0.03        43\n",
            "         NEU       0.44      0.67      0.53       300\n",
            "           P       0.18      0.08      0.11       163\n",
            "          VN       0.07      0.03      0.04        39\n",
            "          VP       0.49      0.44      0.46       280\n",
            "\n",
            "    accuracy                           0.41       825\n",
            "   macro avg       0.24      0.25      0.23       825\n",
            "weighted avg       0.36      0.41      0.37       825\n",
            "\n"
          ]
        }
      ]
    },
    {
      "cell_type": "code",
      "source": [
        "import statsmodels.api as st\n",
        "mdl = st.MNLogit(targets, st.add_constant(eig_targets))"
      ],
      "metadata": {
        "id": "EZ7typHrgR4y"
      },
      "execution_count": null,
      "outputs": []
    },
    {
      "cell_type": "code",
      "source": [
        "set(targets)"
      ],
      "metadata": {
        "colab": {
          "base_uri": "https://localhost:8080/"
        },
        "id": "TJl1c3nGhyfI",
        "outputId": "17028535-b096-4cf6-d542-10be0a799d74"
      },
      "execution_count": null,
      "outputs": [
        {
          "output_type": "execute_result",
          "data": {
            "text/plain": [
              "{'N', 'NEU', 'P', 'VN', 'VP'}"
            ]
          },
          "metadata": {},
          "execution_count": 30
        }
      ]
    },
    {
      "cell_type": "code",
      "source": [
        "mdl_fit = mdl.fit()\n",
        "mdl_fit.summary()"
      ],
      "metadata": {
        "colab": {
          "base_uri": "https://localhost:8080/",
          "height": 489
        },
        "id": "fR3OeWntgicU",
        "outputId": "999bfd13-7ed3-4903-9476-cca4a20cbae8"
      },
      "execution_count": null,
      "outputs": [
        {
          "output_type": "stream",
          "name": "stdout",
          "text": [
            "Optimization terminated successfully.\n",
            "         Current function value: 1.435336\n",
            "         Iterations 6\n"
          ]
        },
        {
          "output_type": "execute_result",
          "data": {
            "text/plain": [
              "<class 'statsmodels.iolib.summary.Summary'>\n",
              "\"\"\"\n",
              "                          MNLogit Regression Results                          \n",
              "==============================================================================\n",
              "Dep. Variable:                      y   No. Observations:                 2811\n",
              "Model:                        MNLogit   Df Residuals:                     2803\n",
              "Method:                           MLE   Df Model:                            4\n",
              "Date:                Thu, 25 May 2023   Pseudo R-squ.:               0.0007101\n",
              "Time:                        13:35:24   Log-Likelihood:                -4034.7\n",
              "converged:                       True   LL-Null:                       -4037.6\n",
              "Covariance Type:            nonrobust   LLR p-value:                    0.2199\n",
              "==============================================================================\n",
              "     y=NEU       coef    std err          z      P>|z|      [0.025      0.975]\n",
              "------------------------------------------------------------------------------\n",
              "const          1.4020      0.074     18.832      0.000       1.256       1.548\n",
              "x1             0.0879      0.465      0.189      0.850      -0.824       1.000\n",
              "------------------------------------------------------------------------------\n",
              "       y=P       coef    std err          z      P>|z|      [0.025      0.975]\n",
              "------------------------------------------------------------------------------\n",
              "const          0.6460      0.082      7.839      0.000       0.485       0.808\n",
              "x1            -0.0865      0.520     -0.166      0.868      -1.106       0.933\n",
              "------------------------------------------------------------------------------\n",
              "      y=VN       coef    std err          z      P>|z|      [0.025      0.975]\n",
              "------------------------------------------------------------------------------\n",
              "const         -0.3661      0.104     -3.531      0.000      -0.569      -0.163\n",
              "x1             0.4515      0.618      0.731      0.465      -0.759       1.662\n",
              "------------------------------------------------------------------------------\n",
              "      y=VP       coef    std err          z      P>|z|      [0.025      0.975]\n",
              "------------------------------------------------------------------------------\n",
              "const          0.7685      0.081      9.475      0.000       0.610       0.927\n",
              "x1            -0.7010      0.536     -1.309      0.191      -1.751       0.349\n",
              "==============================================================================\n",
              "\"\"\""
            ],
            "text/html": [
              "<table class=\"simpletable\">\n",
              "<caption>MNLogit Regression Results</caption>\n",
              "<tr>\n",
              "  <th>Dep. Variable:</th>           <td>y</td>        <th>  No. Observations:  </th>  <td>  2811</td>  \n",
              "</tr>\n",
              "<tr>\n",
              "  <th>Model:</th>                <td>MNLogit</td>     <th>  Df Residuals:      </th>  <td>  2803</td>  \n",
              "</tr>\n",
              "<tr>\n",
              "  <th>Method:</th>                 <td>MLE</td>       <th>  Df Model:          </th>  <td>     4</td>  \n",
              "</tr>\n",
              "<tr>\n",
              "  <th>Date:</th>            <td>Thu, 25 May 2023</td> <th>  Pseudo R-squ.:     </th> <td>0.0007101</td>\n",
              "</tr>\n",
              "<tr>\n",
              "  <th>Time:</th>                <td>13:35:24</td>     <th>  Log-Likelihood:    </th> <td> -4034.7</td> \n",
              "</tr>\n",
              "<tr>\n",
              "  <th>converged:</th>             <td>True</td>       <th>  LL-Null:           </th> <td> -4037.6</td> \n",
              "</tr>\n",
              "<tr>\n",
              "  <th>Covariance Type:</th>     <td>nonrobust</td>    <th>  LLR p-value:       </th>  <td>0.2199</td>  \n",
              "</tr>\n",
              "</table>\n",
              "<table class=\"simpletable\">\n",
              "<tr>\n",
              "  <th>y=NEU</th>    <th>coef</th>     <th>std err</th>      <th>z</th>      <th>P>|z|</th>  <th>[0.025</th>    <th>0.975]</th>  \n",
              "</tr>\n",
              "<tr>\n",
              "  <th>const</th> <td>    1.4020</td> <td>    0.074</td> <td>   18.832</td> <td> 0.000</td> <td>    1.256</td> <td>    1.548</td>\n",
              "</tr>\n",
              "<tr>\n",
              "  <th>x1</th>    <td>    0.0879</td> <td>    0.465</td> <td>    0.189</td> <td> 0.850</td> <td>   -0.824</td> <td>    1.000</td>\n",
              "</tr>\n",
              "<tr>\n",
              "   <th>y=P</th>     <th>coef</th>     <th>std err</th>      <th>z</th>      <th>P>|z|</th>  <th>[0.025</th>    <th>0.975]</th>  \n",
              "</tr>\n",
              "<tr>\n",
              "  <th>const</th> <td>    0.6460</td> <td>    0.082</td> <td>    7.839</td> <td> 0.000</td> <td>    0.485</td> <td>    0.808</td>\n",
              "</tr>\n",
              "<tr>\n",
              "  <th>x1</th>    <td>   -0.0865</td> <td>    0.520</td> <td>   -0.166</td> <td> 0.868</td> <td>   -1.106</td> <td>    0.933</td>\n",
              "</tr>\n",
              "<tr>\n",
              "  <th>y=VN</th>     <th>coef</th>     <th>std err</th>      <th>z</th>      <th>P>|z|</th>  <th>[0.025</th>    <th>0.975]</th>  \n",
              "</tr>\n",
              "<tr>\n",
              "  <th>const</th> <td>   -0.3661</td> <td>    0.104</td> <td>   -3.531</td> <td> 0.000</td> <td>   -0.569</td> <td>   -0.163</td>\n",
              "</tr>\n",
              "<tr>\n",
              "  <th>x1</th>    <td>    0.4515</td> <td>    0.618</td> <td>    0.731</td> <td> 0.465</td> <td>   -0.759</td> <td>    1.662</td>\n",
              "</tr>\n",
              "<tr>\n",
              "  <th>y=VP</th>     <th>coef</th>     <th>std err</th>      <th>z</th>      <th>P>|z|</th>  <th>[0.025</th>    <th>0.975]</th>  \n",
              "</tr>\n",
              "<tr>\n",
              "  <th>const</th> <td>    0.7685</td> <td>    0.081</td> <td>    9.475</td> <td> 0.000</td> <td>    0.610</td> <td>    0.927</td>\n",
              "</tr>\n",
              "<tr>\n",
              "  <th>x1</th>    <td>   -0.7010</td> <td>    0.536</td> <td>   -1.309</td> <td> 0.191</td> <td>   -1.751</td> <td>    0.349</td>\n",
              "</tr>\n",
              "</table>"
            ]
          },
          "metadata": {},
          "execution_count": 34
        }
      ]
    }
  ]
}