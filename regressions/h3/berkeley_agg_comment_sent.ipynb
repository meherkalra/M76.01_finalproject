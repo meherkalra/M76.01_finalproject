{
  "nbformat": 4,
  "nbformat_minor": 0,
  "metadata": {
    "colab": {
      "provenance": []
    },
    "kernelspec": {
      "name": "python3",
      "display_name": "Python 3"
    },
    "language_info": {
      "name": "python"
    }
  },
  "cells": [
    {
      "cell_type": "code",
      "source": [
        "from google.colab import drive\n",
        "drive.mount('/content/drive', force_remount=True)"
      ],
      "metadata": {
        "colab": {
          "base_uri": "https://localhost:8080/"
        },
        "id": "XoVQKCfU9kJK",
        "outputId": "55ed0e0f-7562-4644-952d-77d7b74b88d3"
      },
      "execution_count": 1,
      "outputs": [
        {
          "output_type": "stream",
          "name": "stdout",
          "text": [
            "Mounted at /content/drive\n"
          ]
        }
      ]
    },
    {
      "cell_type": "code",
      "execution_count": 2,
      "metadata": {
        "id": "0xrzVku-gsx3"
      },
      "outputs": [],
      "source": [
        "import numpy as np\n",
        "import pandas as pd\n",
        "import statsmodels.api as sm\n",
        "import matplotlib.pyplot as plt\n",
        "%config InlineBackend.figure_format = \"svg\"\n",
        "import pprint \n",
        "pp = pprint.PrettyPrinter(indent=4)"
      ]
    },
    {
      "cell_type": "code",
      "source": [
        "!pip install vaderSentiment"
      ],
      "metadata": {
        "colab": {
          "base_uri": "https://localhost:8080/"
        },
        "id": "jYw5yfihGORN",
        "outputId": "0e953586-0f9d-4baa-997d-b178a54731c7"
      },
      "execution_count": 6,
      "outputs": [
        {
          "output_type": "stream",
          "name": "stdout",
          "text": [
            "Looking in indexes: https://pypi.org/simple, https://us-python.pkg.dev/colab-wheels/public/simple/\n",
            "Collecting vaderSentiment\n",
            "  Downloading vaderSentiment-3.3.2-py2.py3-none-any.whl (125 kB)\n",
            "\u001b[2K     \u001b[90m━━━━━━━━━━━━━━━━━━━━━━━━━━━━━━━━━━━━━━━\u001b[0m \u001b[32m126.0/126.0 kB\u001b[0m \u001b[31m3.5 MB/s\u001b[0m eta \u001b[36m0:00:00\u001b[0m\n",
            "\u001b[?25hRequirement already satisfied: requests in /usr/local/lib/python3.10/dist-packages (from vaderSentiment) (2.27.1)\n",
            "Requirement already satisfied: urllib3<1.27,>=1.21.1 in /usr/local/lib/python3.10/dist-packages (from requests->vaderSentiment) (1.26.15)\n",
            "Requirement already satisfied: certifi>=2017.4.17 in /usr/local/lib/python3.10/dist-packages (from requests->vaderSentiment) (2022.12.7)\n",
            "Requirement already satisfied: charset-normalizer~=2.0.0 in /usr/local/lib/python3.10/dist-packages (from requests->vaderSentiment) (2.0.12)\n",
            "Requirement already satisfied: idna<4,>=2.5 in /usr/local/lib/python3.10/dist-packages (from requests->vaderSentiment) (3.4)\n",
            "Installing collected packages: vaderSentiment\n",
            "Successfully installed vaderSentiment-3.3.2\n"
          ]
        }
      ]
    },
    {
      "cell_type": "code",
      "source": [
        "from vaderSentiment.vaderSentiment import SentimentIntensityAnalyzer\n",
        "analyzer = SentimentIntensityAnalyzer()"
      ],
      "metadata": {
        "id": "oSZQqSkiGhrW"
      },
      "execution_count": 8,
      "outputs": []
    },
    {
      "cell_type": "code",
      "source": [
        "# import sentiment and graph data\n",
        "sentiment_df_dtypes = {'id':'str', 'author':'str', 'score':'float', 'upvote_ratio':'float', 'num_comments':'int',\n",
        "       'subreddit':'str', 'selftext':'str', 'comments':'object', 'post_sentiment_dict':'object',\n",
        "       'post_pos_sentiment':'float', 'post_neg_sentiment':'float', 'post_compound_sentiment':'float'}\n",
        "# change path as per your drive \n",
        "berkeley_sentiment_df = pd.read_csv('processed_data/berkeley/berkeley_sentiment_new.csv', dtype=sentiment_df_dtypes, usecols=sentiment_df_dtypes.keys())\n"
      ],
      "metadata": {
        "id": "A9eDNP36hK5V"
      },
      "execution_count": 3,
      "outputs": []
    },
    {
      "cell_type": "code",
      "source": [
        "berkeley_sentiment_df"
      ],
      "metadata": {
        "colab": {
          "base_uri": "https://localhost:8080/",
          "height": 1000
        },
        "id": "SziFfEqZdlb4",
        "outputId": "0af0b9d1-16b2-41b1-f9b6-088bdffeafc0"
      },
      "execution_count": 7,
      "outputs": [
        {
          "output_type": "execute_result",
          "data": {
            "text/plain": [
              "          id             author  score  upvote_ratio  num_comments subreddit  \\\n",
              "0     jryusf          yoyoyaass  374.0          0.97            43  berkeley   \n",
              "1    12825pi    yogurtchicken21  434.0          0.99            29  berkeley   \n",
              "2     p88cbe             ylc217  417.0          0.82           137  berkeley   \n",
              "3    10ygfry             yapoyt  411.0          0.95            74  berkeley   \n",
              "4     wgjc64   xosarasparklesxo  371.0          0.99            41  berkeley   \n",
              "..       ...                ...    ...           ...           ...       ...   \n",
              "333   pbqj3b           712588Kf  342.0          0.99            24  berkeley   \n",
              "334   p0tx3l           712588Kf  341.0          0.97            21  berkeley   \n",
              "335   prcxvy           712588Kf  333.0          0.98            20  berkeley   \n",
              "336   gi3j9s  31makeitmakesense  639.0          0.93           185  berkeley   \n",
              "337   n5wa1v        -feelalive-  514.0          0.98            77  berkeley   \n",
              "\n",
              "                                              selftext  \\\n",
              "0                                  😙✌️ who else feels?   \n",
              "1                                       Not my picture   \n",
              "2    I’m probably going to get downvoted for this b...   \n",
              "3    I just got into Cal early with a regents and c...   \n",
              "4    I hopped on AC 52 on Bancroft, headed away fro...   \n",
              "..                                                 ...   \n",
              "333  I couldn’t afford to pay the $130 for my Chem ...   \n",
              "334  I can’t wait for me to be living in my apartme...   \n",
              "335  This means a lot to me considering I was a rea...   \n",
              "336  This year, Berkeley's [top graduate](https://n...   \n",
              "337  makes me feel so much better bout my ucla reje...   \n",
              "\n",
              "                                              comments  \\\n",
              "0    [{'author': 'buckyspunisher', 'body': 'Haha ye...   \n",
              "1    [{'author': 'compstomper1', 'body': 'or flying...   \n",
              "2    [{'author': 'BrainyCardinal45', 'body': '@Deba...   \n",
              "3    [{'author': 'Money_Equivalent6439', 'body': 'A...   \n",
              "4    [{'author': 'Important_Ad_3688', 'body': 'This...   \n",
              "..                                                 ...   \n",
              "333  [{'author': 'sunoosupremacy', 'body': 'that is...   \n",
              "334  [{'author': 'PotentiallyExplosive', 'body': \"i...   \n",
              "335  [{'author': 'LugnutsK', 'body': 'B for Berkele...   \n",
              "336  [{'author': 'gotransfersgobears', 'body': \"The...   \n",
              "337  [{'author': 'None', 'body': 'Number 1 in the w...   \n",
              "\n",
              "                                   post_sentiment_dict  post_pos_sentiment  \\\n",
              "0    {'neg': 0.0, 'neu': 0.544, 'pos': 0.456, 'comp...               0.456   \n",
              "1    {'neg': 0.0, 'neu': 1.0, 'pos': 0.0, 'compound...               0.000   \n",
              "2    {'neg': 0.041, 'neu': 0.705, 'pos': 0.254, 'co...               0.254   \n",
              "3    {'neg': 0.0, 'neu': 0.787, 'pos': 0.213, 'comp...               0.213   \n",
              "4    {'neg': 0.074, 'neu': 0.91, 'pos': 0.016, 'com...               0.016   \n",
              "..                                                 ...                 ...   \n",
              "333  {'neg': 0.067, 'neu': 0.834, 'pos': 0.099, 'co...               0.099   \n",
              "334  {'neg': 0.0, 'neu': 0.927, 'pos': 0.073, 'comp...               0.073   \n",
              "335  {'neg': 0.071, 'neu': 0.929, 'pos': 0.0, 'comp...               0.000   \n",
              "336  {'neg': 0.048, 'neu': 0.861, 'pos': 0.091, 'co...               0.091   \n",
              "337  {'neg': 0.103, 'neu': 0.472, 'pos': 0.424, 'co...               0.424   \n",
              "\n",
              "     post_neg_sentiment  post_compound_sentiment  \n",
              "0                 0.000                   0.7717  \n",
              "1                 0.000                   0.0000  \n",
              "2                 0.041                   0.9933  \n",
              "3                 0.000                   0.9500  \n",
              "4                 0.074                  -0.8477  \n",
              "..                  ...                      ...  \n",
              "333               0.067                   0.4795  \n",
              "334               0.000                   0.6956  \n",
              "335               0.071                  -0.2831  \n",
              "336               0.048                   0.8948  \n",
              "337               0.103                   0.8974  \n",
              "\n",
              "[338 rows x 12 columns]"
            ],
            "text/html": [
              "\n",
              "  <div id=\"df-038f1c2d-60be-4482-aec0-232384cd6f85\">\n",
              "    <div class=\"colab-df-container\">\n",
              "      <div>\n",
              "<style scoped>\n",
              "    .dataframe tbody tr th:only-of-type {\n",
              "        vertical-align: middle;\n",
              "    }\n",
              "\n",
              "    .dataframe tbody tr th {\n",
              "        vertical-align: top;\n",
              "    }\n",
              "\n",
              "    .dataframe thead th {\n",
              "        text-align: right;\n",
              "    }\n",
              "</style>\n",
              "<table border=\"1\" class=\"dataframe\">\n",
              "  <thead>\n",
              "    <tr style=\"text-align: right;\">\n",
              "      <th></th>\n",
              "      <th>id</th>\n",
              "      <th>author</th>\n",
              "      <th>score</th>\n",
              "      <th>upvote_ratio</th>\n",
              "      <th>num_comments</th>\n",
              "      <th>subreddit</th>\n",
              "      <th>selftext</th>\n",
              "      <th>comments</th>\n",
              "      <th>post_sentiment_dict</th>\n",
              "      <th>post_pos_sentiment</th>\n",
              "      <th>post_neg_sentiment</th>\n",
              "      <th>post_compound_sentiment</th>\n",
              "    </tr>\n",
              "  </thead>\n",
              "  <tbody>\n",
              "    <tr>\n",
              "      <th>0</th>\n",
              "      <td>jryusf</td>\n",
              "      <td>yoyoyaass</td>\n",
              "      <td>374.0</td>\n",
              "      <td>0.97</td>\n",
              "      <td>43</td>\n",
              "      <td>berkeley</td>\n",
              "      <td>😙✌️ who else feels?</td>\n",
              "      <td>[{'author': 'buckyspunisher', 'body': 'Haha ye...</td>\n",
              "      <td>{'neg': 0.0, 'neu': 0.544, 'pos': 0.456, 'comp...</td>\n",
              "      <td>0.456</td>\n",
              "      <td>0.000</td>\n",
              "      <td>0.7717</td>\n",
              "    </tr>\n",
              "    <tr>\n",
              "      <th>1</th>\n",
              "      <td>12825pi</td>\n",
              "      <td>yogurtchicken21</td>\n",
              "      <td>434.0</td>\n",
              "      <td>0.99</td>\n",
              "      <td>29</td>\n",
              "      <td>berkeley</td>\n",
              "      <td>Not my picture</td>\n",
              "      <td>[{'author': 'compstomper1', 'body': 'or flying...</td>\n",
              "      <td>{'neg': 0.0, 'neu': 1.0, 'pos': 0.0, 'compound...</td>\n",
              "      <td>0.000</td>\n",
              "      <td>0.000</td>\n",
              "      <td>0.0000</td>\n",
              "    </tr>\n",
              "    <tr>\n",
              "      <th>2</th>\n",
              "      <td>p88cbe</td>\n",
              "      <td>ylc217</td>\n",
              "      <td>417.0</td>\n",
              "      <td>0.82</td>\n",
              "      <td>137</td>\n",
              "      <td>berkeley</td>\n",
              "      <td>I’m probably going to get downvoted for this b...</td>\n",
              "      <td>[{'author': 'BrainyCardinal45', 'body': '@Deba...</td>\n",
              "      <td>{'neg': 0.041, 'neu': 0.705, 'pos': 0.254, 'co...</td>\n",
              "      <td>0.254</td>\n",
              "      <td>0.041</td>\n",
              "      <td>0.9933</td>\n",
              "    </tr>\n",
              "    <tr>\n",
              "      <th>3</th>\n",
              "      <td>10ygfry</td>\n",
              "      <td>yapoyt</td>\n",
              "      <td>411.0</td>\n",
              "      <td>0.95</td>\n",
              "      <td>74</td>\n",
              "      <td>berkeley</td>\n",
              "      <td>I just got into Cal early with a regents and c...</td>\n",
              "      <td>[{'author': 'Money_Equivalent6439', 'body': 'A...</td>\n",
              "      <td>{'neg': 0.0, 'neu': 0.787, 'pos': 0.213, 'comp...</td>\n",
              "      <td>0.213</td>\n",
              "      <td>0.000</td>\n",
              "      <td>0.9500</td>\n",
              "    </tr>\n",
              "    <tr>\n",
              "      <th>4</th>\n",
              "      <td>wgjc64</td>\n",
              "      <td>xosarasparklesxo</td>\n",
              "      <td>371.0</td>\n",
              "      <td>0.99</td>\n",
              "      <td>41</td>\n",
              "      <td>berkeley</td>\n",
              "      <td>I hopped on AC 52 on Bancroft, headed away fro...</td>\n",
              "      <td>[{'author': 'Important_Ad_3688', 'body': 'This...</td>\n",
              "      <td>{'neg': 0.074, 'neu': 0.91, 'pos': 0.016, 'com...</td>\n",
              "      <td>0.016</td>\n",
              "      <td>0.074</td>\n",
              "      <td>-0.8477</td>\n",
              "    </tr>\n",
              "    <tr>\n",
              "      <th>...</th>\n",
              "      <td>...</td>\n",
              "      <td>...</td>\n",
              "      <td>...</td>\n",
              "      <td>...</td>\n",
              "      <td>...</td>\n",
              "      <td>...</td>\n",
              "      <td>...</td>\n",
              "      <td>...</td>\n",
              "      <td>...</td>\n",
              "      <td>...</td>\n",
              "      <td>...</td>\n",
              "      <td>...</td>\n",
              "    </tr>\n",
              "    <tr>\n",
              "      <th>333</th>\n",
              "      <td>pbqj3b</td>\n",
              "      <td>712588Kf</td>\n",
              "      <td>342.0</td>\n",
              "      <td>0.99</td>\n",
              "      <td>24</td>\n",
              "      <td>berkeley</td>\n",
              "      <td>I couldn’t afford to pay the $130 for my Chem ...</td>\n",
              "      <td>[{'author': 'sunoosupremacy', 'body': 'that is...</td>\n",
              "      <td>{'neg': 0.067, 'neu': 0.834, 'pos': 0.099, 'co...</td>\n",
              "      <td>0.099</td>\n",
              "      <td>0.067</td>\n",
              "      <td>0.4795</td>\n",
              "    </tr>\n",
              "    <tr>\n",
              "      <th>334</th>\n",
              "      <td>p0tx3l</td>\n",
              "      <td>712588Kf</td>\n",
              "      <td>341.0</td>\n",
              "      <td>0.97</td>\n",
              "      <td>21</td>\n",
              "      <td>berkeley</td>\n",
              "      <td>I can’t wait for me to be living in my apartme...</td>\n",
              "      <td>[{'author': 'PotentiallyExplosive', 'body': \"i...</td>\n",
              "      <td>{'neg': 0.0, 'neu': 0.927, 'pos': 0.073, 'comp...</td>\n",
              "      <td>0.073</td>\n",
              "      <td>0.000</td>\n",
              "      <td>0.6956</td>\n",
              "    </tr>\n",
              "    <tr>\n",
              "      <th>335</th>\n",
              "      <td>prcxvy</td>\n",
              "      <td>712588Kf</td>\n",
              "      <td>333.0</td>\n",
              "      <td>0.98</td>\n",
              "      <td>20</td>\n",
              "      <td>berkeley</td>\n",
              "      <td>This means a lot to me considering I was a rea...</td>\n",
              "      <td>[{'author': 'LugnutsK', 'body': 'B for Berkele...</td>\n",
              "      <td>{'neg': 0.071, 'neu': 0.929, 'pos': 0.0, 'comp...</td>\n",
              "      <td>0.000</td>\n",
              "      <td>0.071</td>\n",
              "      <td>-0.2831</td>\n",
              "    </tr>\n",
              "    <tr>\n",
              "      <th>336</th>\n",
              "      <td>gi3j9s</td>\n",
              "      <td>31makeitmakesense</td>\n",
              "      <td>639.0</td>\n",
              "      <td>0.93</td>\n",
              "      <td>185</td>\n",
              "      <td>berkeley</td>\n",
              "      <td>This year, Berkeley's [top graduate](https://n...</td>\n",
              "      <td>[{'author': 'gotransfersgobears', 'body': \"The...</td>\n",
              "      <td>{'neg': 0.048, 'neu': 0.861, 'pos': 0.091, 'co...</td>\n",
              "      <td>0.091</td>\n",
              "      <td>0.048</td>\n",
              "      <td>0.8948</td>\n",
              "    </tr>\n",
              "    <tr>\n",
              "      <th>337</th>\n",
              "      <td>n5wa1v</td>\n",
              "      <td>-feelalive-</td>\n",
              "      <td>514.0</td>\n",
              "      <td>0.98</td>\n",
              "      <td>77</td>\n",
              "      <td>berkeley</td>\n",
              "      <td>makes me feel so much better bout my ucla reje...</td>\n",
              "      <td>[{'author': 'None', 'body': 'Number 1 in the w...</td>\n",
              "      <td>{'neg': 0.103, 'neu': 0.472, 'pos': 0.424, 'co...</td>\n",
              "      <td>0.424</td>\n",
              "      <td>0.103</td>\n",
              "      <td>0.8974</td>\n",
              "    </tr>\n",
              "  </tbody>\n",
              "</table>\n",
              "<p>338 rows × 12 columns</p>\n",
              "</div>\n",
              "      <button class=\"colab-df-convert\" onclick=\"convertToInteractive('df-038f1c2d-60be-4482-aec0-232384cd6f85')\"\n",
              "              title=\"Convert this dataframe to an interactive table.\"\n",
              "              style=\"display:none;\">\n",
              "        \n",
              "  <svg xmlns=\"http://www.w3.org/2000/svg\" height=\"24px\"viewBox=\"0 0 24 24\"\n",
              "       width=\"24px\">\n",
              "    <path d=\"M0 0h24v24H0V0z\" fill=\"none\"/>\n",
              "    <path d=\"M18.56 5.44l.94 2.06.94-2.06 2.06-.94-2.06-.94-.94-2.06-.94 2.06-2.06.94zm-11 1L8.5 8.5l.94-2.06 2.06-.94-2.06-.94L8.5 2.5l-.94 2.06-2.06.94zm10 10l.94 2.06.94-2.06 2.06-.94-2.06-.94-.94-2.06-.94 2.06-2.06.94z\"/><path d=\"M17.41 7.96l-1.37-1.37c-.4-.4-.92-.59-1.43-.59-.52 0-1.04.2-1.43.59L10.3 9.45l-7.72 7.72c-.78.78-.78 2.05 0 2.83L4 21.41c.39.39.9.59 1.41.59.51 0 1.02-.2 1.41-.59l7.78-7.78 2.81-2.81c.8-.78.8-2.07 0-2.86zM5.41 20L4 18.59l7.72-7.72 1.47 1.35L5.41 20z\"/>\n",
              "  </svg>\n",
              "      </button>\n",
              "      \n",
              "  <style>\n",
              "    .colab-df-container {\n",
              "      display:flex;\n",
              "      flex-wrap:wrap;\n",
              "      gap: 12px;\n",
              "    }\n",
              "\n",
              "    .colab-df-convert {\n",
              "      background-color: #E8F0FE;\n",
              "      border: none;\n",
              "      border-radius: 50%;\n",
              "      cursor: pointer;\n",
              "      display: none;\n",
              "      fill: #1967D2;\n",
              "      height: 32px;\n",
              "      padding: 0 0 0 0;\n",
              "      width: 32px;\n",
              "    }\n",
              "\n",
              "    .colab-df-convert:hover {\n",
              "      background-color: #E2EBFA;\n",
              "      box-shadow: 0px 1px 2px rgba(60, 64, 67, 0.3), 0px 1px 3px 1px rgba(60, 64, 67, 0.15);\n",
              "      fill: #174EA6;\n",
              "    }\n",
              "\n",
              "    [theme=dark] .colab-df-convert {\n",
              "      background-color: #3B4455;\n",
              "      fill: #D2E3FC;\n",
              "    }\n",
              "\n",
              "    [theme=dark] .colab-df-convert:hover {\n",
              "      background-color: #434B5C;\n",
              "      box-shadow: 0px 1px 3px 1px rgba(0, 0, 0, 0.15);\n",
              "      filter: drop-shadow(0px 1px 2px rgba(0, 0, 0, 0.3));\n",
              "      fill: #FFFFFF;\n",
              "    }\n",
              "  </style>\n",
              "\n",
              "      <script>\n",
              "        const buttonEl =\n",
              "          document.querySelector('#df-038f1c2d-60be-4482-aec0-232384cd6f85 button.colab-df-convert');\n",
              "        buttonEl.style.display =\n",
              "          google.colab.kernel.accessAllowed ? 'block' : 'none';\n",
              "\n",
              "        async function convertToInteractive(key) {\n",
              "          const element = document.querySelector('#df-038f1c2d-60be-4482-aec0-232384cd6f85');\n",
              "          const dataTable =\n",
              "            await google.colab.kernel.invokeFunction('convertToInteractive',\n",
              "                                                     [key], {});\n",
              "          if (!dataTable) return;\n",
              "\n",
              "          const docLinkHtml = 'Like what you see? Visit the ' +\n",
              "            '<a target=\"_blank\" href=https://colab.research.google.com/notebooks/data_table.ipynb>data table notebook</a>'\n",
              "            + ' to learn more about interactive tables.';\n",
              "          element.innerHTML = '';\n",
              "          dataTable['output_type'] = 'display_data';\n",
              "          await google.colab.output.renderOutput(dataTable, element);\n",
              "          const docLink = document.createElement('div');\n",
              "          docLink.innerHTML = docLinkHtml;\n",
              "          element.appendChild(docLink);\n",
              "        }\n",
              "      </script>\n",
              "    </div>\n",
              "  </div>\n",
              "  "
            ]
          },
          "metadata": {},
          "execution_count": 7
        }
      ]
    },
    {
      "cell_type": "code",
      "source": [
        "def compute_aggregated_comment_sentiment_simple(comment_list):\n",
        "  res_dict = {'neg':0.0, 'pos':0.0, 'compound':0.0}\n",
        "  for comment_dict in comment_list:\n",
        "    comment_sentiment_dict = analyzer.polarity_scores(comment_dict['body'])\n",
        "    res_dict['neg'] += comment_sentiment_dict['neg']\n",
        "    res_dict['pos'] += comment_sentiment_dict['pos']\n",
        "    res_dict['compound'] += comment_sentiment_dict['compound']\n",
        "\n",
        "  return res_dict"
      ],
      "metadata": {
        "id": "OJfAcGl2GW6F"
      },
      "execution_count": 9,
      "outputs": []
    },
    {
      "cell_type": "code",
      "source": [],
      "metadata": {
        "id": "kds_St-VGTk6"
      },
      "execution_count": null,
      "outputs": []
    },
    {
      "cell_type": "code",
      "source": [
        "# berkeley_sentiment_df['comments'] = berkeley_sentiment_df['comments'].apply(lambda x: eval(x))\n",
        "berkeley_sentiment_df['agg_comment_sentiment_dict'] = berkeley_sentiment_df['comments'].apply(lambda x: compute_aggregated_comment_sentiment_simple(x))\n",
        "# berkeley_sentiment_df['post_sentiment_dict'] = berkeley_sentiment_df['post_sentiment_dict'].apply(lambda x: eval(x))"
      ],
      "metadata": {
        "id": "durnAki3hVTr"
      },
      "execution_count": 12,
      "outputs": []
    },
    {
      "cell_type": "code",
      "source": [
        "berkeley_sentiment_df['agg_comment_compound'] = berkeley_sentiment_df['agg_comment_sentiment_dict'].apply(lambda x: x['compound'])\n",
        "berkeley_sentiment_df['agg_comment_pos']  = berkeley_sentiment_df['agg_comment_sentiment_dict'].apply(lambda x: x['pos'])\n",
        "berkeley_sentiment_df['agg_comment_neg'] = berkeley_sentiment_df['agg_comment_sentiment_dict'].apply(lambda x: x['neg'])"
      ],
      "metadata": {
        "id": "XbeesBkSHb9W"
      },
      "execution_count": 16,
      "outputs": []
    },
    {
      "cell_type": "code",
      "source": [
        "# import centrality data\n",
        "centrality_df_dtype = {'author':'str', 'btw_centrality':'float', 'deg_centrality':'float',\n",
        "       'eig_centrality':'float', 'pagerank':'float', 'clustering_coeff':'float'}\n",
        "berkeley_centrality_df = pd.read_csv('processed_data/berkeley/berkeley_centrality_poster.csv', dtype=centrality_df_dtype, usecols=centrality_df_dtype.keys())"
      ],
      "metadata": {
        "id": "iOlY_YYgiAiL"
      },
      "execution_count": 15,
      "outputs": []
    },
    {
      "cell_type": "code",
      "source": [
        "berkeley_regression_df = berkeley_sentiment_df[['author', 'post_pos_sentiment', 'post_neg_sentiment', 'num_comments',\n",
        "       'post_compound_sentiment', 'agg_comment_compound', 'agg_comment_pos', 'agg_comment_neg', 'upvote_ratio']].merge(berkeley_centrality_df, on='author', how='left')"
      ],
      "metadata": {
        "id": "UC-_GCxqiH6d"
      },
      "execution_count": 26,
      "outputs": []
    },
    {
      "cell_type": "code",
      "source": [
        "berkeley_regression_df"
      ],
      "metadata": {
        "colab": {
          "base_uri": "https://localhost:8080/",
          "height": 487
        },
        "id": "JcqMTSiqXw7y",
        "outputId": "146f8674-f02a-4985-bde5-bbe5df85d2f1"
      },
      "execution_count": 18,
      "outputs": [
        {
          "output_type": "execute_result",
          "data": {
            "text/plain": [
              "                author  post_pos_sentiment  post_neg_sentiment  num_comments  \\\n",
              "0            yoyoyaass               0.456               0.000            43   \n",
              "1      yogurtchicken21               0.000               0.000            29   \n",
              "2               ylc217               0.254               0.041           137   \n",
              "3               yapoyt               0.213               0.000            74   \n",
              "4     xosarasparklesxo               0.016               0.074            41   \n",
              "..                 ...                 ...                 ...           ...   \n",
              "333           712588Kf               0.099               0.067            24   \n",
              "334           712588Kf               0.073               0.000            21   \n",
              "335           712588Kf               0.000               0.071            20   \n",
              "336  31makeitmakesense               0.091               0.048           185   \n",
              "337        -feelalive-               0.424               0.103            77   \n",
              "\n",
              "     post_compound_sentiment  agg_comment_compound  agg_comment_pos  \\\n",
              "0                     0.7717               11.8611           10.292   \n",
              "1                     0.0000                5.0289            3.175   \n",
              "2                     0.9933                3.0333           14.053   \n",
              "3                     0.9500               26.9142           22.455   \n",
              "4                    -0.8477                2.1721            5.516   \n",
              "..                       ...                   ...              ...   \n",
              "333                   0.4795               13.8448            9.061   \n",
              "334                   0.6956                5.9056            4.023   \n",
              "335                  -0.2831                9.0280            7.309   \n",
              "336                   0.8948               52.3311           30.264   \n",
              "337                   0.8974               18.1257           12.995   \n",
              "\n",
              "     agg_comment_neg  btw_centrality  deg_centrality  eig_centrality  \\\n",
              "0              4.127        0.004013        0.005352        0.034852   \n",
              "1              1.179        0.003474        0.004349        0.030464   \n",
              "2             10.777        0.008372        0.010370        0.046298   \n",
              "3              3.480        0.013246        0.010871        0.029187   \n",
              "4              4.100        0.001975        0.003847        0.026871   \n",
              "..               ...             ...             ...             ...   \n",
              "333            0.655        0.010548        0.014216        0.059700   \n",
              "334            1.281        0.010548        0.014216        0.059700   \n",
              "335            0.618        0.010548        0.014216        0.059700   \n",
              "336           15.007        0.009727        0.010202        0.037159   \n",
              "337            4.058        0.004604        0.007861        0.040415   \n",
              "\n",
              "     pagerank  clustering_coeff  \n",
              "0    0.000167          0.038306  \n",
              "1    0.000167          0.036923  \n",
              "2    0.000167          0.016393  \n",
              "3    0.000167          0.000962  \n",
              "4    0.000167          0.019763  \n",
              "..        ...               ...  \n",
              "333  0.000167          0.012605  \n",
              "334  0.000167          0.012605  \n",
              "335  0.000167          0.012605  \n",
              "336  0.000167          0.008743  \n",
              "337  0.000167          0.018501  \n",
              "\n",
              "[338 rows x 13 columns]"
            ],
            "text/html": [
              "\n",
              "  <div id=\"df-8373ee6b-fcfc-4965-8a39-0791add5f2eb\">\n",
              "    <div class=\"colab-df-container\">\n",
              "      <div>\n",
              "<style scoped>\n",
              "    .dataframe tbody tr th:only-of-type {\n",
              "        vertical-align: middle;\n",
              "    }\n",
              "\n",
              "    .dataframe tbody tr th {\n",
              "        vertical-align: top;\n",
              "    }\n",
              "\n",
              "    .dataframe thead th {\n",
              "        text-align: right;\n",
              "    }\n",
              "</style>\n",
              "<table border=\"1\" class=\"dataframe\">\n",
              "  <thead>\n",
              "    <tr style=\"text-align: right;\">\n",
              "      <th></th>\n",
              "      <th>author</th>\n",
              "      <th>post_pos_sentiment</th>\n",
              "      <th>post_neg_sentiment</th>\n",
              "      <th>num_comments</th>\n",
              "      <th>post_compound_sentiment</th>\n",
              "      <th>agg_comment_compound</th>\n",
              "      <th>agg_comment_pos</th>\n",
              "      <th>agg_comment_neg</th>\n",
              "      <th>btw_centrality</th>\n",
              "      <th>deg_centrality</th>\n",
              "      <th>eig_centrality</th>\n",
              "      <th>pagerank</th>\n",
              "      <th>clustering_coeff</th>\n",
              "    </tr>\n",
              "  </thead>\n",
              "  <tbody>\n",
              "    <tr>\n",
              "      <th>0</th>\n",
              "      <td>yoyoyaass</td>\n",
              "      <td>0.456</td>\n",
              "      <td>0.000</td>\n",
              "      <td>43</td>\n",
              "      <td>0.7717</td>\n",
              "      <td>11.8611</td>\n",
              "      <td>10.292</td>\n",
              "      <td>4.127</td>\n",
              "      <td>0.004013</td>\n",
              "      <td>0.005352</td>\n",
              "      <td>0.034852</td>\n",
              "      <td>0.000167</td>\n",
              "      <td>0.038306</td>\n",
              "    </tr>\n",
              "    <tr>\n",
              "      <th>1</th>\n",
              "      <td>yogurtchicken21</td>\n",
              "      <td>0.000</td>\n",
              "      <td>0.000</td>\n",
              "      <td>29</td>\n",
              "      <td>0.0000</td>\n",
              "      <td>5.0289</td>\n",
              "      <td>3.175</td>\n",
              "      <td>1.179</td>\n",
              "      <td>0.003474</td>\n",
              "      <td>0.004349</td>\n",
              "      <td>0.030464</td>\n",
              "      <td>0.000167</td>\n",
              "      <td>0.036923</td>\n",
              "    </tr>\n",
              "    <tr>\n",
              "      <th>2</th>\n",
              "      <td>ylc217</td>\n",
              "      <td>0.254</td>\n",
              "      <td>0.041</td>\n",
              "      <td>137</td>\n",
              "      <td>0.9933</td>\n",
              "      <td>3.0333</td>\n",
              "      <td>14.053</td>\n",
              "      <td>10.777</td>\n",
              "      <td>0.008372</td>\n",
              "      <td>0.010370</td>\n",
              "      <td>0.046298</td>\n",
              "      <td>0.000167</td>\n",
              "      <td>0.016393</td>\n",
              "    </tr>\n",
              "    <tr>\n",
              "      <th>3</th>\n",
              "      <td>yapoyt</td>\n",
              "      <td>0.213</td>\n",
              "      <td>0.000</td>\n",
              "      <td>74</td>\n",
              "      <td>0.9500</td>\n",
              "      <td>26.9142</td>\n",
              "      <td>22.455</td>\n",
              "      <td>3.480</td>\n",
              "      <td>0.013246</td>\n",
              "      <td>0.010871</td>\n",
              "      <td>0.029187</td>\n",
              "      <td>0.000167</td>\n",
              "      <td>0.000962</td>\n",
              "    </tr>\n",
              "    <tr>\n",
              "      <th>4</th>\n",
              "      <td>xosarasparklesxo</td>\n",
              "      <td>0.016</td>\n",
              "      <td>0.074</td>\n",
              "      <td>41</td>\n",
              "      <td>-0.8477</td>\n",
              "      <td>2.1721</td>\n",
              "      <td>5.516</td>\n",
              "      <td>4.100</td>\n",
              "      <td>0.001975</td>\n",
              "      <td>0.003847</td>\n",
              "      <td>0.026871</td>\n",
              "      <td>0.000167</td>\n",
              "      <td>0.019763</td>\n",
              "    </tr>\n",
              "    <tr>\n",
              "      <th>...</th>\n",
              "      <td>...</td>\n",
              "      <td>...</td>\n",
              "      <td>...</td>\n",
              "      <td>...</td>\n",
              "      <td>...</td>\n",
              "      <td>...</td>\n",
              "      <td>...</td>\n",
              "      <td>...</td>\n",
              "      <td>...</td>\n",
              "      <td>...</td>\n",
              "      <td>...</td>\n",
              "      <td>...</td>\n",
              "      <td>...</td>\n",
              "    </tr>\n",
              "    <tr>\n",
              "      <th>333</th>\n",
              "      <td>712588Kf</td>\n",
              "      <td>0.099</td>\n",
              "      <td>0.067</td>\n",
              "      <td>24</td>\n",
              "      <td>0.4795</td>\n",
              "      <td>13.8448</td>\n",
              "      <td>9.061</td>\n",
              "      <td>0.655</td>\n",
              "      <td>0.010548</td>\n",
              "      <td>0.014216</td>\n",
              "      <td>0.059700</td>\n",
              "      <td>0.000167</td>\n",
              "      <td>0.012605</td>\n",
              "    </tr>\n",
              "    <tr>\n",
              "      <th>334</th>\n",
              "      <td>712588Kf</td>\n",
              "      <td>0.073</td>\n",
              "      <td>0.000</td>\n",
              "      <td>21</td>\n",
              "      <td>0.6956</td>\n",
              "      <td>5.9056</td>\n",
              "      <td>4.023</td>\n",
              "      <td>1.281</td>\n",
              "      <td>0.010548</td>\n",
              "      <td>0.014216</td>\n",
              "      <td>0.059700</td>\n",
              "      <td>0.000167</td>\n",
              "      <td>0.012605</td>\n",
              "    </tr>\n",
              "    <tr>\n",
              "      <th>335</th>\n",
              "      <td>712588Kf</td>\n",
              "      <td>0.000</td>\n",
              "      <td>0.071</td>\n",
              "      <td>20</td>\n",
              "      <td>-0.2831</td>\n",
              "      <td>9.0280</td>\n",
              "      <td>7.309</td>\n",
              "      <td>0.618</td>\n",
              "      <td>0.010548</td>\n",
              "      <td>0.014216</td>\n",
              "      <td>0.059700</td>\n",
              "      <td>0.000167</td>\n",
              "      <td>0.012605</td>\n",
              "    </tr>\n",
              "    <tr>\n",
              "      <th>336</th>\n",
              "      <td>31makeitmakesense</td>\n",
              "      <td>0.091</td>\n",
              "      <td>0.048</td>\n",
              "      <td>185</td>\n",
              "      <td>0.8948</td>\n",
              "      <td>52.3311</td>\n",
              "      <td>30.264</td>\n",
              "      <td>15.007</td>\n",
              "      <td>0.009727</td>\n",
              "      <td>0.010202</td>\n",
              "      <td>0.037159</td>\n",
              "      <td>0.000167</td>\n",
              "      <td>0.008743</td>\n",
              "    </tr>\n",
              "    <tr>\n",
              "      <th>337</th>\n",
              "      <td>-feelalive-</td>\n",
              "      <td>0.424</td>\n",
              "      <td>0.103</td>\n",
              "      <td>77</td>\n",
              "      <td>0.8974</td>\n",
              "      <td>18.1257</td>\n",
              "      <td>12.995</td>\n",
              "      <td>4.058</td>\n",
              "      <td>0.004604</td>\n",
              "      <td>0.007861</td>\n",
              "      <td>0.040415</td>\n",
              "      <td>0.000167</td>\n",
              "      <td>0.018501</td>\n",
              "    </tr>\n",
              "  </tbody>\n",
              "</table>\n",
              "<p>338 rows × 13 columns</p>\n",
              "</div>\n",
              "      <button class=\"colab-df-convert\" onclick=\"convertToInteractive('df-8373ee6b-fcfc-4965-8a39-0791add5f2eb')\"\n",
              "              title=\"Convert this dataframe to an interactive table.\"\n",
              "              style=\"display:none;\">\n",
              "        \n",
              "  <svg xmlns=\"http://www.w3.org/2000/svg\" height=\"24px\"viewBox=\"0 0 24 24\"\n",
              "       width=\"24px\">\n",
              "    <path d=\"M0 0h24v24H0V0z\" fill=\"none\"/>\n",
              "    <path d=\"M18.56 5.44l.94 2.06.94-2.06 2.06-.94-2.06-.94-.94-2.06-.94 2.06-2.06.94zm-11 1L8.5 8.5l.94-2.06 2.06-.94-2.06-.94L8.5 2.5l-.94 2.06-2.06.94zm10 10l.94 2.06.94-2.06 2.06-.94-2.06-.94-.94-2.06-.94 2.06-2.06.94z\"/><path d=\"M17.41 7.96l-1.37-1.37c-.4-.4-.92-.59-1.43-.59-.52 0-1.04.2-1.43.59L10.3 9.45l-7.72 7.72c-.78.78-.78 2.05 0 2.83L4 21.41c.39.39.9.59 1.41.59.51 0 1.02-.2 1.41-.59l7.78-7.78 2.81-2.81c.8-.78.8-2.07 0-2.86zM5.41 20L4 18.59l7.72-7.72 1.47 1.35L5.41 20z\"/>\n",
              "  </svg>\n",
              "      </button>\n",
              "      \n",
              "  <style>\n",
              "    .colab-df-container {\n",
              "      display:flex;\n",
              "      flex-wrap:wrap;\n",
              "      gap: 12px;\n",
              "    }\n",
              "\n",
              "    .colab-df-convert {\n",
              "      background-color: #E8F0FE;\n",
              "      border: none;\n",
              "      border-radius: 50%;\n",
              "      cursor: pointer;\n",
              "      display: none;\n",
              "      fill: #1967D2;\n",
              "      height: 32px;\n",
              "      padding: 0 0 0 0;\n",
              "      width: 32px;\n",
              "    }\n",
              "\n",
              "    .colab-df-convert:hover {\n",
              "      background-color: #E2EBFA;\n",
              "      box-shadow: 0px 1px 2px rgba(60, 64, 67, 0.3), 0px 1px 3px 1px rgba(60, 64, 67, 0.15);\n",
              "      fill: #174EA6;\n",
              "    }\n",
              "\n",
              "    [theme=dark] .colab-df-convert {\n",
              "      background-color: #3B4455;\n",
              "      fill: #D2E3FC;\n",
              "    }\n",
              "\n",
              "    [theme=dark] .colab-df-convert:hover {\n",
              "      background-color: #434B5C;\n",
              "      box-shadow: 0px 1px 3px 1px rgba(0, 0, 0, 0.15);\n",
              "      filter: drop-shadow(0px 1px 2px rgba(0, 0, 0, 0.3));\n",
              "      fill: #FFFFFF;\n",
              "    }\n",
              "  </style>\n",
              "\n",
              "      <script>\n",
              "        const buttonEl =\n",
              "          document.querySelector('#df-8373ee6b-fcfc-4965-8a39-0791add5f2eb button.colab-df-convert');\n",
              "        buttonEl.style.display =\n",
              "          google.colab.kernel.accessAllowed ? 'block' : 'none';\n",
              "\n",
              "        async function convertToInteractive(key) {\n",
              "          const element = document.querySelector('#df-8373ee6b-fcfc-4965-8a39-0791add5f2eb');\n",
              "          const dataTable =\n",
              "            await google.colab.kernel.invokeFunction('convertToInteractive',\n",
              "                                                     [key], {});\n",
              "          if (!dataTable) return;\n",
              "\n",
              "          const docLinkHtml = 'Like what you see? Visit the ' +\n",
              "            '<a target=\"_blank\" href=https://colab.research.google.com/notebooks/data_table.ipynb>data table notebook</a>'\n",
              "            + ' to learn more about interactive tables.';\n",
              "          element.innerHTML = '';\n",
              "          dataTable['output_type'] = 'display_data';\n",
              "          await google.colab.output.renderOutput(dataTable, element);\n",
              "          const docLink = document.createElement('div');\n",
              "          docLink.innerHTML = docLinkHtml;\n",
              "          element.appendChild(docLink);\n",
              "        }\n",
              "      </script>\n",
              "    </div>\n",
              "  </div>\n",
              "  "
            ]
          },
          "metadata": {},
          "execution_count": 18
        }
      ]
    },
    {
      "cell_type": "code",
      "source": [
        "berkeley_regression_avg_df = berkeley_regression_df.groupby('eig_centrality').mean()"
      ],
      "metadata": {
        "id": "hh_c6ObKWoQS",
        "colab": {
          "base_uri": "https://localhost:8080/"
        },
        "outputId": "93ad4c0e-82e8-4328-8cd7-afd0a6ff9343"
      },
      "execution_count": 27,
      "outputs": [
        {
          "output_type": "stream",
          "name": "stderr",
          "text": [
            "<ipython-input-27-7a314f1c2971>:1: FutureWarning: The default value of numeric_only in DataFrameGroupBy.mean is deprecated. In a future version, numeric_only will default to False. Either specify numeric_only or select only columns which should be valid for the function.\n",
            "  berkeley_regression_avg_df = berkeley_regression_df.groupby('eig_centrality').mean()\n"
          ]
        }
      ]
    },
    {
      "cell_type": "code",
      "source": [
        "berkeley_regression_avg_df = berkeley_regression_avg_df.reset_index()"
      ],
      "metadata": {
        "id": "95bH5qv2YOiR"
      },
      "execution_count": 28,
      "outputs": []
    },
    {
      "cell_type": "code",
      "source": [
        "berkeley_regression_avg_df.columns"
      ],
      "metadata": {
        "colab": {
          "base_uri": "https://localhost:8080/"
        },
        "id": "A9gfZzorikfz",
        "outputId": "3e958e40-4fbf-476e-e135-33395d13b832"
      },
      "execution_count": 32,
      "outputs": [
        {
          "output_type": "execute_result",
          "data": {
            "text/plain": [
              "Index(['eig_centrality', 'post_pos_sentiment', 'post_neg_sentiment',\n",
              "       'num_comments', 'post_compound_sentiment', 'agg_comment_compound',\n",
              "       'agg_comment_pos', 'agg_comment_neg', 'upvote_ratio', 'btw_centrality',\n",
              "       'deg_centrality', 'pagerank', 'clustering_coeff'],\n",
              "      dtype='object')"
            ]
          },
          "metadata": {},
          "execution_count": 32
        }
      ]
    },
    {
      "cell_type": "code",
      "source": [
        "plt.hist(berkeley_regression_avg_df[berkeley_regression_avg_df['eig_centrality'] < 0.15]['eig_centrality'].values.tolist(), bins= 100)"
      ],
      "metadata": {
        "colab": {
          "base_uri": "https://localhost:8080/",
          "height": 938
        },
        "id": "Iy4jS_27Nbgd",
        "outputId": "1f495c6b-bdd2-4d76-bf6f-15654d4c47f9"
      },
      "execution_count": null,
      "outputs": [
        {
          "output_type": "execute_result",
          "data": {
            "text/plain": [
              "(array([ 5.,  2.,  1.,  2.,  1.,  1.,  0.,  2.,  1.,  3.,  1.,  1.,  3.,\n",
              "         1.,  0.,  0.,  0.,  0.,  0.,  0.,  2.,  2.,  4.,  1., 10.,  7.,\n",
              "        13., 11.,  7., 10.,  5., 15., 11., 11., 10., 20.,  9.,  6.,  8.,\n",
              "         8.,  8.,  7.,  5.,  3.,  4.,  4.,  4.,  4.,  4.,  6.,  2.,  3.,\n",
              "         2.,  1.,  3.,  1.,  1.,  1.,  1.,  3.,  1.,  0.,  2.,  0.,  1.,\n",
              "         1.,  1.,  2.,  1.,  0.,  2.,  1.,  0.,  0.,  0.,  0.,  0.,  0.,\n",
              "         0.,  0.,  0.,  0.,  1.,  0.,  0.,  1.,  0.,  0.,  0.,  0.,  0.,\n",
              "         0.,  0.,  0.,  1.,  0.,  0.,  0.,  0.,  1.]),\n",
              " array([0.00122586, 0.00207854, 0.00293122, 0.0037839 , 0.00463657,\n",
              "        0.00548925, 0.00634193, 0.00719461, 0.00804729, 0.00889997,\n",
              "        0.00975265, 0.01060532, 0.011458  , 0.01231068, 0.01316336,\n",
              "        0.01401604, 0.01486872, 0.01572139, 0.01657407, 0.01742675,\n",
              "        0.01827943, 0.01913211, 0.01998479, 0.02083747, 0.02169014,\n",
              "        0.02254282, 0.0233955 , 0.02424818, 0.02510086, 0.02595354,\n",
              "        0.02680621, 0.02765889, 0.02851157, 0.02936425, 0.03021693,\n",
              "        0.03106961, 0.03192228, 0.03277496, 0.03362764, 0.03448032,\n",
              "        0.035333  , 0.03618568, 0.03703836, 0.03789103, 0.03874371,\n",
              "        0.03959639, 0.04044907, 0.04130175, 0.04215443, 0.0430071 ,\n",
              "        0.04385978, 0.04471246, 0.04556514, 0.04641782, 0.0472705 ,\n",
              "        0.04812318, 0.04897585, 0.04982853, 0.05068121, 0.05153389,\n",
              "        0.05238657, 0.05323925, 0.05409192, 0.0549446 , 0.05579728,\n",
              "        0.05664996, 0.05750264, 0.05835532, 0.059208  , 0.06006067,\n",
              "        0.06091335, 0.06176603, 0.06261871, 0.06347139, 0.06432407,\n",
              "        0.06517674, 0.06602942, 0.0668821 , 0.06773478, 0.06858746,\n",
              "        0.06944014, 0.07029281, 0.07114549, 0.07199817, 0.07285085,\n",
              "        0.07370353, 0.07455621, 0.07540889, 0.07626156, 0.07711424,\n",
              "        0.07796692, 0.0788196 , 0.07967228, 0.08052496, 0.08137763,\n",
              "        0.08223031, 0.08308299, 0.08393567, 0.08478835, 0.08564103,\n",
              "        0.08649371]),\n",
              " <BarContainer object of 100 artists>)"
            ]
          },
          "metadata": {},
          "execution_count": 17
        },
        {
          "output_type": "display_data",
          "data": {
            "text/plain": [
              "<Figure size 640x480 with 1 Axes>"
            ],
            "image/svg+xml": "<?xml version=\"1.0\" encoding=\"utf-8\" standalone=\"no\"?>\n<!DOCTYPE svg PUBLIC \"-//W3C//DTD SVG 1.1//EN\"\n  \"http://www.w3.org/Graphics/SVG/1.1/DTD/svg11.dtd\">\n<svg xmlns:xlink=\"http://www.w3.org/1999/xlink\" width=\"400.785625pt\" height=\"297.190125pt\" viewBox=\"0 0 400.785625 297.190125\" xmlns=\"http://www.w3.org/2000/svg\" version=\"1.1\">\n <metadata>\n  <rdf:RDF xmlns:dc=\"http://purl.org/dc/elements/1.1/\" xmlns:cc=\"http://creativecommons.org/ns#\" xmlns:rdf=\"http://www.w3.org/1999/02/22-rdf-syntax-ns#\">\n   <cc:Work>\n    <dc:type rdf:resource=\"http://purl.org/dc/dcmitype/StillImage\"/>\n    <dc:date>2023-06-03T18:25:08.032684</dc:date>\n    <dc:format>image/svg+xml</dc:format>\n    <dc:creator>\n     <cc:Agent>\n      <dc:title>Matplotlib v3.7.1, https://matplotlib.org/</dc:title>\n     </cc:Agent>\n    </dc:creator>\n   </cc:Work>\n  </rdf:RDF>\n </metadata>\n <defs>\n  <style type=\"text/css\">*{stroke-linejoin: round; stroke-linecap: butt}</style>\n </defs>\n <g id=\"figure_1\">\n  <g id=\"patch_1\">\n   <path d=\"M 0 297.190125 \nL 400.785625 297.190125 \nL 400.785625 0 \nL 0 0 \nz\n\" style=\"fill: #ffffff\"/>\n  </g>\n  <g id=\"axes_1\">\n   <g id=\"patch_2\">\n    <path d=\"M 36.465625 273.312 \nL 393.585625 273.312 \nL 393.585625 7.2 \nL 36.465625 7.2 \nz\n\" style=\"fill: #ffffff\"/>\n   </g>\n   <g id=\"patch_3\">\n    <path d=\"M 52.698352 273.312 \nL 55.944898 273.312 \nL 55.944898 209.952 \nL 52.698352 209.952 \nz\n\" clip-path=\"url(#pe81d300160)\" style=\"fill: #1f77b4\"/>\n   </g>\n   <g id=\"patch_4\">\n    <path d=\"M 55.944898 273.312 \nL 59.191443 273.312 \nL 59.191443 247.968 \nL 55.944898 247.968 \nz\n\" clip-path=\"url(#pe81d300160)\" style=\"fill: #1f77b4\"/>\n   </g>\n   <g id=\"patch_5\">\n    <path d=\"M 59.191443 273.312 \nL 62.437989 273.312 \nL 62.437989 260.64 \nL 59.191443 260.64 \nz\n\" clip-path=\"url(#pe81d300160)\" style=\"fill: #1f77b4\"/>\n   </g>\n   <g id=\"patch_6\">\n    <path d=\"M 62.437989 273.312 \nL 65.684534 273.312 \nL 65.684534 247.968 \nL 62.437989 247.968 \nz\n\" clip-path=\"url(#pe81d300160)\" style=\"fill: #1f77b4\"/>\n   </g>\n   <g id=\"patch_7\">\n    <path d=\"M 65.684534 273.312 \nL 68.93108 273.312 \nL 68.93108 260.64 \nL 65.684534 260.64 \nz\n\" clip-path=\"url(#pe81d300160)\" style=\"fill: #1f77b4\"/>\n   </g>\n   <g id=\"patch_8\">\n    <path d=\"M 68.93108 273.312 \nL 72.177625 273.312 \nL 72.177625 260.64 \nL 68.93108 260.64 \nz\n\" clip-path=\"url(#pe81d300160)\" style=\"fill: #1f77b4\"/>\n   </g>\n   <g id=\"patch_9\">\n    <path d=\"M 72.177625 273.312 \nL 75.42417 273.312 \nL 75.42417 273.312 \nL 72.177625 273.312 \nz\n\" clip-path=\"url(#pe81d300160)\" style=\"fill: #1f77b4\"/>\n   </g>\n   <g id=\"patch_10\">\n    <path d=\"M 75.42417 273.312 \nL 78.670716 273.312 \nL 78.670716 247.968 \nL 75.42417 247.968 \nz\n\" clip-path=\"url(#pe81d300160)\" style=\"fill: #1f77b4\"/>\n   </g>\n   <g id=\"patch_11\">\n    <path d=\"M 78.670716 273.312 \nL 81.917261 273.312 \nL 81.917261 260.64 \nL 78.670716 260.64 \nz\n\" clip-path=\"url(#pe81d300160)\" style=\"fill: #1f77b4\"/>\n   </g>\n   <g id=\"patch_12\">\n    <path d=\"M 81.917261 273.312 \nL 85.163807 273.312 \nL 85.163807 235.296 \nL 81.917261 235.296 \nz\n\" clip-path=\"url(#pe81d300160)\" style=\"fill: #1f77b4\"/>\n   </g>\n   <g id=\"patch_13\">\n    <path d=\"M 85.163807 273.312 \nL 88.410352 273.312 \nL 88.410352 260.64 \nL 85.163807 260.64 \nz\n\" clip-path=\"url(#pe81d300160)\" style=\"fill: #1f77b4\"/>\n   </g>\n   <g id=\"patch_14\">\n    <path d=\"M 88.410352 273.312 \nL 91.656898 273.312 \nL 91.656898 260.64 \nL 88.410352 260.64 \nz\n\" clip-path=\"url(#pe81d300160)\" style=\"fill: #1f77b4\"/>\n   </g>\n   <g id=\"patch_15\">\n    <path d=\"M 91.656898 273.312 \nL 94.903443 273.312 \nL 94.903443 235.296 \nL 91.656898 235.296 \nz\n\" clip-path=\"url(#pe81d300160)\" style=\"fill: #1f77b4\"/>\n   </g>\n   <g id=\"patch_16\">\n    <path d=\"M 94.903443 273.312 \nL 98.149989 273.312 \nL 98.149989 260.64 \nL 94.903443 260.64 \nz\n\" clip-path=\"url(#pe81d300160)\" style=\"fill: #1f77b4\"/>\n   </g>\n   <g id=\"patch_17\">\n    <path d=\"M 98.149989 273.312 \nL 101.396534 273.312 \nL 101.396534 273.312 \nL 98.149989 273.312 \nz\n\" clip-path=\"url(#pe81d300160)\" style=\"fill: #1f77b4\"/>\n   </g>\n   <g id=\"patch_18\">\n    <path d=\"M 101.396534 273.312 \nL 104.64308 273.312 \nL 104.64308 273.312 \nL 101.396534 273.312 \nz\n\" clip-path=\"url(#pe81d300160)\" style=\"fill: #1f77b4\"/>\n   </g>\n   <g id=\"patch_19\">\n    <path d=\"M 104.64308 273.312 \nL 107.889625 273.312 \nL 107.889625 273.312 \nL 104.64308 273.312 \nz\n\" clip-path=\"url(#pe81d300160)\" style=\"fill: #1f77b4\"/>\n   </g>\n   <g id=\"patch_20\">\n    <path d=\"M 107.889625 273.312 \nL 111.13617 273.312 \nL 111.13617 273.312 \nL 107.889625 273.312 \nz\n\" clip-path=\"url(#pe81d300160)\" style=\"fill: #1f77b4\"/>\n   </g>\n   <g id=\"patch_21\">\n    <path d=\"M 111.13617 273.312 \nL 114.382716 273.312 \nL 114.382716 273.312 \nL 111.13617 273.312 \nz\n\" clip-path=\"url(#pe81d300160)\" style=\"fill: #1f77b4\"/>\n   </g>\n   <g id=\"patch_22\">\n    <path d=\"M 114.382716 273.312 \nL 117.629261 273.312 \nL 117.629261 273.312 \nL 114.382716 273.312 \nz\n\" clip-path=\"url(#pe81d300160)\" style=\"fill: #1f77b4\"/>\n   </g>\n   <g id=\"patch_23\">\n    <path d=\"M 117.629261 273.312 \nL 120.875807 273.312 \nL 120.875807 247.968 \nL 117.629261 247.968 \nz\n\" clip-path=\"url(#pe81d300160)\" style=\"fill: #1f77b4\"/>\n   </g>\n   <g id=\"patch_24\">\n    <path d=\"M 120.875807 273.312 \nL 124.122352 273.312 \nL 124.122352 247.968 \nL 120.875807 247.968 \nz\n\" clip-path=\"url(#pe81d300160)\" style=\"fill: #1f77b4\"/>\n   </g>\n   <g id=\"patch_25\">\n    <path d=\"M 124.122352 273.312 \nL 127.368898 273.312 \nL 127.368898 222.624 \nL 124.122352 222.624 \nz\n\" clip-path=\"url(#pe81d300160)\" style=\"fill: #1f77b4\"/>\n   </g>\n   <g id=\"patch_26\">\n    <path d=\"M 127.368898 273.312 \nL 130.615443 273.312 \nL 130.615443 260.64 \nL 127.368898 260.64 \nz\n\" clip-path=\"url(#pe81d300160)\" style=\"fill: #1f77b4\"/>\n   </g>\n   <g id=\"patch_27\">\n    <path d=\"M 130.615443 273.312 \nL 133.861989 273.312 \nL 133.861989 146.592 \nL 130.615443 146.592 \nz\n\" clip-path=\"url(#pe81d300160)\" style=\"fill: #1f77b4\"/>\n   </g>\n   <g id=\"patch_28\">\n    <path d=\"M 133.861989 273.312 \nL 137.108534 273.312 \nL 137.108534 184.608 \nL 133.861989 184.608 \nz\n\" clip-path=\"url(#pe81d300160)\" style=\"fill: #1f77b4\"/>\n   </g>\n   <g id=\"patch_29\">\n    <path d=\"M 137.108534 273.312 \nL 140.35508 273.312 \nL 140.35508 108.576 \nL 137.108534 108.576 \nz\n\" clip-path=\"url(#pe81d300160)\" style=\"fill: #1f77b4\"/>\n   </g>\n   <g id=\"patch_30\">\n    <path d=\"M 140.35508 273.312 \nL 143.601625 273.312 \nL 143.601625 133.92 \nL 140.35508 133.92 \nz\n\" clip-path=\"url(#pe81d300160)\" style=\"fill: #1f77b4\"/>\n   </g>\n   <g id=\"patch_31\">\n    <path d=\"M 143.601625 273.312 \nL 146.84817 273.312 \nL 146.84817 184.608 \nL 143.601625 184.608 \nz\n\" clip-path=\"url(#pe81d300160)\" style=\"fill: #1f77b4\"/>\n   </g>\n   <g id=\"patch_32\">\n    <path d=\"M 146.84817 273.312 \nL 150.094716 273.312 \nL 150.094716 146.592 \nL 146.84817 146.592 \nz\n\" clip-path=\"url(#pe81d300160)\" style=\"fill: #1f77b4\"/>\n   </g>\n   <g id=\"patch_33\">\n    <path d=\"M 150.094716 273.312 \nL 153.341261 273.312 \nL 153.341261 209.952 \nL 150.094716 209.952 \nz\n\" clip-path=\"url(#pe81d300160)\" style=\"fill: #1f77b4\"/>\n   </g>\n   <g id=\"patch_34\">\n    <path d=\"M 153.341261 273.312 \nL 156.587807 273.312 \nL 156.587807 83.232 \nL 153.341261 83.232 \nz\n\" clip-path=\"url(#pe81d300160)\" style=\"fill: #1f77b4\"/>\n   </g>\n   <g id=\"patch_35\">\n    <path d=\"M 156.587807 273.312 \nL 159.834352 273.312 \nL 159.834352 133.92 \nL 156.587807 133.92 \nz\n\" clip-path=\"url(#pe81d300160)\" style=\"fill: #1f77b4\"/>\n   </g>\n   <g id=\"patch_36\">\n    <path d=\"M 159.834352 273.312 \nL 163.080898 273.312 \nL 163.080898 133.92 \nL 159.834352 133.92 \nz\n\" clip-path=\"url(#pe81d300160)\" style=\"fill: #1f77b4\"/>\n   </g>\n   <g id=\"patch_37\">\n    <path d=\"M 163.080898 273.312 \nL 166.327443 273.312 \nL 166.327443 146.592 \nL 163.080898 146.592 \nz\n\" clip-path=\"url(#pe81d300160)\" style=\"fill: #1f77b4\"/>\n   </g>\n   <g id=\"patch_38\">\n    <path d=\"M 166.327443 273.312 \nL 169.573989 273.312 \nL 169.573989 19.872 \nL 166.327443 19.872 \nz\n\" clip-path=\"url(#pe81d300160)\" style=\"fill: #1f77b4\"/>\n   </g>\n   <g id=\"patch_39\">\n    <path d=\"M 169.573989 273.312 \nL 172.820534 273.312 \nL 172.820534 159.264 \nL 169.573989 159.264 \nz\n\" clip-path=\"url(#pe81d300160)\" style=\"fill: #1f77b4\"/>\n   </g>\n   <g id=\"patch_40\">\n    <path d=\"M 172.820534 273.312 \nL 176.06708 273.312 \nL 176.06708 197.28 \nL 172.820534 197.28 \nz\n\" clip-path=\"url(#pe81d300160)\" style=\"fill: #1f77b4\"/>\n   </g>\n   <g id=\"patch_41\">\n    <path d=\"M 176.06708 273.312 \nL 179.313625 273.312 \nL 179.313625 171.936 \nL 176.06708 171.936 \nz\n\" clip-path=\"url(#pe81d300160)\" style=\"fill: #1f77b4\"/>\n   </g>\n   <g id=\"patch_42\">\n    <path d=\"M 179.313625 273.312 \nL 182.56017 273.312 \nL 182.56017 171.936 \nL 179.313625 171.936 \nz\n\" clip-path=\"url(#pe81d300160)\" style=\"fill: #1f77b4\"/>\n   </g>\n   <g id=\"patch_43\">\n    <path d=\"M 182.56017 273.312 \nL 185.806716 273.312 \nL 185.806716 171.936 \nL 182.56017 171.936 \nz\n\" clip-path=\"url(#pe81d300160)\" style=\"fill: #1f77b4\"/>\n   </g>\n   <g id=\"patch_44\">\n    <path d=\"M 185.806716 273.312 \nL 189.053261 273.312 \nL 189.053261 184.608 \nL 185.806716 184.608 \nz\n\" clip-path=\"url(#pe81d300160)\" style=\"fill: #1f77b4\"/>\n   </g>\n   <g id=\"patch_45\">\n    <path d=\"M 189.053261 273.312 \nL 192.299807 273.312 \nL 192.299807 209.952 \nL 189.053261 209.952 \nz\n\" clip-path=\"url(#pe81d300160)\" style=\"fill: #1f77b4\"/>\n   </g>\n   <g id=\"patch_46\">\n    <path d=\"M 192.299807 273.312 \nL 195.546352 273.312 \nL 195.546352 235.296 \nL 192.299807 235.296 \nz\n\" clip-path=\"url(#pe81d300160)\" style=\"fill: #1f77b4\"/>\n   </g>\n   <g id=\"patch_47\">\n    <path d=\"M 195.546352 273.312 \nL 198.792898 273.312 \nL 198.792898 222.624 \nL 195.546352 222.624 \nz\n\" clip-path=\"url(#pe81d300160)\" style=\"fill: #1f77b4\"/>\n   </g>\n   <g id=\"patch_48\">\n    <path d=\"M 198.792898 273.312 \nL 202.039443 273.312 \nL 202.039443 222.624 \nL 198.792898 222.624 \nz\n\" clip-path=\"url(#pe81d300160)\" style=\"fill: #1f77b4\"/>\n   </g>\n   <g id=\"patch_49\">\n    <path d=\"M 202.039443 273.312 \nL 205.285989 273.312 \nL 205.285989 222.624 \nL 202.039443 222.624 \nz\n\" clip-path=\"url(#pe81d300160)\" style=\"fill: #1f77b4\"/>\n   </g>\n   <g id=\"patch_50\">\n    <path d=\"M 205.285989 273.312 \nL 208.532534 273.312 \nL 208.532534 222.624 \nL 205.285989 222.624 \nz\n\" clip-path=\"url(#pe81d300160)\" style=\"fill: #1f77b4\"/>\n   </g>\n   <g id=\"patch_51\">\n    <path d=\"M 208.532534 273.312 \nL 211.77908 273.312 \nL 211.77908 222.624 \nL 208.532534 222.624 \nz\n\" clip-path=\"url(#pe81d300160)\" style=\"fill: #1f77b4\"/>\n   </g>\n   <g id=\"patch_52\">\n    <path d=\"M 211.77908 273.312 \nL 215.025625 273.312 \nL 215.025625 197.28 \nL 211.77908 197.28 \nz\n\" clip-path=\"url(#pe81d300160)\" style=\"fill: #1f77b4\"/>\n   </g>\n   <g id=\"patch_53\">\n    <path d=\"M 215.025625 273.312 \nL 218.27217 273.312 \nL 218.27217 247.968 \nL 215.025625 247.968 \nz\n\" clip-path=\"url(#pe81d300160)\" style=\"fill: #1f77b4\"/>\n   </g>\n   <g id=\"patch_54\">\n    <path d=\"M 218.27217 273.312 \nL 221.518716 273.312 \nL 221.518716 235.296 \nL 218.27217 235.296 \nz\n\" clip-path=\"url(#pe81d300160)\" style=\"fill: #1f77b4\"/>\n   </g>\n   <g id=\"patch_55\">\n    <path d=\"M 221.518716 273.312 \nL 224.765261 273.312 \nL 224.765261 247.968 \nL 221.518716 247.968 \nz\n\" clip-path=\"url(#pe81d300160)\" style=\"fill: #1f77b4\"/>\n   </g>\n   <g id=\"patch_56\">\n    <path d=\"M 224.765261 273.312 \nL 228.011807 273.312 \nL 228.011807 260.64 \nL 224.765261 260.64 \nz\n\" clip-path=\"url(#pe81d300160)\" style=\"fill: #1f77b4\"/>\n   </g>\n   <g id=\"patch_57\">\n    <path d=\"M 228.011807 273.312 \nL 231.258352 273.312 \nL 231.258352 235.296 \nL 228.011807 235.296 \nz\n\" clip-path=\"url(#pe81d300160)\" style=\"fill: #1f77b4\"/>\n   </g>\n   <g id=\"patch_58\">\n    <path d=\"M 231.258352 273.312 \nL 234.504898 273.312 \nL 234.504898 260.64 \nL 231.258352 260.64 \nz\n\" clip-path=\"url(#pe81d300160)\" style=\"fill: #1f77b4\"/>\n   </g>\n   <g id=\"patch_59\">\n    <path d=\"M 234.504898 273.312 \nL 237.751443 273.312 \nL 237.751443 260.64 \nL 234.504898 260.64 \nz\n\" clip-path=\"url(#pe81d300160)\" style=\"fill: #1f77b4\"/>\n   </g>\n   <g id=\"patch_60\">\n    <path d=\"M 237.751443 273.312 \nL 240.997989 273.312 \nL 240.997989 260.64 \nL 237.751443 260.64 \nz\n\" clip-path=\"url(#pe81d300160)\" style=\"fill: #1f77b4\"/>\n   </g>\n   <g id=\"patch_61\">\n    <path d=\"M 240.997989 273.312 \nL 244.244534 273.312 \nL 244.244534 260.64 \nL 240.997989 260.64 \nz\n\" clip-path=\"url(#pe81d300160)\" style=\"fill: #1f77b4\"/>\n   </g>\n   <g id=\"patch_62\">\n    <path d=\"M 244.244534 273.312 \nL 247.49108 273.312 \nL 247.49108 235.296 \nL 244.244534 235.296 \nz\n\" clip-path=\"url(#pe81d300160)\" style=\"fill: #1f77b4\"/>\n   </g>\n   <g id=\"patch_63\">\n    <path d=\"M 247.49108 273.312 \nL 250.737625 273.312 \nL 250.737625 260.64 \nL 247.49108 260.64 \nz\n\" clip-path=\"url(#pe81d300160)\" style=\"fill: #1f77b4\"/>\n   </g>\n   <g id=\"patch_64\">\n    <path d=\"M 250.737625 273.312 \nL 253.98417 273.312 \nL 253.98417 273.312 \nL 250.737625 273.312 \nz\n\" clip-path=\"url(#pe81d300160)\" style=\"fill: #1f77b4\"/>\n   </g>\n   <g id=\"patch_65\">\n    <path d=\"M 253.98417 273.312 \nL 257.230716 273.312 \nL 257.230716 247.968 \nL 253.98417 247.968 \nz\n\" clip-path=\"url(#pe81d300160)\" style=\"fill: #1f77b4\"/>\n   </g>\n   <g id=\"patch_66\">\n    <path d=\"M 257.230716 273.312 \nL 260.477261 273.312 \nL 260.477261 273.312 \nL 257.230716 273.312 \nz\n\" clip-path=\"url(#pe81d300160)\" style=\"fill: #1f77b4\"/>\n   </g>\n   <g id=\"patch_67\">\n    <path d=\"M 260.477261 273.312 \nL 263.723807 273.312 \nL 263.723807 260.64 \nL 260.477261 260.64 \nz\n\" clip-path=\"url(#pe81d300160)\" style=\"fill: #1f77b4\"/>\n   </g>\n   <g id=\"patch_68\">\n    <path d=\"M 263.723807 273.312 \nL 266.970352 273.312 \nL 266.970352 260.64 \nL 263.723807 260.64 \nz\n\" clip-path=\"url(#pe81d300160)\" style=\"fill: #1f77b4\"/>\n   </g>\n   <g id=\"patch_69\">\n    <path d=\"M 266.970352 273.312 \nL 270.216898 273.312 \nL 270.216898 260.64 \nL 266.970352 260.64 \nz\n\" clip-path=\"url(#pe81d300160)\" style=\"fill: #1f77b4\"/>\n   </g>\n   <g id=\"patch_70\">\n    <path d=\"M 270.216898 273.312 \nL 273.463443 273.312 \nL 273.463443 247.968 \nL 270.216898 247.968 \nz\n\" clip-path=\"url(#pe81d300160)\" style=\"fill: #1f77b4\"/>\n   </g>\n   <g id=\"patch_71\">\n    <path d=\"M 273.463443 273.312 \nL 276.709989 273.312 \nL 276.709989 260.64 \nL 273.463443 260.64 \nz\n\" clip-path=\"url(#pe81d300160)\" style=\"fill: #1f77b4\"/>\n   </g>\n   <g id=\"patch_72\">\n    <path d=\"M 276.709989 273.312 \nL 279.956534 273.312 \nL 279.956534 273.312 \nL 276.709989 273.312 \nz\n\" clip-path=\"url(#pe81d300160)\" style=\"fill: #1f77b4\"/>\n   </g>\n   <g id=\"patch_73\">\n    <path d=\"M 279.956534 273.312 \nL 283.20308 273.312 \nL 283.20308 247.968 \nL 279.956534 247.968 \nz\n\" clip-path=\"url(#pe81d300160)\" style=\"fill: #1f77b4\"/>\n   </g>\n   <g id=\"patch_74\">\n    <path d=\"M 283.20308 273.312 \nL 286.449625 273.312 \nL 286.449625 260.64 \nL 283.20308 260.64 \nz\n\" clip-path=\"url(#pe81d300160)\" style=\"fill: #1f77b4\"/>\n   </g>\n   <g id=\"patch_75\">\n    <path d=\"M 286.449625 273.312 \nL 289.69617 273.312 \nL 289.69617 273.312 \nL 286.449625 273.312 \nz\n\" clip-path=\"url(#pe81d300160)\" style=\"fill: #1f77b4\"/>\n   </g>\n   <g id=\"patch_76\">\n    <path d=\"M 289.69617 273.312 \nL 292.942716 273.312 \nL 292.942716 273.312 \nL 289.69617 273.312 \nz\n\" clip-path=\"url(#pe81d300160)\" style=\"fill: #1f77b4\"/>\n   </g>\n   <g id=\"patch_77\">\n    <path d=\"M 292.942716 273.312 \nL 296.189261 273.312 \nL 296.189261 273.312 \nL 292.942716 273.312 \nz\n\" clip-path=\"url(#pe81d300160)\" style=\"fill: #1f77b4\"/>\n   </g>\n   <g id=\"patch_78\">\n    <path d=\"M 296.189261 273.312 \nL 299.435807 273.312 \nL 299.435807 273.312 \nL 296.189261 273.312 \nz\n\" clip-path=\"url(#pe81d300160)\" style=\"fill: #1f77b4\"/>\n   </g>\n   <g id=\"patch_79\">\n    <path d=\"M 299.435807 273.312 \nL 302.682352 273.312 \nL 302.682352 273.312 \nL 299.435807 273.312 \nz\n\" clip-path=\"url(#pe81d300160)\" style=\"fill: #1f77b4\"/>\n   </g>\n   <g id=\"patch_80\">\n    <path d=\"M 302.682352 273.312 \nL 305.928898 273.312 \nL 305.928898 273.312 \nL 302.682352 273.312 \nz\n\" clip-path=\"url(#pe81d300160)\" style=\"fill: #1f77b4\"/>\n   </g>\n   <g id=\"patch_81\">\n    <path d=\"M 305.928898 273.312 \nL 309.175443 273.312 \nL 309.175443 273.312 \nL 305.928898 273.312 \nz\n\" clip-path=\"url(#pe81d300160)\" style=\"fill: #1f77b4\"/>\n   </g>\n   <g id=\"patch_82\">\n    <path d=\"M 309.175443 273.312 \nL 312.421989 273.312 \nL 312.421989 273.312 \nL 309.175443 273.312 \nz\n\" clip-path=\"url(#pe81d300160)\" style=\"fill: #1f77b4\"/>\n   </g>\n   <g id=\"patch_83\">\n    <path d=\"M 312.421989 273.312 \nL 315.668534 273.312 \nL 315.668534 273.312 \nL 312.421989 273.312 \nz\n\" clip-path=\"url(#pe81d300160)\" style=\"fill: #1f77b4\"/>\n   </g>\n   <g id=\"patch_84\">\n    <path d=\"M 315.668534 273.312 \nL 318.91508 273.312 \nL 318.91508 273.312 \nL 315.668534 273.312 \nz\n\" clip-path=\"url(#pe81d300160)\" style=\"fill: #1f77b4\"/>\n   </g>\n   <g id=\"patch_85\">\n    <path d=\"M 318.91508 273.312 \nL 322.161625 273.312 \nL 322.161625 260.64 \nL 318.91508 260.64 \nz\n\" clip-path=\"url(#pe81d300160)\" style=\"fill: #1f77b4\"/>\n   </g>\n   <g id=\"patch_86\">\n    <path d=\"M 322.161625 273.312 \nL 325.40817 273.312 \nL 325.40817 273.312 \nL 322.161625 273.312 \nz\n\" clip-path=\"url(#pe81d300160)\" style=\"fill: #1f77b4\"/>\n   </g>\n   <g id=\"patch_87\">\n    <path d=\"M 325.40817 273.312 \nL 328.654716 273.312 \nL 328.654716 273.312 \nL 325.40817 273.312 \nz\n\" clip-path=\"url(#pe81d300160)\" style=\"fill: #1f77b4\"/>\n   </g>\n   <g id=\"patch_88\">\n    <path d=\"M 328.654716 273.312 \nL 331.901261 273.312 \nL 331.901261 260.64 \nL 328.654716 260.64 \nz\n\" clip-path=\"url(#pe81d300160)\" style=\"fill: #1f77b4\"/>\n   </g>\n   <g id=\"patch_89\">\n    <path d=\"M 331.901261 273.312 \nL 335.147807 273.312 \nL 335.147807 273.312 \nL 331.901261 273.312 \nz\n\" clip-path=\"url(#pe81d300160)\" style=\"fill: #1f77b4\"/>\n   </g>\n   <g id=\"patch_90\">\n    <path d=\"M 335.147807 273.312 \nL 338.394352 273.312 \nL 338.394352 273.312 \nL 335.147807 273.312 \nz\n\" clip-path=\"url(#pe81d300160)\" style=\"fill: #1f77b4\"/>\n   </g>\n   <g id=\"patch_91\">\n    <path d=\"M 338.394352 273.312 \nL 341.640898 273.312 \nL 341.640898 273.312 \nL 338.394352 273.312 \nz\n\" clip-path=\"url(#pe81d300160)\" style=\"fill: #1f77b4\"/>\n   </g>\n   <g id=\"patch_92\">\n    <path d=\"M 341.640898 273.312 \nL 344.887443 273.312 \nL 344.887443 273.312 \nL 341.640898 273.312 \nz\n\" clip-path=\"url(#pe81d300160)\" style=\"fill: #1f77b4\"/>\n   </g>\n   <g id=\"patch_93\">\n    <path d=\"M 344.887443 273.312 \nL 348.133989 273.312 \nL 348.133989 273.312 \nL 344.887443 273.312 \nz\n\" clip-path=\"url(#pe81d300160)\" style=\"fill: #1f77b4\"/>\n   </g>\n   <g id=\"patch_94\">\n    <path d=\"M 348.133989 273.312 \nL 351.380534 273.312 \nL 351.380534 273.312 \nL 348.133989 273.312 \nz\n\" clip-path=\"url(#pe81d300160)\" style=\"fill: #1f77b4\"/>\n   </g>\n   <g id=\"patch_95\">\n    <path d=\"M 351.380534 273.312 \nL 354.62708 273.312 \nL 354.62708 273.312 \nL 351.380534 273.312 \nz\n\" clip-path=\"url(#pe81d300160)\" style=\"fill: #1f77b4\"/>\n   </g>\n   <g id=\"patch_96\">\n    <path d=\"M 354.62708 273.312 \nL 357.873625 273.312 \nL 357.873625 273.312 \nL 354.62708 273.312 \nz\n\" clip-path=\"url(#pe81d300160)\" style=\"fill: #1f77b4\"/>\n   </g>\n   <g id=\"patch_97\">\n    <path d=\"M 357.873625 273.312 \nL 361.12017 273.312 \nL 361.12017 260.64 \nL 357.873625 260.64 \nz\n\" clip-path=\"url(#pe81d300160)\" style=\"fill: #1f77b4\"/>\n   </g>\n   <g id=\"patch_98\">\n    <path d=\"M 361.12017 273.312 \nL 364.366716 273.312 \nL 364.366716 273.312 \nL 361.12017 273.312 \nz\n\" clip-path=\"url(#pe81d300160)\" style=\"fill: #1f77b4\"/>\n   </g>\n   <g id=\"patch_99\">\n    <path d=\"M 364.366716 273.312 \nL 367.613261 273.312 \nL 367.613261 273.312 \nL 364.366716 273.312 \nz\n\" clip-path=\"url(#pe81d300160)\" style=\"fill: #1f77b4\"/>\n   </g>\n   <g id=\"patch_100\">\n    <path d=\"M 367.613261 273.312 \nL 370.859807 273.312 \nL 370.859807 273.312 \nL 367.613261 273.312 \nz\n\" clip-path=\"url(#pe81d300160)\" style=\"fill: #1f77b4\"/>\n   </g>\n   <g id=\"patch_101\">\n    <path d=\"M 370.859807 273.312 \nL 374.106352 273.312 \nL 374.106352 273.312 \nL 370.859807 273.312 \nz\n\" clip-path=\"url(#pe81d300160)\" style=\"fill: #1f77b4\"/>\n   </g>\n   <g id=\"patch_102\">\n    <path d=\"M 374.106352 273.312 \nL 377.352898 273.312 \nL 377.352898 260.64 \nL 374.106352 260.64 \nz\n\" clip-path=\"url(#pe81d300160)\" style=\"fill: #1f77b4\"/>\n   </g>\n   <g id=\"matplotlib.axis_1\">\n    <g id=\"xtick_1\">\n     <g id=\"line2d_1\">\n      <defs>\n       <path id=\"m4998bbb108\" d=\"M 0 0 \nL 0 3.5 \n\" style=\"stroke: #000000; stroke-width: 0.8\"/>\n      </defs>\n      <g>\n       <use xlink:href=\"#m4998bbb108\" x=\"48.030927\" y=\"273.312\" style=\"stroke: #000000; stroke-width: 0.8\"/>\n      </g>\n     </g>\n     <g id=\"text_1\">\n      <!-- 0.00 -->\n      <g transform=\"translate(36.898114 287.910437) scale(0.1 -0.1)\">\n       <defs>\n        <path id=\"DejaVuSans-30\" d=\"M 2034 4250 \nQ 1547 4250 1301 3770 \nQ 1056 3291 1056 2328 \nQ 1056 1369 1301 889 \nQ 1547 409 2034 409 \nQ 2525 409 2770 889 \nQ 3016 1369 3016 2328 \nQ 3016 3291 2770 3770 \nQ 2525 4250 2034 4250 \nz\nM 2034 4750 \nQ 2819 4750 3233 4129 \nQ 3647 3509 3647 2328 \nQ 3647 1150 3233 529 \nQ 2819 -91 2034 -91 \nQ 1250 -91 836 529 \nQ 422 1150 422 2328 \nQ 422 3509 836 4129 \nQ 1250 4750 2034 4750 \nz\n\" transform=\"scale(0.015625)\"/>\n        <path id=\"DejaVuSans-2e\" d=\"M 684 794 \nL 1344 794 \nL 1344 0 \nL 684 0 \nL 684 794 \nz\n\" transform=\"scale(0.015625)\"/>\n       </defs>\n       <use xlink:href=\"#DejaVuSans-30\"/>\n       <use xlink:href=\"#DejaVuSans-2e\" x=\"63.623047\"/>\n       <use xlink:href=\"#DejaVuSans-30\" x=\"95.410156\"/>\n       <use xlink:href=\"#DejaVuSans-30\" x=\"159.033203\"/>\n      </g>\n     </g>\n    </g>\n    <g id=\"xtick_2\">\n     <g id=\"line2d_2\">\n      <g>\n       <use xlink:href=\"#m4998bbb108\" x=\"124.180276\" y=\"273.312\" style=\"stroke: #000000; stroke-width: 0.8\"/>\n      </g>\n     </g>\n     <g id=\"text_2\">\n      <!-- 0.02 -->\n      <g transform=\"translate(113.047464 287.910437) scale(0.1 -0.1)\">\n       <defs>\n        <path id=\"DejaVuSans-32\" d=\"M 1228 531 \nL 3431 531 \nL 3431 0 \nL 469 0 \nL 469 531 \nQ 828 903 1448 1529 \nQ 2069 2156 2228 2338 \nQ 2531 2678 2651 2914 \nQ 2772 3150 2772 3378 \nQ 2772 3750 2511 3984 \nQ 2250 4219 1831 4219 \nQ 1534 4219 1204 4116 \nQ 875 4013 500 3803 \nL 500 4441 \nQ 881 4594 1212 4672 \nQ 1544 4750 1819 4750 \nQ 2544 4750 2975 4387 \nQ 3406 4025 3406 3419 \nQ 3406 3131 3298 2873 \nQ 3191 2616 2906 2266 \nQ 2828 2175 2409 1742 \nQ 1991 1309 1228 531 \nz\n\" transform=\"scale(0.015625)\"/>\n       </defs>\n       <use xlink:href=\"#DejaVuSans-30\"/>\n       <use xlink:href=\"#DejaVuSans-2e\" x=\"63.623047\"/>\n       <use xlink:href=\"#DejaVuSans-30\" x=\"95.410156\"/>\n       <use xlink:href=\"#DejaVuSans-32\" x=\"159.033203\"/>\n      </g>\n     </g>\n    </g>\n    <g id=\"xtick_3\">\n     <g id=\"line2d_3\">\n      <g>\n       <use xlink:href=\"#m4998bbb108\" x=\"200.329626\" y=\"273.312\" style=\"stroke: #000000; stroke-width: 0.8\"/>\n      </g>\n     </g>\n     <g id=\"text_3\">\n      <!-- 0.04 -->\n      <g transform=\"translate(189.196814 287.910437) scale(0.1 -0.1)\">\n       <defs>\n        <path id=\"DejaVuSans-34\" d=\"M 2419 4116 \nL 825 1625 \nL 2419 1625 \nL 2419 4116 \nz\nM 2253 4666 \nL 3047 4666 \nL 3047 1625 \nL 3713 1625 \nL 3713 1100 \nL 3047 1100 \nL 3047 0 \nL 2419 0 \nL 2419 1100 \nL 313 1100 \nL 313 1709 \nL 2253 4666 \nz\n\" transform=\"scale(0.015625)\"/>\n       </defs>\n       <use xlink:href=\"#DejaVuSans-30\"/>\n       <use xlink:href=\"#DejaVuSans-2e\" x=\"63.623047\"/>\n       <use xlink:href=\"#DejaVuSans-30\" x=\"95.410156\"/>\n       <use xlink:href=\"#DejaVuSans-34\" x=\"159.033203\"/>\n      </g>\n     </g>\n    </g>\n    <g id=\"xtick_4\">\n     <g id=\"line2d_4\">\n      <g>\n       <use xlink:href=\"#m4998bbb108\" x=\"276.478976\" y=\"273.312\" style=\"stroke: #000000; stroke-width: 0.8\"/>\n      </g>\n     </g>\n     <g id=\"text_4\">\n      <!-- 0.06 -->\n      <g transform=\"translate(265.346164 287.910437) scale(0.1 -0.1)\">\n       <defs>\n        <path id=\"DejaVuSans-36\" d=\"M 2113 2584 \nQ 1688 2584 1439 2293 \nQ 1191 2003 1191 1497 \nQ 1191 994 1439 701 \nQ 1688 409 2113 409 \nQ 2538 409 2786 701 \nQ 3034 994 3034 1497 \nQ 3034 2003 2786 2293 \nQ 2538 2584 2113 2584 \nz\nM 3366 4563 \nL 3366 3988 \nQ 3128 4100 2886 4159 \nQ 2644 4219 2406 4219 \nQ 1781 4219 1451 3797 \nQ 1122 3375 1075 2522 \nQ 1259 2794 1537 2939 \nQ 1816 3084 2150 3084 \nQ 2853 3084 3261 2657 \nQ 3669 2231 3669 1497 \nQ 3669 778 3244 343 \nQ 2819 -91 2113 -91 \nQ 1303 -91 875 529 \nQ 447 1150 447 2328 \nQ 447 3434 972 4092 \nQ 1497 4750 2381 4750 \nQ 2619 4750 2861 4703 \nQ 3103 4656 3366 4563 \nz\n\" transform=\"scale(0.015625)\"/>\n       </defs>\n       <use xlink:href=\"#DejaVuSans-30\"/>\n       <use xlink:href=\"#DejaVuSans-2e\" x=\"63.623047\"/>\n       <use xlink:href=\"#DejaVuSans-30\" x=\"95.410156\"/>\n       <use xlink:href=\"#DejaVuSans-36\" x=\"159.033203\"/>\n      </g>\n     </g>\n    </g>\n    <g id=\"xtick_5\">\n     <g id=\"line2d_5\">\n      <g>\n       <use xlink:href=\"#m4998bbb108\" x=\"352.628326\" y=\"273.312\" style=\"stroke: #000000; stroke-width: 0.8\"/>\n      </g>\n     </g>\n     <g id=\"text_5\">\n      <!-- 0.08 -->\n      <g transform=\"translate(341.495514 287.910437) scale(0.1 -0.1)\">\n       <defs>\n        <path id=\"DejaVuSans-38\" d=\"M 2034 2216 \nQ 1584 2216 1326 1975 \nQ 1069 1734 1069 1313 \nQ 1069 891 1326 650 \nQ 1584 409 2034 409 \nQ 2484 409 2743 651 \nQ 3003 894 3003 1313 \nQ 3003 1734 2745 1975 \nQ 2488 2216 2034 2216 \nz\nM 1403 2484 \nQ 997 2584 770 2862 \nQ 544 3141 544 3541 \nQ 544 4100 942 4425 \nQ 1341 4750 2034 4750 \nQ 2731 4750 3128 4425 \nQ 3525 4100 3525 3541 \nQ 3525 3141 3298 2862 \nQ 3072 2584 2669 2484 \nQ 3125 2378 3379 2068 \nQ 3634 1759 3634 1313 \nQ 3634 634 3220 271 \nQ 2806 -91 2034 -91 \nQ 1263 -91 848 271 \nQ 434 634 434 1313 \nQ 434 1759 690 2068 \nQ 947 2378 1403 2484 \nz\nM 1172 3481 \nQ 1172 3119 1398 2916 \nQ 1625 2713 2034 2713 \nQ 2441 2713 2670 2916 \nQ 2900 3119 2900 3481 \nQ 2900 3844 2670 4047 \nQ 2441 4250 2034 4250 \nQ 1625 4250 1398 4047 \nQ 1172 3844 1172 3481 \nz\n\" transform=\"scale(0.015625)\"/>\n       </defs>\n       <use xlink:href=\"#DejaVuSans-30\"/>\n       <use xlink:href=\"#DejaVuSans-2e\" x=\"63.623047\"/>\n       <use xlink:href=\"#DejaVuSans-30\" x=\"95.410156\"/>\n       <use xlink:href=\"#DejaVuSans-38\" x=\"159.033203\"/>\n      </g>\n     </g>\n    </g>\n   </g>\n   <g id=\"matplotlib.axis_2\">\n    <g id=\"ytick_1\">\n     <g id=\"line2d_6\">\n      <defs>\n       <path id=\"m6c130d57a9\" d=\"M 0 0 \nL -3.5 0 \n\" style=\"stroke: #000000; stroke-width: 0.8\"/>\n      </defs>\n      <g>\n       <use xlink:href=\"#m6c130d57a9\" x=\"36.465625\" y=\"273.312\" style=\"stroke: #000000; stroke-width: 0.8\"/>\n      </g>\n     </g>\n     <g id=\"text_6\">\n      <!-- 0.0 -->\n      <g transform=\"translate(13.5625 277.111219) scale(0.1 -0.1)\">\n       <use xlink:href=\"#DejaVuSans-30\"/>\n       <use xlink:href=\"#DejaVuSans-2e\" x=\"63.623047\"/>\n       <use xlink:href=\"#DejaVuSans-30\" x=\"95.410156\"/>\n      </g>\n     </g>\n    </g>\n    <g id=\"ytick_2\">\n     <g id=\"line2d_7\">\n      <g>\n       <use xlink:href=\"#m6c130d57a9\" x=\"36.465625\" y=\"241.632\" style=\"stroke: #000000; stroke-width: 0.8\"/>\n      </g>\n     </g>\n     <g id=\"text_7\">\n      <!-- 2.5 -->\n      <g transform=\"translate(13.5625 245.431219) scale(0.1 -0.1)\">\n       <defs>\n        <path id=\"DejaVuSans-35\" d=\"M 691 4666 \nL 3169 4666 \nL 3169 4134 \nL 1269 4134 \nL 1269 2991 \nQ 1406 3038 1543 3061 \nQ 1681 3084 1819 3084 \nQ 2600 3084 3056 2656 \nQ 3513 2228 3513 1497 \nQ 3513 744 3044 326 \nQ 2575 -91 1722 -91 \nQ 1428 -91 1123 -41 \nQ 819 9 494 109 \nL 494 744 \nQ 775 591 1075 516 \nQ 1375 441 1709 441 \nQ 2250 441 2565 725 \nQ 2881 1009 2881 1497 \nQ 2881 1984 2565 2268 \nQ 2250 2553 1709 2553 \nQ 1456 2553 1204 2497 \nQ 953 2441 691 2322 \nL 691 4666 \nz\n\" transform=\"scale(0.015625)\"/>\n       </defs>\n       <use xlink:href=\"#DejaVuSans-32\"/>\n       <use xlink:href=\"#DejaVuSans-2e\" x=\"63.623047\"/>\n       <use xlink:href=\"#DejaVuSans-35\" x=\"95.410156\"/>\n      </g>\n     </g>\n    </g>\n    <g id=\"ytick_3\">\n     <g id=\"line2d_8\">\n      <g>\n       <use xlink:href=\"#m6c130d57a9\" x=\"36.465625\" y=\"209.952\" style=\"stroke: #000000; stroke-width: 0.8\"/>\n      </g>\n     </g>\n     <g id=\"text_8\">\n      <!-- 5.0 -->\n      <g transform=\"translate(13.5625 213.751219) scale(0.1 -0.1)\">\n       <use xlink:href=\"#DejaVuSans-35\"/>\n       <use xlink:href=\"#DejaVuSans-2e\" x=\"63.623047\"/>\n       <use xlink:href=\"#DejaVuSans-30\" x=\"95.410156\"/>\n      </g>\n     </g>\n    </g>\n    <g id=\"ytick_4\">\n     <g id=\"line2d_9\">\n      <g>\n       <use xlink:href=\"#m6c130d57a9\" x=\"36.465625\" y=\"178.272\" style=\"stroke: #000000; stroke-width: 0.8\"/>\n      </g>\n     </g>\n     <g id=\"text_9\">\n      <!-- 7.5 -->\n      <g transform=\"translate(13.5625 182.071219) scale(0.1 -0.1)\">\n       <defs>\n        <path id=\"DejaVuSans-37\" d=\"M 525 4666 \nL 3525 4666 \nL 3525 4397 \nL 1831 0 \nL 1172 0 \nL 2766 4134 \nL 525 4134 \nL 525 4666 \nz\n\" transform=\"scale(0.015625)\"/>\n       </defs>\n       <use xlink:href=\"#DejaVuSans-37\"/>\n       <use xlink:href=\"#DejaVuSans-2e\" x=\"63.623047\"/>\n       <use xlink:href=\"#DejaVuSans-35\" x=\"95.410156\"/>\n      </g>\n     </g>\n    </g>\n    <g id=\"ytick_5\">\n     <g id=\"line2d_10\">\n      <g>\n       <use xlink:href=\"#m6c130d57a9\" x=\"36.465625\" y=\"146.592\" style=\"stroke: #000000; stroke-width: 0.8\"/>\n      </g>\n     </g>\n     <g id=\"text_10\">\n      <!-- 10.0 -->\n      <g transform=\"translate(7.2 150.391219) scale(0.1 -0.1)\">\n       <defs>\n        <path id=\"DejaVuSans-31\" d=\"M 794 531 \nL 1825 531 \nL 1825 4091 \nL 703 3866 \nL 703 4441 \nL 1819 4666 \nL 2450 4666 \nL 2450 531 \nL 3481 531 \nL 3481 0 \nL 794 0 \nL 794 531 \nz\n\" transform=\"scale(0.015625)\"/>\n       </defs>\n       <use xlink:href=\"#DejaVuSans-31\"/>\n       <use xlink:href=\"#DejaVuSans-30\" x=\"63.623047\"/>\n       <use xlink:href=\"#DejaVuSans-2e\" x=\"127.246094\"/>\n       <use xlink:href=\"#DejaVuSans-30\" x=\"159.033203\"/>\n      </g>\n     </g>\n    </g>\n    <g id=\"ytick_6\">\n     <g id=\"line2d_11\">\n      <g>\n       <use xlink:href=\"#m6c130d57a9\" x=\"36.465625\" y=\"114.912\" style=\"stroke: #000000; stroke-width: 0.8\"/>\n      </g>\n     </g>\n     <g id=\"text_11\">\n      <!-- 12.5 -->\n      <g transform=\"translate(7.2 118.711219) scale(0.1 -0.1)\">\n       <use xlink:href=\"#DejaVuSans-31\"/>\n       <use xlink:href=\"#DejaVuSans-32\" x=\"63.623047\"/>\n       <use xlink:href=\"#DejaVuSans-2e\" x=\"127.246094\"/>\n       <use xlink:href=\"#DejaVuSans-35\" x=\"159.033203\"/>\n      </g>\n     </g>\n    </g>\n    <g id=\"ytick_7\">\n     <g id=\"line2d_12\">\n      <g>\n       <use xlink:href=\"#m6c130d57a9\" x=\"36.465625\" y=\"83.232\" style=\"stroke: #000000; stroke-width: 0.8\"/>\n      </g>\n     </g>\n     <g id=\"text_12\">\n      <!-- 15.0 -->\n      <g transform=\"translate(7.2 87.031219) scale(0.1 -0.1)\">\n       <use xlink:href=\"#DejaVuSans-31\"/>\n       <use xlink:href=\"#DejaVuSans-35\" x=\"63.623047\"/>\n       <use xlink:href=\"#DejaVuSans-2e\" x=\"127.246094\"/>\n       <use xlink:href=\"#DejaVuSans-30\" x=\"159.033203\"/>\n      </g>\n     </g>\n    </g>\n    <g id=\"ytick_8\">\n     <g id=\"line2d_13\">\n      <g>\n       <use xlink:href=\"#m6c130d57a9\" x=\"36.465625\" y=\"51.552\" style=\"stroke: #000000; stroke-width: 0.8\"/>\n      </g>\n     </g>\n     <g id=\"text_13\">\n      <!-- 17.5 -->\n      <g transform=\"translate(7.2 55.351219) scale(0.1 -0.1)\">\n       <use xlink:href=\"#DejaVuSans-31\"/>\n       <use xlink:href=\"#DejaVuSans-37\" x=\"63.623047\"/>\n       <use xlink:href=\"#DejaVuSans-2e\" x=\"127.246094\"/>\n       <use xlink:href=\"#DejaVuSans-35\" x=\"159.033203\"/>\n      </g>\n     </g>\n    </g>\n    <g id=\"ytick_9\">\n     <g id=\"line2d_14\">\n      <g>\n       <use xlink:href=\"#m6c130d57a9\" x=\"36.465625\" y=\"19.872\" style=\"stroke: #000000; stroke-width: 0.8\"/>\n      </g>\n     </g>\n     <g id=\"text_14\">\n      <!-- 20.0 -->\n      <g transform=\"translate(7.2 23.671219) scale(0.1 -0.1)\">\n       <use xlink:href=\"#DejaVuSans-32\"/>\n       <use xlink:href=\"#DejaVuSans-30\" x=\"63.623047\"/>\n       <use xlink:href=\"#DejaVuSans-2e\" x=\"127.246094\"/>\n       <use xlink:href=\"#DejaVuSans-30\" x=\"159.033203\"/>\n      </g>\n     </g>\n    </g>\n   </g>\n   <g id=\"patch_103\">\n    <path d=\"M 36.465625 273.312 \nL 36.465625 7.2 \n\" style=\"fill: none; stroke: #000000; stroke-width: 0.8; stroke-linejoin: miter; stroke-linecap: square\"/>\n   </g>\n   <g id=\"patch_104\">\n    <path d=\"M 393.585625 273.312 \nL 393.585625 7.2 \n\" style=\"fill: none; stroke: #000000; stroke-width: 0.8; stroke-linejoin: miter; stroke-linecap: square\"/>\n   </g>\n   <g id=\"patch_105\">\n    <path d=\"M 36.465625 273.312 \nL 393.585625 273.312 \n\" style=\"fill: none; stroke: #000000; stroke-width: 0.8; stroke-linejoin: miter; stroke-linecap: square\"/>\n   </g>\n   <g id=\"patch_106\">\n    <path d=\"M 36.465625 7.2 \nL 393.585625 7.2 \n\" style=\"fill: none; stroke: #000000; stroke-width: 0.8; stroke-linejoin: miter; stroke-linecap: square\"/>\n   </g>\n  </g>\n </g>\n <defs>\n  <clipPath id=\"pe81d300160\">\n   <rect x=\"36.465625\" y=\"7.2\" width=\"357.12\" height=\"266.112\"/>\n  </clipPath>\n </defs>\n</svg>\n"
          },
          "metadata": {}
        }
      ]
    },
    {
      "cell_type": "code",
      "source": [
        "plt.hist(berkeley_regression_avg_df['clustering_coeff'].values.tolist(), bins= 100)"
      ],
      "metadata": {
        "colab": {
          "base_uri": "https://localhost:8080/",
          "height": 938
        },
        "id": "1K5pAV1r7A-i",
        "outputId": "8b4fbb2a-8362-4d3f-c02f-b6824bfe2add"
      },
      "execution_count": null,
      "outputs": [
        {
          "output_type": "execute_result",
          "data": {
            "text/plain": [
              "(array([21., 11., 12., 10., 17., 10., 20., 13., 15., 14., 12.,  8.,  8.,\n",
              "        11.,  6.,  9.,  6.,  9.,  4.,  5.,  7.,  4.,  2.,  2.,  1.,  2.,\n",
              "         3.,  5.,  0.,  0.,  2.,  0.,  1.,  1.,  3.,  0.,  0.,  0.,  1.,\n",
              "         0.,  1.,  2.,  0.,  1.,  1.,  0.,  2.,  2.,  0.,  1.,  1.,  0.,\n",
              "         1.,  0.,  0.,  0.,  0.,  1.,  3.,  0.,  1.,  0.,  0.,  0.,  0.,\n",
              "         0.,  0.,  1.,  0.,  0.,  1.,  0.,  2.,  0.,  2.,  0.,  0.,  0.,\n",
              "         0.,  0.,  0.,  0.,  0.,  0.,  0.,  0.,  0.,  0.,  0.,  0.,  0.,\n",
              "         0.,  0.,  0.,  0.,  0.,  0.,  0.,  0.,  1.]),\n",
              " array([0.        , 0.00190476, 0.00380952, 0.00571429, 0.00761905,\n",
              "        0.00952381, 0.01142857, 0.01333333, 0.0152381 , 0.01714286,\n",
              "        0.01904762, 0.02095238, 0.02285714, 0.0247619 , 0.02666667,\n",
              "        0.02857143, 0.03047619, 0.03238095, 0.03428571, 0.03619048,\n",
              "        0.03809524, 0.04      , 0.04190476, 0.04380952, 0.04571429,\n",
              "        0.04761905, 0.04952381, 0.05142857, 0.05333333, 0.0552381 ,\n",
              "        0.05714286, 0.05904762, 0.06095238, 0.06285714, 0.0647619 ,\n",
              "        0.06666667, 0.06857143, 0.07047619, 0.07238095, 0.07428571,\n",
              "        0.07619048, 0.07809524, 0.08      , 0.08190476, 0.08380952,\n",
              "        0.08571429, 0.08761905, 0.08952381, 0.09142857, 0.09333333,\n",
              "        0.0952381 , 0.09714286, 0.09904762, 0.10095238, 0.10285714,\n",
              "        0.1047619 , 0.10666667, 0.10857143, 0.11047619, 0.11238095,\n",
              "        0.11428571, 0.11619048, 0.11809524, 0.12      , 0.12190476,\n",
              "        0.12380952, 0.12571429, 0.12761905, 0.12952381, 0.13142857,\n",
              "        0.13333333, 0.1352381 , 0.13714286, 0.13904762, 0.14095238,\n",
              "        0.14285714, 0.1447619 , 0.14666667, 0.14857143, 0.15047619,\n",
              "        0.15238095, 0.15428571, 0.15619048, 0.15809524, 0.16      ,\n",
              "        0.16190476, 0.16380952, 0.16571429, 0.16761905, 0.16952381,\n",
              "        0.17142857, 0.17333333, 0.1752381 , 0.17714286, 0.17904762,\n",
              "        0.18095238, 0.18285714, 0.1847619 , 0.18666667, 0.18857143,\n",
              "        0.19047619]),\n",
              " <BarContainer object of 100 artists>)"
            ]
          },
          "metadata": {},
          "execution_count": 18
        },
        {
          "output_type": "display_data",
          "data": {
            "text/plain": [
              "<Figure size 640x480 with 1 Axes>"
            ],
            "image/svg+xml": "<?xml version=\"1.0\" encoding=\"utf-8\" standalone=\"no\"?>\n<!DOCTYPE svg PUBLIC \"-//W3C//DTD SVG 1.1//EN\"\n  \"http://www.w3.org/Graphics/SVG/1.1/DTD/svg11.dtd\">\n<svg xmlns:xlink=\"http://www.w3.org/1999/xlink\" width=\"415.099688pt\" height=\"297.190125pt\" viewBox=\"0 0 415.099688 297.190125\" xmlns=\"http://www.w3.org/2000/svg\" version=\"1.1\">\n <metadata>\n  <rdf:RDF xmlns:dc=\"http://purl.org/dc/elements/1.1/\" xmlns:cc=\"http://creativecommons.org/ns#\" xmlns:rdf=\"http://www.w3.org/1999/02/22-rdf-syntax-ns#\">\n   <cc:Work>\n    <dc:type rdf:resource=\"http://purl.org/dc/dcmitype/StillImage\"/>\n    <dc:date>2023-06-03T18:25:12.636915</dc:date>\n    <dc:format>image/svg+xml</dc:format>\n    <dc:creator>\n     <cc:Agent>\n      <dc:title>Matplotlib v3.7.1, https://matplotlib.org/</dc:title>\n     </cc:Agent>\n    </dc:creator>\n   </cc:Work>\n  </rdf:RDF>\n </metadata>\n <defs>\n  <style type=\"text/css\">*{stroke-linejoin: round; stroke-linecap: butt}</style>\n </defs>\n <g id=\"figure_1\">\n  <g id=\"patch_1\">\n   <path d=\"M 0 297.190125 \nL 415.099688 297.190125 \nL 415.099688 0 \nL 0 0 \nz\n\" style=\"fill: #ffffff\"/>\n  </g>\n  <g id=\"axes_1\">\n   <g id=\"patch_2\">\n    <path d=\"M 36.465625 273.312 \nL 393.585625 273.312 \nL 393.585625 7.2 \nL 36.465625 7.2 \nz\n\" style=\"fill: #ffffff\"/>\n   </g>\n   <g id=\"patch_3\">\n    <path d=\"M 52.698352 273.312 \nL 55.944898 273.312 \nL 55.944898 19.872 \nL 52.698352 19.872 \nz\n\" clip-path=\"url(#p3df931e73a)\" style=\"fill: #1f77b4\"/>\n   </g>\n   <g id=\"patch_4\">\n    <path d=\"M 55.944898 273.312 \nL 59.191443 273.312 \nL 59.191443 140.557714 \nL 55.944898 140.557714 \nz\n\" clip-path=\"url(#p3df931e73a)\" style=\"fill: #1f77b4\"/>\n   </g>\n   <g id=\"patch_5\">\n    <path d=\"M 59.191443 273.312 \nL 62.437989 273.312 \nL 62.437989 128.489143 \nL 59.191443 128.489143 \nz\n\" clip-path=\"url(#p3df931e73a)\" style=\"fill: #1f77b4\"/>\n   </g>\n   <g id=\"patch_6\">\n    <path d=\"M 62.437989 273.312 \nL 65.684534 273.312 \nL 65.684534 152.626286 \nL 62.437989 152.626286 \nz\n\" clip-path=\"url(#p3df931e73a)\" style=\"fill: #1f77b4\"/>\n   </g>\n   <g id=\"patch_7\">\n    <path d=\"M 65.684534 273.312 \nL 68.93108 273.312 \nL 68.93108 68.146286 \nL 65.684534 68.146286 \nz\n\" clip-path=\"url(#p3df931e73a)\" style=\"fill: #1f77b4\"/>\n   </g>\n   <g id=\"patch_8\">\n    <path d=\"M 68.93108 273.312 \nL 72.177625 273.312 \nL 72.177625 152.626286 \nL 68.93108 152.626286 \nz\n\" clip-path=\"url(#p3df931e73a)\" style=\"fill: #1f77b4\"/>\n   </g>\n   <g id=\"patch_9\">\n    <path d=\"M 72.177625 273.312 \nL 75.42417 273.312 \nL 75.42417 31.940571 \nL 72.177625 31.940571 \nz\n\" clip-path=\"url(#p3df931e73a)\" style=\"fill: #1f77b4\"/>\n   </g>\n   <g id=\"patch_10\">\n    <path d=\"M 75.42417 273.312 \nL 78.670716 273.312 \nL 78.670716 116.420571 \nL 75.42417 116.420571 \nz\n\" clip-path=\"url(#p3df931e73a)\" style=\"fill: #1f77b4\"/>\n   </g>\n   <g id=\"patch_11\">\n    <path d=\"M 78.670716 273.312 \nL 81.917261 273.312 \nL 81.917261 92.283429 \nL 78.670716 92.283429 \nz\n\" clip-path=\"url(#p3df931e73a)\" style=\"fill: #1f77b4\"/>\n   </g>\n   <g id=\"patch_12\">\n    <path d=\"M 81.917261 273.312 \nL 85.163807 273.312 \nL 85.163807 104.352 \nL 81.917261 104.352 \nz\n\" clip-path=\"url(#p3df931e73a)\" style=\"fill: #1f77b4\"/>\n   </g>\n   <g id=\"patch_13\">\n    <path d=\"M 85.163807 273.312 \nL 88.410352 273.312 \nL 88.410352 128.489143 \nL 85.163807 128.489143 \nz\n\" clip-path=\"url(#p3df931e73a)\" style=\"fill: #1f77b4\"/>\n   </g>\n   <g id=\"patch_14\">\n    <path d=\"M 88.410352 273.312 \nL 91.656898 273.312 \nL 91.656898 176.763429 \nL 88.410352 176.763429 \nz\n\" clip-path=\"url(#p3df931e73a)\" style=\"fill: #1f77b4\"/>\n   </g>\n   <g id=\"patch_15\">\n    <path d=\"M 91.656898 273.312 \nL 94.903443 273.312 \nL 94.903443 176.763429 \nL 91.656898 176.763429 \nz\n\" clip-path=\"url(#p3df931e73a)\" style=\"fill: #1f77b4\"/>\n   </g>\n   <g id=\"patch_16\">\n    <path d=\"M 94.903443 273.312 \nL 98.149989 273.312 \nL 98.149989 140.557714 \nL 94.903443 140.557714 \nz\n\" clip-path=\"url(#p3df931e73a)\" style=\"fill: #1f77b4\"/>\n   </g>\n   <g id=\"patch_17\">\n    <path d=\"M 98.149989 273.312 \nL 101.396534 273.312 \nL 101.396534 200.900571 \nL 98.149989 200.900571 \nz\n\" clip-path=\"url(#p3df931e73a)\" style=\"fill: #1f77b4\"/>\n   </g>\n   <g id=\"patch_18\">\n    <path d=\"M 101.396534 273.312 \nL 104.64308 273.312 \nL 104.64308 164.694857 \nL 101.396534 164.694857 \nz\n\" clip-path=\"url(#p3df931e73a)\" style=\"fill: #1f77b4\"/>\n   </g>\n   <g id=\"patch_19\">\n    <path d=\"M 104.64308 273.312 \nL 107.889625 273.312 \nL 107.889625 200.900571 \nL 104.64308 200.900571 \nz\n\" clip-path=\"url(#p3df931e73a)\" style=\"fill: #1f77b4\"/>\n   </g>\n   <g id=\"patch_20\">\n    <path d=\"M 107.889625 273.312 \nL 111.13617 273.312 \nL 111.13617 164.694857 \nL 107.889625 164.694857 \nz\n\" clip-path=\"url(#p3df931e73a)\" style=\"fill: #1f77b4\"/>\n   </g>\n   <g id=\"patch_21\">\n    <path d=\"M 111.13617 273.312 \nL 114.382716 273.312 \nL 114.382716 225.037714 \nL 111.13617 225.037714 \nz\n\" clip-path=\"url(#p3df931e73a)\" style=\"fill: #1f77b4\"/>\n   </g>\n   <g id=\"patch_22\">\n    <path d=\"M 114.382716 273.312 \nL 117.629261 273.312 \nL 117.629261 212.969143 \nL 114.382716 212.969143 \nz\n\" clip-path=\"url(#p3df931e73a)\" style=\"fill: #1f77b4\"/>\n   </g>\n   <g id=\"patch_23\">\n    <path d=\"M 117.629261 273.312 \nL 120.875807 273.312 \nL 120.875807 188.832 \nL 117.629261 188.832 \nz\n\" clip-path=\"url(#p3df931e73a)\" style=\"fill: #1f77b4\"/>\n   </g>\n   <g id=\"patch_24\">\n    <path d=\"M 120.875807 273.312 \nL 124.122352 273.312 \nL 124.122352 225.037714 \nL 120.875807 225.037714 \nz\n\" clip-path=\"url(#p3df931e73a)\" style=\"fill: #1f77b4\"/>\n   </g>\n   <g id=\"patch_25\">\n    <path d=\"M 124.122352 273.312 \nL 127.368898 273.312 \nL 127.368898 249.174857 \nL 124.122352 249.174857 \nz\n\" clip-path=\"url(#p3df931e73a)\" style=\"fill: #1f77b4\"/>\n   </g>\n   <g id=\"patch_26\">\n    <path d=\"M 127.368898 273.312 \nL 130.615443 273.312 \nL 130.615443 249.174857 \nL 127.368898 249.174857 \nz\n\" clip-path=\"url(#p3df931e73a)\" style=\"fill: #1f77b4\"/>\n   </g>\n   <g id=\"patch_27\">\n    <path d=\"M 130.615443 273.312 \nL 133.861989 273.312 \nL 133.861989 261.243429 \nL 130.615443 261.243429 \nz\n\" clip-path=\"url(#p3df931e73a)\" style=\"fill: #1f77b4\"/>\n   </g>\n   <g id=\"patch_28\">\n    <path d=\"M 133.861989 273.312 \nL 137.108534 273.312 \nL 137.108534 249.174857 \nL 133.861989 249.174857 \nz\n\" clip-path=\"url(#p3df931e73a)\" style=\"fill: #1f77b4\"/>\n   </g>\n   <g id=\"patch_29\">\n    <path d=\"M 137.108534 273.312 \nL 140.35508 273.312 \nL 140.35508 237.106286 \nL 137.108534 237.106286 \nz\n\" clip-path=\"url(#p3df931e73a)\" style=\"fill: #1f77b4\"/>\n   </g>\n   <g id=\"patch_30\">\n    <path d=\"M 140.35508 273.312 \nL 143.601625 273.312 \nL 143.601625 212.969143 \nL 140.35508 212.969143 \nz\n\" clip-path=\"url(#p3df931e73a)\" style=\"fill: #1f77b4\"/>\n   </g>\n   <g id=\"patch_31\">\n    <path d=\"M 143.601625 273.312 \nL 146.84817 273.312 \nL 146.84817 273.312 \nL 143.601625 273.312 \nz\n\" clip-path=\"url(#p3df931e73a)\" style=\"fill: #1f77b4\"/>\n   </g>\n   <g id=\"patch_32\">\n    <path d=\"M 146.84817 273.312 \nL 150.094716 273.312 \nL 150.094716 273.312 \nL 146.84817 273.312 \nz\n\" clip-path=\"url(#p3df931e73a)\" style=\"fill: #1f77b4\"/>\n   </g>\n   <g id=\"patch_33\">\n    <path d=\"M 150.094716 273.312 \nL 153.341261 273.312 \nL 153.341261 249.174857 \nL 150.094716 249.174857 \nz\n\" clip-path=\"url(#p3df931e73a)\" style=\"fill: #1f77b4\"/>\n   </g>\n   <g id=\"patch_34\">\n    <path d=\"M 153.341261 273.312 \nL 156.587807 273.312 \nL 156.587807 273.312 \nL 153.341261 273.312 \nz\n\" clip-path=\"url(#p3df931e73a)\" style=\"fill: #1f77b4\"/>\n   </g>\n   <g id=\"patch_35\">\n    <path d=\"M 156.587807 273.312 \nL 159.834352 273.312 \nL 159.834352 261.243429 \nL 156.587807 261.243429 \nz\n\" clip-path=\"url(#p3df931e73a)\" style=\"fill: #1f77b4\"/>\n   </g>\n   <g id=\"patch_36\">\n    <path d=\"M 159.834352 273.312 \nL 163.080898 273.312 \nL 163.080898 261.243429 \nL 159.834352 261.243429 \nz\n\" clip-path=\"url(#p3df931e73a)\" style=\"fill: #1f77b4\"/>\n   </g>\n   <g id=\"patch_37\">\n    <path d=\"M 163.080898 273.312 \nL 166.327443 273.312 \nL 166.327443 237.106286 \nL 163.080898 237.106286 \nz\n\" clip-path=\"url(#p3df931e73a)\" style=\"fill: #1f77b4\"/>\n   </g>\n   <g id=\"patch_38\">\n    <path d=\"M 166.327443 273.312 \nL 169.573989 273.312 \nL 169.573989 273.312 \nL 166.327443 273.312 \nz\n\" clip-path=\"url(#p3df931e73a)\" style=\"fill: #1f77b4\"/>\n   </g>\n   <g id=\"patch_39\">\n    <path d=\"M 169.573989 273.312 \nL 172.820534 273.312 \nL 172.820534 273.312 \nL 169.573989 273.312 \nz\n\" clip-path=\"url(#p3df931e73a)\" style=\"fill: #1f77b4\"/>\n   </g>\n   <g id=\"patch_40\">\n    <path d=\"M 172.820534 273.312 \nL 176.06708 273.312 \nL 176.06708 273.312 \nL 172.820534 273.312 \nz\n\" clip-path=\"url(#p3df931e73a)\" style=\"fill: #1f77b4\"/>\n   </g>\n   <g id=\"patch_41\">\n    <path d=\"M 176.06708 273.312 \nL 179.313625 273.312 \nL 179.313625 261.243429 \nL 176.06708 261.243429 \nz\n\" clip-path=\"url(#p3df931e73a)\" style=\"fill: #1f77b4\"/>\n   </g>\n   <g id=\"patch_42\">\n    <path d=\"M 179.313625 273.312 \nL 182.56017 273.312 \nL 182.56017 273.312 \nL 179.313625 273.312 \nz\n\" clip-path=\"url(#p3df931e73a)\" style=\"fill: #1f77b4\"/>\n   </g>\n   <g id=\"patch_43\">\n    <path d=\"M 182.56017 273.312 \nL 185.806716 273.312 \nL 185.806716 261.243429 \nL 182.56017 261.243429 \nz\n\" clip-path=\"url(#p3df931e73a)\" style=\"fill: #1f77b4\"/>\n   </g>\n   <g id=\"patch_44\">\n    <path d=\"M 185.806716 273.312 \nL 189.053261 273.312 \nL 189.053261 249.174857 \nL 185.806716 249.174857 \nz\n\" clip-path=\"url(#p3df931e73a)\" style=\"fill: #1f77b4\"/>\n   </g>\n   <g id=\"patch_45\">\n    <path d=\"M 189.053261 273.312 \nL 192.299807 273.312 \nL 192.299807 273.312 \nL 189.053261 273.312 \nz\n\" clip-path=\"url(#p3df931e73a)\" style=\"fill: #1f77b4\"/>\n   </g>\n   <g id=\"patch_46\">\n    <path d=\"M 192.299807 273.312 \nL 195.546352 273.312 \nL 195.546352 261.243429 \nL 192.299807 261.243429 \nz\n\" clip-path=\"url(#p3df931e73a)\" style=\"fill: #1f77b4\"/>\n   </g>\n   <g id=\"patch_47\">\n    <path d=\"M 195.546352 273.312 \nL 198.792898 273.312 \nL 198.792898 261.243429 \nL 195.546352 261.243429 \nz\n\" clip-path=\"url(#p3df931e73a)\" style=\"fill: #1f77b4\"/>\n   </g>\n   <g id=\"patch_48\">\n    <path d=\"M 198.792898 273.312 \nL 202.039443 273.312 \nL 202.039443 273.312 \nL 198.792898 273.312 \nz\n\" clip-path=\"url(#p3df931e73a)\" style=\"fill: #1f77b4\"/>\n   </g>\n   <g id=\"patch_49\">\n    <path d=\"M 202.039443 273.312 \nL 205.285989 273.312 \nL 205.285989 249.174857 \nL 202.039443 249.174857 \nz\n\" clip-path=\"url(#p3df931e73a)\" style=\"fill: #1f77b4\"/>\n   </g>\n   <g id=\"patch_50\">\n    <path d=\"M 205.285989 273.312 \nL 208.532534 273.312 \nL 208.532534 249.174857 \nL 205.285989 249.174857 \nz\n\" clip-path=\"url(#p3df931e73a)\" style=\"fill: #1f77b4\"/>\n   </g>\n   <g id=\"patch_51\">\n    <path d=\"M 208.532534 273.312 \nL 211.77908 273.312 \nL 211.77908 273.312 \nL 208.532534 273.312 \nz\n\" clip-path=\"url(#p3df931e73a)\" style=\"fill: #1f77b4\"/>\n   </g>\n   <g id=\"patch_52\">\n    <path d=\"M 211.77908 273.312 \nL 215.025625 273.312 \nL 215.025625 261.243429 \nL 211.77908 261.243429 \nz\n\" clip-path=\"url(#p3df931e73a)\" style=\"fill: #1f77b4\"/>\n   </g>\n   <g id=\"patch_53\">\n    <path d=\"M 215.025625 273.312 \nL 218.27217 273.312 \nL 218.27217 261.243429 \nL 215.025625 261.243429 \nz\n\" clip-path=\"url(#p3df931e73a)\" style=\"fill: #1f77b4\"/>\n   </g>\n   <g id=\"patch_54\">\n    <path d=\"M 218.27217 273.312 \nL 221.518716 273.312 \nL 221.518716 273.312 \nL 218.27217 273.312 \nz\n\" clip-path=\"url(#p3df931e73a)\" style=\"fill: #1f77b4\"/>\n   </g>\n   <g id=\"patch_55\">\n    <path d=\"M 221.518716 273.312 \nL 224.765261 273.312 \nL 224.765261 261.243429 \nL 221.518716 261.243429 \nz\n\" clip-path=\"url(#p3df931e73a)\" style=\"fill: #1f77b4\"/>\n   </g>\n   <g id=\"patch_56\">\n    <path d=\"M 224.765261 273.312 \nL 228.011807 273.312 \nL 228.011807 273.312 \nL 224.765261 273.312 \nz\n\" clip-path=\"url(#p3df931e73a)\" style=\"fill: #1f77b4\"/>\n   </g>\n   <g id=\"patch_57\">\n    <path d=\"M 228.011807 273.312 \nL 231.258352 273.312 \nL 231.258352 273.312 \nL 228.011807 273.312 \nz\n\" clip-path=\"url(#p3df931e73a)\" style=\"fill: #1f77b4\"/>\n   </g>\n   <g id=\"patch_58\">\n    <path d=\"M 231.258352 273.312 \nL 234.504898 273.312 \nL 234.504898 273.312 \nL 231.258352 273.312 \nz\n\" clip-path=\"url(#p3df931e73a)\" style=\"fill: #1f77b4\"/>\n   </g>\n   <g id=\"patch_59\">\n    <path d=\"M 234.504898 273.312 \nL 237.751443 273.312 \nL 237.751443 273.312 \nL 234.504898 273.312 \nz\n\" clip-path=\"url(#p3df931e73a)\" style=\"fill: #1f77b4\"/>\n   </g>\n   <g id=\"patch_60\">\n    <path d=\"M 237.751443 273.312 \nL 240.997989 273.312 \nL 240.997989 261.243429 \nL 237.751443 261.243429 \nz\n\" clip-path=\"url(#p3df931e73a)\" style=\"fill: #1f77b4\"/>\n   </g>\n   <g id=\"patch_61\">\n    <path d=\"M 240.997989 273.312 \nL 244.244534 273.312 \nL 244.244534 237.106286 \nL 240.997989 237.106286 \nz\n\" clip-path=\"url(#p3df931e73a)\" style=\"fill: #1f77b4\"/>\n   </g>\n   <g id=\"patch_62\">\n    <path d=\"M 244.244534 273.312 \nL 247.49108 273.312 \nL 247.49108 273.312 \nL 244.244534 273.312 \nz\n\" clip-path=\"url(#p3df931e73a)\" style=\"fill: #1f77b4\"/>\n   </g>\n   <g id=\"patch_63\">\n    <path d=\"M 247.49108 273.312 \nL 250.737625 273.312 \nL 250.737625 261.243429 \nL 247.49108 261.243429 \nz\n\" clip-path=\"url(#p3df931e73a)\" style=\"fill: #1f77b4\"/>\n   </g>\n   <g id=\"patch_64\">\n    <path d=\"M 250.737625 273.312 \nL 253.98417 273.312 \nL 253.98417 273.312 \nL 250.737625 273.312 \nz\n\" clip-path=\"url(#p3df931e73a)\" style=\"fill: #1f77b4\"/>\n   </g>\n   <g id=\"patch_65\">\n    <path d=\"M 253.98417 273.312 \nL 257.230716 273.312 \nL 257.230716 273.312 \nL 253.98417 273.312 \nz\n\" clip-path=\"url(#p3df931e73a)\" style=\"fill: #1f77b4\"/>\n   </g>\n   <g id=\"patch_66\">\n    <path d=\"M 257.230716 273.312 \nL 260.477261 273.312 \nL 260.477261 273.312 \nL 257.230716 273.312 \nz\n\" clip-path=\"url(#p3df931e73a)\" style=\"fill: #1f77b4\"/>\n   </g>\n   <g id=\"patch_67\">\n    <path d=\"M 260.477261 273.312 \nL 263.723807 273.312 \nL 263.723807 273.312 \nL 260.477261 273.312 \nz\n\" clip-path=\"url(#p3df931e73a)\" style=\"fill: #1f77b4\"/>\n   </g>\n   <g id=\"patch_68\">\n    <path d=\"M 263.723807 273.312 \nL 266.970352 273.312 \nL 266.970352 273.312 \nL 263.723807 273.312 \nz\n\" clip-path=\"url(#p3df931e73a)\" style=\"fill: #1f77b4\"/>\n   </g>\n   <g id=\"patch_69\">\n    <path d=\"M 266.970352 273.312 \nL 270.216898 273.312 \nL 270.216898 273.312 \nL 266.970352 273.312 \nz\n\" clip-path=\"url(#p3df931e73a)\" style=\"fill: #1f77b4\"/>\n   </g>\n   <g id=\"patch_70\">\n    <path d=\"M 270.216898 273.312 \nL 273.463443 273.312 \nL 273.463443 261.243429 \nL 270.216898 261.243429 \nz\n\" clip-path=\"url(#p3df931e73a)\" style=\"fill: #1f77b4\"/>\n   </g>\n   <g id=\"patch_71\">\n    <path d=\"M 273.463443 273.312 \nL 276.709989 273.312 \nL 276.709989 273.312 \nL 273.463443 273.312 \nz\n\" clip-path=\"url(#p3df931e73a)\" style=\"fill: #1f77b4\"/>\n   </g>\n   <g id=\"patch_72\">\n    <path d=\"M 276.709989 273.312 \nL 279.956534 273.312 \nL 279.956534 273.312 \nL 276.709989 273.312 \nz\n\" clip-path=\"url(#p3df931e73a)\" style=\"fill: #1f77b4\"/>\n   </g>\n   <g id=\"patch_73\">\n    <path d=\"M 279.956534 273.312 \nL 283.20308 273.312 \nL 283.20308 261.243429 \nL 279.956534 261.243429 \nz\n\" clip-path=\"url(#p3df931e73a)\" style=\"fill: #1f77b4\"/>\n   </g>\n   <g id=\"patch_74\">\n    <path d=\"M 283.20308 273.312 \nL 286.449625 273.312 \nL 286.449625 273.312 \nL 283.20308 273.312 \nz\n\" clip-path=\"url(#p3df931e73a)\" style=\"fill: #1f77b4\"/>\n   </g>\n   <g id=\"patch_75\">\n    <path d=\"M 286.449625 273.312 \nL 289.69617 273.312 \nL 289.69617 249.174857 \nL 286.449625 249.174857 \nz\n\" clip-path=\"url(#p3df931e73a)\" style=\"fill: #1f77b4\"/>\n   </g>\n   <g id=\"patch_76\">\n    <path d=\"M 289.69617 273.312 \nL 292.942716 273.312 \nL 292.942716 273.312 \nL 289.69617 273.312 \nz\n\" clip-path=\"url(#p3df931e73a)\" style=\"fill: #1f77b4\"/>\n   </g>\n   <g id=\"patch_77\">\n    <path d=\"M 292.942716 273.312 \nL 296.189261 273.312 \nL 296.189261 249.174857 \nL 292.942716 249.174857 \nz\n\" clip-path=\"url(#p3df931e73a)\" style=\"fill: #1f77b4\"/>\n   </g>\n   <g id=\"patch_78\">\n    <path d=\"M 296.189261 273.312 \nL 299.435807 273.312 \nL 299.435807 273.312 \nL 296.189261 273.312 \nz\n\" clip-path=\"url(#p3df931e73a)\" style=\"fill: #1f77b4\"/>\n   </g>\n   <g id=\"patch_79\">\n    <path d=\"M 299.435807 273.312 \nL 302.682352 273.312 \nL 302.682352 273.312 \nL 299.435807 273.312 \nz\n\" clip-path=\"url(#p3df931e73a)\" style=\"fill: #1f77b4\"/>\n   </g>\n   <g id=\"patch_80\">\n    <path d=\"M 302.682352 273.312 \nL 305.928898 273.312 \nL 305.928898 273.312 \nL 302.682352 273.312 \nz\n\" clip-path=\"url(#p3df931e73a)\" style=\"fill: #1f77b4\"/>\n   </g>\n   <g id=\"patch_81\">\n    <path d=\"M 305.928898 273.312 \nL 309.175443 273.312 \nL 309.175443 273.312 \nL 305.928898 273.312 \nz\n\" clip-path=\"url(#p3df931e73a)\" style=\"fill: #1f77b4\"/>\n   </g>\n   <g id=\"patch_82\">\n    <path d=\"M 309.175443 273.312 \nL 312.421989 273.312 \nL 312.421989 273.312 \nL 309.175443 273.312 \nz\n\" clip-path=\"url(#p3df931e73a)\" style=\"fill: #1f77b4\"/>\n   </g>\n   <g id=\"patch_83\">\n    <path d=\"M 312.421989 273.312 \nL 315.668534 273.312 \nL 315.668534 273.312 \nL 312.421989 273.312 \nz\n\" clip-path=\"url(#p3df931e73a)\" style=\"fill: #1f77b4\"/>\n   </g>\n   <g id=\"patch_84\">\n    <path d=\"M 315.668534 273.312 \nL 318.91508 273.312 \nL 318.91508 273.312 \nL 315.668534 273.312 \nz\n\" clip-path=\"url(#p3df931e73a)\" style=\"fill: #1f77b4\"/>\n   </g>\n   <g id=\"patch_85\">\n    <path d=\"M 318.91508 273.312 \nL 322.161625 273.312 \nL 322.161625 273.312 \nL 318.91508 273.312 \nz\n\" clip-path=\"url(#p3df931e73a)\" style=\"fill: #1f77b4\"/>\n   </g>\n   <g id=\"patch_86\">\n    <path d=\"M 322.161625 273.312 \nL 325.40817 273.312 \nL 325.40817 273.312 \nL 322.161625 273.312 \nz\n\" clip-path=\"url(#p3df931e73a)\" style=\"fill: #1f77b4\"/>\n   </g>\n   <g id=\"patch_87\">\n    <path d=\"M 325.40817 273.312 \nL 328.654716 273.312 \nL 328.654716 273.312 \nL 325.40817 273.312 \nz\n\" clip-path=\"url(#p3df931e73a)\" style=\"fill: #1f77b4\"/>\n   </g>\n   <g id=\"patch_88\">\n    <path d=\"M 328.654716 273.312 \nL 331.901261 273.312 \nL 331.901261 273.312 \nL 328.654716 273.312 \nz\n\" clip-path=\"url(#p3df931e73a)\" style=\"fill: #1f77b4\"/>\n   </g>\n   <g id=\"patch_89\">\n    <path d=\"M 331.901261 273.312 \nL 335.147807 273.312 \nL 335.147807 273.312 \nL 331.901261 273.312 \nz\n\" clip-path=\"url(#p3df931e73a)\" style=\"fill: #1f77b4\"/>\n   </g>\n   <g id=\"patch_90\">\n    <path d=\"M 335.147807 273.312 \nL 338.394352 273.312 \nL 338.394352 273.312 \nL 335.147807 273.312 \nz\n\" clip-path=\"url(#p3df931e73a)\" style=\"fill: #1f77b4\"/>\n   </g>\n   <g id=\"patch_91\">\n    <path d=\"M 338.394352 273.312 \nL 341.640898 273.312 \nL 341.640898 273.312 \nL 338.394352 273.312 \nz\n\" clip-path=\"url(#p3df931e73a)\" style=\"fill: #1f77b4\"/>\n   </g>\n   <g id=\"patch_92\">\n    <path d=\"M 341.640898 273.312 \nL 344.887443 273.312 \nL 344.887443 273.312 \nL 341.640898 273.312 \nz\n\" clip-path=\"url(#p3df931e73a)\" style=\"fill: #1f77b4\"/>\n   </g>\n   <g id=\"patch_93\">\n    <path d=\"M 344.887443 273.312 \nL 348.133989 273.312 \nL 348.133989 273.312 \nL 344.887443 273.312 \nz\n\" clip-path=\"url(#p3df931e73a)\" style=\"fill: #1f77b4\"/>\n   </g>\n   <g id=\"patch_94\">\n    <path d=\"M 348.133989 273.312 \nL 351.380534 273.312 \nL 351.380534 273.312 \nL 348.133989 273.312 \nz\n\" clip-path=\"url(#p3df931e73a)\" style=\"fill: #1f77b4\"/>\n   </g>\n   <g id=\"patch_95\">\n    <path d=\"M 351.380534 273.312 \nL 354.62708 273.312 \nL 354.62708 273.312 \nL 351.380534 273.312 \nz\n\" clip-path=\"url(#p3df931e73a)\" style=\"fill: #1f77b4\"/>\n   </g>\n   <g id=\"patch_96\">\n    <path d=\"M 354.62708 273.312 \nL 357.873625 273.312 \nL 357.873625 273.312 \nL 354.62708 273.312 \nz\n\" clip-path=\"url(#p3df931e73a)\" style=\"fill: #1f77b4\"/>\n   </g>\n   <g id=\"patch_97\">\n    <path d=\"M 357.873625 273.312 \nL 361.12017 273.312 \nL 361.12017 273.312 \nL 357.873625 273.312 \nz\n\" clip-path=\"url(#p3df931e73a)\" style=\"fill: #1f77b4\"/>\n   </g>\n   <g id=\"patch_98\">\n    <path d=\"M 361.12017 273.312 \nL 364.366716 273.312 \nL 364.366716 273.312 \nL 361.12017 273.312 \nz\n\" clip-path=\"url(#p3df931e73a)\" style=\"fill: #1f77b4\"/>\n   </g>\n   <g id=\"patch_99\">\n    <path d=\"M 364.366716 273.312 \nL 367.613261 273.312 \nL 367.613261 273.312 \nL 364.366716 273.312 \nz\n\" clip-path=\"url(#p3df931e73a)\" style=\"fill: #1f77b4\"/>\n   </g>\n   <g id=\"patch_100\">\n    <path d=\"M 367.613261 273.312 \nL 370.859807 273.312 \nL 370.859807 273.312 \nL 367.613261 273.312 \nz\n\" clip-path=\"url(#p3df931e73a)\" style=\"fill: #1f77b4\"/>\n   </g>\n   <g id=\"patch_101\">\n    <path d=\"M 370.859807 273.312 \nL 374.106352 273.312 \nL 374.106352 273.312 \nL 370.859807 273.312 \nz\n\" clip-path=\"url(#p3df931e73a)\" style=\"fill: #1f77b4\"/>\n   </g>\n   <g id=\"patch_102\">\n    <path d=\"M 374.106352 273.312 \nL 377.352898 273.312 \nL 377.352898 261.243429 \nL 374.106352 261.243429 \nz\n\" clip-path=\"url(#p3df931e73a)\" style=\"fill: #1f77b4\"/>\n   </g>\n   <g id=\"matplotlib.axis_1\">\n    <g id=\"xtick_1\">\n     <g id=\"line2d_1\">\n      <defs>\n       <path id=\"m7b5b87aa43\" d=\"M 0 0 \nL 0 3.5 \n\" style=\"stroke: #000000; stroke-width: 0.8\"/>\n      </defs>\n      <g>\n       <use xlink:href=\"#m7b5b87aa43\" x=\"52.698352\" y=\"273.312\" style=\"stroke: #000000; stroke-width: 0.8\"/>\n      </g>\n     </g>\n     <g id=\"text_1\">\n      <!-- 0.000 -->\n      <g transform=\"translate(38.38429 287.910437) scale(0.1 -0.1)\">\n       <defs>\n        <path id=\"DejaVuSans-30\" d=\"M 2034 4250 \nQ 1547 4250 1301 3770 \nQ 1056 3291 1056 2328 \nQ 1056 1369 1301 889 \nQ 1547 409 2034 409 \nQ 2525 409 2770 889 \nQ 3016 1369 3016 2328 \nQ 3016 3291 2770 3770 \nQ 2525 4250 2034 4250 \nz\nM 2034 4750 \nQ 2819 4750 3233 4129 \nQ 3647 3509 3647 2328 \nQ 3647 1150 3233 529 \nQ 2819 -91 2034 -91 \nQ 1250 -91 836 529 \nQ 422 1150 422 2328 \nQ 422 3509 836 4129 \nQ 1250 4750 2034 4750 \nz\n\" transform=\"scale(0.015625)\"/>\n        <path id=\"DejaVuSans-2e\" d=\"M 684 794 \nL 1344 794 \nL 1344 0 \nL 684 0 \nL 684 794 \nz\n\" transform=\"scale(0.015625)\"/>\n       </defs>\n       <use xlink:href=\"#DejaVuSans-30\"/>\n       <use xlink:href=\"#DejaVuSans-2e\" x=\"63.623047\"/>\n       <use xlink:href=\"#DejaVuSans-30\" x=\"95.410156\"/>\n       <use xlink:href=\"#DejaVuSans-30\" x=\"159.033203\"/>\n       <use xlink:href=\"#DejaVuSans-30\" x=\"222.65625\"/>\n      </g>\n     </g>\n    </g>\n    <g id=\"xtick_2\">\n     <g id=\"line2d_2\">\n      <g>\n       <use xlink:href=\"#m7b5b87aa43\" x=\"95.309261\" y=\"273.312\" style=\"stroke: #000000; stroke-width: 0.8\"/>\n      </g>\n     </g>\n     <g id=\"text_2\">\n      <!-- 0.025 -->\n      <g transform=\"translate(80.995199 287.910437) scale(0.1 -0.1)\">\n       <defs>\n        <path id=\"DejaVuSans-32\" d=\"M 1228 531 \nL 3431 531 \nL 3431 0 \nL 469 0 \nL 469 531 \nQ 828 903 1448 1529 \nQ 2069 2156 2228 2338 \nQ 2531 2678 2651 2914 \nQ 2772 3150 2772 3378 \nQ 2772 3750 2511 3984 \nQ 2250 4219 1831 4219 \nQ 1534 4219 1204 4116 \nQ 875 4013 500 3803 \nL 500 4441 \nQ 881 4594 1212 4672 \nQ 1544 4750 1819 4750 \nQ 2544 4750 2975 4387 \nQ 3406 4025 3406 3419 \nQ 3406 3131 3298 2873 \nQ 3191 2616 2906 2266 \nQ 2828 2175 2409 1742 \nQ 1991 1309 1228 531 \nz\n\" transform=\"scale(0.015625)\"/>\n        <path id=\"DejaVuSans-35\" d=\"M 691 4666 \nL 3169 4666 \nL 3169 4134 \nL 1269 4134 \nL 1269 2991 \nQ 1406 3038 1543 3061 \nQ 1681 3084 1819 3084 \nQ 2600 3084 3056 2656 \nQ 3513 2228 3513 1497 \nQ 3513 744 3044 326 \nQ 2575 -91 1722 -91 \nQ 1428 -91 1123 -41 \nQ 819 9 494 109 \nL 494 744 \nQ 775 591 1075 516 \nQ 1375 441 1709 441 \nQ 2250 441 2565 725 \nQ 2881 1009 2881 1497 \nQ 2881 1984 2565 2268 \nQ 2250 2553 1709 2553 \nQ 1456 2553 1204 2497 \nQ 953 2441 691 2322 \nL 691 4666 \nz\n\" transform=\"scale(0.015625)\"/>\n       </defs>\n       <use xlink:href=\"#DejaVuSans-30\"/>\n       <use xlink:href=\"#DejaVuSans-2e\" x=\"63.623047\"/>\n       <use xlink:href=\"#DejaVuSans-30\" x=\"95.410156\"/>\n       <use xlink:href=\"#DejaVuSans-32\" x=\"159.033203\"/>\n       <use xlink:href=\"#DejaVuSans-35\" x=\"222.65625\"/>\n      </g>\n     </g>\n    </g>\n    <g id=\"xtick_3\">\n     <g id=\"line2d_3\">\n      <g>\n       <use xlink:href=\"#m7b5b87aa43\" x=\"137.92017\" y=\"273.312\" style=\"stroke: #000000; stroke-width: 0.8\"/>\n      </g>\n     </g>\n     <g id=\"text_3\">\n      <!-- 0.050 -->\n      <g transform=\"translate(123.606108 287.910437) scale(0.1 -0.1)\">\n       <use xlink:href=\"#DejaVuSans-30\"/>\n       <use xlink:href=\"#DejaVuSans-2e\" x=\"63.623047\"/>\n       <use xlink:href=\"#DejaVuSans-30\" x=\"95.410156\"/>\n       <use xlink:href=\"#DejaVuSans-35\" x=\"159.033203\"/>\n       <use xlink:href=\"#DejaVuSans-30\" x=\"222.65625\"/>\n      </g>\n     </g>\n    </g>\n    <g id=\"xtick_4\">\n     <g id=\"line2d_4\">\n      <g>\n       <use xlink:href=\"#m7b5b87aa43\" x=\"180.53108\" y=\"273.312\" style=\"stroke: #000000; stroke-width: 0.8\"/>\n      </g>\n     </g>\n     <g id=\"text_4\">\n      <!-- 0.075 -->\n      <g transform=\"translate(166.217017 287.910437) scale(0.1 -0.1)\">\n       <defs>\n        <path id=\"DejaVuSans-37\" d=\"M 525 4666 \nL 3525 4666 \nL 3525 4397 \nL 1831 0 \nL 1172 0 \nL 2766 4134 \nL 525 4134 \nL 525 4666 \nz\n\" transform=\"scale(0.015625)\"/>\n       </defs>\n       <use xlink:href=\"#DejaVuSans-30\"/>\n       <use xlink:href=\"#DejaVuSans-2e\" x=\"63.623047\"/>\n       <use xlink:href=\"#DejaVuSans-30\" x=\"95.410156\"/>\n       <use xlink:href=\"#DejaVuSans-37\" x=\"159.033203\"/>\n       <use xlink:href=\"#DejaVuSans-35\" x=\"222.65625\"/>\n      </g>\n     </g>\n    </g>\n    <g id=\"xtick_5\">\n     <g id=\"line2d_5\">\n      <g>\n       <use xlink:href=\"#m7b5b87aa43\" x=\"223.141989\" y=\"273.312\" style=\"stroke: #000000; stroke-width: 0.8\"/>\n      </g>\n     </g>\n     <g id=\"text_5\">\n      <!-- 0.100 -->\n      <g transform=\"translate(208.827926 287.910437) scale(0.1 -0.1)\">\n       <defs>\n        <path id=\"DejaVuSans-31\" d=\"M 794 531 \nL 1825 531 \nL 1825 4091 \nL 703 3866 \nL 703 4441 \nL 1819 4666 \nL 2450 4666 \nL 2450 531 \nL 3481 531 \nL 3481 0 \nL 794 0 \nL 794 531 \nz\n\" transform=\"scale(0.015625)\"/>\n       </defs>\n       <use xlink:href=\"#DejaVuSans-30\"/>\n       <use xlink:href=\"#DejaVuSans-2e\" x=\"63.623047\"/>\n       <use xlink:href=\"#DejaVuSans-31\" x=\"95.410156\"/>\n       <use xlink:href=\"#DejaVuSans-30\" x=\"159.033203\"/>\n       <use xlink:href=\"#DejaVuSans-30\" x=\"222.65625\"/>\n      </g>\n     </g>\n    </g>\n    <g id=\"xtick_6\">\n     <g id=\"line2d_6\">\n      <g>\n       <use xlink:href=\"#m7b5b87aa43\" x=\"265.752898\" y=\"273.312\" style=\"stroke: #000000; stroke-width: 0.8\"/>\n      </g>\n     </g>\n     <g id=\"text_6\">\n      <!-- 0.125 -->\n      <g transform=\"translate(251.438835 287.910437) scale(0.1 -0.1)\">\n       <use xlink:href=\"#DejaVuSans-30\"/>\n       <use xlink:href=\"#DejaVuSans-2e\" x=\"63.623047\"/>\n       <use xlink:href=\"#DejaVuSans-31\" x=\"95.410156\"/>\n       <use xlink:href=\"#DejaVuSans-32\" x=\"159.033203\"/>\n       <use xlink:href=\"#DejaVuSans-35\" x=\"222.65625\"/>\n      </g>\n     </g>\n    </g>\n    <g id=\"xtick_7\">\n     <g id=\"line2d_7\">\n      <g>\n       <use xlink:href=\"#m7b5b87aa43\" x=\"308.363807\" y=\"273.312\" style=\"stroke: #000000; stroke-width: 0.8\"/>\n      </g>\n     </g>\n     <g id=\"text_7\">\n      <!-- 0.150 -->\n      <g transform=\"translate(294.049744 287.910437) scale(0.1 -0.1)\">\n       <use xlink:href=\"#DejaVuSans-30\"/>\n       <use xlink:href=\"#DejaVuSans-2e\" x=\"63.623047\"/>\n       <use xlink:href=\"#DejaVuSans-31\" x=\"95.410156\"/>\n       <use xlink:href=\"#DejaVuSans-35\" x=\"159.033203\"/>\n       <use xlink:href=\"#DejaVuSans-30\" x=\"222.65625\"/>\n      </g>\n     </g>\n    </g>\n    <g id=\"xtick_8\">\n     <g id=\"line2d_8\">\n      <g>\n       <use xlink:href=\"#m7b5b87aa43\" x=\"350.974716\" y=\"273.312\" style=\"stroke: #000000; stroke-width: 0.8\"/>\n      </g>\n     </g>\n     <g id=\"text_8\">\n      <!-- 0.175 -->\n      <g transform=\"translate(336.660653 287.910437) scale(0.1 -0.1)\">\n       <use xlink:href=\"#DejaVuSans-30\"/>\n       <use xlink:href=\"#DejaVuSans-2e\" x=\"63.623047\"/>\n       <use xlink:href=\"#DejaVuSans-31\" x=\"95.410156\"/>\n       <use xlink:href=\"#DejaVuSans-37\" x=\"159.033203\"/>\n       <use xlink:href=\"#DejaVuSans-35\" x=\"222.65625\"/>\n      </g>\n     </g>\n    </g>\n    <g id=\"xtick_9\">\n     <g id=\"line2d_9\">\n      <g>\n       <use xlink:href=\"#m7b5b87aa43\" x=\"393.585625\" y=\"273.312\" style=\"stroke: #000000; stroke-width: 0.8\"/>\n      </g>\n     </g>\n     <g id=\"text_9\">\n      <!-- 0.200 -->\n      <g transform=\"translate(379.271563 287.910437) scale(0.1 -0.1)\">\n       <use xlink:href=\"#DejaVuSans-30\"/>\n       <use xlink:href=\"#DejaVuSans-2e\" x=\"63.623047\"/>\n       <use xlink:href=\"#DejaVuSans-32\" x=\"95.410156\"/>\n       <use xlink:href=\"#DejaVuSans-30\" x=\"159.033203\"/>\n       <use xlink:href=\"#DejaVuSans-30\" x=\"222.65625\"/>\n      </g>\n     </g>\n    </g>\n   </g>\n   <g id=\"matplotlib.axis_2\">\n    <g id=\"ytick_1\">\n     <g id=\"line2d_10\">\n      <defs>\n       <path id=\"mbd8feac440\" d=\"M 0 0 \nL -3.5 0 \n\" style=\"stroke: #000000; stroke-width: 0.8\"/>\n      </defs>\n      <g>\n       <use xlink:href=\"#mbd8feac440\" x=\"36.465625\" y=\"273.312\" style=\"stroke: #000000; stroke-width: 0.8\"/>\n      </g>\n     </g>\n     <g id=\"text_10\">\n      <!-- 0.0 -->\n      <g transform=\"translate(13.5625 277.111219) scale(0.1 -0.1)\">\n       <use xlink:href=\"#DejaVuSans-30\"/>\n       <use xlink:href=\"#DejaVuSans-2e\" x=\"63.623047\"/>\n       <use xlink:href=\"#DejaVuSans-30\" x=\"95.410156\"/>\n      </g>\n     </g>\n    </g>\n    <g id=\"ytick_2\">\n     <g id=\"line2d_11\">\n      <g>\n       <use xlink:href=\"#mbd8feac440\" x=\"36.465625\" y=\"243.140571\" style=\"stroke: #000000; stroke-width: 0.8\"/>\n      </g>\n     </g>\n     <g id=\"text_11\">\n      <!-- 2.5 -->\n      <g transform=\"translate(13.5625 246.93979) scale(0.1 -0.1)\">\n       <use xlink:href=\"#DejaVuSans-32\"/>\n       <use xlink:href=\"#DejaVuSans-2e\" x=\"63.623047\"/>\n       <use xlink:href=\"#DejaVuSans-35\" x=\"95.410156\"/>\n      </g>\n     </g>\n    </g>\n    <g id=\"ytick_3\">\n     <g id=\"line2d_12\">\n      <g>\n       <use xlink:href=\"#mbd8feac440\" x=\"36.465625\" y=\"212.969143\" style=\"stroke: #000000; stroke-width: 0.8\"/>\n      </g>\n     </g>\n     <g id=\"text_12\">\n      <!-- 5.0 -->\n      <g transform=\"translate(13.5625 216.768362) scale(0.1 -0.1)\">\n       <use xlink:href=\"#DejaVuSans-35\"/>\n       <use xlink:href=\"#DejaVuSans-2e\" x=\"63.623047\"/>\n       <use xlink:href=\"#DejaVuSans-30\" x=\"95.410156\"/>\n      </g>\n     </g>\n    </g>\n    <g id=\"ytick_4\">\n     <g id=\"line2d_13\">\n      <g>\n       <use xlink:href=\"#mbd8feac440\" x=\"36.465625\" y=\"182.797714\" style=\"stroke: #000000; stroke-width: 0.8\"/>\n      </g>\n     </g>\n     <g id=\"text_13\">\n      <!-- 7.5 -->\n      <g transform=\"translate(13.5625 186.596933) scale(0.1 -0.1)\">\n       <use xlink:href=\"#DejaVuSans-37\"/>\n       <use xlink:href=\"#DejaVuSans-2e\" x=\"63.623047\"/>\n       <use xlink:href=\"#DejaVuSans-35\" x=\"95.410156\"/>\n      </g>\n     </g>\n    </g>\n    <g id=\"ytick_5\">\n     <g id=\"line2d_14\">\n      <g>\n       <use xlink:href=\"#mbd8feac440\" x=\"36.465625\" y=\"152.626286\" style=\"stroke: #000000; stroke-width: 0.8\"/>\n      </g>\n     </g>\n     <g id=\"text_14\">\n      <!-- 10.0 -->\n      <g transform=\"translate(7.2 156.425504) scale(0.1 -0.1)\">\n       <use xlink:href=\"#DejaVuSans-31\"/>\n       <use xlink:href=\"#DejaVuSans-30\" x=\"63.623047\"/>\n       <use xlink:href=\"#DejaVuSans-2e\" x=\"127.246094\"/>\n       <use xlink:href=\"#DejaVuSans-30\" x=\"159.033203\"/>\n      </g>\n     </g>\n    </g>\n    <g id=\"ytick_6\">\n     <g id=\"line2d_15\">\n      <g>\n       <use xlink:href=\"#mbd8feac440\" x=\"36.465625\" y=\"122.454857\" style=\"stroke: #000000; stroke-width: 0.8\"/>\n      </g>\n     </g>\n     <g id=\"text_15\">\n      <!-- 12.5 -->\n      <g transform=\"translate(7.2 126.254076) scale(0.1 -0.1)\">\n       <use xlink:href=\"#DejaVuSans-31\"/>\n       <use xlink:href=\"#DejaVuSans-32\" x=\"63.623047\"/>\n       <use xlink:href=\"#DejaVuSans-2e\" x=\"127.246094\"/>\n       <use xlink:href=\"#DejaVuSans-35\" x=\"159.033203\"/>\n      </g>\n     </g>\n    </g>\n    <g id=\"ytick_7\">\n     <g id=\"line2d_16\">\n      <g>\n       <use xlink:href=\"#mbd8feac440\" x=\"36.465625\" y=\"92.283429\" style=\"stroke: #000000; stroke-width: 0.8\"/>\n      </g>\n     </g>\n     <g id=\"text_16\">\n      <!-- 15.0 -->\n      <g transform=\"translate(7.2 96.082647) scale(0.1 -0.1)\">\n       <use xlink:href=\"#DejaVuSans-31\"/>\n       <use xlink:href=\"#DejaVuSans-35\" x=\"63.623047\"/>\n       <use xlink:href=\"#DejaVuSans-2e\" x=\"127.246094\"/>\n       <use xlink:href=\"#DejaVuSans-30\" x=\"159.033203\"/>\n      </g>\n     </g>\n    </g>\n    <g id=\"ytick_8\">\n     <g id=\"line2d_17\">\n      <g>\n       <use xlink:href=\"#mbd8feac440\" x=\"36.465625\" y=\"62.112\" style=\"stroke: #000000; stroke-width: 0.8\"/>\n      </g>\n     </g>\n     <g id=\"text_17\">\n      <!-- 17.5 -->\n      <g transform=\"translate(7.2 65.911219) scale(0.1 -0.1)\">\n       <use xlink:href=\"#DejaVuSans-31\"/>\n       <use xlink:href=\"#DejaVuSans-37\" x=\"63.623047\"/>\n       <use xlink:href=\"#DejaVuSans-2e\" x=\"127.246094\"/>\n       <use xlink:href=\"#DejaVuSans-35\" x=\"159.033203\"/>\n      </g>\n     </g>\n    </g>\n    <g id=\"ytick_9\">\n     <g id=\"line2d_18\">\n      <g>\n       <use xlink:href=\"#mbd8feac440\" x=\"36.465625\" y=\"31.940571\" style=\"stroke: #000000; stroke-width: 0.8\"/>\n      </g>\n     </g>\n     <g id=\"text_18\">\n      <!-- 20.0 -->\n      <g transform=\"translate(7.2 35.73979) scale(0.1 -0.1)\">\n       <use xlink:href=\"#DejaVuSans-32\"/>\n       <use xlink:href=\"#DejaVuSans-30\" x=\"63.623047\"/>\n       <use xlink:href=\"#DejaVuSans-2e\" x=\"127.246094\"/>\n       <use xlink:href=\"#DejaVuSans-30\" x=\"159.033203\"/>\n      </g>\n     </g>\n    </g>\n   </g>\n   <g id=\"patch_103\">\n    <path d=\"M 36.465625 273.312 \nL 36.465625 7.2 \n\" style=\"fill: none; stroke: #000000; stroke-width: 0.8; stroke-linejoin: miter; stroke-linecap: square\"/>\n   </g>\n   <g id=\"patch_104\">\n    <path d=\"M 393.585625 273.312 \nL 393.585625 7.2 \n\" style=\"fill: none; stroke: #000000; stroke-width: 0.8; stroke-linejoin: miter; stroke-linecap: square\"/>\n   </g>\n   <g id=\"patch_105\">\n    <path d=\"M 36.465625 273.312 \nL 393.585625 273.312 \n\" style=\"fill: none; stroke: #000000; stroke-width: 0.8; stroke-linejoin: miter; stroke-linecap: square\"/>\n   </g>\n   <g id=\"patch_106\">\n    <path d=\"M 36.465625 7.2 \nL 393.585625 7.2 \n\" style=\"fill: none; stroke: #000000; stroke-width: 0.8; stroke-linejoin: miter; stroke-linecap: square\"/>\n   </g>\n  </g>\n </g>\n <defs>\n  <clipPath id=\"p3df931e73a\">\n   <rect x=\"36.465625\" y=\"7.2\" width=\"357.12\" height=\"266.112\"/>\n  </clipPath>\n </defs>\n</svg>\n"
          },
          "metadata": {}
        }
      ]
    },
    {
      "cell_type": "code",
      "source": [
        "def normalize_data(df, column):\n",
        "  return df[column] - df[column].mean()/df[column].std()"
      ],
      "metadata": {
        "id": "ykTuyN2g-Bze"
      },
      "execution_count": null,
      "outputs": []
    },
    {
      "cell_type": "code",
      "source": [
        "import seaborn as sns\n"
      ],
      "metadata": {
        "id": "4oL-bl75PzZu"
      },
      "execution_count": null,
      "outputs": []
    },
    {
      "cell_type": "code",
      "source": [
        "# fit a univariate regression model\n",
        "def fit_regression_line(y, X, regressor):\n",
        "  model = sm.OLS(y, X)\n",
        "  results = model.fit()\n",
        "\n",
        "  param = results.params\n",
        "  fitted = np.transpose(X) * param\n",
        "\n",
        "  fig, ax = plt.subplots(figsize=(8,4))\n",
        "  plt.plot(X, y, 'o')\n",
        "  plt.plot(X, fitted ,'-', label='coefficient: ' + str(round(param[0], 2)))\n",
        "  ax.set_xlabel(regressor)\n",
        "  ax.set_ylabel('post_pos_sentiment')\n",
        "  plt.legend()\n",
        "  plt.show()"
      ],
      "metadata": {
        "id": "iv0AApnfQslk"
      },
      "execution_count": 22,
      "outputs": []
    },
    {
      "cell_type": "code",
      "source": [
        "def fit_regression_line_intercept(y, X, regressor):\n",
        "    X = sm.add_constant(X)  # adding a constant term for intercept\n",
        "    model = sm.OLS(y, X)\n",
        "    results = model.fit()\n",
        "\n",
        "    param = results.params\n",
        "    fitted = np.dot(X, param)\n",
        "\n",
        "    fig, ax = plt.subplots(figsize=(8,4))\n",
        "    plt.plot(X[:, 1], y, 'o')  # X[:, 1] since X[:, 0] is the constant term\n",
        "    plt.plot(X[:, 1], fitted ,'-', label='intercept: ' + str(round(param[0], 2)) +\n",
        "                                        ', coefficient: ' + str(round(param[1], 2)))\n",
        "    ax.set_xlabel(regressor)\n",
        "    ax.set_ylabel('post_pos_sentiment')\n",
        "    plt.legend()\n",
        "    plt.show()"
      ],
      "metadata": {
        "id": "TAg8xp_Dgu5q"
      },
      "execution_count": 23,
      "outputs": []
    },
    {
      "cell_type": "markdown",
      "source": [
        "\n",
        "\n",
        "---\n",
        "\n"
      ],
      "metadata": {
        "id": "qcT3wheNvRFv"
      }
    },
    {
      "cell_type": "markdown",
      "source": [
        "### eig_centrality vs agg_pos_comment_sentiment \n",
        "Model : \n",
        "$y_{agg-pos-comment-sentiment} = \\beta_0 + \\beta_1 \\cdot X_{eig-centrality}  + \\beta_2 \\cdot X_{num-comments} + \\epsilon $\n",
        "Here, we control for the post positive sentiment to make sure that the comment sentiment is not being driven by the fact that the user posted something positive which is leading other users to comment a certain way. We also control for the number of comments, since the change aggregated comment sentiment may be driven by the number of comments the post has. "
      ],
      "metadata": {
        "id": "AHKZqunHsqdx"
      }
    },
    {
      "cell_type": "code",
      "source": [
        "plt.hist(berkeley_regression_df['eig_centrality'].values, bins= 100)"
      ],
      "metadata": {
        "colab": {
          "base_uri": "https://localhost:8080/",
          "height": 1000
        },
        "id": "Qr4aNAMjtV5q",
        "outputId": "a7159bcc-f32c-4eea-a730-b0a2cc9aa2ec"
      },
      "execution_count": null,
      "outputs": [
        {
          "output_type": "execute_result",
          "data": {
            "text/plain": [
              "(array([ 61.,  37.,  12.,   5.,  66., 112.,  42.,  22.,  19.,  17.,   2.,\n",
              "          5.,   9.,   0.,   0.,  10.,   8.,   0.,   0.,   0.,   0.,   0.,\n",
              "          0.,   0.,   0.,   0.,   0.,  25.,   0.,   0.,   0.,   0.,   0.,\n",
              "          0.,   0.,   0.,   0.,   0.,   0.,   0.,   0.,   0.,   0.,   0.,\n",
              "          0.,   0.,   0.,   0.,   0.,   0.,   0.,   0.,   0.,   0.,   0.,\n",
              "          0.,   0.,   0.,   0.,   0.,   0.,   0.,   0.,   0.,   0.,   0.,\n",
              "          0.,   0.,   0.,   0.,   0.,   0.,   0.,   0.,   0.,   0.,   0.,\n",
              "          0.,   0.,   0.,   0.,   0.,   0.,   0.,   0.,   0.,   0.,   0.,\n",
              "          0.,   0.,   0.,   0.,   0.,   0.,   0.,   0.,   0.,   0.,   0.,\n",
              "         42.]),\n",
              " array([3.47854006e-05, 6.23878746e-03, 1.24427895e-02, 1.86467916e-02,\n",
              "        2.48507937e-02, 3.10547957e-02, 3.72587978e-02, 4.34627998e-02,\n",
              "        4.96668019e-02, 5.58708040e-02, 6.20748060e-02, 6.82788081e-02,\n",
              "        7.44828101e-02, 8.06868122e-02, 8.68908143e-02, 9.30948163e-02,\n",
              "        9.92988184e-02, 1.05502820e-01, 1.11706823e-01, 1.17910825e-01,\n",
              "        1.24114827e-01, 1.30318829e-01, 1.36522831e-01, 1.42726833e-01,\n",
              "        1.48930835e-01, 1.55134837e-01, 1.61338839e-01, 1.67542841e-01,\n",
              "        1.73746843e-01, 1.79950845e-01, 1.86154847e-01, 1.92358849e-01,\n",
              "        1.98562851e-01, 2.04766853e-01, 2.10970856e-01, 2.17174858e-01,\n",
              "        2.23378860e-01, 2.29582862e-01, 2.35786864e-01, 2.41990866e-01,\n",
              "        2.48194868e-01, 2.54398870e-01, 2.60602872e-01, 2.66806874e-01,\n",
              "        2.73010876e-01, 2.79214878e-01, 2.85418880e-01, 2.91622882e-01,\n",
              "        2.97826884e-01, 3.04030886e-01, 3.10234889e-01, 3.16438891e-01,\n",
              "        3.22642893e-01, 3.28846895e-01, 3.35050897e-01, 3.41254899e-01,\n",
              "        3.47458901e-01, 3.53662903e-01, 3.59866905e-01, 3.66070907e-01,\n",
              "        3.72274909e-01, 3.78478911e-01, 3.84682913e-01, 3.90886915e-01,\n",
              "        3.97090917e-01, 4.03294919e-01, 4.09498922e-01, 4.15702924e-01,\n",
              "        4.21906926e-01, 4.28110928e-01, 4.34314930e-01, 4.40518932e-01,\n",
              "        4.46722934e-01, 4.52926936e-01, 4.59130938e-01, 4.65334940e-01,\n",
              "        4.71538942e-01, 4.77742944e-01, 4.83946946e-01, 4.90150948e-01,\n",
              "        4.96354950e-01, 5.02558952e-01, 5.08762955e-01, 5.14966957e-01,\n",
              "        5.21170959e-01, 5.27374961e-01, 5.33578963e-01, 5.39782965e-01,\n",
              "        5.45986967e-01, 5.52190969e-01, 5.58394971e-01, 5.64598973e-01,\n",
              "        5.70802975e-01, 5.77006977e-01, 5.83210979e-01, 5.89414981e-01,\n",
              "        5.95618983e-01, 6.01822985e-01, 6.08026988e-01, 6.14230990e-01,\n",
              "        6.20434992e-01]),\n",
              " <BarContainer object of 100 artists>)"
            ]
          },
          "metadata": {},
          "execution_count": 23
        },
        {
          "output_type": "display_data",
          "data": {
            "text/plain": [
              "<Figure size 640x480 with 1 Axes>"
            ],
            "image/svg+xml": "<?xml version=\"1.0\" encoding=\"utf-8\" standalone=\"no\"?>\n<!DOCTYPE svg PUBLIC \"-//W3C//DTD SVG 1.1//EN\"\n  \"http://www.w3.org/Graphics/SVG/1.1/DTD/svg11.dtd\">\n<svg xmlns:xlink=\"http://www.w3.org/1999/xlink\" width=\"397.6075pt\" height=\"297.190125pt\" viewBox=\"0 0 397.6075 297.190125\" xmlns=\"http://www.w3.org/2000/svg\" version=\"1.1\">\n <metadata>\n  <rdf:RDF xmlns:dc=\"http://purl.org/dc/elements/1.1/\" xmlns:cc=\"http://creativecommons.org/ns#\" xmlns:rdf=\"http://www.w3.org/1999/02/22-rdf-syntax-ns#\">\n   <cc:Work>\n    <dc:type rdf:resource=\"http://purl.org/dc/dcmitype/StillImage\"/>\n    <dc:date>2023-05-25T12:48:48.417937</dc:date>\n    <dc:format>image/svg+xml</dc:format>\n    <dc:creator>\n     <cc:Agent>\n      <dc:title>Matplotlib v3.7.1, https://matplotlib.org/</dc:title>\n     </cc:Agent>\n    </dc:creator>\n   </cc:Work>\n  </rdf:RDF>\n </metadata>\n <defs>\n  <style type=\"text/css\">*{stroke-linejoin: round; stroke-linecap: butt}</style>\n </defs>\n <g id=\"figure_1\">\n  <g id=\"patch_1\">\n   <path d=\"M 0 297.190125 \nL 397.6075 297.190125 \nL 397.6075 0 \nL 0 0 \nz\n\" style=\"fill: #ffffff\"/>\n  </g>\n  <g id=\"axes_1\">\n   <g id=\"patch_2\">\n    <path d=\"M 33.2875 273.312 \nL 390.4075 273.312 \nL 390.4075 7.2 \nL 33.2875 7.2 \nz\n\" style=\"fill: #ffffff\"/>\n   </g>\n   <g id=\"patch_3\">\n    <path d=\"M 49.520227 273.312 \nL 52.766773 273.312 \nL 52.766773 135.277714 \nL 49.520227 135.277714 \nz\n\" clip-path=\"url(#p8285e78cba)\" style=\"fill: #1f77b4\"/>\n   </g>\n   <g id=\"patch_4\">\n    <path d=\"M 52.766773 273.312 \nL 56.013318 273.312 \nL 56.013318 189.586286 \nL 52.766773 189.586286 \nz\n\" clip-path=\"url(#p8285e78cba)\" style=\"fill: #1f77b4\"/>\n   </g>\n   <g id=\"patch_5\">\n    <path d=\"M 56.013318 273.312 \nL 59.259864 273.312 \nL 59.259864 246.157714 \nL 56.013318 246.157714 \nz\n\" clip-path=\"url(#p8285e78cba)\" style=\"fill: #1f77b4\"/>\n   </g>\n   <g id=\"patch_6\">\n    <path d=\"M 59.259864 273.312 \nL 62.506409 273.312 \nL 62.506409 261.997714 \nL 59.259864 261.997714 \nz\n\" clip-path=\"url(#p8285e78cba)\" style=\"fill: #1f77b4\"/>\n   </g>\n   <g id=\"patch_7\">\n    <path d=\"M 62.506409 273.312 \nL 65.752955 273.312 \nL 65.752955 123.963429 \nL 62.506409 123.963429 \nz\n\" clip-path=\"url(#p8285e78cba)\" style=\"fill: #1f77b4\"/>\n   </g>\n   <g id=\"patch_8\">\n    <path d=\"M 65.752955 273.312 \nL 68.9995 273.312 \nL 68.9995 19.872 \nL 65.752955 19.872 \nz\n\" clip-path=\"url(#p8285e78cba)\" style=\"fill: #1f77b4\"/>\n   </g>\n   <g id=\"patch_9\">\n    <path d=\"M 68.9995 273.312 \nL 72.246045 273.312 \nL 72.246045 178.272 \nL 68.9995 178.272 \nz\n\" clip-path=\"url(#p8285e78cba)\" style=\"fill: #1f77b4\"/>\n   </g>\n   <g id=\"patch_10\">\n    <path d=\"M 72.246045 273.312 \nL 75.492591 273.312 \nL 75.492591 223.529143 \nL 72.246045 223.529143 \nz\n\" clip-path=\"url(#p8285e78cba)\" style=\"fill: #1f77b4\"/>\n   </g>\n   <g id=\"patch_11\">\n    <path d=\"M 75.492591 273.312 \nL 78.739136 273.312 \nL 78.739136 230.317714 \nL 75.492591 230.317714 \nz\n\" clip-path=\"url(#p8285e78cba)\" style=\"fill: #1f77b4\"/>\n   </g>\n   <g id=\"patch_12\">\n    <path d=\"M 78.739136 273.312 \nL 81.985682 273.312 \nL 81.985682 234.843429 \nL 78.739136 234.843429 \nz\n\" clip-path=\"url(#p8285e78cba)\" style=\"fill: #1f77b4\"/>\n   </g>\n   <g id=\"patch_13\">\n    <path d=\"M 81.985682 273.312 \nL 85.232227 273.312 \nL 85.232227 268.786286 \nL 81.985682 268.786286 \nz\n\" clip-path=\"url(#p8285e78cba)\" style=\"fill: #1f77b4\"/>\n   </g>\n   <g id=\"patch_14\">\n    <path d=\"M 85.232227 273.312 \nL 88.478773 273.312 \nL 88.478773 261.997714 \nL 85.232227 261.997714 \nz\n\" clip-path=\"url(#p8285e78cba)\" style=\"fill: #1f77b4\"/>\n   </g>\n   <g id=\"patch_15\">\n    <path d=\"M 88.478773 273.312 \nL 91.725318 273.312 \nL 91.725318 252.946286 \nL 88.478773 252.946286 \nz\n\" clip-path=\"url(#p8285e78cba)\" style=\"fill: #1f77b4\"/>\n   </g>\n   <g id=\"patch_16\">\n    <path d=\"M 91.725318 273.312 \nL 94.971864 273.312 \nL 94.971864 273.312 \nL 91.725318 273.312 \nz\n\" clip-path=\"url(#p8285e78cba)\" style=\"fill: #1f77b4\"/>\n   </g>\n   <g id=\"patch_17\">\n    <path d=\"M 94.971864 273.312 \nL 98.218409 273.312 \nL 98.218409 273.312 \nL 94.971864 273.312 \nz\n\" clip-path=\"url(#p8285e78cba)\" style=\"fill: #1f77b4\"/>\n   </g>\n   <g id=\"patch_18\">\n    <path d=\"M 98.218409 273.312 \nL 101.464955 273.312 \nL 101.464955 250.683429 \nL 98.218409 250.683429 \nz\n\" clip-path=\"url(#p8285e78cba)\" style=\"fill: #1f77b4\"/>\n   </g>\n   <g id=\"patch_19\">\n    <path d=\"M 101.464955 273.312 \nL 104.7115 273.312 \nL 104.7115 255.209143 \nL 101.464955 255.209143 \nz\n\" clip-path=\"url(#p8285e78cba)\" style=\"fill: #1f77b4\"/>\n   </g>\n   <g id=\"patch_20\">\n    <path d=\"M 104.7115 273.312 \nL 107.958045 273.312 \nL 107.958045 273.312 \nL 104.7115 273.312 \nz\n\" clip-path=\"url(#p8285e78cba)\" style=\"fill: #1f77b4\"/>\n   </g>\n   <g id=\"patch_21\">\n    <path d=\"M 107.958045 273.312 \nL 111.204591 273.312 \nL 111.204591 273.312 \nL 107.958045 273.312 \nz\n\" clip-path=\"url(#p8285e78cba)\" style=\"fill: #1f77b4\"/>\n   </g>\n   <g id=\"patch_22\">\n    <path d=\"M 111.204591 273.312 \nL 114.451136 273.312 \nL 114.451136 273.312 \nL 111.204591 273.312 \nz\n\" clip-path=\"url(#p8285e78cba)\" style=\"fill: #1f77b4\"/>\n   </g>\n   <g id=\"patch_23\">\n    <path d=\"M 114.451136 273.312 \nL 117.697682 273.312 \nL 117.697682 273.312 \nL 114.451136 273.312 \nz\n\" clip-path=\"url(#p8285e78cba)\" style=\"fill: #1f77b4\"/>\n   </g>\n   <g id=\"patch_24\">\n    <path d=\"M 117.697682 273.312 \nL 120.944227 273.312 \nL 120.944227 273.312 \nL 117.697682 273.312 \nz\n\" clip-path=\"url(#p8285e78cba)\" style=\"fill: #1f77b4\"/>\n   </g>\n   <g id=\"patch_25\">\n    <path d=\"M 120.944227 273.312 \nL 124.190773 273.312 \nL 124.190773 273.312 \nL 120.944227 273.312 \nz\n\" clip-path=\"url(#p8285e78cba)\" style=\"fill: #1f77b4\"/>\n   </g>\n   <g id=\"patch_26\">\n    <path d=\"M 124.190773 273.312 \nL 127.437318 273.312 \nL 127.437318 273.312 \nL 124.190773 273.312 \nz\n\" clip-path=\"url(#p8285e78cba)\" style=\"fill: #1f77b4\"/>\n   </g>\n   <g id=\"patch_27\">\n    <path d=\"M 127.437318 273.312 \nL 130.683864 273.312 \nL 130.683864 273.312 \nL 127.437318 273.312 \nz\n\" clip-path=\"url(#p8285e78cba)\" style=\"fill: #1f77b4\"/>\n   </g>\n   <g id=\"patch_28\">\n    <path d=\"M 130.683864 273.312 \nL 133.930409 273.312 \nL 133.930409 273.312 \nL 130.683864 273.312 \nz\n\" clip-path=\"url(#p8285e78cba)\" style=\"fill: #1f77b4\"/>\n   </g>\n   <g id=\"patch_29\">\n    <path d=\"M 133.930409 273.312 \nL 137.176955 273.312 \nL 137.176955 273.312 \nL 133.930409 273.312 \nz\n\" clip-path=\"url(#p8285e78cba)\" style=\"fill: #1f77b4\"/>\n   </g>\n   <g id=\"patch_30\">\n    <path d=\"M 137.176955 273.312 \nL 140.4235 273.312 \nL 140.4235 216.740571 \nL 137.176955 216.740571 \nz\n\" clip-path=\"url(#p8285e78cba)\" style=\"fill: #1f77b4\"/>\n   </g>\n   <g id=\"patch_31\">\n    <path d=\"M 140.4235 273.312 \nL 143.670045 273.312 \nL 143.670045 273.312 \nL 140.4235 273.312 \nz\n\" clip-path=\"url(#p8285e78cba)\" style=\"fill: #1f77b4\"/>\n   </g>\n   <g id=\"patch_32\">\n    <path d=\"M 143.670045 273.312 \nL 146.916591 273.312 \nL 146.916591 273.312 \nL 143.670045 273.312 \nz\n\" clip-path=\"url(#p8285e78cba)\" style=\"fill: #1f77b4\"/>\n   </g>\n   <g id=\"patch_33\">\n    <path d=\"M 146.916591 273.312 \nL 150.163136 273.312 \nL 150.163136 273.312 \nL 146.916591 273.312 \nz\n\" clip-path=\"url(#p8285e78cba)\" style=\"fill: #1f77b4\"/>\n   </g>\n   <g id=\"patch_34\">\n    <path d=\"M 150.163136 273.312 \nL 153.409682 273.312 \nL 153.409682 273.312 \nL 150.163136 273.312 \nz\n\" clip-path=\"url(#p8285e78cba)\" style=\"fill: #1f77b4\"/>\n   </g>\n   <g id=\"patch_35\">\n    <path d=\"M 153.409682 273.312 \nL 156.656227 273.312 \nL 156.656227 273.312 \nL 153.409682 273.312 \nz\n\" clip-path=\"url(#p8285e78cba)\" style=\"fill: #1f77b4\"/>\n   </g>\n   <g id=\"patch_36\">\n    <path d=\"M 156.656227 273.312 \nL 159.902773 273.312 \nL 159.902773 273.312 \nL 156.656227 273.312 \nz\n\" clip-path=\"url(#p8285e78cba)\" style=\"fill: #1f77b4\"/>\n   </g>\n   <g id=\"patch_37\">\n    <path d=\"M 159.902773 273.312 \nL 163.149318 273.312 \nL 163.149318 273.312 \nL 159.902773 273.312 \nz\n\" clip-path=\"url(#p8285e78cba)\" style=\"fill: #1f77b4\"/>\n   </g>\n   <g id=\"patch_38\">\n    <path d=\"M 163.149318 273.312 \nL 166.395864 273.312 \nL 166.395864 273.312 \nL 163.149318 273.312 \nz\n\" clip-path=\"url(#p8285e78cba)\" style=\"fill: #1f77b4\"/>\n   </g>\n   <g id=\"patch_39\">\n    <path d=\"M 166.395864 273.312 \nL 169.642409 273.312 \nL 169.642409 273.312 \nL 166.395864 273.312 \nz\n\" clip-path=\"url(#p8285e78cba)\" style=\"fill: #1f77b4\"/>\n   </g>\n   <g id=\"patch_40\">\n    <path d=\"M 169.642409 273.312 \nL 172.888955 273.312 \nL 172.888955 273.312 \nL 169.642409 273.312 \nz\n\" clip-path=\"url(#p8285e78cba)\" style=\"fill: #1f77b4\"/>\n   </g>\n   <g id=\"patch_41\">\n    <path d=\"M 172.888955 273.312 \nL 176.1355 273.312 \nL 176.1355 273.312 \nL 172.888955 273.312 \nz\n\" clip-path=\"url(#p8285e78cba)\" style=\"fill: #1f77b4\"/>\n   </g>\n   <g id=\"patch_42\">\n    <path d=\"M 176.1355 273.312 \nL 179.382045 273.312 \nL 179.382045 273.312 \nL 176.1355 273.312 \nz\n\" clip-path=\"url(#p8285e78cba)\" style=\"fill: #1f77b4\"/>\n   </g>\n   <g id=\"patch_43\">\n    <path d=\"M 179.382045 273.312 \nL 182.628591 273.312 \nL 182.628591 273.312 \nL 179.382045 273.312 \nz\n\" clip-path=\"url(#p8285e78cba)\" style=\"fill: #1f77b4\"/>\n   </g>\n   <g id=\"patch_44\">\n    <path d=\"M 182.628591 273.312 \nL 185.875136 273.312 \nL 185.875136 273.312 \nL 182.628591 273.312 \nz\n\" clip-path=\"url(#p8285e78cba)\" style=\"fill: #1f77b4\"/>\n   </g>\n   <g id=\"patch_45\">\n    <path d=\"M 185.875136 273.312 \nL 189.121682 273.312 \nL 189.121682 273.312 \nL 185.875136 273.312 \nz\n\" clip-path=\"url(#p8285e78cba)\" style=\"fill: #1f77b4\"/>\n   </g>\n   <g id=\"patch_46\">\n    <path d=\"M 189.121682 273.312 \nL 192.368227 273.312 \nL 192.368227 273.312 \nL 189.121682 273.312 \nz\n\" clip-path=\"url(#p8285e78cba)\" style=\"fill: #1f77b4\"/>\n   </g>\n   <g id=\"patch_47\">\n    <path d=\"M 192.368227 273.312 \nL 195.614773 273.312 \nL 195.614773 273.312 \nL 192.368227 273.312 \nz\n\" clip-path=\"url(#p8285e78cba)\" style=\"fill: #1f77b4\"/>\n   </g>\n   <g id=\"patch_48\">\n    <path d=\"M 195.614773 273.312 \nL 198.861318 273.312 \nL 198.861318 273.312 \nL 195.614773 273.312 \nz\n\" clip-path=\"url(#p8285e78cba)\" style=\"fill: #1f77b4\"/>\n   </g>\n   <g id=\"patch_49\">\n    <path d=\"M 198.861318 273.312 \nL 202.107864 273.312 \nL 202.107864 273.312 \nL 198.861318 273.312 \nz\n\" clip-path=\"url(#p8285e78cba)\" style=\"fill: #1f77b4\"/>\n   </g>\n   <g id=\"patch_50\">\n    <path d=\"M 202.107864 273.312 \nL 205.354409 273.312 \nL 205.354409 273.312 \nL 202.107864 273.312 \nz\n\" clip-path=\"url(#p8285e78cba)\" style=\"fill: #1f77b4\"/>\n   </g>\n   <g id=\"patch_51\">\n    <path d=\"M 205.354409 273.312 \nL 208.600955 273.312 \nL 208.600955 273.312 \nL 205.354409 273.312 \nz\n\" clip-path=\"url(#p8285e78cba)\" style=\"fill: #1f77b4\"/>\n   </g>\n   <g id=\"patch_52\">\n    <path d=\"M 208.600955 273.312 \nL 211.8475 273.312 \nL 211.8475 273.312 \nL 208.600955 273.312 \nz\n\" clip-path=\"url(#p8285e78cba)\" style=\"fill: #1f77b4\"/>\n   </g>\n   <g id=\"patch_53\">\n    <path d=\"M 211.8475 273.312 \nL 215.094045 273.312 \nL 215.094045 273.312 \nL 211.8475 273.312 \nz\n\" clip-path=\"url(#p8285e78cba)\" style=\"fill: #1f77b4\"/>\n   </g>\n   <g id=\"patch_54\">\n    <path d=\"M 215.094045 273.312 \nL 218.340591 273.312 \nL 218.340591 273.312 \nL 215.094045 273.312 \nz\n\" clip-path=\"url(#p8285e78cba)\" style=\"fill: #1f77b4\"/>\n   </g>\n   <g id=\"patch_55\">\n    <path d=\"M 218.340591 273.312 \nL 221.587136 273.312 \nL 221.587136 273.312 \nL 218.340591 273.312 \nz\n\" clip-path=\"url(#p8285e78cba)\" style=\"fill: #1f77b4\"/>\n   </g>\n   <g id=\"patch_56\">\n    <path d=\"M 221.587136 273.312 \nL 224.833682 273.312 \nL 224.833682 273.312 \nL 221.587136 273.312 \nz\n\" clip-path=\"url(#p8285e78cba)\" style=\"fill: #1f77b4\"/>\n   </g>\n   <g id=\"patch_57\">\n    <path d=\"M 224.833682 273.312 \nL 228.080227 273.312 \nL 228.080227 273.312 \nL 224.833682 273.312 \nz\n\" clip-path=\"url(#p8285e78cba)\" style=\"fill: #1f77b4\"/>\n   </g>\n   <g id=\"patch_58\">\n    <path d=\"M 228.080227 273.312 \nL 231.326773 273.312 \nL 231.326773 273.312 \nL 228.080227 273.312 \nz\n\" clip-path=\"url(#p8285e78cba)\" style=\"fill: #1f77b4\"/>\n   </g>\n   <g id=\"patch_59\">\n    <path d=\"M 231.326773 273.312 \nL 234.573318 273.312 \nL 234.573318 273.312 \nL 231.326773 273.312 \nz\n\" clip-path=\"url(#p8285e78cba)\" style=\"fill: #1f77b4\"/>\n   </g>\n   <g id=\"patch_60\">\n    <path d=\"M 234.573318 273.312 \nL 237.819864 273.312 \nL 237.819864 273.312 \nL 234.573318 273.312 \nz\n\" clip-path=\"url(#p8285e78cba)\" style=\"fill: #1f77b4\"/>\n   </g>\n   <g id=\"patch_61\">\n    <path d=\"M 237.819864 273.312 \nL 241.066409 273.312 \nL 241.066409 273.312 \nL 237.819864 273.312 \nz\n\" clip-path=\"url(#p8285e78cba)\" style=\"fill: #1f77b4\"/>\n   </g>\n   <g id=\"patch_62\">\n    <path d=\"M 241.066409 273.312 \nL 244.312955 273.312 \nL 244.312955 273.312 \nL 241.066409 273.312 \nz\n\" clip-path=\"url(#p8285e78cba)\" style=\"fill: #1f77b4\"/>\n   </g>\n   <g id=\"patch_63\">\n    <path d=\"M 244.312955 273.312 \nL 247.5595 273.312 \nL 247.5595 273.312 \nL 244.312955 273.312 \nz\n\" clip-path=\"url(#p8285e78cba)\" style=\"fill: #1f77b4\"/>\n   </g>\n   <g id=\"patch_64\">\n    <path d=\"M 247.5595 273.312 \nL 250.806045 273.312 \nL 250.806045 273.312 \nL 247.5595 273.312 \nz\n\" clip-path=\"url(#p8285e78cba)\" style=\"fill: #1f77b4\"/>\n   </g>\n   <g id=\"patch_65\">\n    <path d=\"M 250.806045 273.312 \nL 254.052591 273.312 \nL 254.052591 273.312 \nL 250.806045 273.312 \nz\n\" clip-path=\"url(#p8285e78cba)\" style=\"fill: #1f77b4\"/>\n   </g>\n   <g id=\"patch_66\">\n    <path d=\"M 254.052591 273.312 \nL 257.299136 273.312 \nL 257.299136 273.312 \nL 254.052591 273.312 \nz\n\" clip-path=\"url(#p8285e78cba)\" style=\"fill: #1f77b4\"/>\n   </g>\n   <g id=\"patch_67\">\n    <path d=\"M 257.299136 273.312 \nL 260.545682 273.312 \nL 260.545682 273.312 \nL 257.299136 273.312 \nz\n\" clip-path=\"url(#p8285e78cba)\" style=\"fill: #1f77b4\"/>\n   </g>\n   <g id=\"patch_68\">\n    <path d=\"M 260.545682 273.312 \nL 263.792227 273.312 \nL 263.792227 273.312 \nL 260.545682 273.312 \nz\n\" clip-path=\"url(#p8285e78cba)\" style=\"fill: #1f77b4\"/>\n   </g>\n   <g id=\"patch_69\">\n    <path d=\"M 263.792227 273.312 \nL 267.038773 273.312 \nL 267.038773 273.312 \nL 263.792227 273.312 \nz\n\" clip-path=\"url(#p8285e78cba)\" style=\"fill: #1f77b4\"/>\n   </g>\n   <g id=\"patch_70\">\n    <path d=\"M 267.038773 273.312 \nL 270.285318 273.312 \nL 270.285318 273.312 \nL 267.038773 273.312 \nz\n\" clip-path=\"url(#p8285e78cba)\" style=\"fill: #1f77b4\"/>\n   </g>\n   <g id=\"patch_71\">\n    <path d=\"M 270.285318 273.312 \nL 273.531864 273.312 \nL 273.531864 273.312 \nL 270.285318 273.312 \nz\n\" clip-path=\"url(#p8285e78cba)\" style=\"fill: #1f77b4\"/>\n   </g>\n   <g id=\"patch_72\">\n    <path d=\"M 273.531864 273.312 \nL 276.778409 273.312 \nL 276.778409 273.312 \nL 273.531864 273.312 \nz\n\" clip-path=\"url(#p8285e78cba)\" style=\"fill: #1f77b4\"/>\n   </g>\n   <g id=\"patch_73\">\n    <path d=\"M 276.778409 273.312 \nL 280.024955 273.312 \nL 280.024955 273.312 \nL 276.778409 273.312 \nz\n\" clip-path=\"url(#p8285e78cba)\" style=\"fill: #1f77b4\"/>\n   </g>\n   <g id=\"patch_74\">\n    <path d=\"M 280.024955 273.312 \nL 283.2715 273.312 \nL 283.2715 273.312 \nL 280.024955 273.312 \nz\n\" clip-path=\"url(#p8285e78cba)\" style=\"fill: #1f77b4\"/>\n   </g>\n   <g id=\"patch_75\">\n    <path d=\"M 283.2715 273.312 \nL 286.518045 273.312 \nL 286.518045 273.312 \nL 283.2715 273.312 \nz\n\" clip-path=\"url(#p8285e78cba)\" style=\"fill: #1f77b4\"/>\n   </g>\n   <g id=\"patch_76\">\n    <path d=\"M 286.518045 273.312 \nL 289.764591 273.312 \nL 289.764591 273.312 \nL 286.518045 273.312 \nz\n\" clip-path=\"url(#p8285e78cba)\" style=\"fill: #1f77b4\"/>\n   </g>\n   <g id=\"patch_77\">\n    <path d=\"M 289.764591 273.312 \nL 293.011136 273.312 \nL 293.011136 273.312 \nL 289.764591 273.312 \nz\n\" clip-path=\"url(#p8285e78cba)\" style=\"fill: #1f77b4\"/>\n   </g>\n   <g id=\"patch_78\">\n    <path d=\"M 293.011136 273.312 \nL 296.257682 273.312 \nL 296.257682 273.312 \nL 293.011136 273.312 \nz\n\" clip-path=\"url(#p8285e78cba)\" style=\"fill: #1f77b4\"/>\n   </g>\n   <g id=\"patch_79\">\n    <path d=\"M 296.257682 273.312 \nL 299.504227 273.312 \nL 299.504227 273.312 \nL 296.257682 273.312 \nz\n\" clip-path=\"url(#p8285e78cba)\" style=\"fill: #1f77b4\"/>\n   </g>\n   <g id=\"patch_80\">\n    <path d=\"M 299.504227 273.312 \nL 302.750773 273.312 \nL 302.750773 273.312 \nL 299.504227 273.312 \nz\n\" clip-path=\"url(#p8285e78cba)\" style=\"fill: #1f77b4\"/>\n   </g>\n   <g id=\"patch_81\">\n    <path d=\"M 302.750773 273.312 \nL 305.997318 273.312 \nL 305.997318 273.312 \nL 302.750773 273.312 \nz\n\" clip-path=\"url(#p8285e78cba)\" style=\"fill: #1f77b4\"/>\n   </g>\n   <g id=\"patch_82\">\n    <path d=\"M 305.997318 273.312 \nL 309.243864 273.312 \nL 309.243864 273.312 \nL 305.997318 273.312 \nz\n\" clip-path=\"url(#p8285e78cba)\" style=\"fill: #1f77b4\"/>\n   </g>\n   <g id=\"patch_83\">\n    <path d=\"M 309.243864 273.312 \nL 312.490409 273.312 \nL 312.490409 273.312 \nL 309.243864 273.312 \nz\n\" clip-path=\"url(#p8285e78cba)\" style=\"fill: #1f77b4\"/>\n   </g>\n   <g id=\"patch_84\">\n    <path d=\"M 312.490409 273.312 \nL 315.736955 273.312 \nL 315.736955 273.312 \nL 312.490409 273.312 \nz\n\" clip-path=\"url(#p8285e78cba)\" style=\"fill: #1f77b4\"/>\n   </g>\n   <g id=\"patch_85\">\n    <path d=\"M 315.736955 273.312 \nL 318.9835 273.312 \nL 318.9835 273.312 \nL 315.736955 273.312 \nz\n\" clip-path=\"url(#p8285e78cba)\" style=\"fill: #1f77b4\"/>\n   </g>\n   <g id=\"patch_86\">\n    <path d=\"M 318.9835 273.312 \nL 322.230045 273.312 \nL 322.230045 273.312 \nL 318.9835 273.312 \nz\n\" clip-path=\"url(#p8285e78cba)\" style=\"fill: #1f77b4\"/>\n   </g>\n   <g id=\"patch_87\">\n    <path d=\"M 322.230045 273.312 \nL 325.476591 273.312 \nL 325.476591 273.312 \nL 322.230045 273.312 \nz\n\" clip-path=\"url(#p8285e78cba)\" style=\"fill: #1f77b4\"/>\n   </g>\n   <g id=\"patch_88\">\n    <path d=\"M 325.476591 273.312 \nL 328.723136 273.312 \nL 328.723136 273.312 \nL 325.476591 273.312 \nz\n\" clip-path=\"url(#p8285e78cba)\" style=\"fill: #1f77b4\"/>\n   </g>\n   <g id=\"patch_89\">\n    <path d=\"M 328.723136 273.312 \nL 331.969682 273.312 \nL 331.969682 273.312 \nL 328.723136 273.312 \nz\n\" clip-path=\"url(#p8285e78cba)\" style=\"fill: #1f77b4\"/>\n   </g>\n   <g id=\"patch_90\">\n    <path d=\"M 331.969682 273.312 \nL 335.216227 273.312 \nL 335.216227 273.312 \nL 331.969682 273.312 \nz\n\" clip-path=\"url(#p8285e78cba)\" style=\"fill: #1f77b4\"/>\n   </g>\n   <g id=\"patch_91\">\n    <path d=\"M 335.216227 273.312 \nL 338.462773 273.312 \nL 338.462773 273.312 \nL 335.216227 273.312 \nz\n\" clip-path=\"url(#p8285e78cba)\" style=\"fill: #1f77b4\"/>\n   </g>\n   <g id=\"patch_92\">\n    <path d=\"M 338.462773 273.312 \nL 341.709318 273.312 \nL 341.709318 273.312 \nL 338.462773 273.312 \nz\n\" clip-path=\"url(#p8285e78cba)\" style=\"fill: #1f77b4\"/>\n   </g>\n   <g id=\"patch_93\">\n    <path d=\"M 341.709318 273.312 \nL 344.955864 273.312 \nL 344.955864 273.312 \nL 341.709318 273.312 \nz\n\" clip-path=\"url(#p8285e78cba)\" style=\"fill: #1f77b4\"/>\n   </g>\n   <g id=\"patch_94\">\n    <path d=\"M 344.955864 273.312 \nL 348.202409 273.312 \nL 348.202409 273.312 \nL 344.955864 273.312 \nz\n\" clip-path=\"url(#p8285e78cba)\" style=\"fill: #1f77b4\"/>\n   </g>\n   <g id=\"patch_95\">\n    <path d=\"M 348.202409 273.312 \nL 351.448955 273.312 \nL 351.448955 273.312 \nL 348.202409 273.312 \nz\n\" clip-path=\"url(#p8285e78cba)\" style=\"fill: #1f77b4\"/>\n   </g>\n   <g id=\"patch_96\">\n    <path d=\"M 351.448955 273.312 \nL 354.6955 273.312 \nL 354.6955 273.312 \nL 351.448955 273.312 \nz\n\" clip-path=\"url(#p8285e78cba)\" style=\"fill: #1f77b4\"/>\n   </g>\n   <g id=\"patch_97\">\n    <path d=\"M 354.6955 273.312 \nL 357.942045 273.312 \nL 357.942045 273.312 \nL 354.6955 273.312 \nz\n\" clip-path=\"url(#p8285e78cba)\" style=\"fill: #1f77b4\"/>\n   </g>\n   <g id=\"patch_98\">\n    <path d=\"M 357.942045 273.312 \nL 361.188591 273.312 \nL 361.188591 273.312 \nL 357.942045 273.312 \nz\n\" clip-path=\"url(#p8285e78cba)\" style=\"fill: #1f77b4\"/>\n   </g>\n   <g id=\"patch_99\">\n    <path d=\"M 361.188591 273.312 \nL 364.435136 273.312 \nL 364.435136 273.312 \nL 361.188591 273.312 \nz\n\" clip-path=\"url(#p8285e78cba)\" style=\"fill: #1f77b4\"/>\n   </g>\n   <g id=\"patch_100\">\n    <path d=\"M 364.435136 273.312 \nL 367.681682 273.312 \nL 367.681682 273.312 \nL 364.435136 273.312 \nz\n\" clip-path=\"url(#p8285e78cba)\" style=\"fill: #1f77b4\"/>\n   </g>\n   <g id=\"patch_101\">\n    <path d=\"M 367.681682 273.312 \nL 370.928227 273.312 \nL 370.928227 273.312 \nL 367.681682 273.312 \nz\n\" clip-path=\"url(#p8285e78cba)\" style=\"fill: #1f77b4\"/>\n   </g>\n   <g id=\"patch_102\">\n    <path d=\"M 370.928227 273.312 \nL 374.174773 273.312 \nL 374.174773 178.272 \nL 370.928227 178.272 \nz\n\" clip-path=\"url(#p8285e78cba)\" style=\"fill: #1f77b4\"/>\n   </g>\n   <g id=\"matplotlib.axis_1\">\n    <g id=\"xtick_1\">\n     <g id=\"line2d_1\">\n      <defs>\n       <path id=\"md771cae7a8\" d=\"M 0 0 \nL 0 3.5 \n\" style=\"stroke: #000000; stroke-width: 0.8\"/>\n      </defs>\n      <g>\n       <use xlink:href=\"#md771cae7a8\" x=\"49.502024\" y=\"273.312\" style=\"stroke: #000000; stroke-width: 0.8\"/>\n      </g>\n     </g>\n     <g id=\"text_1\">\n      <!-- 0.0 -->\n      <g transform=\"translate(41.550462 287.910437) scale(0.1 -0.1)\">\n       <defs>\n        <path id=\"DejaVuSans-30\" d=\"M 2034 4250 \nQ 1547 4250 1301 3770 \nQ 1056 3291 1056 2328 \nQ 1056 1369 1301 889 \nQ 1547 409 2034 409 \nQ 2525 409 2770 889 \nQ 3016 1369 3016 2328 \nQ 3016 3291 2770 3770 \nQ 2525 4250 2034 4250 \nz\nM 2034 4750 \nQ 2819 4750 3233 4129 \nQ 3647 3509 3647 2328 \nQ 3647 1150 3233 529 \nQ 2819 -91 2034 -91 \nQ 1250 -91 836 529 \nQ 422 1150 422 2328 \nQ 422 3509 836 4129 \nQ 1250 4750 2034 4750 \nz\n\" transform=\"scale(0.015625)\"/>\n        <path id=\"DejaVuSans-2e\" d=\"M 684 794 \nL 1344 794 \nL 1344 0 \nL 684 0 \nL 684 794 \nz\n\" transform=\"scale(0.015625)\"/>\n       </defs>\n       <use xlink:href=\"#DejaVuSans-30\"/>\n       <use xlink:href=\"#DejaVuSans-2e\" x=\"63.623047\"/>\n       <use xlink:href=\"#DejaVuSans-30\" x=\"95.410156\"/>\n      </g>\n     </g>\n    </g>\n    <g id=\"xtick_2\">\n     <g id=\"line2d_2\">\n      <g>\n       <use xlink:href=\"#md771cae7a8\" x=\"101.831882\" y=\"273.312\" style=\"stroke: #000000; stroke-width: 0.8\"/>\n      </g>\n     </g>\n     <g id=\"text_2\">\n      <!-- 0.1 -->\n      <g transform=\"translate(93.880319 287.910437) scale(0.1 -0.1)\">\n       <defs>\n        <path id=\"DejaVuSans-31\" d=\"M 794 531 \nL 1825 531 \nL 1825 4091 \nL 703 3866 \nL 703 4441 \nL 1819 4666 \nL 2450 4666 \nL 2450 531 \nL 3481 531 \nL 3481 0 \nL 794 0 \nL 794 531 \nz\n\" transform=\"scale(0.015625)\"/>\n       </defs>\n       <use xlink:href=\"#DejaVuSans-30\"/>\n       <use xlink:href=\"#DejaVuSans-2e\" x=\"63.623047\"/>\n       <use xlink:href=\"#DejaVuSans-31\" x=\"95.410156\"/>\n      </g>\n     </g>\n    </g>\n    <g id=\"xtick_3\">\n     <g id=\"line2d_3\">\n      <g>\n       <use xlink:href=\"#md771cae7a8\" x=\"154.16174\" y=\"273.312\" style=\"stroke: #000000; stroke-width: 0.8\"/>\n      </g>\n     </g>\n     <g id=\"text_3\">\n      <!-- 0.2 -->\n      <g transform=\"translate(146.210177 287.910437) scale(0.1 -0.1)\">\n       <defs>\n        <path id=\"DejaVuSans-32\" d=\"M 1228 531 \nL 3431 531 \nL 3431 0 \nL 469 0 \nL 469 531 \nQ 828 903 1448 1529 \nQ 2069 2156 2228 2338 \nQ 2531 2678 2651 2914 \nQ 2772 3150 2772 3378 \nQ 2772 3750 2511 3984 \nQ 2250 4219 1831 4219 \nQ 1534 4219 1204 4116 \nQ 875 4013 500 3803 \nL 500 4441 \nQ 881 4594 1212 4672 \nQ 1544 4750 1819 4750 \nQ 2544 4750 2975 4387 \nQ 3406 4025 3406 3419 \nQ 3406 3131 3298 2873 \nQ 3191 2616 2906 2266 \nQ 2828 2175 2409 1742 \nQ 1991 1309 1228 531 \nz\n\" transform=\"scale(0.015625)\"/>\n       </defs>\n       <use xlink:href=\"#DejaVuSans-30\"/>\n       <use xlink:href=\"#DejaVuSans-2e\" x=\"63.623047\"/>\n       <use xlink:href=\"#DejaVuSans-32\" x=\"95.410156\"/>\n      </g>\n     </g>\n    </g>\n    <g id=\"xtick_4\">\n     <g id=\"line2d_4\">\n      <g>\n       <use xlink:href=\"#md771cae7a8\" x=\"206.491597\" y=\"273.312\" style=\"stroke: #000000; stroke-width: 0.8\"/>\n      </g>\n     </g>\n     <g id=\"text_4\">\n      <!-- 0.3 -->\n      <g transform=\"translate(198.540035 287.910437) scale(0.1 -0.1)\">\n       <defs>\n        <path id=\"DejaVuSans-33\" d=\"M 2597 2516 \nQ 3050 2419 3304 2112 \nQ 3559 1806 3559 1356 \nQ 3559 666 3084 287 \nQ 2609 -91 1734 -91 \nQ 1441 -91 1130 -33 \nQ 819 25 488 141 \nL 488 750 \nQ 750 597 1062 519 \nQ 1375 441 1716 441 \nQ 2309 441 2620 675 \nQ 2931 909 2931 1356 \nQ 2931 1769 2642 2001 \nQ 2353 2234 1838 2234 \nL 1294 2234 \nL 1294 2753 \nL 1863 2753 \nQ 2328 2753 2575 2939 \nQ 2822 3125 2822 3475 \nQ 2822 3834 2567 4026 \nQ 2313 4219 1838 4219 \nQ 1578 4219 1281 4162 \nQ 984 4106 628 3988 \nL 628 4550 \nQ 988 4650 1302 4700 \nQ 1616 4750 1894 4750 \nQ 2613 4750 3031 4423 \nQ 3450 4097 3450 3541 \nQ 3450 3153 3228 2886 \nQ 3006 2619 2597 2516 \nz\n\" transform=\"scale(0.015625)\"/>\n       </defs>\n       <use xlink:href=\"#DejaVuSans-30\"/>\n       <use xlink:href=\"#DejaVuSans-2e\" x=\"63.623047\"/>\n       <use xlink:href=\"#DejaVuSans-33\" x=\"95.410156\"/>\n      </g>\n     </g>\n    </g>\n    <g id=\"xtick_5\">\n     <g id=\"line2d_5\">\n      <g>\n       <use xlink:href=\"#md771cae7a8\" x=\"258.821455\" y=\"273.312\" style=\"stroke: #000000; stroke-width: 0.8\"/>\n      </g>\n     </g>\n     <g id=\"text_5\">\n      <!-- 0.4 -->\n      <g transform=\"translate(250.869893 287.910437) scale(0.1 -0.1)\">\n       <defs>\n        <path id=\"DejaVuSans-34\" d=\"M 2419 4116 \nL 825 1625 \nL 2419 1625 \nL 2419 4116 \nz\nM 2253 4666 \nL 3047 4666 \nL 3047 1625 \nL 3713 1625 \nL 3713 1100 \nL 3047 1100 \nL 3047 0 \nL 2419 0 \nL 2419 1100 \nL 313 1100 \nL 313 1709 \nL 2253 4666 \nz\n\" transform=\"scale(0.015625)\"/>\n       </defs>\n       <use xlink:href=\"#DejaVuSans-30\"/>\n       <use xlink:href=\"#DejaVuSans-2e\" x=\"63.623047\"/>\n       <use xlink:href=\"#DejaVuSans-34\" x=\"95.410156\"/>\n      </g>\n     </g>\n    </g>\n    <g id=\"xtick_6\">\n     <g id=\"line2d_6\">\n      <g>\n       <use xlink:href=\"#md771cae7a8\" x=\"311.151313\" y=\"273.312\" style=\"stroke: #000000; stroke-width: 0.8\"/>\n      </g>\n     </g>\n     <g id=\"text_6\">\n      <!-- 0.5 -->\n      <g transform=\"translate(303.19975 287.910437) scale(0.1 -0.1)\">\n       <defs>\n        <path id=\"DejaVuSans-35\" d=\"M 691 4666 \nL 3169 4666 \nL 3169 4134 \nL 1269 4134 \nL 1269 2991 \nQ 1406 3038 1543 3061 \nQ 1681 3084 1819 3084 \nQ 2600 3084 3056 2656 \nQ 3513 2228 3513 1497 \nQ 3513 744 3044 326 \nQ 2575 -91 1722 -91 \nQ 1428 -91 1123 -41 \nQ 819 9 494 109 \nL 494 744 \nQ 775 591 1075 516 \nQ 1375 441 1709 441 \nQ 2250 441 2565 725 \nQ 2881 1009 2881 1497 \nQ 2881 1984 2565 2268 \nQ 2250 2553 1709 2553 \nQ 1456 2553 1204 2497 \nQ 953 2441 691 2322 \nL 691 4666 \nz\n\" transform=\"scale(0.015625)\"/>\n       </defs>\n       <use xlink:href=\"#DejaVuSans-30\"/>\n       <use xlink:href=\"#DejaVuSans-2e\" x=\"63.623047\"/>\n       <use xlink:href=\"#DejaVuSans-35\" x=\"95.410156\"/>\n      </g>\n     </g>\n    </g>\n    <g id=\"xtick_7\">\n     <g id=\"line2d_7\">\n      <g>\n       <use xlink:href=\"#md771cae7a8\" x=\"363.481171\" y=\"273.312\" style=\"stroke: #000000; stroke-width: 0.8\"/>\n      </g>\n     </g>\n     <g id=\"text_7\">\n      <!-- 0.6 -->\n      <g transform=\"translate(355.529608 287.910437) scale(0.1 -0.1)\">\n       <defs>\n        <path id=\"DejaVuSans-36\" d=\"M 2113 2584 \nQ 1688 2584 1439 2293 \nQ 1191 2003 1191 1497 \nQ 1191 994 1439 701 \nQ 1688 409 2113 409 \nQ 2538 409 2786 701 \nQ 3034 994 3034 1497 \nQ 3034 2003 2786 2293 \nQ 2538 2584 2113 2584 \nz\nM 3366 4563 \nL 3366 3988 \nQ 3128 4100 2886 4159 \nQ 2644 4219 2406 4219 \nQ 1781 4219 1451 3797 \nQ 1122 3375 1075 2522 \nQ 1259 2794 1537 2939 \nQ 1816 3084 2150 3084 \nQ 2853 3084 3261 2657 \nQ 3669 2231 3669 1497 \nQ 3669 778 3244 343 \nQ 2819 -91 2113 -91 \nQ 1303 -91 875 529 \nQ 447 1150 447 2328 \nQ 447 3434 972 4092 \nQ 1497 4750 2381 4750 \nQ 2619 4750 2861 4703 \nQ 3103 4656 3366 4563 \nz\n\" transform=\"scale(0.015625)\"/>\n       </defs>\n       <use xlink:href=\"#DejaVuSans-30\"/>\n       <use xlink:href=\"#DejaVuSans-2e\" x=\"63.623047\"/>\n       <use xlink:href=\"#DejaVuSans-36\" x=\"95.410156\"/>\n      </g>\n     </g>\n    </g>\n   </g>\n   <g id=\"matplotlib.axis_2\">\n    <g id=\"ytick_1\">\n     <g id=\"line2d_8\">\n      <defs>\n       <path id=\"m50550c7b2a\" d=\"M 0 0 \nL -3.5 0 \n\" style=\"stroke: #000000; stroke-width: 0.8\"/>\n      </defs>\n      <g>\n       <use xlink:href=\"#m50550c7b2a\" x=\"33.2875\" y=\"273.312\" style=\"stroke: #000000; stroke-width: 0.8\"/>\n      </g>\n     </g>\n     <g id=\"text_8\">\n      <!-- 0 -->\n      <g transform=\"translate(19.925 277.111219) scale(0.1 -0.1)\">\n       <use xlink:href=\"#DejaVuSans-30\"/>\n      </g>\n     </g>\n    </g>\n    <g id=\"ytick_2\">\n     <g id=\"line2d_9\">\n      <g>\n       <use xlink:href=\"#m50550c7b2a\" x=\"33.2875\" y=\"228.054857\" style=\"stroke: #000000; stroke-width: 0.8\"/>\n      </g>\n     </g>\n     <g id=\"text_9\">\n      <!-- 20 -->\n      <g transform=\"translate(13.5625 231.854076) scale(0.1 -0.1)\">\n       <use xlink:href=\"#DejaVuSans-32\"/>\n       <use xlink:href=\"#DejaVuSans-30\" x=\"63.623047\"/>\n      </g>\n     </g>\n    </g>\n    <g id=\"ytick_3\">\n     <g id=\"line2d_10\">\n      <g>\n       <use xlink:href=\"#m50550c7b2a\" x=\"33.2875\" y=\"182.797714\" style=\"stroke: #000000; stroke-width: 0.8\"/>\n      </g>\n     </g>\n     <g id=\"text_10\">\n      <!-- 40 -->\n      <g transform=\"translate(13.5625 186.596933) scale(0.1 -0.1)\">\n       <use xlink:href=\"#DejaVuSans-34\"/>\n       <use xlink:href=\"#DejaVuSans-30\" x=\"63.623047\"/>\n      </g>\n     </g>\n    </g>\n    <g id=\"ytick_4\">\n     <g id=\"line2d_11\">\n      <g>\n       <use xlink:href=\"#m50550c7b2a\" x=\"33.2875\" y=\"137.540571\" style=\"stroke: #000000; stroke-width: 0.8\"/>\n      </g>\n     </g>\n     <g id=\"text_11\">\n      <!-- 60 -->\n      <g transform=\"translate(13.5625 141.33979) scale(0.1 -0.1)\">\n       <use xlink:href=\"#DejaVuSans-36\"/>\n       <use xlink:href=\"#DejaVuSans-30\" x=\"63.623047\"/>\n      </g>\n     </g>\n    </g>\n    <g id=\"ytick_5\">\n     <g id=\"line2d_12\">\n      <g>\n       <use xlink:href=\"#m50550c7b2a\" x=\"33.2875\" y=\"92.283429\" style=\"stroke: #000000; stroke-width: 0.8\"/>\n      </g>\n     </g>\n     <g id=\"text_12\">\n      <!-- 80 -->\n      <g transform=\"translate(13.5625 96.082647) scale(0.1 -0.1)\">\n       <defs>\n        <path id=\"DejaVuSans-38\" d=\"M 2034 2216 \nQ 1584 2216 1326 1975 \nQ 1069 1734 1069 1313 \nQ 1069 891 1326 650 \nQ 1584 409 2034 409 \nQ 2484 409 2743 651 \nQ 3003 894 3003 1313 \nQ 3003 1734 2745 1975 \nQ 2488 2216 2034 2216 \nz\nM 1403 2484 \nQ 997 2584 770 2862 \nQ 544 3141 544 3541 \nQ 544 4100 942 4425 \nQ 1341 4750 2034 4750 \nQ 2731 4750 3128 4425 \nQ 3525 4100 3525 3541 \nQ 3525 3141 3298 2862 \nQ 3072 2584 2669 2484 \nQ 3125 2378 3379 2068 \nQ 3634 1759 3634 1313 \nQ 3634 634 3220 271 \nQ 2806 -91 2034 -91 \nQ 1263 -91 848 271 \nQ 434 634 434 1313 \nQ 434 1759 690 2068 \nQ 947 2378 1403 2484 \nz\nM 1172 3481 \nQ 1172 3119 1398 2916 \nQ 1625 2713 2034 2713 \nQ 2441 2713 2670 2916 \nQ 2900 3119 2900 3481 \nQ 2900 3844 2670 4047 \nQ 2441 4250 2034 4250 \nQ 1625 4250 1398 4047 \nQ 1172 3844 1172 3481 \nz\n\" transform=\"scale(0.015625)\"/>\n       </defs>\n       <use xlink:href=\"#DejaVuSans-38\"/>\n       <use xlink:href=\"#DejaVuSans-30\" x=\"63.623047\"/>\n      </g>\n     </g>\n    </g>\n    <g id=\"ytick_6\">\n     <g id=\"line2d_13\">\n      <g>\n       <use xlink:href=\"#m50550c7b2a\" x=\"33.2875\" y=\"47.026286\" style=\"stroke: #000000; stroke-width: 0.8\"/>\n      </g>\n     </g>\n     <g id=\"text_13\">\n      <!-- 100 -->\n      <g transform=\"translate(7.2 50.825504) scale(0.1 -0.1)\">\n       <use xlink:href=\"#DejaVuSans-31\"/>\n       <use xlink:href=\"#DejaVuSans-30\" x=\"63.623047\"/>\n       <use xlink:href=\"#DejaVuSans-30\" x=\"127.246094\"/>\n      </g>\n     </g>\n    </g>\n   </g>\n   <g id=\"patch_103\">\n    <path d=\"M 33.2875 273.312 \nL 33.2875 7.2 \n\" style=\"fill: none; stroke: #000000; stroke-width: 0.8; stroke-linejoin: miter; stroke-linecap: square\"/>\n   </g>\n   <g id=\"patch_104\">\n    <path d=\"M 390.4075 273.312 \nL 390.4075 7.2 \n\" style=\"fill: none; stroke: #000000; stroke-width: 0.8; stroke-linejoin: miter; stroke-linecap: square\"/>\n   </g>\n   <g id=\"patch_105\">\n    <path d=\"M 33.2875 273.312 \nL 390.4075 273.312 \n\" style=\"fill: none; stroke: #000000; stroke-width: 0.8; stroke-linejoin: miter; stroke-linecap: square\"/>\n   </g>\n   <g id=\"patch_106\">\n    <path d=\"M 33.2875 7.2 \nL 390.4075 7.2 \n\" style=\"fill: none; stroke: #000000; stroke-width: 0.8; stroke-linejoin: miter; stroke-linecap: square\"/>\n   </g>\n  </g>\n </g>\n <defs>\n  <clipPath id=\"p8285e78cba\">\n   <rect x=\"33.2875\" y=\"7.2\" width=\"357.12\" height=\"266.112\"/>\n  </clipPath>\n </defs>\n</svg>\n"
          },
          "metadata": {}
        }
      ]
    },
    {
      "cell_type": "code",
      "source": [
        "# for all values of eig_centrality\n",
        "X = berkeley_regression_avg_df[['eig_centrality', 'num_comments']].values\n",
        "y = berkeley_regression_avg_df['agg_comment_pos'].values\n",
        "model = sm.OLS(y, sm.add_constant(X))\n",
        "results = model.fit()\n",
        "print(results.summary())"
      ],
      "metadata": {
        "colab": {
          "base_uri": "https://localhost:8080/"
        },
        "id": "xQYsZ5iitoM5",
        "outputId": "b1a09226-1003-4852-c708-86c4b8d4b25f"
      },
      "execution_count": 38,
      "outputs": [
        {
          "output_type": "stream",
          "name": "stdout",
          "text": [
            "                            OLS Regression Results                            \n",
            "==============================================================================\n",
            "Dep. Variable:                      y   R-squared:                       0.295\n",
            "Model:                            OLS   Adj. R-squared:                  0.289\n",
            "Method:                 Least Squares   F-statistic:                     57.61\n",
            "Date:                Sun, 04 Jun 2023   Prob (F-statistic):           1.24e-21\n",
            "Time:                        20:40:49   Log-Likelihood:                -943.09\n",
            "No. Observations:                 279   AIC:                             1892.\n",
            "Df Residuals:                     276   BIC:                             1903.\n",
            "Df Model:                           2                                         \n",
            "Covariance Type:            nonrobust                                         \n",
            "==============================================================================\n",
            "                 coef    std err          t      P>|t|      [0.025      0.975]\n",
            "------------------------------------------------------------------------------\n",
            "const          5.9575      0.598      9.964      0.000       4.780       7.135\n",
            "x1            17.5043     11.731      1.492      0.137      -5.590      40.598\n",
            "x2             0.0229      0.002     10.514      0.000       0.019       0.027\n",
            "==============================================================================\n",
            "Omnibus:                      319.967   Durbin-Watson:                   2.011\n",
            "Prob(Omnibus):                  0.000   Jarque-Bera (JB):            22615.946\n",
            "Skew:                           4.764   Prob(JB):                         0.00\n",
            "Kurtosis:                      46.066   Cond. No.                     5.73e+03\n",
            "==============================================================================\n",
            "\n",
            "Notes:\n",
            "[1] Standard Errors assume that the covariance matrix of the errors is correctly specified.\n",
            "[2] The condition number is large, 5.73e+03. This might indicate that there are\n",
            "strong multicollinearity or other numerical problems.\n"
          ]
        }
      ]
    },
    {
      "cell_type": "code",
      "source": [
        "# for all values of eig_centrality\n",
        "berkeley_regression_avg_df['ln_eig_centrality'] = np.log(berkeley_regression_avg_df['eig_centrality'])\n",
        "X = berkeley_regression_avg_df[['ln_eig_centrality', 'num_comments', 'upvote_ratio']].values\n",
        "y = berkeley_regression_avg_df['agg_comment_compound'].values\n",
        "model = sm.OLS(y, sm.add_constant(X))\n",
        "results = model.fit()\n",
        "print(results.summary())"
      ],
      "metadata": {
        "colab": {
          "base_uri": "https://localhost:8080/"
        },
        "id": "hsFtmCg6I6yL",
        "outputId": "08f6cafd-c9d5-496f-89f9-3e9b490b29e4"
      },
      "execution_count": 52,
      "outputs": [
        {
          "output_type": "stream",
          "name": "stdout",
          "text": [
            "                            OLS Regression Results                            \n",
            "==============================================================================\n",
            "Dep. Variable:                      y   R-squared:                       0.287\n",
            "Model:                            OLS   Adj. R-squared:                  0.279\n",
            "Method:                 Least Squares   F-statistic:                     36.89\n",
            "Date:                Sun, 04 Jun 2023   Prob (F-statistic):           4.55e-20\n",
            "Time:                        21:01:27   Log-Likelihood:                -1136.4\n",
            "No. Observations:                 279   AIC:                             2281.\n",
            "Df Residuals:                     275   BIC:                             2295.\n",
            "Df Model:                           3                                         \n",
            "Covariance Type:            nonrobust                                         \n",
            "==============================================================================\n",
            "                 coef    std err          t      P>|t|      [0.025      0.975]\n",
            "------------------------------------------------------------------------------\n",
            "const       -107.6704     17.323     -6.216      0.000    -141.772     -73.569\n",
            "x1             3.1998      1.342      2.385      0.018       0.559       5.841\n",
            "x2             0.0379      0.004      8.476      0.000       0.029       0.047\n",
            "x3           129.2633     18.196      7.104      0.000      93.443     165.084\n",
            "==============================================================================\n",
            "Omnibus:                       79.834   Durbin-Watson:                   2.143\n",
            "Prob(Omnibus):                  0.000   Jarque-Bera (JB):             3242.393\n",
            "Skew:                           0.093   Prob(JB):                         0.00\n",
            "Kurtosis:                      19.700   Cond. No.                     6.06e+03\n",
            "==============================================================================\n",
            "\n",
            "Notes:\n",
            "[1] Standard Errors assume that the covariance matrix of the errors is correctly specified.\n",
            "[2] The condition number is large, 6.06e+03. This might indicate that there are\n",
            "strong multicollinearity or other numerical problems.\n"
          ]
        }
      ]
    },
    {
      "cell_type": "code",
      "source": [
        "fit_regression_line_intercept(berkeley_regression_avg_df['agg_comment_pos'].values, \n",
        "                              berkeley_regression_avg_df['ln_eig_centrality'].values, 'ln_eig_centrality')"
      ],
      "metadata": {
        "colab": {
          "base_uri": "https://localhost:8080/",
          "height": 377
        },
        "id": "_Fo6dhmzJrLm",
        "outputId": "9e9f3781-d3c6-455a-9905-2335a0f6c204"
      },
      "execution_count": 45,
      "outputs": [
        {
          "output_type": "display_data",
          "data": {
            "text/plain": [
              "<Figure size 800x400 with 1 Axes>"
            ],
            "image/svg+xml": "<?xml version=\"1.0\" encoding=\"utf-8\" standalone=\"no\"?>\n<!DOCTYPE svg PUBLIC \"-//W3C//DTD SVG 1.1//EN\"\n  \"http://www.w3.org/Graphics/SVG/1.1/DTD/svg11.dtd\">\n<svg xmlns:xlink=\"http://www.w3.org/1999/xlink\" width=\"494.48125pt\" height=\"266.794375pt\" viewBox=\"0 0 494.48125 266.794375\" xmlns=\"http://www.w3.org/2000/svg\" version=\"1.1\">\n <metadata>\n  <rdf:RDF xmlns:dc=\"http://purl.org/dc/elements/1.1/\" xmlns:cc=\"http://creativecommons.org/ns#\" xmlns:rdf=\"http://www.w3.org/1999/02/22-rdf-syntax-ns#\">\n   <cc:Work>\n    <dc:type rdf:resource=\"http://purl.org/dc/dcmitype/StillImage\"/>\n    <dc:date>2023-06-04T20:44:25.445484</dc:date>\n    <dc:format>image/svg+xml</dc:format>\n    <dc:creator>\n     <cc:Agent>\n      <dc:title>Matplotlib v3.7.1, https://matplotlib.org/</dc:title>\n     </cc:Agent>\n    </dc:creator>\n   </cc:Work>\n  </rdf:RDF>\n </metadata>\n <defs>\n  <style type=\"text/css\">*{stroke-linejoin: round; stroke-linecap: butt}</style>\n </defs>\n <g id=\"figure_1\">\n  <g id=\"patch_1\">\n   <path d=\"M 0 266.794375 \nL 494.48125 266.794375 \nL 494.48125 0 \nL 0 0 \nz\n\" style=\"fill: #ffffff\"/>\n  </g>\n  <g id=\"axes_1\">\n   <g id=\"patch_2\">\n    <path d=\"M 40.88125 228.96 \nL 487.28125 228.96 \nL 487.28125 7.2 \nL 40.88125 7.2 \nz\n\" style=\"fill: #ffffff\"/>\n   </g>\n   <g id=\"matplotlib.axis_1\">\n    <g id=\"xtick_1\">\n     <g id=\"line2d_1\">\n      <defs>\n       <path id=\"m08afa1876e\" d=\"M 0 0 \nL 0 3.5 \n\" style=\"stroke: #000000; stroke-width: 0.8\"/>\n      </defs>\n      <g>\n       <use xlink:href=\"#m08afa1876e\" x=\"41.703081\" y=\"228.96\" style=\"stroke: #000000; stroke-width: 0.8\"/>\n      </g>\n     </g>\n     <g id=\"text_1\">\n      <!-- −7 -->\n      <g transform=\"translate(34.331987 243.558437) scale(0.1 -0.1)\">\n       <defs>\n        <path id=\"DejaVuSans-2212\" d=\"M 678 2272 \nL 4684 2272 \nL 4684 1741 \nL 678 1741 \nL 678 2272 \nz\n\" transform=\"scale(0.015625)\"/>\n        <path id=\"DejaVuSans-37\" d=\"M 525 4666 \nL 3525 4666 \nL 3525 4397 \nL 1831 0 \nL 1172 0 \nL 2766 4134 \nL 525 4134 \nL 525 4666 \nz\n\" transform=\"scale(0.015625)\"/>\n       </defs>\n       <use xlink:href=\"#DejaVuSans-2212\"/>\n       <use xlink:href=\"#DejaVuSans-37\" x=\"83.789062\"/>\n      </g>\n     </g>\n    </g>\n    <g id=\"xtick_2\">\n     <g id=\"line2d_2\">\n      <g>\n       <use xlink:href=\"#m08afa1876e\" x=\"107.501862\" y=\"228.96\" style=\"stroke: #000000; stroke-width: 0.8\"/>\n      </g>\n     </g>\n     <g id=\"text_2\">\n      <!-- −6 -->\n      <g transform=\"translate(100.130769 243.558437) scale(0.1 -0.1)\">\n       <defs>\n        <path id=\"DejaVuSans-36\" d=\"M 2113 2584 \nQ 1688 2584 1439 2293 \nQ 1191 2003 1191 1497 \nQ 1191 994 1439 701 \nQ 1688 409 2113 409 \nQ 2538 409 2786 701 \nQ 3034 994 3034 1497 \nQ 3034 2003 2786 2293 \nQ 2538 2584 2113 2584 \nz\nM 3366 4563 \nL 3366 3988 \nQ 3128 4100 2886 4159 \nQ 2644 4219 2406 4219 \nQ 1781 4219 1451 3797 \nQ 1122 3375 1075 2522 \nQ 1259 2794 1537 2939 \nQ 1816 3084 2150 3084 \nQ 2853 3084 3261 2657 \nQ 3669 2231 3669 1497 \nQ 3669 778 3244 343 \nQ 2819 -91 2113 -91 \nQ 1303 -91 875 529 \nQ 447 1150 447 2328 \nQ 447 3434 972 4092 \nQ 1497 4750 2381 4750 \nQ 2619 4750 2861 4703 \nQ 3103 4656 3366 4563 \nz\n\" transform=\"scale(0.015625)\"/>\n       </defs>\n       <use xlink:href=\"#DejaVuSans-2212\"/>\n       <use xlink:href=\"#DejaVuSans-36\" x=\"83.789062\"/>\n      </g>\n     </g>\n    </g>\n    <g id=\"xtick_3\">\n     <g id=\"line2d_3\">\n      <g>\n       <use xlink:href=\"#m08afa1876e\" x=\"173.300644\" y=\"228.96\" style=\"stroke: #000000; stroke-width: 0.8\"/>\n      </g>\n     </g>\n     <g id=\"text_3\">\n      <!-- −5 -->\n      <g transform=\"translate(165.92955 243.558437) scale(0.1 -0.1)\">\n       <defs>\n        <path id=\"DejaVuSans-35\" d=\"M 691 4666 \nL 3169 4666 \nL 3169 4134 \nL 1269 4134 \nL 1269 2991 \nQ 1406 3038 1543 3061 \nQ 1681 3084 1819 3084 \nQ 2600 3084 3056 2656 \nQ 3513 2228 3513 1497 \nQ 3513 744 3044 326 \nQ 2575 -91 1722 -91 \nQ 1428 -91 1123 -41 \nQ 819 9 494 109 \nL 494 744 \nQ 775 591 1075 516 \nQ 1375 441 1709 441 \nQ 2250 441 2565 725 \nQ 2881 1009 2881 1497 \nQ 2881 1984 2565 2268 \nQ 2250 2553 1709 2553 \nQ 1456 2553 1204 2497 \nQ 953 2441 691 2322 \nL 691 4666 \nz\n\" transform=\"scale(0.015625)\"/>\n       </defs>\n       <use xlink:href=\"#DejaVuSans-2212\"/>\n       <use xlink:href=\"#DejaVuSans-35\" x=\"83.789062\"/>\n      </g>\n     </g>\n    </g>\n    <g id=\"xtick_4\">\n     <g id=\"line2d_4\">\n      <g>\n       <use xlink:href=\"#m08afa1876e\" x=\"239.099425\" y=\"228.96\" style=\"stroke: #000000; stroke-width: 0.8\"/>\n      </g>\n     </g>\n     <g id=\"text_4\">\n      <!-- −4 -->\n      <g transform=\"translate(231.728331 243.558437) scale(0.1 -0.1)\">\n       <defs>\n        <path id=\"DejaVuSans-34\" d=\"M 2419 4116 \nL 825 1625 \nL 2419 1625 \nL 2419 4116 \nz\nM 2253 4666 \nL 3047 4666 \nL 3047 1625 \nL 3713 1625 \nL 3713 1100 \nL 3047 1100 \nL 3047 0 \nL 2419 0 \nL 2419 1100 \nL 313 1100 \nL 313 1709 \nL 2253 4666 \nz\n\" transform=\"scale(0.015625)\"/>\n       </defs>\n       <use xlink:href=\"#DejaVuSans-2212\"/>\n       <use xlink:href=\"#DejaVuSans-34\" x=\"83.789062\"/>\n      </g>\n     </g>\n    </g>\n    <g id=\"xtick_5\">\n     <g id=\"line2d_5\">\n      <g>\n       <use xlink:href=\"#m08afa1876e\" x=\"304.898206\" y=\"228.96\" style=\"stroke: #000000; stroke-width: 0.8\"/>\n      </g>\n     </g>\n     <g id=\"text_5\">\n      <!-- −3 -->\n      <g transform=\"translate(297.527112 243.558437) scale(0.1 -0.1)\">\n       <defs>\n        <path id=\"DejaVuSans-33\" d=\"M 2597 2516 \nQ 3050 2419 3304 2112 \nQ 3559 1806 3559 1356 \nQ 3559 666 3084 287 \nQ 2609 -91 1734 -91 \nQ 1441 -91 1130 -33 \nQ 819 25 488 141 \nL 488 750 \nQ 750 597 1062 519 \nQ 1375 441 1716 441 \nQ 2309 441 2620 675 \nQ 2931 909 2931 1356 \nQ 2931 1769 2642 2001 \nQ 2353 2234 1838 2234 \nL 1294 2234 \nL 1294 2753 \nL 1863 2753 \nQ 2328 2753 2575 2939 \nQ 2822 3125 2822 3475 \nQ 2822 3834 2567 4026 \nQ 2313 4219 1838 4219 \nQ 1578 4219 1281 4162 \nQ 984 4106 628 3988 \nL 628 4550 \nQ 988 4650 1302 4700 \nQ 1616 4750 1894 4750 \nQ 2613 4750 3031 4423 \nQ 3450 4097 3450 3541 \nQ 3450 3153 3228 2886 \nQ 3006 2619 2597 2516 \nz\n\" transform=\"scale(0.015625)\"/>\n       </defs>\n       <use xlink:href=\"#DejaVuSans-2212\"/>\n       <use xlink:href=\"#DejaVuSans-33\" x=\"83.789062\"/>\n      </g>\n     </g>\n    </g>\n    <g id=\"xtick_6\">\n     <g id=\"line2d_6\">\n      <g>\n       <use xlink:href=\"#m08afa1876e\" x=\"370.696987\" y=\"228.96\" style=\"stroke: #000000; stroke-width: 0.8\"/>\n      </g>\n     </g>\n     <g id=\"text_6\">\n      <!-- −2 -->\n      <g transform=\"translate(363.325893 243.558437) scale(0.1 -0.1)\">\n       <defs>\n        <path id=\"DejaVuSans-32\" d=\"M 1228 531 \nL 3431 531 \nL 3431 0 \nL 469 0 \nL 469 531 \nQ 828 903 1448 1529 \nQ 2069 2156 2228 2338 \nQ 2531 2678 2651 2914 \nQ 2772 3150 2772 3378 \nQ 2772 3750 2511 3984 \nQ 2250 4219 1831 4219 \nQ 1534 4219 1204 4116 \nQ 875 4013 500 3803 \nL 500 4441 \nQ 881 4594 1212 4672 \nQ 1544 4750 1819 4750 \nQ 2544 4750 2975 4387 \nQ 3406 4025 3406 3419 \nQ 3406 3131 3298 2873 \nQ 3191 2616 2906 2266 \nQ 2828 2175 2409 1742 \nQ 1991 1309 1228 531 \nz\n\" transform=\"scale(0.015625)\"/>\n       </defs>\n       <use xlink:href=\"#DejaVuSans-2212\"/>\n       <use xlink:href=\"#DejaVuSans-32\" x=\"83.789062\"/>\n      </g>\n     </g>\n    </g>\n    <g id=\"xtick_7\">\n     <g id=\"line2d_7\">\n      <g>\n       <use xlink:href=\"#m08afa1876e\" x=\"436.495768\" y=\"228.96\" style=\"stroke: #000000; stroke-width: 0.8\"/>\n      </g>\n     </g>\n     <g id=\"text_7\">\n      <!-- −1 -->\n      <g transform=\"translate(429.124674 243.558437) scale(0.1 -0.1)\">\n       <defs>\n        <path id=\"DejaVuSans-31\" d=\"M 794 531 \nL 1825 531 \nL 1825 4091 \nL 703 3866 \nL 703 4441 \nL 1819 4666 \nL 2450 4666 \nL 2450 531 \nL 3481 531 \nL 3481 0 \nL 794 0 \nL 794 531 \nz\n\" transform=\"scale(0.015625)\"/>\n       </defs>\n       <use xlink:href=\"#DejaVuSans-2212\"/>\n       <use xlink:href=\"#DejaVuSans-31\" x=\"83.789062\"/>\n      </g>\n     </g>\n    </g>\n    <g id=\"text_8\">\n     <!-- ln_eig_centrality -->\n     <g transform=\"translate(223.111719 257.236562) scale(0.1 -0.1)\">\n      <defs>\n       <path id=\"DejaVuSans-6c\" d=\"M 603 4863 \nL 1178 4863 \nL 1178 0 \nL 603 0 \nL 603 4863 \nz\n\" transform=\"scale(0.015625)\"/>\n       <path id=\"DejaVuSans-6e\" d=\"M 3513 2113 \nL 3513 0 \nL 2938 0 \nL 2938 2094 \nQ 2938 2591 2744 2837 \nQ 2550 3084 2163 3084 \nQ 1697 3084 1428 2787 \nQ 1159 2491 1159 1978 \nL 1159 0 \nL 581 0 \nL 581 3500 \nL 1159 3500 \nL 1159 2956 \nQ 1366 3272 1645 3428 \nQ 1925 3584 2291 3584 \nQ 2894 3584 3203 3211 \nQ 3513 2838 3513 2113 \nz\n\" transform=\"scale(0.015625)\"/>\n       <path id=\"DejaVuSans-5f\" d=\"M 3263 -1063 \nL 3263 -1509 \nL -63 -1509 \nL -63 -1063 \nL 3263 -1063 \nz\n\" transform=\"scale(0.015625)\"/>\n       <path id=\"DejaVuSans-65\" d=\"M 3597 1894 \nL 3597 1613 \nL 953 1613 \nQ 991 1019 1311 708 \nQ 1631 397 2203 397 \nQ 2534 397 2845 478 \nQ 3156 559 3463 722 \nL 3463 178 \nQ 3153 47 2828 -22 \nQ 2503 -91 2169 -91 \nQ 1331 -91 842 396 \nQ 353 884 353 1716 \nQ 353 2575 817 3079 \nQ 1281 3584 2069 3584 \nQ 2775 3584 3186 3129 \nQ 3597 2675 3597 1894 \nz\nM 3022 2063 \nQ 3016 2534 2758 2815 \nQ 2500 3097 2075 3097 \nQ 1594 3097 1305 2825 \nQ 1016 2553 972 2059 \nL 3022 2063 \nz\n\" transform=\"scale(0.015625)\"/>\n       <path id=\"DejaVuSans-69\" d=\"M 603 3500 \nL 1178 3500 \nL 1178 0 \nL 603 0 \nL 603 3500 \nz\nM 603 4863 \nL 1178 4863 \nL 1178 4134 \nL 603 4134 \nL 603 4863 \nz\n\" transform=\"scale(0.015625)\"/>\n       <path id=\"DejaVuSans-67\" d=\"M 2906 1791 \nQ 2906 2416 2648 2759 \nQ 2391 3103 1925 3103 \nQ 1463 3103 1205 2759 \nQ 947 2416 947 1791 \nQ 947 1169 1205 825 \nQ 1463 481 1925 481 \nQ 2391 481 2648 825 \nQ 2906 1169 2906 1791 \nz\nM 3481 434 \nQ 3481 -459 3084 -895 \nQ 2688 -1331 1869 -1331 \nQ 1566 -1331 1297 -1286 \nQ 1028 -1241 775 -1147 \nL 775 -588 \nQ 1028 -725 1275 -790 \nQ 1522 -856 1778 -856 \nQ 2344 -856 2625 -561 \nQ 2906 -266 2906 331 \nL 2906 616 \nQ 2728 306 2450 153 \nQ 2172 0 1784 0 \nQ 1141 0 747 490 \nQ 353 981 353 1791 \nQ 353 2603 747 3093 \nQ 1141 3584 1784 3584 \nQ 2172 3584 2450 3431 \nQ 2728 3278 2906 2969 \nL 2906 3500 \nL 3481 3500 \nL 3481 434 \nz\n\" transform=\"scale(0.015625)\"/>\n       <path id=\"DejaVuSans-63\" d=\"M 3122 3366 \nL 3122 2828 \nQ 2878 2963 2633 3030 \nQ 2388 3097 2138 3097 \nQ 1578 3097 1268 2742 \nQ 959 2388 959 1747 \nQ 959 1106 1268 751 \nQ 1578 397 2138 397 \nQ 2388 397 2633 464 \nQ 2878 531 3122 666 \nL 3122 134 \nQ 2881 22 2623 -34 \nQ 2366 -91 2075 -91 \nQ 1284 -91 818 406 \nQ 353 903 353 1747 \nQ 353 2603 823 3093 \nQ 1294 3584 2113 3584 \nQ 2378 3584 2631 3529 \nQ 2884 3475 3122 3366 \nz\n\" transform=\"scale(0.015625)\"/>\n       <path id=\"DejaVuSans-74\" d=\"M 1172 4494 \nL 1172 3500 \nL 2356 3500 \nL 2356 3053 \nL 1172 3053 \nL 1172 1153 \nQ 1172 725 1289 603 \nQ 1406 481 1766 481 \nL 2356 481 \nL 2356 0 \nL 1766 0 \nQ 1100 0 847 248 \nQ 594 497 594 1153 \nL 594 3053 \nL 172 3053 \nL 172 3500 \nL 594 3500 \nL 594 4494 \nL 1172 4494 \nz\n\" transform=\"scale(0.015625)\"/>\n       <path id=\"DejaVuSans-72\" d=\"M 2631 2963 \nQ 2534 3019 2420 3045 \nQ 2306 3072 2169 3072 \nQ 1681 3072 1420 2755 \nQ 1159 2438 1159 1844 \nL 1159 0 \nL 581 0 \nL 581 3500 \nL 1159 3500 \nL 1159 2956 \nQ 1341 3275 1631 3429 \nQ 1922 3584 2338 3584 \nQ 2397 3584 2469 3576 \nQ 2541 3569 2628 3553 \nL 2631 2963 \nz\n\" transform=\"scale(0.015625)\"/>\n       <path id=\"DejaVuSans-61\" d=\"M 2194 1759 \nQ 1497 1759 1228 1600 \nQ 959 1441 959 1056 \nQ 959 750 1161 570 \nQ 1363 391 1709 391 \nQ 2188 391 2477 730 \nQ 2766 1069 2766 1631 \nL 2766 1759 \nL 2194 1759 \nz\nM 3341 1997 \nL 3341 0 \nL 2766 0 \nL 2766 531 \nQ 2569 213 2275 61 \nQ 1981 -91 1556 -91 \nQ 1019 -91 701 211 \nQ 384 513 384 1019 \nQ 384 1609 779 1909 \nQ 1175 2209 1959 2209 \nL 2766 2209 \nL 2766 2266 \nQ 2766 2663 2505 2880 \nQ 2244 3097 1772 3097 \nQ 1472 3097 1187 3025 \nQ 903 2953 641 2809 \nL 641 3341 \nQ 956 3463 1253 3523 \nQ 1550 3584 1831 3584 \nQ 2591 3584 2966 3190 \nQ 3341 2797 3341 1997 \nz\n\" transform=\"scale(0.015625)\"/>\n       <path id=\"DejaVuSans-79\" d=\"M 2059 -325 \nQ 1816 -950 1584 -1140 \nQ 1353 -1331 966 -1331 \nL 506 -1331 \nL 506 -850 \nL 844 -850 \nQ 1081 -850 1212 -737 \nQ 1344 -625 1503 -206 \nL 1606 56 \nL 191 3500 \nL 800 3500 \nL 1894 763 \nL 2988 3500 \nL 3597 3500 \nL 2059 -325 \nz\n\" transform=\"scale(0.015625)\"/>\n      </defs>\n      <use xlink:href=\"#DejaVuSans-6c\"/>\n      <use xlink:href=\"#DejaVuSans-6e\" x=\"27.783203\"/>\n      <use xlink:href=\"#DejaVuSans-5f\" x=\"91.162109\"/>\n      <use xlink:href=\"#DejaVuSans-65\" x=\"141.162109\"/>\n      <use xlink:href=\"#DejaVuSans-69\" x=\"202.685547\"/>\n      <use xlink:href=\"#DejaVuSans-67\" x=\"230.46875\"/>\n      <use xlink:href=\"#DejaVuSans-5f\" x=\"293.945312\"/>\n      <use xlink:href=\"#DejaVuSans-63\" x=\"343.945312\"/>\n      <use xlink:href=\"#DejaVuSans-65\" x=\"398.925781\"/>\n      <use xlink:href=\"#DejaVuSans-6e\" x=\"460.449219\"/>\n      <use xlink:href=\"#DejaVuSans-74\" x=\"523.828125\"/>\n      <use xlink:href=\"#DejaVuSans-72\" x=\"563.037109\"/>\n      <use xlink:href=\"#DejaVuSans-61\" x=\"604.150391\"/>\n      <use xlink:href=\"#DejaVuSans-6c\" x=\"665.429688\"/>\n      <use xlink:href=\"#DejaVuSans-69\" x=\"693.212891\"/>\n      <use xlink:href=\"#DejaVuSans-74\" x=\"720.996094\"/>\n      <use xlink:href=\"#DejaVuSans-79\" x=\"760.205078\"/>\n     </g>\n    </g>\n   </g>\n   <g id=\"matplotlib.axis_2\">\n    <g id=\"ytick_1\">\n     <g id=\"line2d_8\">\n      <defs>\n       <path id=\"m2d8e255ab8\" d=\"M 0 0 \nL -3.5 0 \n\" style=\"stroke: #000000; stroke-width: 0.8\"/>\n      </defs>\n      <g>\n       <use xlink:href=\"#m2d8e255ab8\" x=\"40.88125\" y=\"212.139868\" style=\"stroke: #000000; stroke-width: 0.8\"/>\n      </g>\n     </g>\n     <g id=\"text_9\">\n      <!-- 0 -->\n      <g transform=\"translate(27.51875 215.939087) scale(0.1 -0.1)\">\n       <defs>\n        <path id=\"DejaVuSans-30\" d=\"M 2034 4250 \nQ 1547 4250 1301 3770 \nQ 1056 3291 1056 2328 \nQ 1056 1369 1301 889 \nQ 1547 409 2034 409 \nQ 2525 409 2770 889 \nQ 3016 1369 3016 2328 \nQ 3016 3291 2770 3770 \nQ 2525 4250 2034 4250 \nz\nM 2034 4750 \nQ 2819 4750 3233 4129 \nQ 3647 3509 3647 2328 \nQ 3647 1150 3233 529 \nQ 2819 -91 2034 -91 \nQ 1250 -91 836 529 \nQ 422 1150 422 2328 \nQ 422 3509 836 4129 \nQ 1250 4750 2034 4750 \nz\n\" transform=\"scale(0.015625)\"/>\n       </defs>\n       <use xlink:href=\"#DejaVuSans-30\"/>\n      </g>\n     </g>\n    </g>\n    <g id=\"ytick_2\">\n     <g id=\"line2d_9\">\n      <g>\n       <use xlink:href=\"#m2d8e255ab8\" x=\"40.88125\" y=\"165.955242\" style=\"stroke: #000000; stroke-width: 0.8\"/>\n      </g>\n     </g>\n     <g id=\"text_10\">\n      <!-- 20 -->\n      <g transform=\"translate(21.15625 169.75446) scale(0.1 -0.1)\">\n       <use xlink:href=\"#DejaVuSans-32\"/>\n       <use xlink:href=\"#DejaVuSans-30\" x=\"63.623047\"/>\n      </g>\n     </g>\n    </g>\n    <g id=\"ytick_3\">\n     <g id=\"line2d_10\">\n      <g>\n       <use xlink:href=\"#m2d8e255ab8\" x=\"40.88125\" y=\"119.770615\" style=\"stroke: #000000; stroke-width: 0.8\"/>\n      </g>\n     </g>\n     <g id=\"text_11\">\n      <!-- 40 -->\n      <g transform=\"translate(21.15625 123.569833) scale(0.1 -0.1)\">\n       <use xlink:href=\"#DejaVuSans-34\"/>\n       <use xlink:href=\"#DejaVuSans-30\" x=\"63.623047\"/>\n      </g>\n     </g>\n    </g>\n    <g id=\"ytick_4\">\n     <g id=\"line2d_11\">\n      <g>\n       <use xlink:href=\"#m2d8e255ab8\" x=\"40.88125\" y=\"73.585988\" style=\"stroke: #000000; stroke-width: 0.8\"/>\n      </g>\n     </g>\n     <g id=\"text_12\">\n      <!-- 60 -->\n      <g transform=\"translate(21.15625 77.385207) scale(0.1 -0.1)\">\n       <use xlink:href=\"#DejaVuSans-36\"/>\n       <use xlink:href=\"#DejaVuSans-30\" x=\"63.623047\"/>\n      </g>\n     </g>\n    </g>\n    <g id=\"ytick_5\">\n     <g id=\"line2d_12\">\n      <g>\n       <use xlink:href=\"#m2d8e255ab8\" x=\"40.88125\" y=\"27.401361\" style=\"stroke: #000000; stroke-width: 0.8\"/>\n      </g>\n     </g>\n     <g id=\"text_13\">\n      <!-- 80 -->\n      <g transform=\"translate(21.15625 31.20058) scale(0.1 -0.1)\">\n       <defs>\n        <path id=\"DejaVuSans-38\" d=\"M 2034 2216 \nQ 1584 2216 1326 1975 \nQ 1069 1734 1069 1313 \nQ 1069 891 1326 650 \nQ 1584 409 2034 409 \nQ 2484 409 2743 651 \nQ 3003 894 3003 1313 \nQ 3003 1734 2745 1975 \nQ 2488 2216 2034 2216 \nz\nM 1403 2484 \nQ 997 2584 770 2862 \nQ 544 3141 544 3541 \nQ 544 4100 942 4425 \nQ 1341 4750 2034 4750 \nQ 2731 4750 3128 4425 \nQ 3525 4100 3525 3541 \nQ 3525 3141 3298 2862 \nQ 3072 2584 2669 2484 \nQ 3125 2378 3379 2068 \nQ 3634 1759 3634 1313 \nQ 3634 634 3220 271 \nQ 2806 -91 2034 -91 \nQ 1263 -91 848 271 \nQ 434 634 434 1313 \nQ 434 1759 690 2068 \nQ 947 2378 1403 2484 \nz\nM 1172 3481 \nQ 1172 3119 1398 2916 \nQ 1625 2713 2034 2713 \nQ 2441 2713 2670 2916 \nQ 2900 3119 2900 3481 \nQ 2900 3844 2670 4047 \nQ 2441 4250 2034 4250 \nQ 1625 4250 1398 4047 \nQ 1172 3844 1172 3481 \nz\n\" transform=\"scale(0.015625)\"/>\n       </defs>\n       <use xlink:href=\"#DejaVuSans-38\"/>\n       <use xlink:href=\"#DejaVuSans-30\" x=\"63.623047\"/>\n      </g>\n     </g>\n    </g>\n    <g id=\"text_14\">\n     <!-- post_pos_sentiment -->\n     <g transform=\"translate(14.798438 167.991719) rotate(-90) scale(0.1 -0.1)\">\n      <defs>\n       <path id=\"DejaVuSans-70\" d=\"M 1159 525 \nL 1159 -1331 \nL 581 -1331 \nL 581 3500 \nL 1159 3500 \nL 1159 2969 \nQ 1341 3281 1617 3432 \nQ 1894 3584 2278 3584 \nQ 2916 3584 3314 3078 \nQ 3713 2572 3713 1747 \nQ 3713 922 3314 415 \nQ 2916 -91 2278 -91 \nQ 1894 -91 1617 61 \nQ 1341 213 1159 525 \nz\nM 3116 1747 \nQ 3116 2381 2855 2742 \nQ 2594 3103 2138 3103 \nQ 1681 3103 1420 2742 \nQ 1159 2381 1159 1747 \nQ 1159 1113 1420 752 \nQ 1681 391 2138 391 \nQ 2594 391 2855 752 \nQ 3116 1113 3116 1747 \nz\n\" transform=\"scale(0.015625)\"/>\n       <path id=\"DejaVuSans-6f\" d=\"M 1959 3097 \nQ 1497 3097 1228 2736 \nQ 959 2375 959 1747 \nQ 959 1119 1226 758 \nQ 1494 397 1959 397 \nQ 2419 397 2687 759 \nQ 2956 1122 2956 1747 \nQ 2956 2369 2687 2733 \nQ 2419 3097 1959 3097 \nz\nM 1959 3584 \nQ 2709 3584 3137 3096 \nQ 3566 2609 3566 1747 \nQ 3566 888 3137 398 \nQ 2709 -91 1959 -91 \nQ 1206 -91 779 398 \nQ 353 888 353 1747 \nQ 353 2609 779 3096 \nQ 1206 3584 1959 3584 \nz\n\" transform=\"scale(0.015625)\"/>\n       <path id=\"DejaVuSans-73\" d=\"M 2834 3397 \nL 2834 2853 \nQ 2591 2978 2328 3040 \nQ 2066 3103 1784 3103 \nQ 1356 3103 1142 2972 \nQ 928 2841 928 2578 \nQ 928 2378 1081 2264 \nQ 1234 2150 1697 2047 \nL 1894 2003 \nQ 2506 1872 2764 1633 \nQ 3022 1394 3022 966 \nQ 3022 478 2636 193 \nQ 2250 -91 1575 -91 \nQ 1294 -91 989 -36 \nQ 684 19 347 128 \nL 347 722 \nQ 666 556 975 473 \nQ 1284 391 1588 391 \nQ 1994 391 2212 530 \nQ 2431 669 2431 922 \nQ 2431 1156 2273 1281 \nQ 2116 1406 1581 1522 \nL 1381 1569 \nQ 847 1681 609 1914 \nQ 372 2147 372 2553 \nQ 372 3047 722 3315 \nQ 1072 3584 1716 3584 \nQ 2034 3584 2315 3537 \nQ 2597 3491 2834 3397 \nz\n\" transform=\"scale(0.015625)\"/>\n       <path id=\"DejaVuSans-6d\" d=\"M 3328 2828 \nQ 3544 3216 3844 3400 \nQ 4144 3584 4550 3584 \nQ 5097 3584 5394 3201 \nQ 5691 2819 5691 2113 \nL 5691 0 \nL 5113 0 \nL 5113 2094 \nQ 5113 2597 4934 2840 \nQ 4756 3084 4391 3084 \nQ 3944 3084 3684 2787 \nQ 3425 2491 3425 1978 \nL 3425 0 \nL 2847 0 \nL 2847 2094 \nQ 2847 2600 2669 2842 \nQ 2491 3084 2119 3084 \nQ 1678 3084 1418 2786 \nQ 1159 2488 1159 1978 \nL 1159 0 \nL 581 0 \nL 581 3500 \nL 1159 3500 \nL 1159 2956 \nQ 1356 3278 1631 3431 \nQ 1906 3584 2284 3584 \nQ 2666 3584 2933 3390 \nQ 3200 3197 3328 2828 \nz\n\" transform=\"scale(0.015625)\"/>\n      </defs>\n      <use xlink:href=\"#DejaVuSans-70\"/>\n      <use xlink:href=\"#DejaVuSans-6f\" x=\"63.476562\"/>\n      <use xlink:href=\"#DejaVuSans-73\" x=\"124.658203\"/>\n      <use xlink:href=\"#DejaVuSans-74\" x=\"176.757812\"/>\n      <use xlink:href=\"#DejaVuSans-5f\" x=\"215.966797\"/>\n      <use xlink:href=\"#DejaVuSans-70\" x=\"265.966797\"/>\n      <use xlink:href=\"#DejaVuSans-6f\" x=\"329.443359\"/>\n      <use xlink:href=\"#DejaVuSans-73\" x=\"390.625\"/>\n      <use xlink:href=\"#DejaVuSans-5f\" x=\"442.724609\"/>\n      <use xlink:href=\"#DejaVuSans-73\" x=\"492.724609\"/>\n      <use xlink:href=\"#DejaVuSans-65\" x=\"544.824219\"/>\n      <use xlink:href=\"#DejaVuSans-6e\" x=\"606.347656\"/>\n      <use xlink:href=\"#DejaVuSans-74\" x=\"669.726562\"/>\n      <use xlink:href=\"#DejaVuSans-69\" x=\"708.935547\"/>\n      <use xlink:href=\"#DejaVuSans-6d\" x=\"736.71875\"/>\n      <use xlink:href=\"#DejaVuSans-65\" x=\"834.130859\"/>\n      <use xlink:href=\"#DejaVuSans-6e\" x=\"895.654297\"/>\n      <use xlink:href=\"#DejaVuSans-74\" x=\"959.033203\"/>\n     </g>\n    </g>\n   </g>\n   <g id=\"line2d_13\">\n    <defs>\n     <path id=\"m06fb65ed47\" d=\"M 0 3 \nC 0.795609 3 1.55874 2.683901 2.12132 2.12132 \nC 2.683901 1.55874 3 0.795609 3 0 \nC 3 -0.795609 2.683901 -1.55874 2.12132 -2.12132 \nC 1.55874 -2.683901 0.795609 -3 0 -3 \nC -0.795609 -3 -1.55874 -2.683901 -2.12132 -2.12132 \nC -2.683901 -1.55874 -3 -0.795609 -3 0 \nC -3 0.795609 -2.683901 1.55874 -2.12132 2.12132 \nC -1.55874 2.683901 -0.795609 3 0 3 \nz\n\" style=\"stroke: #1f77b4\"/>\n    </defs>\n    <g clip-path=\"url(#p2a015455ca)\">\n     <use xlink:href=\"#m06fb65ed47\" x=\"61.172159\" y=\"208.234958\" style=\"fill: #1f77b4; stroke: #1f77b4\"/>\n     <use xlink:href=\"#m06fb65ed47\" x=\"74.528909\" y=\"209.541983\" style=\"fill: #1f77b4; stroke: #1f77b4\"/>\n     <use xlink:href=\"#m06fb65ed47\" x=\"85.022139\" y=\"209.421903\" style=\"fill: #1f77b4; stroke: #1f77b4\"/>\n     <use xlink:href=\"#m06fb65ed47\" x=\"86.936381\" y=\"202.665092\" style=\"fill: #1f77b4; stroke: #1f77b4\"/>\n     <use xlink:href=\"#m06fb65ed47\" x=\"91.348538\" y=\"209.505035\" style=\"fill: #1f77b4; stroke: #1f77b4\"/>\n     <use xlink:href=\"#m06fb65ed47\" x=\"107.332584\" y=\"201.050939\" style=\"fill: #1f77b4; stroke: #1f77b4\"/>\n     <use xlink:href=\"#m06fb65ed47\" x=\"115.730634\" y=\"200.65837\" style=\"fill: #1f77b4; stroke: #1f77b4\"/>\n     <use xlink:href=\"#m06fb65ed47\" x=\"128.173936\" y=\"206.602332\" style=\"fill: #1f77b4; stroke: #1f77b4\"/>\n     <use xlink:href=\"#m06fb65ed47\" x=\"147.542358\" y=\"209.747505\" style=\"fill: #1f77b4; stroke: #1f77b4\"/>\n     <use xlink:href=\"#m06fb65ed47\" x=\"148.376254\" y=\"208.53054\" style=\"fill: #1f77b4; stroke: #1f77b4\"/>\n     <use xlink:href=\"#m06fb65ed47\" x=\"156.007668\" y=\"209.927625\" style=\"fill: #1f77b4; stroke: #1f77b4\"/>\n     <use xlink:href=\"#m06fb65ed47\" x=\"169.271521\" y=\"203.018405\" style=\"fill: #1f77b4; stroke: #1f77b4\"/>\n     <use xlink:href=\"#m06fb65ed47\" x=\"180.188469\" y=\"185.313528\" style=\"fill: #1f77b4; stroke: #1f77b4\"/>\n     <use xlink:href=\"#m06fb65ed47\" x=\"183.245139\" y=\"208.28807\" style=\"fill: #1f77b4; stroke: #1f77b4\"/>\n     <use xlink:href=\"#m06fb65ed47\" x=\"191.171077\" y=\"200.833872\" style=\"fill: #1f77b4; stroke: #1f77b4\"/>\n     <use xlink:href=\"#m06fb65ed47\" x=\"193.065299\" y=\"198.120525\" style=\"fill: #1f77b4; stroke: #1f77b4\"/>\n     <use xlink:href=\"#m06fb65ed47\" x=\"197.26325\" y=\"207.5699\" style=\"fill: #1f77b4; stroke: #1f77b4\"/>\n     <use xlink:href=\"#m06fb65ed47\" x=\"197.440182\" y=\"198.319119\" style=\"fill: #1f77b4; stroke: #1f77b4\"/>\n     <use xlink:href=\"#m06fb65ed47\" x=\"197.946433\" y=\"177.757723\" style=\"fill: #1f77b4; stroke: #1f77b4\"/>\n     <use xlink:href=\"#m06fb65ed47\" x=\"204.388219\" y=\"199.092711\" style=\"fill: #1f77b4; stroke: #1f77b4\"/>\n     <use xlink:href=\"#m06fb65ed47\" x=\"208.821403\" y=\"196.686492\" style=\"fill: #1f77b4; stroke: #1f77b4\"/>\n     <use xlink:href=\"#m06fb65ed47\" x=\"210.774112\" y=\"200.245018\" style=\"fill: #1f77b4; stroke: #1f77b4\"/>\n     <use xlink:href=\"#m06fb65ed47\" x=\"211.688065\" y=\"194.37957\" style=\"fill: #1f77b4; stroke: #1f77b4\"/>\n     <use xlink:href=\"#m06fb65ed47\" x=\"214.038528\" y=\"196.065309\" style=\"fill: #1f77b4; stroke: #1f77b4\"/>\n     <use xlink:href=\"#m06fb65ed47\" x=\"239.90761\" y=\"203.937479\" style=\"fill: #1f77b4; stroke: #1f77b4\"/>\n     <use xlink:href=\"#m06fb65ed47\" x=\"241.960652\" y=\"199.843211\" style=\"fill: #1f77b4; stroke: #1f77b4\"/>\n     <use xlink:href=\"#m06fb65ed47\" x=\"242.588186\" y=\"207.114981\" style=\"fill: #1f77b4; stroke: #1f77b4\"/>\n     <use xlink:href=\"#m06fb65ed47\" x=\"242.874889\" y=\"211.447099\" style=\"fill: #1f77b4; stroke: #1f77b4\"/>\n     <use xlink:href=\"#m06fb65ed47\" x=\"245.01278\" y=\"203.653443\" style=\"fill: #1f77b4; stroke: #1f77b4\"/>\n     <use xlink:href=\"#m06fb65ed47\" x=\"247.034259\" y=\"202.688184\" style=\"fill: #1f77b4; stroke: #1f77b4\"/>\n     <use xlink:href=\"#m06fb65ed47\" x=\"247.044863\" y=\"198.510785\" style=\"fill: #1f77b4; stroke: #1f77b4\"/>\n     <use xlink:href=\"#m06fb65ed47\" x=\"247.467237\" y=\"204.731854\" style=\"fill: #1f77b4; stroke: #1f77b4\"/>\n     <use xlink:href=\"#m06fb65ed47\" x=\"247.688269\" y=\"209.334152\" style=\"fill: #1f77b4; stroke: #1f77b4\"/>\n     <use xlink:href=\"#m06fb65ed47\" x=\"250.301306\" y=\"208.013272\" style=\"fill: #1f77b4; stroke: #1f77b4\"/>\n     <use xlink:href=\"#m06fb65ed47\" x=\"250.448275\" y=\"203.847419\" style=\"fill: #1f77b4; stroke: #1f77b4\"/>\n     <use xlink:href=\"#m06fb65ed47\" x=\"250.696252\" y=\"204.646413\" style=\"fill: #1f77b4; stroke: #1f77b4\"/>\n     <use xlink:href=\"#m06fb65ed47\" x=\"251.016442\" y=\"207.11729\" style=\"fill: #1f77b4; stroke: #1f77b4\"/>\n     <use xlink:href=\"#m06fb65ed47\" x=\"251.25695\" y=\"195.176255\" style=\"fill: #1f77b4; stroke: #1f77b4\"/>\n     <use xlink:href=\"#m06fb65ed47\" x=\"251.411075\" y=\"206.955644\" style=\"fill: #1f77b4; stroke: #1f77b4\"/>\n     <use xlink:href=\"#m06fb65ed47\" x=\"252.036624\" y=\"210.21166\" style=\"fill: #1f77b4; stroke: #1f77b4\"/>\n     <use xlink:href=\"#m06fb65ed47\" x=\"252.039231\" y=\"201.385778\" style=\"fill: #1f77b4; stroke: #1f77b4\"/>\n     <use xlink:href=\"#m06fb65ed47\" x=\"252.443031\" y=\"208.731443\" style=\"fill: #1f77b4; stroke: #1f77b4\"/>\n     <use xlink:href=\"#m06fb65ed47\" x=\"252.488332\" y=\"200.753049\" style=\"fill: #1f77b4; stroke: #1f77b4\"/>\n     <use xlink:href=\"#m06fb65ed47\" x=\"253.416416\" y=\"200.723029\" style=\"fill: #1f77b4; stroke: #1f77b4\"/>\n     <use xlink:href=\"#m06fb65ed47\" x=\"253.457588\" y=\"210.128528\" style=\"fill: #1f77b4; stroke: #1f77b4\"/>\n     <use xlink:href=\"#m06fb65ed47\" x=\"253.463281\" y=\"207.394398\" style=\"fill: #1f77b4; stroke: #1f77b4\"/>\n     <use xlink:href=\"#m06fb65ed47\" x=\"253.570771\" y=\"210.068488\" style=\"fill: #1f77b4; stroke: #1f77b4\"/>\n     <use xlink:href=\"#m06fb65ed47\" x=\"254.029646\" y=\"201.007064\" style=\"fill: #1f77b4; stroke: #1f77b4\"/>\n     <use xlink:href=\"#m06fb65ed47\" x=\"254.221703\" y=\"208.872306\" style=\"fill: #1f77b4; stroke: #1f77b4\"/>\n     <use xlink:href=\"#m06fb65ed47\" x=\"254.706171\" y=\"207.789277\" style=\"fill: #1f77b4; stroke: #1f77b4\"/>\n     <use xlink:href=\"#m06fb65ed47\" x=\"255.223154\" y=\"209.119394\" style=\"fill: #1f77b4; stroke: #1f77b4\"/>\n     <use xlink:href=\"#m06fb65ed47\" x=\"255.489266\" y=\"208.782246\" style=\"fill: #1f77b4; stroke: #1f77b4\"/>\n     <use xlink:href=\"#m06fb65ed47\" x=\"255.814497\" y=\"206.720102\" style=\"fill: #1f77b4; stroke: #1f77b4\"/>\n     <use xlink:href=\"#m06fb65ed47\" x=\"256.010807\" y=\"201.431963\" style=\"fill: #1f77b4; stroke: #1f77b4\"/>\n     <use xlink:href=\"#m06fb65ed47\" x=\"256.020586\" y=\"195.97294\" style=\"fill: #1f77b4; stroke: #1f77b4\"/>\n     <use xlink:href=\"#m06fb65ed47\" x=\"256.301203\" y=\"196.561794\" style=\"fill: #1f77b4; stroke: #1f77b4\"/>\n     <use xlink:href=\"#m06fb65ed47\" x=\"256.470461\" y=\"208.74068\" style=\"fill: #1f77b4; stroke: #1f77b4\"/>\n     <use xlink:href=\"#m06fb65ed47\" x=\"256.534272\" y=\"203.316295\" style=\"fill: #1f77b4; stroke: #1f77b4\"/>\n     <use xlink:href=\"#m06fb65ed47\" x=\"256.534727\" y=\"208.9208\" style=\"fill: #1f77b4; stroke: #1f77b4\"/>\n     <use xlink:href=\"#m06fb65ed47\" x=\"256.692634\" y=\"193.866921\" style=\"fill: #1f77b4; stroke: #1f77b4\"/>\n     <use xlink:href=\"#m06fb65ed47\" x=\"256.889008\" y=\"208.128734\" style=\"fill: #1f77b4; stroke: #1f77b4\"/>\n     <use xlink:href=\"#m06fb65ed47\" x=\"257.288358\" y=\"202.519611\" style=\"fill: #1f77b4; stroke: #1f77b4\"/>\n     <use xlink:href=\"#m06fb65ed47\" x=\"257.408722\" y=\"201.175638\" style=\"fill: #1f77b4; stroke: #1f77b4\"/>\n     <use xlink:href=\"#m06fb65ed47\" x=\"257.596272\" y=\"177.510635\" style=\"fill: #1f77b4; stroke: #1f77b4\"/>\n     <use xlink:href=\"#m06fb65ed47\" x=\"258.314476\" y=\"208.271906\" style=\"fill: #1f77b4; stroke: #1f77b4\"/>\n     <use xlink:href=\"#m06fb65ed47\" x=\"258.580241\" y=\"207.544498\" style=\"fill: #1f77b4; stroke: #1f77b4\"/>\n     <use xlink:href=\"#m06fb65ed47\" x=\"258.630811\" y=\"198.559279\" style=\"fill: #1f77b4; stroke: #1f77b4\"/>\n     <use xlink:href=\"#m06fb65ed47\" x=\"258.643892\" y=\"201.538187\" style=\"fill: #1f77b4; stroke: #1f77b4\"/>\n     <use xlink:href=\"#m06fb65ed47\" x=\"258.926184\" y=\"207.105744\" style=\"fill: #1f77b4; stroke: #1f77b4\"/>\n     <use xlink:href=\"#m06fb65ed47\" x=\"259.291365\" y=\"192.760799\" style=\"fill: #1f77b4; stroke: #1f77b4\"/>\n     <use xlink:href=\"#m06fb65ed47\" x=\"259.344449\" y=\"201.729853\" style=\"fill: #1f77b4; stroke: #1f77b4\"/>\n     <use xlink:href=\"#m06fb65ed47\" x=\"259.488535\" y=\"202.378747\" style=\"fill: #1f77b4; stroke: #1f77b4\"/>\n     <use xlink:href=\"#m06fb65ed47\" x=\"259.629369\" y=\"205.951128\" style=\"fill: #1f77b4; stroke: #1f77b4\"/>\n     <use xlink:href=\"#m06fb65ed47\" x=\"259.664416\" y=\"187.608904\" style=\"fill: #1f77b4; stroke: #1f77b4\"/>\n     <use xlink:href=\"#m06fb65ed47\" x=\"259.991321\" y=\"199.011888\" style=\"fill: #1f77b4; stroke: #1f77b4\"/>\n     <use xlink:href=\"#m06fb65ed47\" x=\"260.015504\" y=\"198.155163\" style=\"fill: #1f77b4; stroke: #1f77b4\"/>\n     <use xlink:href=\"#m06fb65ed47\" x=\"260.39643\" y=\"199.466807\" style=\"fill: #1f77b4; stroke: #1f77b4\"/>\n     <use xlink:href=\"#m06fb65ed47\" x=\"260.505984\" y=\"199.72775\" style=\"fill: #1f77b4; stroke: #1f77b4\"/>\n     <use xlink:href=\"#m06fb65ed47\" x=\"261.000372\" y=\"188.705789\" style=\"fill: #1f77b4; stroke: #1f77b4\"/>\n     <use xlink:href=\"#m06fb65ed47\" x=\"261.057971\" y=\"195.453363\" style=\"fill: #1f77b4; stroke: #1f77b4\"/>\n     <use xlink:href=\"#m06fb65ed47\" x=\"261.126395\" y=\"197.049042\" style=\"fill: #1f77b4; stroke: #1f77b4\"/>\n     <use xlink:href=\"#m06fb65ed47\" x=\"262.217416\" y=\"207.29741\" style=\"fill: #1f77b4; stroke: #1f77b4\"/>\n     <use xlink:href=\"#m06fb65ed47\" x=\"262.227294\" y=\"198.91721\" style=\"fill: #1f77b4; stroke: #1f77b4\"/>\n     <use xlink:href=\"#m06fb65ed47\" x=\"262.236304\" y=\"204.371614\" style=\"fill: #1f77b4; stroke: #1f77b4\"/>\n     <use xlink:href=\"#m06fb65ed47\" x=\"262.628893\" y=\"204.738782\" style=\"fill: #1f77b4; stroke: #1f77b4\"/>\n     <use xlink:href=\"#m06fb65ed47\" x=\"262.954979\" y=\"190.881085\" style=\"fill: #1f77b4; stroke: #1f77b4\"/>\n     <use xlink:href=\"#m06fb65ed47\" x=\"263.122188\" y=\"209.334152\" style=\"fill: #1f77b4; stroke: #1f77b4\"/>\n     <use xlink:href=\"#m06fb65ed47\" x=\"263.271731\" y=\"201.933066\" style=\"fill: #1f77b4; stroke: #1f77b4\"/>\n     <use xlink:href=\"#m06fb65ed47\" x=\"263.458543\" y=\"195.966012\" style=\"fill: #1f77b4; stroke: #1f77b4\"/>\n     <use xlink:href=\"#m06fb65ed47\" x=\"263.842467\" y=\"210.047705\" style=\"fill: #1f77b4; stroke: #1f77b4\"/>\n     <use xlink:href=\"#m06fb65ed47\" x=\"263.899495\" y=\"206.969499\" style=\"fill: #1f77b4; stroke: #1f77b4\"/>\n     <use xlink:href=\"#m06fb65ed47\" x=\"264.303569\" y=\"100.008213\" style=\"fill: #1f77b4; stroke: #1f77b4\"/>\n     <use xlink:href=\"#m06fb65ed47\" x=\"264.318971\" y=\"199.402148\" style=\"fill: #1f77b4; stroke: #1f77b4\"/>\n     <use xlink:href=\"#m06fb65ed47\" x=\"264.371452\" y=\"202.036981\" style=\"fill: #1f77b4; stroke: #1f77b4\"/>\n     <use xlink:href=\"#m06fb65ed47\" x=\"264.636618\" y=\"199.489899\" style=\"fill: #1f77b4; stroke: #1f77b4\"/>\n     <use xlink:href=\"#m06fb65ed47\" x=\"266.089829\" y=\"193.485898\" style=\"fill: #1f77b4; stroke: #1f77b4\"/>\n     <use xlink:href=\"#m06fb65ed47\" x=\"266.284366\" y=\"208.057147\" style=\"fill: #1f77b4; stroke: #1f77b4\"/>\n     <use xlink:href=\"#m06fb65ed47\" x=\"266.559422\" y=\"187.793642\" style=\"fill: #1f77b4; stroke: #1f77b4\"/>\n     <use xlink:href=\"#m06fb65ed47\" x=\"266.577991\" y=\"193.02867\" style=\"fill: #1f77b4; stroke: #1f77b4\"/>\n     <use xlink:href=\"#m06fb65ed47\" x=\"266.693282\" y=\"195.725852\" style=\"fill: #1f77b4; stroke: #1f77b4\"/>\n     <use xlink:href=\"#m06fb65ed47\" x=\"266.845684\" y=\"204.524023\" style=\"fill: #1f77b4; stroke: #1f77b4\"/>\n     <use xlink:href=\"#m06fb65ed47\" x=\"266.850824\" y=\"193.772242\" style=\"fill: #1f77b4; stroke: #1f77b4\"/>\n     <use xlink:href=\"#m06fb65ed47\" x=\"266.858078\" y=\"194.970733\" style=\"fill: #1f77b4; stroke: #1f77b4\"/>\n     <use xlink:href=\"#m06fb65ed47\" x=\"267.099994\" y=\"206.784761\" style=\"fill: #1f77b4; stroke: #1f77b4\"/>\n     <use xlink:href=\"#m06fb65ed47\" x=\"267.286082\" y=\"200.582165\" style=\"fill: #1f77b4; stroke: #1f77b4\"/>\n     <use xlink:href=\"#m06fb65ed47\" x=\"267.365261\" y=\"198.34683\" style=\"fill: #1f77b4; stroke: #1f77b4\"/>\n     <use xlink:href=\"#m06fb65ed47\" x=\"267.379784\" y=\"206.761669\" style=\"fill: #1f77b4; stroke: #1f77b4\"/>\n     <use xlink:href=\"#m06fb65ed47\" x=\"267.428384\" y=\"206.948716\" style=\"fill: #1f77b4; stroke: #1f77b4\"/>\n     <use xlink:href=\"#m06fb65ed47\" x=\"267.850794\" y=\"203.921314\" style=\"fill: #1f77b4; stroke: #1f77b4\"/>\n     <use xlink:href=\"#m06fb65ed47\" x=\"268.022657\" y=\"175.866462\" style=\"fill: #1f77b4; stroke: #1f77b4\"/>\n     <use xlink:href=\"#m06fb65ed47\" x=\"268.060613\" y=\"205.038982\" style=\"fill: #1f77b4; stroke: #1f77b4\"/>\n     <use xlink:href=\"#m06fb65ed47\" x=\"268.403978\" y=\"168.834853\" style=\"fill: #1f77b4; stroke: #1f77b4\"/>\n     <use xlink:href=\"#m06fb65ed47\" x=\"268.474555\" y=\"202.057764\" style=\"fill: #1f77b4; stroke: #1f77b4\"/>\n     <use xlink:href=\"#m06fb65ed47\" x=\"268.487325\" y=\"191.278272\" style=\"fill: #1f77b4; stroke: #1f77b4\"/>\n     <use xlink:href=\"#m06fb65ed47\" x=\"268.539638\" y=\"200.799233\" style=\"fill: #1f77b4; stroke: #1f77b4\"/>\n     <use xlink:href=\"#m06fb65ed47\" x=\"268.669204\" y=\"208.239577\" style=\"fill: #1f77b4; stroke: #1f77b4\"/>\n     <use xlink:href=\"#m06fb65ed47\" x=\"269.386189\" y=\"191.160502\" style=\"fill: #1f77b4; stroke: #1f77b4\"/>\n     <use xlink:href=\"#m06fb65ed47\" x=\"269.485399\" y=\"152.32154\" style=\"fill: #1f77b4; stroke: #1f77b4\"/>\n     <use xlink:href=\"#m06fb65ed47\" x=\"269.657357\" y=\"185.565234\" style=\"fill: #1f77b4; stroke: #1f77b4\"/>\n     <use xlink:href=\"#m06fb65ed47\" x=\"269.758978\" y=\"160.286079\" style=\"fill: #1f77b4; stroke: #1f77b4\"/>\n     <use xlink:href=\"#m06fb65ed47\" x=\"270.005296\" y=\"204.528642\" style=\"fill: #1f77b4; stroke: #1f77b4\"/>\n     <use xlink:href=\"#m06fb65ed47\" x=\"270.008685\" y=\"202.247121\" style=\"fill: #1f77b4; stroke: #1f77b4\"/>\n     <use xlink:href=\"#m06fb65ed47\" x=\"270.168237\" y=\"187.119347\" style=\"fill: #1f77b4; stroke: #1f77b4\"/>\n     <use xlink:href=\"#m06fb65ed47\" x=\"270.200941\" y=\"192.3359\" style=\"fill: #1f77b4; stroke: #1f77b4\"/>\n     <use xlink:href=\"#m06fb65ed47\" x=\"270.265369\" y=\"208.902326\" style=\"fill: #1f77b4; stroke: #1f77b4\"/>\n     <use xlink:href=\"#m06fb65ed47\" x=\"270.662571\" y=\"209.227928\" style=\"fill: #1f77b4; stroke: #1f77b4\"/>\n     <use xlink:href=\"#m06fb65ed47\" x=\"270.771878\" y=\"204.95585\" style=\"fill: #1f77b4; stroke: #1f77b4\"/>\n     <use xlink:href=\"#m06fb65ed47\" x=\"270.988835\" y=\"158.166204\" style=\"fill: #1f77b4; stroke: #1f77b4\"/>\n     <use xlink:href=\"#m06fb65ed47\" x=\"271.011749\" y=\"197.945023\" style=\"fill: #1f77b4; stroke: #1f77b4\"/>\n     <use xlink:href=\"#m06fb65ed47\" x=\"271.104011\" y=\"203.942097\" style=\"fill: #1f77b4; stroke: #1f77b4\"/>\n     <use xlink:href=\"#m06fb65ed47\" x=\"271.586343\" y=\"198.04432\" style=\"fill: #1f77b4; stroke: #1f77b4\"/>\n     <use xlink:href=\"#m06fb65ed47\" x=\"271.599443\" y=\"198.009682\" style=\"fill: #1f77b4; stroke: #1f77b4\"/>\n     <use xlink:href=\"#m06fb65ed47\" x=\"271.920676\" y=\"187.103182\" style=\"fill: #1f77b4; stroke: #1f77b4\"/>\n     <use xlink:href=\"#m06fb65ed47\" x=\"272.267071\" y=\"203.869356\" style=\"fill: #1f77b4; stroke: #1f77b4\"/>\n     <use xlink:href=\"#m06fb65ed47\" x=\"272.561474\" y=\"196.081474\" style=\"fill: #1f77b4; stroke: #1f77b4\"/>\n     <use xlink:href=\"#m06fb65ed47\" x=\"272.577846\" y=\"204.808059\" style=\"fill: #1f77b4; stroke: #1f77b4\"/>\n     <use xlink:href=\"#m06fb65ed47\" x=\"272.647287\" y=\"201.475838\" style=\"fill: #1f77b4; stroke: #1f77b4\"/>\n     <use xlink:href=\"#m06fb65ed47\" x=\"272.797182\" y=\"200.593712\" style=\"fill: #1f77b4; stroke: #1f77b4\"/>\n     <use xlink:href=\"#m06fb65ed47\" x=\"273.288508\" y=\"198.425343\" style=\"fill: #1f77b4; stroke: #1f77b4\"/>\n     <use xlink:href=\"#m06fb65ed47\" x=\"273.688566\" y=\"190.026669\" style=\"fill: #1f77b4; stroke: #1f77b4\"/>\n     <use xlink:href=\"#m06fb65ed47\" x=\"273.729523\" y=\"177.773888\" style=\"fill: #1f77b4; stroke: #1f77b4\"/>\n     <use xlink:href=\"#m06fb65ed47\" x=\"273.738347\" y=\"194.238707\" style=\"fill: #1f77b4; stroke: #1f77b4\"/>\n     <use xlink:href=\"#m06fb65ed47\" x=\"273.801508\" y=\"193.679873\" style=\"fill: #1f77b4; stroke: #1f77b4\"/>\n     <use xlink:href=\"#m06fb65ed47\" x=\"273.919188\" y=\"190.458495\" style=\"fill: #1f77b4; stroke: #1f77b4\"/>\n     <use xlink:href=\"#m06fb65ed47\" x=\"273.920161\" y=\"192.564514\" style=\"fill: #1f77b4; stroke: #1f77b4\"/>\n     <use xlink:href=\"#m06fb65ed47\" x=\"274.007677\" y=\"202.91218\" style=\"fill: #1f77b4; stroke: #1f77b4\"/>\n     <use xlink:href=\"#m06fb65ed47\" x=\"274.021481\" y=\"198.545423\" style=\"fill: #1f77b4; stroke: #1f77b4\"/>\n     <use xlink:href=\"#m06fb65ed47\" x=\"274.268281\" y=\"194.772139\" style=\"fill: #1f77b4; stroke: #1f77b4\"/>\n     <use xlink:href=\"#m06fb65ed47\" x=\"274.338563\" y=\"180.05079\" style=\"fill: #1f77b4; stroke: #1f77b4\"/>\n     <use xlink:href=\"#m06fb65ed47\" x=\"274.362879\" y=\"201.346521\" style=\"fill: #1f77b4; stroke: #1f77b4\"/>\n     <use xlink:href=\"#m06fb65ed47\" x=\"274.471027\" y=\"203.976736\" style=\"fill: #1f77b4; stroke: #1f77b4\"/>\n     <use xlink:href=\"#m06fb65ed47\" x=\"274.559567\" y=\"194.354169\" style=\"fill: #1f77b4; stroke: #1f77b4\"/>\n     <use xlink:href=\"#m06fb65ed47\" x=\"274.578204\" y=\"196.42324\" style=\"fill: #1f77b4; stroke: #1f77b4\"/>\n     <use xlink:href=\"#m06fb65ed47\" x=\"274.606507\" y=\"183.861021\" style=\"fill: #1f77b4; stroke: #1f77b4\"/>\n     <use xlink:href=\"#m06fb65ed47\" x=\"274.781\" y=\"195.889807\" style=\"fill: #1f77b4; stroke: #1f77b4\"/>\n     <use xlink:href=\"#m06fb65ed47\" x=\"274.793109\" y=\"196.356272\" style=\"fill: #1f77b4; stroke: #1f77b4\"/>\n     <use xlink:href=\"#m06fb65ed47\" x=\"274.811426\" y=\"195.982177\" style=\"fill: #1f77b4; stroke: #1f77b4\"/>\n     <use xlink:href=\"#m06fb65ed47\" x=\"274.944288\" y=\"205.489282\" style=\"fill: #1f77b4; stroke: #1f77b4\"/>\n     <use xlink:href=\"#m06fb65ed47\" x=\"275.149327\" y=\"195.344829\" style=\"fill: #1f77b4; stroke: #1f77b4\"/>\n     <use xlink:href=\"#m06fb65ed47\" x=\"275.27583\" y=\"199.563794\" style=\"fill: #1f77b4; stroke: #1f77b4\"/>\n     <use xlink:href=\"#m06fb65ed47\" x=\"275.336489\" y=\"180.265548\" style=\"fill: #1f77b4; stroke: #1f77b4\"/>\n     <use xlink:href=\"#m06fb65ed47\" x=\"275.480592\" y=\"181.660324\" style=\"fill: #1f77b4; stroke: #1f77b4\"/>\n     <use xlink:href=\"#m06fb65ed47\" x=\"275.535308\" y=\"191.326766\" style=\"fill: #1f77b4; stroke: #1f77b4\"/>\n     <use xlink:href=\"#m06fb65ed47\" x=\"275.796523\" y=\"192.257387\" style=\"fill: #1f77b4; stroke: #1f77b4\"/>\n     <use xlink:href=\"#m06fb65ed47\" x=\"276.010796\" y=\"198.203657\" style=\"fill: #1f77b4; stroke: #1f77b4\"/>\n     <use xlink:href=\"#m06fb65ed47\" x=\"276.091044\" y=\"206.454541\" style=\"fill: #1f77b4; stroke: #1f77b4\"/>\n     <use xlink:href=\"#m06fb65ed47\" x=\"276.474042\" y=\"140.793857\" style=\"fill: #1f77b4; stroke: #1f77b4\"/>\n     <use xlink:href=\"#m06fb65ed47\" x=\"276.615374\" y=\"194.938404\" style=\"fill: #1f77b4; stroke: #1f77b4\"/>\n     <use xlink:href=\"#m06fb65ed47\" x=\"276.71624\" y=\"197.460085\" style=\"fill: #1f77b4; stroke: #1f77b4\"/>\n     <use xlink:href=\"#m06fb65ed47\" x=\"277.145449\" y=\"189.599461\" style=\"fill: #1f77b4; stroke: #1f77b4\"/>\n     <use xlink:href=\"#m06fb65ed47\" x=\"277.228522\" y=\"198.889499\" style=\"fill: #1f77b4; stroke: #1f77b4\"/>\n     <use xlink:href=\"#m06fb65ed47\" x=\"277.256855\" y=\"161.697019\" style=\"fill: #1f77b4; stroke: #1f77b4\"/>\n     <use xlink:href=\"#m06fb65ed47\" x=\"277.483907\" y=\"200.660679\" style=\"fill: #1f77b4; stroke: #1f77b4\"/>\n     <use xlink:href=\"#m06fb65ed47\" x=\"277.669785\" y=\"203.598022\" style=\"fill: #1f77b4; stroke: #1f77b4\"/>\n     <use xlink:href=\"#m06fb65ed47\" x=\"278.137871\" y=\"201.909974\" style=\"fill: #1f77b4; stroke: #1f77b4\"/>\n     <use xlink:href=\"#m06fb65ed47\" x=\"278.146236\" y=\"187.401073\" style=\"fill: #1f77b4; stroke: #1f77b4\"/>\n     <use xlink:href=\"#m06fb65ed47\" x=\"278.260039\" y=\"184.625377\" style=\"fill: #1f77b4; stroke: #1f77b4\"/>\n     <use xlink:href=\"#m06fb65ed47\" x=\"278.306234\" y=\"191.174357\" style=\"fill: #1f77b4; stroke: #1f77b4\"/>\n     <use xlink:href=\"#m06fb65ed47\" x=\"279.283171\" y=\"204.581754\" style=\"fill: #1f77b4; stroke: #1f77b4\"/>\n     <use xlink:href=\"#m06fb65ed47\" x=\"279.290678\" y=\"193.321942\" style=\"fill: #1f77b4; stroke: #1f77b4\"/>\n     <use xlink:href=\"#m06fb65ed47\" x=\"279.309151\" y=\"199.095021\" style=\"fill: #1f77b4; stroke: #1f77b4\"/>\n     <use xlink:href=\"#m06fb65ed47\" x=\"279.332224\" y=\"193.206481\" style=\"fill: #1f77b4; stroke: #1f77b4\"/>\n     <use xlink:href=\"#m06fb65ed47\" x=\"279.471522\" y=\"195.802057\" style=\"fill: #1f77b4; stroke: #1f77b4\"/>\n     <use xlink:href=\"#m06fb65ed47\" x=\"279.521687\" y=\"201.620165\" style=\"fill: #1f77b4; stroke: #1f77b4\"/>\n     <use xlink:href=\"#m06fb65ed47\" x=\"279.876057\" y=\"194.400353\" style=\"fill: #1f77b4; stroke: #1f77b4\"/>\n     <use xlink:href=\"#m06fb65ed47\" x=\"280.123741\" y=\"188.85127\" style=\"fill: #1f77b4; stroke: #1f77b4\"/>\n     <use xlink:href=\"#m06fb65ed47\" x=\"280.72822\" y=\"195.176255\" style=\"fill: #1f77b4; stroke: #1f77b4\"/>\n     <use xlink:href=\"#m06fb65ed47\" x=\"281.084644\" y=\"187.207098\" style=\"fill: #1f77b4; stroke: #1f77b4\"/>\n     <use xlink:href=\"#m06fb65ed47\" x=\"281.244744\" y=\"195.88057\" style=\"fill: #1f77b4; stroke: #1f77b4\"/>\n     <use xlink:href=\"#m06fb65ed47\" x=\"281.429422\" y=\"189.901971\" style=\"fill: #1f77b4; stroke: #1f77b4\"/>\n     <use xlink:href=\"#m06fb65ed47\" x=\"281.430725\" y=\"188.373259\" style=\"fill: #1f77b4; stroke: #1f77b4\"/>\n     <use xlink:href=\"#m06fb65ed47\" x=\"281.484693\" y=\"197.995826\" style=\"fill: #1f77b4; stroke: #1f77b4\"/>\n     <use xlink:href=\"#m06fb65ed47\" x=\"281.748016\" y=\"204.029848\" style=\"fill: #1f77b4; stroke: #1f77b4\"/>\n     <use xlink:href=\"#m06fb65ed47\" x=\"282.244208\" y=\"203.166195\" style=\"fill: #1f77b4; stroke: #1f77b4\"/>\n     <use xlink:href=\"#m06fb65ed47\" x=\"282.402993\" y=\"191.908693\" style=\"fill: #1f77b4; stroke: #1f77b4\"/>\n     <use xlink:href=\"#m06fb65ed47\" x=\"282.503836\" y=\"201.55897\" style=\"fill: #1f77b4; stroke: #1f77b4\"/>\n     <use xlink:href=\"#m06fb65ed47\" x=\"283.022161\" y=\"200.438993\" style=\"fill: #1f77b4; stroke: #1f77b4\"/>\n     <use xlink:href=\"#m06fb65ed47\" x=\"283.126592\" y=\"194.280273\" style=\"fill: #1f77b4; stroke: #1f77b4\"/>\n     <use xlink:href=\"#m06fb65ed47\" x=\"283.220666\" y=\"195.090813\" style=\"fill: #1f77b4; stroke: #1f77b4\"/>\n     <use xlink:href=\"#m06fb65ed47\" x=\"283.261068\" y=\"153.998042\" style=\"fill: #1f77b4; stroke: #1f77b4\"/>\n     <use xlink:href=\"#m06fb65ed47\" x=\"283.279217\" y=\"186.331899\" style=\"fill: #1f77b4; stroke: #1f77b4\"/>\n     <use xlink:href=\"#m06fb65ed47\" x=\"283.593132\" y=\"190.610905\" style=\"fill: #1f77b4; stroke: #1f77b4\"/>\n     <use xlink:href=\"#m06fb65ed47\" x=\"283.957435\" y=\"181.327795\" style=\"fill: #1f77b4; stroke: #1f77b4\"/>\n     <use xlink:href=\"#m06fb65ed47\" x=\"284.133851\" y=\"191.523051\" style=\"fill: #1f77b4; stroke: #1f77b4\"/>\n     <use xlink:href=\"#m06fb65ed47\" x=\"284.223496\" y=\"202.212483\" style=\"fill: #1f77b4; stroke: #1f77b4\"/>\n     <use xlink:href=\"#m06fb65ed47\" x=\"284.491478\" y=\"203.076135\" style=\"fill: #1f77b4; stroke: #1f77b4\"/>\n     <use xlink:href=\"#m06fb65ed47\" x=\"284.6665\" y=\"206.149722\" style=\"fill: #1f77b4; stroke: #1f77b4\"/>\n     <use xlink:href=\"#m06fb65ed47\" x=\"284.913271\" y=\"193.890013\" style=\"fill: #1f77b4; stroke: #1f77b4\"/>\n     <use xlink:href=\"#m06fb65ed47\" x=\"284.986196\" y=\"200.482869\" style=\"fill: #1f77b4; stroke: #1f77b4\"/>\n     <use xlink:href=\"#m06fb65ed47\" x=\"285.649555\" y=\"142.253291\" style=\"fill: #1f77b4; stroke: #1f77b4\"/>\n     <use xlink:href=\"#m06fb65ed47\" x=\"285.744246\" y=\"201.256461\" style=\"fill: #1f77b4; stroke: #1f77b4\"/>\n     <use xlink:href=\"#m06fb65ed47\" x=\"285.841186\" y=\"195.839004\" style=\"fill: #1f77b4; stroke: #1f77b4\"/>\n     <use xlink:href=\"#m06fb65ed47\" x=\"286.345009\" y=\"194.116318\" style=\"fill: #1f77b4; stroke: #1f77b4\"/>\n     <use xlink:href=\"#m06fb65ed47\" x=\"286.494817\" y=\"203.517199\" style=\"fill: #1f77b4; stroke: #1f77b4\"/>\n     <use xlink:href=\"#m06fb65ed47\" x=\"287.259071\" y=\"182.12217\" style=\"fill: #1f77b4; stroke: #1f77b4\"/>\n     <use xlink:href=\"#m06fb65ed47\" x=\"287.600004\" y=\"200.470168\" style=\"fill: #1f77b4; stroke: #1f77b4\"/>\n     <use xlink:href=\"#m06fb65ed47\" x=\"288.251046\" y=\"205.267596\" style=\"fill: #1f77b4; stroke: #1f77b4\"/>\n     <use xlink:href=\"#m06fb65ed47\" x=\"288.683718\" y=\"204.454746\" style=\"fill: #1f77b4; stroke: #1f77b4\"/>\n     <use xlink:href=\"#m06fb65ed47\" x=\"288.746762\" y=\"189.377775\" style=\"fill: #1f77b4; stroke: #1f77b4\"/>\n     <use xlink:href=\"#m06fb65ed47\" x=\"289.179665\" y=\"188.500267\" style=\"fill: #1f77b4; stroke: #1f77b4\"/>\n     <use xlink:href=\"#m06fb65ed47\" x=\"289.262891\" y=\"173.797391\" style=\"fill: #1f77b4; stroke: #1f77b4\"/>\n     <use xlink:href=\"#m06fb65ed47\" x=\"290.07362\" y=\"202.861377\" style=\"fill: #1f77b4; stroke: #1f77b4\"/>\n     <use xlink:href=\"#m06fb65ed47\" x=\"290.61313\" y=\"173.822793\" style=\"fill: #1f77b4; stroke: #1f77b4\"/>\n     <use xlink:href=\"#m06fb65ed47\" x=\"291.022757\" y=\"196.702657\" style=\"fill: #1f77b4; stroke: #1f77b4\"/>\n     <use xlink:href=\"#m06fb65ed47\" x=\"291.176217\" y=\"182.131407\" style=\"fill: #1f77b4; stroke: #1f77b4\"/>\n     <use xlink:href=\"#m06fb65ed47\" x=\"291.867059\" y=\"187.463422\" style=\"fill: #1f77b4; stroke: #1f77b4\"/>\n     <use xlink:href=\"#m06fb65ed47\" x=\"292.287174\" y=\"192.749253\" style=\"fill: #1f77b4; stroke: #1f77b4\"/>\n     <use xlink:href=\"#m06fb65ed47\" x=\"292.291488\" y=\"195.035392\" style=\"fill: #1f77b4; stroke: #1f77b4\"/>\n     <use xlink:href=\"#m06fb65ed47\" x=\"292.465835\" y=\"169.349812\" style=\"fill: #1f77b4; stroke: #1f77b4\"/>\n     <use xlink:href=\"#m06fb65ed47\" x=\"292.755844\" y=\"182.170664\" style=\"fill: #1f77b4; stroke: #1f77b4\"/>\n     <use xlink:href=\"#m06fb65ed47\" x=\"293.036338\" y=\"182.914236\" style=\"fill: #1f77b4; stroke: #1f77b4\"/>\n     <use xlink:href=\"#m06fb65ed47\" x=\"293.140546\" y=\"184.595357\" style=\"fill: #1f77b4; stroke: #1f77b4\"/>\n     <use xlink:href=\"#m06fb65ed47\" x=\"293.458761\" y=\"191.010402\" style=\"fill: #1f77b4; stroke: #1f77b4\"/>\n     <use xlink:href=\"#m06fb65ed47\" x=\"293.952557\" y=\"194.307984\" style=\"fill: #1f77b4; stroke: #1f77b4\"/>\n     <use xlink:href=\"#m06fb65ed47\" x=\"293.975538\" y=\"204.380851\" style=\"fill: #1f77b4; stroke: #1f77b4\"/>\n     <use xlink:href=\"#m06fb65ed47\" x=\"294.703174\" y=\"171.289566\" style=\"fill: #1f77b4; stroke: #1f77b4\"/>\n     <use xlink:href=\"#m06fb65ed47\" x=\"295.136988\" y=\"203.736576\" style=\"fill: #1f77b4; stroke: #1f77b4\"/>\n     <use xlink:href=\"#m06fb65ed47\" x=\"295.550128\" y=\"193.060999\" style=\"fill: #1f77b4; stroke: #1f77b4\"/>\n     <use xlink:href=\"#m06fb65ed47\" x=\"295.589704\" y=\"203.461777\" style=\"fill: #1f77b4; stroke: #1f77b4\"/>\n     <use xlink:href=\"#m06fb65ed47\" x=\"295.702832\" y=\"184.519152\" style=\"fill: #1f77b4; stroke: #1f77b4\"/>\n     <use xlink:href=\"#m06fb65ed47\" x=\"295.80516\" y=\"193.65909\" style=\"fill: #1f77b4; stroke: #1f77b4\"/>\n     <use xlink:href=\"#m06fb65ed47\" x=\"295.911364\" y=\"195.488001\" style=\"fill: #1f77b4; stroke: #1f77b4\"/>\n     <use xlink:href=\"#m06fb65ed47\" x=\"296.339512\" y=\"17.28\" style=\"fill: #1f77b4; stroke: #1f77b4\"/>\n     <use xlink:href=\"#m06fb65ed47\" x=\"296.593562\" y=\"196.762697\" style=\"fill: #1f77b4; stroke: #1f77b4\"/>\n     <use xlink:href=\"#m06fb65ed47\" x=\"296.747504\" y=\"171.652115\" style=\"fill: #1f77b4; stroke: #1f77b4\"/>\n     <use xlink:href=\"#m06fb65ed47\" x=\"298.007294\" y=\"178.404308\" style=\"fill: #1f77b4; stroke: #1f77b4\"/>\n     <use xlink:href=\"#m06fb65ed47\" x=\"298.22612\" y=\"149.515824\" style=\"fill: #1f77b4; stroke: #1f77b4\"/>\n     <use xlink:href=\"#m06fb65ed47\" x=\"298.56305\" y=\"136.274691\" style=\"fill: #1f77b4; stroke: #1f77b4\"/>\n     <use xlink:href=\"#m06fb65ed47\" x=\"299.441006\" y=\"196.673791\" style=\"fill: #1f77b4; stroke: #1f77b4\"/>\n     <use xlink:href=\"#m06fb65ed47\" x=\"300.116895\" y=\"179.68824\" style=\"fill: #1f77b4; stroke: #1f77b4\"/>\n     <use xlink:href=\"#m06fb65ed47\" x=\"300.514745\" y=\"179.59818\" style=\"fill: #1f77b4; stroke: #1f77b4\"/>\n     <use xlink:href=\"#m06fb65ed47\" x=\"301.715169\" y=\"163.387376\" style=\"fill: #1f77b4; stroke: #1f77b4\"/>\n     <use xlink:href=\"#m06fb65ed47\" x=\"301.735708\" y=\"196.477507\" style=\"fill: #1f77b4; stroke: #1f77b4\"/>\n     <use xlink:href=\"#m06fb65ed47\" x=\"302.354914\" y=\"203.221617\" style=\"fill: #1f77b4; stroke: #1f77b4\"/>\n     <use xlink:href=\"#m06fb65ed47\" x=\"303.521034\" y=\"162.562981\" style=\"fill: #1f77b4; stroke: #1f77b4\"/>\n     <use xlink:href=\"#m06fb65ed47\" x=\"304.064896\" y=\"205.64708\" style=\"fill: #1f77b4; stroke: #1f77b4\"/>\n     <use xlink:href=\"#m06fb65ed47\" x=\"305.799952\" y=\"204.343903\" style=\"fill: #1f77b4; stroke: #1f77b4\"/>\n     <use xlink:href=\"#m06fb65ed47\" x=\"306.836512\" y=\"187.618141\" style=\"fill: #1f77b4; stroke: #1f77b4\"/>\n     <use xlink:href=\"#m06fb65ed47\" x=\"307.177216\" y=\"204.812677\" style=\"fill: #1f77b4; stroke: #1f77b4\"/>\n     <use xlink:href=\"#m06fb65ed47\" x=\"307.611587\" y=\"129.402419\" style=\"fill: #1f77b4; stroke: #1f77b4\"/>\n     <use xlink:href=\"#m06fb65ed47\" x=\"308.004556\" y=\"130.741773\" style=\"fill: #1f77b4; stroke: #1f77b4\"/>\n     <use xlink:href=\"#m06fb65ed47\" x=\"309.048903\" y=\"202.080857\" style=\"fill: #1f77b4; stroke: #1f77b4\"/>\n     <use xlink:href=\"#m06fb65ed47\" x=\"310.600526\" y=\"142.966844\" style=\"fill: #1f77b4; stroke: #1f77b4\"/>\n     <use xlink:href=\"#m06fb65ed47\" x=\"310.996886\" y=\"103.689128\" style=\"fill: #1f77b4; stroke: #1f77b4\"/>\n     <use xlink:href=\"#m06fb65ed47\" x=\"312.940225\" y=\"144.458607\" style=\"fill: #1f77b4; stroke: #1f77b4\"/>\n     <use xlink:href=\"#m06fb65ed47\" x=\"314.128506\" y=\"199.678101\" style=\"fill: #1f77b4; stroke: #1f77b4\"/>\n     <use xlink:href=\"#m06fb65ed47\" x=\"315.013136\" y=\"198.234832\" style=\"fill: #1f77b4; stroke: #1f77b4\"/>\n     <use xlink:href=\"#m06fb65ed47\" x=\"315.549664\" y=\"191.065823\" style=\"fill: #1f77b4; stroke: #1f77b4\"/>\n     <use xlink:href=\"#m06fb65ed47\" x=\"315.996735\" y=\"194.852963\" style=\"fill: #1f77b4; stroke: #1f77b4\"/>\n     <use xlink:href=\"#m06fb65ed47\" x=\"316.845931\" y=\"191.355054\" style=\"fill: #1f77b4; stroke: #1f77b4\"/>\n     <use xlink:href=\"#m06fb65ed47\" x=\"318.190256\" y=\"172.903719\" style=\"fill: #1f77b4; stroke: #1f77b4\"/>\n     <use xlink:href=\"#m06fb65ed47\" x=\"318.210775\" y=\"190.948052\" style=\"fill: #1f77b4; stroke: #1f77b4\"/>\n     <use xlink:href=\"#m06fb65ed47\" x=\"319.201702\" y=\"189.03139\" style=\"fill: #1f77b4; stroke: #1f77b4\"/>\n     <use xlink:href=\"#m06fb65ed47\" x=\"328.741097\" y=\"191.684697\" style=\"fill: #1f77b4; stroke: #1f77b4\"/>\n     <use xlink:href=\"#m06fb65ed47\" x=\"331.400457\" y=\"148.993937\" style=\"fill: #1f77b4; stroke: #1f77b4\"/>\n     <use xlink:href=\"#m06fb65ed47\" x=\"337.449262\" y=\"196.172688\" style=\"fill: #1f77b4; stroke: #1f77b4\"/>\n     <use xlink:href=\"#m06fb65ed47\" x=\"341.239949\" y=\"193.499753\" style=\"fill: #1f77b4; stroke: #1f77b4\"/>\n     <use xlink:href=\"#m06fb65ed47\" x=\"390.006154\" y=\"190.668404\" style=\"fill: #1f77b4; stroke: #1f77b4\"/>\n     <use xlink:href=\"#m06fb65ed47\" x=\"466.990341\" y=\"200.133755\" style=\"fill: #1f77b4; stroke: #1f77b4\"/>\n    </g>\n   </g>\n   <g id=\"line2d_14\">\n    <path d=\"M 61.172159 218.88 \nL 466.990341 168.528133 \nL 466.990341 168.528133 \n\" clip-path=\"url(#p2a015455ca)\" style=\"fill: none; stroke: #ff7f0e; stroke-width: 1.5; stroke-linecap: square\"/>\n   </g>\n   <g id=\"patch_3\">\n    <path d=\"M 40.88125 228.96 \nL 40.88125 7.2 \n\" style=\"fill: none; stroke: #000000; stroke-width: 0.8; stroke-linejoin: miter; stroke-linecap: square\"/>\n   </g>\n   <g id=\"patch_4\">\n    <path d=\"M 487.28125 228.96 \nL 487.28125 7.2 \n\" style=\"fill: none; stroke: #000000; stroke-width: 0.8; stroke-linejoin: miter; stroke-linecap: square\"/>\n   </g>\n   <g id=\"patch_5\">\n    <path d=\"M 40.88125 228.96 \nL 487.28125 228.96 \n\" style=\"fill: none; stroke: #000000; stroke-width: 0.8; stroke-linejoin: miter; stroke-linecap: square\"/>\n   </g>\n   <g id=\"patch_6\">\n    <path d=\"M 40.88125 7.2 \nL 487.28125 7.2 \n\" style=\"fill: none; stroke: #000000; stroke-width: 0.8; stroke-linejoin: miter; stroke-linecap: square\"/>\n   </g>\n   <g id=\"legend_1\">\n    <g id=\"patch_7\">\n     <path d=\"M 47.88125 29.878125 \nL 247.496875 29.878125 \nQ 249.496875 29.878125 249.496875 27.878125 \nL 249.496875 14.2 \nQ 249.496875 12.2 247.496875 12.2 \nL 47.88125 12.2 \nQ 45.88125 12.2 45.88125 14.2 \nL 45.88125 27.878125 \nQ 45.88125 29.878125 47.88125 29.878125 \nz\n\" style=\"fill: #ffffff; opacity: 0.8; stroke: #cccccc; stroke-linejoin: miter\"/>\n    </g>\n    <g id=\"line2d_15\">\n     <path d=\"M 49.88125 20.298437 \nL 59.88125 20.298437 \nL 69.88125 20.298437 \n\" style=\"fill: none; stroke: #ff7f0e; stroke-width: 1.5; stroke-linecap: square\"/>\n    </g>\n    <g id=\"text_15\">\n     <!-- intercept: 20.78, coefficient: 3.54 -->\n     <g transform=\"translate(77.88125 23.798437) scale(0.1 -0.1)\">\n      <defs>\n       <path id=\"DejaVuSans-3a\" d=\"M 750 794 \nL 1409 794 \nL 1409 0 \nL 750 0 \nL 750 794 \nz\nM 750 3309 \nL 1409 3309 \nL 1409 2516 \nL 750 2516 \nL 750 3309 \nz\n\" transform=\"scale(0.015625)\"/>\n       <path id=\"DejaVuSans-20\" transform=\"scale(0.015625)\"/>\n       <path id=\"DejaVuSans-2e\" d=\"M 684 794 \nL 1344 794 \nL 1344 0 \nL 684 0 \nL 684 794 \nz\n\" transform=\"scale(0.015625)\"/>\n       <path id=\"DejaVuSans-2c\" d=\"M 750 794 \nL 1409 794 \nL 1409 256 \nL 897 -744 \nL 494 -744 \nL 750 256 \nL 750 794 \nz\n\" transform=\"scale(0.015625)\"/>\n       <path id=\"DejaVuSans-66\" d=\"M 2375 4863 \nL 2375 4384 \nL 1825 4384 \nQ 1516 4384 1395 4259 \nQ 1275 4134 1275 3809 \nL 1275 3500 \nL 2222 3500 \nL 2222 3053 \nL 1275 3053 \nL 1275 0 \nL 697 0 \nL 697 3053 \nL 147 3053 \nL 147 3500 \nL 697 3500 \nL 697 3744 \nQ 697 4328 969 4595 \nQ 1241 4863 1831 4863 \nL 2375 4863 \nz\n\" transform=\"scale(0.015625)\"/>\n      </defs>\n      <use xlink:href=\"#DejaVuSans-69\"/>\n      <use xlink:href=\"#DejaVuSans-6e\" x=\"27.783203\"/>\n      <use xlink:href=\"#DejaVuSans-74\" x=\"91.162109\"/>\n      <use xlink:href=\"#DejaVuSans-65\" x=\"130.371094\"/>\n      <use xlink:href=\"#DejaVuSans-72\" x=\"191.894531\"/>\n      <use xlink:href=\"#DejaVuSans-63\" x=\"230.757812\"/>\n      <use xlink:href=\"#DejaVuSans-65\" x=\"285.738281\"/>\n      <use xlink:href=\"#DejaVuSans-70\" x=\"347.261719\"/>\n      <use xlink:href=\"#DejaVuSans-74\" x=\"410.738281\"/>\n      <use xlink:href=\"#DejaVuSans-3a\" x=\"449.947266\"/>\n      <use xlink:href=\"#DejaVuSans-20\" x=\"483.638672\"/>\n      <use xlink:href=\"#DejaVuSans-32\" x=\"515.425781\"/>\n      <use xlink:href=\"#DejaVuSans-30\" x=\"579.048828\"/>\n      <use xlink:href=\"#DejaVuSans-2e\" x=\"642.671875\"/>\n      <use xlink:href=\"#DejaVuSans-37\" x=\"674.458984\"/>\n      <use xlink:href=\"#DejaVuSans-38\" x=\"738.082031\"/>\n      <use xlink:href=\"#DejaVuSans-2c\" x=\"801.705078\"/>\n      <use xlink:href=\"#DejaVuSans-20\" x=\"833.492188\"/>\n      <use xlink:href=\"#DejaVuSans-63\" x=\"865.279297\"/>\n      <use xlink:href=\"#DejaVuSans-6f\" x=\"920.259766\"/>\n      <use xlink:href=\"#DejaVuSans-65\" x=\"981.441406\"/>\n      <use xlink:href=\"#DejaVuSans-66\" x=\"1042.964844\"/>\n      <use xlink:href=\"#DejaVuSans-66\" x=\"1078.169922\"/>\n      <use xlink:href=\"#DejaVuSans-69\" x=\"1113.375\"/>\n      <use xlink:href=\"#DejaVuSans-63\" x=\"1141.158203\"/>\n      <use xlink:href=\"#DejaVuSans-69\" x=\"1196.138672\"/>\n      <use xlink:href=\"#DejaVuSans-65\" x=\"1223.921875\"/>\n      <use xlink:href=\"#DejaVuSans-6e\" x=\"1285.445312\"/>\n      <use xlink:href=\"#DejaVuSans-74\" x=\"1348.824219\"/>\n      <use xlink:href=\"#DejaVuSans-3a\" x=\"1388.033203\"/>\n      <use xlink:href=\"#DejaVuSans-20\" x=\"1421.724609\"/>\n      <use xlink:href=\"#DejaVuSans-33\" x=\"1453.511719\"/>\n      <use xlink:href=\"#DejaVuSans-2e\" x=\"1517.134766\"/>\n      <use xlink:href=\"#DejaVuSans-35\" x=\"1548.921875\"/>\n      <use xlink:href=\"#DejaVuSans-34\" x=\"1612.544922\"/>\n     </g>\n    </g>\n   </g>\n  </g>\n </g>\n <defs>\n  <clipPath id=\"p2a015455ca\">\n   <rect x=\"40.88125\" y=\"7.2\" width=\"446.4\" height=\"221.76\"/>\n  </clipPath>\n </defs>\n</svg>\n"
          },
          "metadata": {}
        }
      ]
    }
  ]
}